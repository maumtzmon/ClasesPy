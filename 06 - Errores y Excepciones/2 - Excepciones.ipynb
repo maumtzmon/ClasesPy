{
 "cells": [
  {
   "cell_type": "code",
   "execution_count": null,
   "metadata": {},
   "outputs": [],
   "source": [
    "variable = float(input(\"Introduce algo: \"))\n",
    "a = 2\n",
    "print(\"resultado: \",a*variable)"
   ]
  },
  {
   "cell_type": "code",
   "execution_count": null,
   "metadata": {},
   "outputs": [],
   "source": [
    "try:\n",
    "    variable = float(input(\"Introduce un numero: \"))\n",
    "    a = 2\n",
    "    print(\"resultado: \",a*variable)\n",
    "except:\n",
    "    print(\"Ingresaste cualquier otra cosa menos la que se te pidio\")"
   ]
  },
  {
   "cell_type": "code",
   "execution_count": null,
   "metadata": {},
   "outputs": [],
   "source": [
    "while(True):\n",
    "    try:\n",
    "        variable = float(input(\"Introduce un numero: \"))\n",
    "        a = 2\n",
    "        print(\"resultado: \",a*variable)\n",
    "        break\n",
    "    except:\n",
    "        print(\"Ingresaste cualquier otra cosa menos la que se te pidio, te voy a dar otra oportunidad\")"
   ]
  },
  {
   "cell_type": "code",
   "execution_count": 1,
   "metadata": {},
   "outputs": [
    {
     "name": "stdout",
     "output_type": "stream",
     "text": [
      "Introduce un numero: 4\n",
      "resultado:  8.0\n",
      "iniciaste sesion perfectamente, amego\n"
     ]
    }
   ],
   "source": [
    "while(True):\n",
    "    try:\n",
    "        variable = float(input(\"Introduce un numero: \"))\n",
    "        a = 2\n",
    "        print(\"resultado: \",a*variable)\n",
    "    except:\n",
    "        print(\"Ingresaste cualquier otra cosa menos la que se te pidio, te voy a dar otra oportunidad\")\n",
    "    else:\n",
    "        print(\"iniciaste sesion perfectamente, amego\")\n",
    "        break"
   ]
  },
  {
   "cell_type": "code",
   "execution_count": 2,
   "metadata": {},
   "outputs": [
    {
     "name": "stdout",
     "output_type": "stream",
     "text": [
      "Introduce un numero: dfsf\n",
      "Ingresaste cualquier otra cosa menos la que se te pidio, te voy a dar otra oportunidad\n",
      "Perfecto mi Amigo, termino todo esto.\n",
      "Introduce un numero: 645\n",
      "resultado:  1290.0\n",
      "iniciaste sesion perfectamente, amego\n",
      "Perfecto mi Amigo, termino todo esto.\n"
     ]
    }
   ],
   "source": [
    "while(True):\n",
    "    try:\n",
    "        variable = float(input(\"Introduce un numero: \"))\n",
    "        a = 2\n",
    "        print(\"resultado: \",a*variable)\n",
    "    except:\n",
    "        print(\"Ingresaste cualquier otra cosa menos la que se te pidio, te voy a dar otra oportunidad\")\n",
    "    else:\n",
    "        print(\"iniciaste sesion perfectamente, amego\")\n",
    "        break\n",
    "    finally:\n",
    "        print(\"Perfecto mi Amigo, termino todo esto.\")"
   ]
  },
  {
   "cell_type": "code",
   "execution_count": null,
   "metadata": {},
   "outputs": [],
   "source": []
  }
 ],
 "metadata": {
  "kernelspec": {
   "display_name": "Python 3",
   "language": "python",
   "name": "python3"
  },
  "language_info": {
   "codemirror_mode": {
    "name": "ipython",
    "version": 3
   },
   "file_extension": ".py",
   "mimetype": "text/x-python",
   "name": "python",
   "nbconvert_exporter": "python",
   "pygments_lexer": "ipython3",
   "version": "3.10.6"
  },
  "vscode": {
   "interpreter": {
    "hash": "31f2aee4e71d21fbe5cf8b01ff0e069b9275f58929596ceb00d14d90e3e16cd6"
   }
  }
 },
 "nbformat": 4,
 "nbformat_minor": 2
}
