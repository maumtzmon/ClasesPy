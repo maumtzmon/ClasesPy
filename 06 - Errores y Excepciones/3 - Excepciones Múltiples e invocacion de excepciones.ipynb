{
 "cells": [
  {
   "cell_type": "code",
   "execution_count": 1,
   "metadata": {},
   "outputs": [
    {
     "name": "stdout",
     "output_type": "stream",
     "text": [
      "TypeError\n"
     ]
    }
   ],
   "source": [
    "try:\n",
    "    a = input(\"Numero: \")\n",
    "    10/a\n",
    "except Exception as x:\n",
    "    print( type(x).__name__ )"
   ]
  },
  {
   "cell_type": "code",
   "execution_count": 3,
   "metadata": {},
   "outputs": [
    {
     "name": "stdout",
     "output_type": "stream",
     "text": [
      "ZeroDivisionError: Second argument to a division or modulo operation was zero.\n"
     ]
    }
   ],
   "source": [
    "try:\n",
    "    x=1\n",
    "    y=0\n",
    "    y/y\n",
    "except Exception as x:\n",
    "    Code_error = type(x).__name__   # capturamos el nombre del error ocurrido\n",
    "    Descr_error = type(x).__doc__   # Capturamos una breve descripcion del error e imprimimos ambas en pantalla\n",
    "\n",
    "\n",
    "print(Code_error+': '+Descr_error)"
   ]
  },
  {
   "cell_type": "code",
   "execution_count": 2,
   "metadata": {},
   "outputs": [
    {
     "name": "stdout",
     "output_type": "stream",
     "text": [
      "No se puede dividir por cero\n",
      "Second argument to a division or modulo operation was zero.\n"
     ]
    }
   ],
   "source": [
    "try:\n",
    "    a = float(input(\"Numero: \"))\n",
    "    b=10/a\n",
    "    print(b)\n",
    "except TypeError:\n",
    "    print(\"Esto es una cadena querido\")\n",
    "    print(TypeError.__doc__)\n",
    "except ValueError:\n",
    "    print(\"la cadena debe ser un nuermo yea\")\n",
    "    print(ValueError.__doc__)\n",
    "except ZeroDivisionError:\n",
    "    print(\"No se puede dividir por cero\")\n",
    "    print(ZeroDivisionError.__doc__)\n",
    "except Exception as x:      #cuando ocurra una excepcion que no conocemos su origen\n",
    "    print( type(x).__name__ )"
   ]
  },
  {
   "cell_type": "code",
   "execution_count": null,
   "metadata": {},
   "outputs": [],
   "source": []
  },
  {
   "cell_type": "code",
   "execution_count": 6,
   "metadata": {},
   "outputs": [],
   "source": [
    "def profesor(estudiantes=None):\n",
    "    if estudiantes is None:\n",
    "        print(\"Debes escribir algo, sino no llames a la funcion.\")"
   ]
  },
  {
   "cell_type": "code",
   "execution_count": 10,
   "metadata": {},
   "outputs": [],
   "source": [
    "profesor('algo')"
   ]
  },
  {
   "cell_type": "code",
   "execution_count": 13,
   "metadata": {},
   "outputs": [
    {
     "name": "stdout",
     "output_type": "stream",
     "text": [
      "Debes escribir algo, sino no llames a la funcion.\n"
     ]
    }
   ],
   "source": [
    "profesor()"
   ]
  },
  {
   "cell_type": "code",
   "execution_count": 12,
   "metadata": {},
   "outputs": [],
   "source": [
    "def profesor(estudiantes=None):\n",
    "    try:\n",
    "        if estudiantes is None:\n",
    "            raise ValueError(\"Debes escribir algo, sino no llames a la funcion.\")\n",
    "    except ValueError:\n",
    "        print(\"No amigo, el valor nulo no se permite\")"
   ]
  },
  {
   "cell_type": "code",
   "execution_count": 16,
   "metadata": {},
   "outputs": [
    {
     "name": "stdout",
     "output_type": "stream",
     "text": [
      "No amigo, el valor nulo no se permite\n"
     ]
    }
   ],
   "source": [
    "profesor()"
   ]
  },
  {
   "cell_type": "code",
   "execution_count": null,
   "metadata": {},
   "outputs": [],
   "source": []
  }
 ],
 "metadata": {
  "kernelspec": {
   "display_name": "Python 3",
   "language": "python",
   "name": "python3"
  },
  "language_info": {
   "codemirror_mode": {
    "name": "ipython",
    "version": 3
   },
   "file_extension": ".py",
   "mimetype": "text/x-python",
   "name": "python",
   "nbconvert_exporter": "python",
   "pygments_lexer": "ipython3",
   "version": "3.10.6"
  },
  "vscode": {
   "interpreter": {
    "hash": "31f2aee4e71d21fbe5cf8b01ff0e069b9275f58929596ceb00d14d90e3e16cd6"
   }
  }
 },
 "nbformat": 4,
 "nbformat_minor": 2
}
