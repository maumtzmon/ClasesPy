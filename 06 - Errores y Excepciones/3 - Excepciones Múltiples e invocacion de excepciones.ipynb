{
 "cells": [
  {
   "cell_type": "code",
   "execution_count": 1,
   "metadata": {},
   "outputs": [
    {
     "name": "stdout",
     "output_type": "stream",
     "text": [
      "TypeError\n"
     ]
    }
   ],
   "source": [
    "try:\n",
    "    a = input(\"Numero: \")\n",
    "    10/a\n",
    "except Exception as x:\n",
    "    print( type(x).__name__ )"
   ]
  },
  {
   "cell_type": "code",
   "execution_count": 11,
   "metadata": {},
   "outputs": [
    {
     "name": "stdout",
     "output_type": "stream",
     "text": [
      "la cadena debe ser un nuermo yea\n"
     ]
    }
   ],
   "source": [
    "try:\n",
    "    a = float(input(\"Numero: \"))\n",
    "    b=10/a\n",
    "    print(b)\n",
    "except TypeError:\n",
    "    print(\"Esto es una cadena querido\")\n",
    "except ValueError:\n",
    "    print(\"la cadena debe ser un nuermo yea\")\n",
    "except ZeroDivisionError:\n",
    "    print(\"No se puede dividir por cero\")\n",
    "except Exception as x:\n",
    "    print( type(x).__name__ )"
   ]
  },
  {
   "cell_type": "code",
   "execution_count": 9,
   "metadata": {},
   "outputs": [],
   "source": [
    "def profesor(estudiantes=None):\n",
    "    if estudiantes is None:\n",
    "        print(\"Debes escribir algo, sino no llames a la funcion.\")"
   ]
  },
  {
   "cell_type": "code",
   "execution_count": 10,
   "metadata": {},
   "outputs": [],
   "source": [
    "profesor('algo')"
   ]
  },
  {
   "cell_type": "code",
   "execution_count": 13,
   "metadata": {},
   "outputs": [
    {
     "name": "stdout",
     "output_type": "stream",
     "text": [
      "Debes escribir algo, sino no llames a la funcion.\n"
     ]
    }
   ],
   "source": [
    "profesor()"
   ]
  },
  {
   "cell_type": "code",
   "execution_count": 12,
   "metadata": {},
   "outputs": [],
   "source": [
    "def profesor(estudiantes=None):\n",
    "    try:\n",
    "        if estudiantes is None:\n",
    "            raise ValueError(\"Debes escribir algo, sino no llames a la funcion.\")\n",
    "    except ValueError:\n",
    "        print(\"No amigo, el valor nulo no se permite\")"
   ]
  },
  {
   "cell_type": "code",
   "execution_count": 16,
   "metadata": {},
   "outputs": [
    {
     "name": "stdout",
     "output_type": "stream",
     "text": [
      "No amigo, el valor nulo no se permite\n"
     ]
    }
   ],
   "source": [
    "profesor()"
   ]
  },
  {
   "cell_type": "code",
   "execution_count": null,
   "metadata": {},
   "outputs": [],
   "source": []
  }
 ],
 "metadata": {
  "kernelspec": {
   "display_name": "Python 3",
   "language": "python",
   "name": "python3"
  },
  "language_info": {
   "codemirror_mode": {
    "name": "ipython",
    "version": 3
   },
   "file_extension": ".py",
   "mimetype": "text/x-python",
   "name": "python",
   "nbconvert_exporter": "python",
   "pygments_lexer": "ipython3",
   "version": "3.10.6"
  },
  "vscode": {
   "interpreter": {
    "hash": "31f2aee4e71d21fbe5cf8b01ff0e069b9275f58929596ceb00d14d90e3e16cd6"
   }
  }
 },
 "nbformat": 4,
 "nbformat_minor": 2
}
