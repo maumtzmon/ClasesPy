{
  "nbformat": 4,
  "nbformat_minor": 0,
  "metadata": {
    "colab": {
      "name": "Markdown ",
      "provenance": []
    },
    "kernelspec": {
      "name": "python3",
      "display_name": "Python 3"
    },
    "language_info": {
      "name": "python"
    }
  },
  "cells": [
    {
      "cell_type": "markdown",
      "source": [
        "#Markdown\n",
        "\n",
        "Este es una forma de sintaxis que nos permite darle formato al texto en nuestro notebook. "
      ],
      "metadata": {
        "id": "frox_cGvwIlA"
      }
    },
    {
      "cell_type": "markdown",
      "source": [
        "Primero, podemos dividir nuestro notebook en secciones, utilizando #.\n",
        "\n",
        "Por ejemplo: "
      ],
      "metadata": {
        "id": "zBo7vdpMxoYP"
      }
    },
    {
      "cell_type": "markdown",
      "source": [
        "```\n",
        "# Sección 1\n",
        "# Sección 2\n",
        "## Subsección \n",
        "### Subsubsección (aninada en la subsección)\n",
        "# Sección 3\n",
        "\n",
        "```\n",
        "\n",
        "Y se vería así: \n",
        "\n",
        "# Sección 1\n",
        "\n",
        "Texto de la sección 1.\n",
        "\n",
        "# Sección 2\n",
        "\n",
        "Texto de la sección 2.\n",
        "\n",
        "## Subsección 2.1\n",
        "\n",
        "Texto de la subsección 2.1. \n",
        "\n",
        "## Subsección 2.2\n",
        "\n",
        "Texto de la subsección 2.2. \n",
        "\n",
        "### Subsubsección \n",
        "\n",
        "Texto de la subsubsección 2.2.1\n",
        "\n",
        "# Sección 3\n",
        "\n",
        "Texto de la sección 3."
      ],
      "metadata": {
        "id": "tZVyrgPtylNn"
      }
    },
    {
      "cell_type": "markdown",
      "source": [
        "-----------------"
      ],
      "metadata": {
        "id": "KHATR1lcfNje"
      }
    },
    {
      "cell_type": "markdown",
      "source": [
        "Para separar secciones podemos utilizar:    ```-----```"
      ],
      "metadata": {
        "id": "QdkqSyy4fb1y"
      }
    },
    {
      "cell_type": "markdown",
      "source": [
        "Además, podemos resaltar texto."
      ],
      "metadata": {
        "id": "A3S2IKz2ff9s"
      }
    },
    {
      "cell_type": "markdown",
      "source": [
        "Para **negritas** usamos: `**negritas**`\n",
        "\n",
        "Para _italicas_ usamos: `_italicas_`\n",
        "\n",
        "Para ~~texto rayado~~: `~~texto rayado~~`\n",
        "\n",
        "Para generar celdas como `código`: ` ``código`` ` "
      ],
      "metadata": {
        "id": "eyH36jRSffpn"
      }
    },
    {
      "cell_type": "markdown",
      "source": [
        "-----"
      ],
      "metadata": {
        "id": "_TX6_AaqhNi2"
      }
    },
    {
      "cell_type": "markdown",
      "source": [
        "#Listas y tablas. \n",
        "\n",
        "Podemos construir tablas y listas.\n",
        "\n",
        "-----\n",
        "\n",
        "###Tablas.\n",
        "\n",
        "Tablas:\n",
        "```\n",
        "Columna 1  | Columna 2 \n",
        "-----------|-----------\n",
        "Entrada 1  | Entrada 2 \n",
        "Entrada 3  | Entrada 4 \n",
        "\n",
        "```\n",
        "\n",
        "Columna 1  | Columna 2 \n",
        "-----------|-----------\n",
        "Entrada 1  | Entrada 2 \n",
        "Entrada 3  | Entrada 4 \n",
        "\n",
        "-----\n",
        "\n",
        "###Listas. \n",
        "\n",
        "Hay listas ordenadas y sin orden. \n",
        "\n",
        "**Listas ordenadas**\n",
        "\n",
        "```\n",
        "1. Primer elemento.\n",
        "2. Segundo elemento. \n",
        "3. Tercer elemento.\n",
        "\n",
        "```\n",
        "\n",
        "1. Primer elemento.\n",
        "2. Segundo elemento. \n",
        "3. Tercer elemento.\n",
        "\n",
        "**Lista sin orden**\n",
        "\n",
        "```\n",
        "* Uno\n",
        "* Dos\n",
        "* Tres\n",
        "\n",
        "```\n",
        "\n",
        "* Uno\n",
        "* Dos\n",
        "* Tres\n",
        "-------"
      ],
      "metadata": {
        "id": "aY4-lsYgiJgi"
      }
    },
    {
      "cell_type": "markdown",
      "source": [
        "También se puede identar las secciones.\n",
        "\n",
        "Por ejemplo:\n",
        "\n",
        "`>Identación sencilla`\n",
        "\n",
        ">Identación sencilla\n",
        "\n",
        "`>>Identación doble`\n",
        "\n",
        ">>Identación doble"
      ],
      "metadata": {
        "id": "47idI_Z_j0jP"
      }
    },
    {
      "cell_type": "markdown",
      "source": [
        "----\n",
        "\n",
        "Markdown también soporta $\\LaTeX$, usando $ entre lo que queramos poner:\n",
        "\n",
        "`$E=\\hbar \\omega$` \n",
        "\n",
        "$E=\\hbar \\omega$\n",
        "\n",
        "----\n",
        "\n",
        "Para incluir links usamos: \n",
        "\n",
        "`[Link para google](https://www.google.com)`\n",
        "\n",
        " [Link para google](https://www.google.com)\n",
        "\n",
        "---- \n",
        "\n",
        "Para incluir imagenes usamos:\n",
        "\n",
        "`![Perrito bonito](https://as01.epimg.net/mexico/imagenes/2019/01/19/tikitakas/1547933521_851367_1547933683_noticia_normal.jpg)`\n",
        "\n",
        "![Perrito bonito](https://as01.epimg.net/mexico/imagenes/2019/01/19/tikitakas/1547933521_851367_1547933683_noticia_normal.jpg)\n"
      ],
      "metadata": {
        "id": "x1doAGPSklt1"
      }
    }
  ]
}