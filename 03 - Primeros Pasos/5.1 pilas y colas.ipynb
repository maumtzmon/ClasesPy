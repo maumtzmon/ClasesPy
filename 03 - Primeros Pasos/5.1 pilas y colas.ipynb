{
 "cells": [
  {
   "cell_type": "markdown",
   "id": "6d3a6508",
   "metadata": {},
   "source": [
    "# Usando listas como PILAS"
   ]
  },
  {
   "cell_type": "markdown",
   "id": "0a3265ea",
   "metadata": {},
   "source": [
    "### Estructura de datos, pilas es un metodo de ordenamiento y se refiere a la manera de ingresar y solicitar los elementos. En donde el ultimo elemento en ser ingresado es el primer elemento en ser retirado. Ejemplo:"
   ]
  },
  {
   "cell_type": "code",
   "execution_count": 2,
   "id": "b5535175",
   "metadata": {},
   "outputs": [],
   "source": [
    "pila = [1,2,3,4,5] #stack o pila"
   ]
  },
  {
   "cell_type": "code",
   "execution_count": 3,
   "id": "56a0ffa9",
   "metadata": {},
   "outputs": [],
   "source": [
    "pila.append(6)#agregar un elemento a la pila"
   ]
  },
  {
   "cell_type": "code",
   "execution_count": 4,
   "id": "963c2fae",
   "metadata": {},
   "outputs": [
    {
     "data": {
      "text/plain": [
       "[1, 2, 3, 4, 5, 6]"
      ]
     },
     "execution_count": 4,
     "metadata": {},
     "output_type": "execute_result"
    }
   ],
   "source": [
    "pila"
   ]
  },
  {
   "cell_type": "code",
   "execution_count": 6,
   "id": "01ca4ade",
   "metadata": {},
   "outputs": [
    {
     "data": {
      "text/plain": [
       "5"
      ]
     },
     "execution_count": 6,
     "metadata": {},
     "output_type": "execute_result"
    }
   ],
   "source": [
    "pila.pop()#solicitar el ultimo dato en la pila"
   ]
  },
  {
   "cell_type": "markdown",
   "id": "cba0ae43",
   "metadata": {},
   "source": [
    "# Usando listas como COLAS"
   ]
  },
  {
   "cell_type": "markdown",
   "id": "ac96c85f",
   "metadata": {},
   "source": [
    "### Estructura de datos o metodo de ordenamiento que se refiere a que el primer elemento añadido es el primer elemento retirado "
   ]
  },
  {
   "cell_type": "code",
   "execution_count": 31,
   "id": "3ccb9dc5",
   "metadata": {},
   "outputs": [],
   "source": [
    "from collections import deque"
   ]
  },
  {
   "cell_type": "code",
   "execution_count": 32,
   "id": "742e1e39",
   "metadata": {},
   "outputs": [],
   "source": [
    "cola = deque([6,7,8,9,0]) #queue o cola"
   ]
  },
  {
   "cell_type": "code",
   "execution_count": 33,
   "id": "64038ff9",
   "metadata": {},
   "outputs": [],
   "source": [
    "#agregar un elemento al final de la cola"
   ]
  },
  {
   "cell_type": "code",
   "execution_count": 34,
   "id": "9676f80c",
   "metadata": {},
   "outputs": [
    {
     "data": {
      "text/plain": [
       "deque([6, 7, 8, 9, 0])"
      ]
     },
     "execution_count": 34,
     "metadata": {},
     "output_type": "execute_result"
    }
   ],
   "source": [
    "cola"
   ]
  },
  {
   "cell_type": "code",
   "execution_count": 29,
   "id": "73e33342",
   "metadata": {},
   "outputs": [
    {
     "data": {
      "text/plain": [
       "0"
      ]
     },
     "execution_count": 29,
     "metadata": {},
     "output_type": "execute_result"
    }
   ],
   "source": [
    "cola.popleft()#solicitar el primer elemento de la cola usando popleft"
   ]
  },
  {
   "cell_type": "code",
   "execution_count": 30,
   "id": "8ba30332",
   "metadata": {},
   "outputs": [
    {
     "data": {
      "text/plain": [
       "deque([])"
      ]
     },
     "execution_count": 30,
     "metadata": {},
     "output_type": "execute_result"
    }
   ],
   "source": [
    "cola"
   ]
  },
  {
   "cell_type": "markdown",
   "id": "dfa05f6e",
   "metadata": {},
   "source": [
    "### Nota: \n",
    "Insertar o sacar del comienzo de una lista es lento (porque todos los otros elementos tienen que ser desplazados por uno)"
   ]
  },
  {
   "cell_type": "code",
   "execution_count": null,
   "id": "d682ef8e",
   "metadata": {},
   "outputs": [],
   "source": []
  },
  {
   "cell_type": "code",
   "execution_count": null,
   "id": "177566bd",
   "metadata": {},
   "outputs": [],
   "source": []
  },
  {
   "cell_type": "code",
   "execution_count": null,
   "id": "b3ef5727",
   "metadata": {},
   "outputs": [],
   "source": []
  },
  {
   "cell_type": "code",
   "execution_count": null,
   "id": "13784806",
   "metadata": {},
   "outputs": [],
   "source": []
  },
  {
   "cell_type": "code",
   "execution_count": null,
   "id": "a376cb1a",
   "metadata": {},
   "outputs": [],
   "source": []
  },
  {
   "cell_type": "code",
   "execution_count": null,
   "id": "86f93a6f",
   "metadata": {},
   "outputs": [],
   "source": []
  }
 ],
 "metadata": {
  "kernelspec": {
   "display_name": "Python 3 (ipykernel)",
   "language": "python",
   "name": "python3"
  },
  "language_info": {
   "codemirror_mode": {
    "name": "ipython",
    "version": 3
   },
   "file_extension": ".py",
   "mimetype": "text/x-python",
   "name": "python",
   "nbconvert_exporter": "python",
   "pygments_lexer": "ipython3",
   "version": "3.9.7"
  }
 },
 "nbformat": 4,
 "nbformat_minor": 5
}
