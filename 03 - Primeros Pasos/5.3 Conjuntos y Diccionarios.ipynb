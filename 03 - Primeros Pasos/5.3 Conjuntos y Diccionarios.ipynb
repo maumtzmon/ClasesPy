{
 "cells": [
  {
   "cell_type": "markdown",
   "id": "6560383a",
   "metadata": {},
   "source": [
    "# Conjuntos"
   ]
  },
  {
   "cell_type": "markdown",
   "id": "grand-customs",
   "metadata": {},
   "source": [
    "Un conjunto es una coleción de valores sin orden, pueden ser enteros, flotantes o cadenas. Pueden cambiarse sus elementos y su peculiaridad es que no puede tener elementos duplicados. \n",
    "\n",
    "Representa el concepto matemático de un conjunto, por lo que entre sus operadores, tenemos la unión, la intersección, la diferencia y la diferecnia simétrica."
   ]
  },
  {
   "cell_type": "markdown",
   "id": "painted-observation",
   "metadata": {},
   "source": [
    "Podemos definir un conjunto de dos maneras: \n",
    "\n",
    "Usando corchetes `{}`"
   ]
  },
  {
   "cell_type": "code",
   "execution_count": 2,
   "id": "d147c981",
   "metadata": {},
   "outputs": [],
   "source": [
    "x = {1, \"Hola\", 3, 2}"
   ]
  },
  {
   "cell_type": "markdown",
   "id": "derived-drawing",
   "metadata": {},
   "source": [
    "O con el uso de `set()`"
   ]
  },
  {
   "cell_type": "code",
   "execution_count": 18,
   "id": "2789f3dd",
   "metadata": {},
   "outputs": [],
   "source": [
    "y = set(\"Maravilloso\")"
   ]
  },
  {
   "cell_type": "markdown",
   "id": "unlikely-belfast",
   "metadata": {},
   "source": [
    "Como `x` no tiene elementos repetidos, nos arrojará el mismo conjunto. "
   ]
  },
  {
   "cell_type": "code",
   "execution_count": 19,
   "id": "6817caf5",
   "metadata": {},
   "outputs": [
    {
     "name": "stdout",
     "output_type": "stream",
     "text": [
      "{1, 2, 3, 'Hola'}\n"
     ]
    }
   ],
   "source": [
    "print(x)"
   ]
  },
  {
   "cell_type": "markdown",
   "id": "compound-orange",
   "metadata": {},
   "source": [
    "Sin embargo, en `y` se repite `a`, `l`, `o`, por lo que ser un conjunto quitará los duplicados.  "
   ]
  },
  {
   "cell_type": "code",
   "execution_count": 20,
   "id": "returning-links",
   "metadata": {
    "scrolled": true
   },
   "outputs": [
    {
     "name": "stdout",
     "output_type": "stream",
     "text": [
      "{'s', 'l', 'M', 'i', 'o', 'r', 'a', 'v'}\n"
     ]
    }
   ],
   "source": [
    "print(y) #Como vemos, no está ordenado."
   ]
  },
  {
   "cell_type": "markdown",
   "id": "numeric-copyright",
   "metadata": {},
   "source": [
    "Ahora, veamos las operaciones que se pueden realizar."
   ]
  },
  {
   "cell_type": "code",
   "execution_count": 25,
   "id": "national-manchester",
   "metadata": {},
   "outputs": [],
   "source": [
    "#Definimos algunos conjuntos para ejemplificar las operaciones.\n",
    "A = {2,4,6,8}\n",
    "B = {1,3,5,7}\n",
    "C = {1,2,5,6}"
   ]
  },
  {
   "cell_type": "markdown",
   "id": "brazilian-appliance",
   "metadata": {},
   "source": [
    "---\n",
    "#### Unión\n",
    "\n",
    "La unión está dada por `|`"
   ]
  },
  {
   "cell_type": "code",
   "execution_count": 26,
   "id": "likely-harmony",
   "metadata": {},
   "outputs": [
    {
     "data": {
      "text/plain": [
       "{1, 2, 3, 4, 5, 6, 7, 8}"
      ]
     },
     "execution_count": 26,
     "metadata": {},
     "output_type": "execute_result"
    }
   ],
   "source": [
    "A|B #Elementos que están en A o en B"
   ]
  },
  {
   "cell_type": "markdown",
   "id": "reverse-evidence",
   "metadata": {},
   "source": [
    "---\n",
    "#### Intersección\n",
    "\n",
    "La intersección está dada por `&`"
   ]
  },
  {
   "cell_type": "code",
   "execution_count": 29,
   "id": "respected-equipment",
   "metadata": {},
   "outputs": [
    {
     "data": {
      "text/plain": [
       "set()"
      ]
     },
     "execution_count": 29,
     "metadata": {},
     "output_type": "execute_result"
    }
   ],
   "source": [
    "A&B #Elementos que están en A y en B, como no tienen, nos regresa el conjunto vacío"
   ]
  },
  {
   "cell_type": "code",
   "execution_count": 30,
   "id": "delayed-delight",
   "metadata": {},
   "outputs": [
    {
     "data": {
      "text/plain": [
       "{2, 6}"
      ]
     },
     "execution_count": 30,
     "metadata": {},
     "output_type": "execute_result"
    }
   ],
   "source": [
    "A&C #Elementos que están en A y en C"
   ]
  },
  {
   "cell_type": "markdown",
   "id": "vital-electronics",
   "metadata": {},
   "source": [
    "---\n",
    "#### Diferencia\n",
    "\n",
    "La diferencia está dada por `-`"
   ]
  },
  {
   "cell_type": "code",
   "execution_count": 31,
   "id": "dental-vietnam",
   "metadata": {},
   "outputs": [
    {
     "data": {
      "text/plain": [
       "{4, 8}"
      ]
     },
     "execution_count": 31,
     "metadata": {},
     "output_type": "execute_result"
    }
   ],
   "source": [
    "A-C #Elementos de A menos los de C"
   ]
  },
  {
   "cell_type": "markdown",
   "id": "gentle-jersey",
   "metadata": {},
   "source": [
    "---\n",
    "#### Diferencia simétrica\n",
    "\n",
    "La diferencia simétrica está dada por `^`"
   ]
  },
  {
   "cell_type": "code",
   "execution_count": 34,
   "id": "alert-nitrogen",
   "metadata": {},
   "outputs": [
    {
     "data": {
      "text/plain": [
       "{1, 4, 5, 8}"
      ]
     },
     "execution_count": 34,
     "metadata": {},
     "output_type": "execute_result"
    }
   ],
   "source": [
    "A^C #Elementos que están en A o en C, pero no en ambos"
   ]
  },
  {
   "cell_type": "markdown",
   "id": "suffering-metabolism",
   "metadata": {},
   "source": [
    "Podemos obtener booleanos preguntando si un elemento está en un conjunto, por ejemplo"
   ]
  },
  {
   "cell_type": "code",
   "execution_count": 35,
   "id": "pacific-tribe",
   "metadata": {},
   "outputs": [
    {
     "data": {
      "text/plain": [
       "False"
      ]
     },
     "execution_count": 35,
     "metadata": {},
     "output_type": "execute_result"
    }
   ],
   "source": [
    "3 in A"
   ]
  },
  {
   "cell_type": "code",
   "execution_count": 36,
   "id": "grave-genetics",
   "metadata": {},
   "outputs": [
    {
     "data": {
      "text/plain": [
       "True"
      ]
     },
     "execution_count": 36,
     "metadata": {},
     "output_type": "execute_result"
    }
   ],
   "source": [
    "5 in B"
   ]
  },
  {
   "cell_type": "markdown",
   "id": "3b6fa5ca",
   "metadata": {},
   "source": [
    "# Diccionarios"
   ]
  },
  {
   "cell_type": "markdown",
   "id": "geographic-appearance",
   "metadata": {},
   "source": [
    "Los diccionarios son una herramienta sumamente útil en Python, nos permite indexar elementos a través de \"llaves\" no como el las listas o en loas arreglos que están indexados por números. Estas llaves pueden ser cadenas y numeros. En adición, las tuplas se pueden utilizar como llavesm siempre y cuando contengas numeros o cadenas y no otro objeto mutable, como una lista."
   ]
  },
  {
   "cell_type": "markdown",
   "id": "patent-microwave",
   "metadata": {},
   "source": [
    "Se defininen como:"
   ]
  },
  {
   "cell_type": "code",
   "execution_count": 37,
   "id": "affected-citation",
   "metadata": {},
   "outputs": [],
   "source": [
    "lada = { \"Mex\": 52, \"USA\": 1, \"Alemania\": 49 }"
   ]
  },
  {
   "cell_type": "markdown",
   "id": "moved-barcelona",
   "metadata": {},
   "source": [
    "Llamamos a un elemento del diccionario a través de su llave"
   ]
  },
  {
   "cell_type": "code",
   "execution_count": 39,
   "id": "pretty-ridge",
   "metadata": {
    "scrolled": true
   },
   "outputs": [
    {
     "data": {
      "text/plain": [
       "52"
      ]
     },
     "execution_count": 39,
     "metadata": {},
     "output_type": "execute_result"
    }
   ],
   "source": [
    "lada[\"Mex\"]"
   ]
  },
  {
   "cell_type": "markdown",
   "id": "spread-focus",
   "metadata": {},
   "source": [
    "Podemos eliminar un elemento del diccionario con el comando `del`"
   ]
  },
  {
   "cell_type": "code",
   "execution_count": 40,
   "id": "biological-attention",
   "metadata": {},
   "outputs": [],
   "source": [
    "del lada[\"USA\"]"
   ]
  },
  {
   "cell_type": "code",
   "execution_count": 41,
   "id": "automotive-carter",
   "metadata": {
    "scrolled": true
   },
   "outputs": [
    {
     "data": {
      "text/plain": [
       "{'Mex': 52, 'Alemania': 49}"
      ]
     },
     "execution_count": 41,
     "metadata": {},
     "output_type": "execute_result"
    }
   ],
   "source": [
    "lada"
   ]
  },
  {
   "cell_type": "markdown",
   "id": "serial-sapphire",
   "metadata": {},
   "source": [
    "Podemos ver las llaves de un diccionario con el comando `list()`"
   ]
  },
  {
   "cell_type": "code",
   "execution_count": 42,
   "id": "sustainable-memorial",
   "metadata": {},
   "outputs": [
    {
     "data": {
      "text/plain": [
       "['Mex', 'Alemania']"
      ]
     },
     "execution_count": 42,
     "metadata": {},
     "output_type": "execute_result"
    }
   ],
   "source": [
    "list(lada)"
   ]
  },
  {
   "cell_type": "markdown",
   "id": "grand-round",
   "metadata": {},
   "source": [
    "Podemos ordenadar alfabéticamente las llaves con el comando `sorted()` "
   ]
  },
  {
   "cell_type": "code",
   "execution_count": 43,
   "id": "stupid-property",
   "metadata": {},
   "outputs": [
    {
     "data": {
      "text/plain": [
       "['Alemania', 'Mex']"
      ]
     },
     "execution_count": 43,
     "metadata": {},
     "output_type": "execute_result"
    }
   ],
   "source": [
    "sorted(lada)"
   ]
  },
  {
   "cell_type": "markdown",
   "id": "passing-ceiling",
   "metadata": {},
   "source": [
    "Podemos agregrar un elemento al diccionario de la siguiente manera"
   ]
  },
  {
   "cell_type": "code",
   "execution_count": 45,
   "id": "thermal-literacy",
   "metadata": {},
   "outputs": [],
   "source": [
    "lada[\"Antartida\"] = 672\n",
    "lada[\"Surinam\"] = 597"
   ]
  },
  {
   "cell_type": "code",
   "execution_count": 46,
   "id": "reverse-memorabilia",
   "metadata": {},
   "outputs": [
    {
     "data": {
      "text/plain": [
       "{'Mex': 52, 'Alemania': 49, 'Antartida': 672, 'Surinam': 597}"
      ]
     },
     "execution_count": 46,
     "metadata": {},
     "output_type": "execute_result"
    }
   ],
   "source": [
    "lada"
   ]
  },
  {
   "cell_type": "markdown",
   "id": "every-bonus",
   "metadata": {},
   "source": [
    "Por medio de tuplas, podemos definir diccionarios usando `dict()`"
   ]
  },
  {
   "cell_type": "code",
   "execution_count": 47,
   "id": "detected-corrections",
   "metadata": {},
   "outputs": [],
   "source": [
    "Carro = {(\"Marca\", \"Ford\"), (\"Color\", \"Rojo\"), (\"Modelo\", 1999)}"
   ]
  },
  {
   "cell_type": "code",
   "execution_count": 64,
   "id": "committed-channel",
   "metadata": {},
   "outputs": [
    {
     "name": "stdout",
     "output_type": "stream",
     "text": [
      "{'Modelo': 1999, 'Marca': 'Ford', 'Color': 'Rojo'}\n"
     ]
    }
   ],
   "source": [
    "Carro = dict(Carro)\n",
    "print(Carro)"
   ]
  },
  {
   "cell_type": "markdown",
   "id": "continuing-virtue",
   "metadata": {},
   "source": [
    "Al igual que con los conjuntos podemos obtener booleanos al preguntar si existe el emento dentro del diccionario"
   ]
  },
  {
   "cell_type": "code",
   "execution_count": 59,
   "id": "precious-holmes",
   "metadata": {},
   "outputs": [
    {
     "data": {
      "text/plain": [
       "False"
      ]
     },
     "execution_count": 59,
     "metadata": {},
     "output_type": "execute_result"
    }
   ],
   "source": [
    "'Tracción' in Carro"
   ]
  },
  {
   "cell_type": "code",
   "execution_count": 65,
   "id": "designed-albuquerque",
   "metadata": {},
   "outputs": [
    {
     "data": {
      "text/plain": [
       "False"
      ]
     },
     "execution_count": 65,
     "metadata": {},
     "output_type": "execute_result"
    }
   ],
   "source": [
    "\"Ford\" in Carro #Debemos usar las llaves"
   ]
  },
  {
   "cell_type": "code",
   "execution_count": 66,
   "id": "irish-attack",
   "metadata": {},
   "outputs": [
    {
     "data": {
      "text/plain": [
       "True"
      ]
     },
     "execution_count": 66,
     "metadata": {},
     "output_type": "execute_result"
    }
   ],
   "source": [
    "\"Marca\" in Carro"
   ]
  },
  {
   "cell_type": "markdown",
   "id": "5a538723",
   "metadata": {},
   "source": [
    "## Ejercicio usando operadores logicos, relacionales, while, if, input y diccionarios\n",
    "### Caja registradora\n",
    "1. Plantear el problema: \n",
    "2. uso de los recursos aprendidos (operadores logicos, relacionales, while, if, input y diccionarios)\n",
    "3. tienen 15min"
   ]
  },
  {
   "cell_type": "code",
   "execution_count": 36,
   "id": "703e47a1",
   "metadata": {},
   "outputs": [],
   "source": [
    "sabritas={'doritos':10,'rufles':15}"
   ]
  },
  {
   "cell_type": "code",
   "execution_count": 37,
   "id": "b22bf248",
   "metadata": {},
   "outputs": [],
   "source": [
    "tia_rosa={'doraditas':13}"
   ]
  },
  {
   "cell_type": "code",
   "execution_count": 38,
   "id": "21d03256",
   "metadata": {},
   "outputs": [],
   "source": [
    "refrescos={'coca':20,'fanta':14}"
   ]
  },
  {
   "cell_type": "code",
   "execution_count": 42,
   "id": "b0ac1571",
   "metadata": {},
   "outputs": [],
   "source": [
    "cuenta=0"
   ]
  },
  {
   "cell_type": "code",
   "execution_count": 48,
   "id": "2e2dfc48",
   "metadata": {},
   "outputs": [
    {
     "name": "stdout",
     "output_type": "stream",
     "text": [
      "doritos\n",
      "rufles\n",
      "fanta\n",
      "\n",
      "ok\n",
      "tu cuenta es: $64\n"
     ]
    }
   ],
   "source": [
    "x= ' '\n",
    "while x!='':\n",
    "    x=input()\n",
    "    if x in sabritas:\n",
    "        cuenta=cuenta+sabritas[x]#algo\n",
    "    elif x in tia_rosa:\n",
    "        cuenta=cuenta+tia_rosa[x]#algo\n",
    "    elif x in refrescos:\n",
    "        cuenta=cuenta+refrescos[x]\n",
    "    elif x == '':\n",
    "        print('ok')\n",
    "    else:\n",
    "        print('no tenemos')\n",
    "\n",
    "print('tu cuenta es: $'+ str(cuenta))"
   ]
  },
  {
   "cell_type": "code",
   "execution_count": null,
   "id": "67c01b7b",
   "metadata": {},
   "outputs": [],
   "source": []
  },
  {
   "cell_type": "code",
   "execution_count": null,
   "id": "89c7fd9c",
   "metadata": {},
   "outputs": [],
   "source": []
  }
 ],
 "metadata": {
  "kernelspec": {
   "display_name": "Python 3 (ipykernel)",
   "language": "python",
   "name": "python3"
  },
  "language_info": {
   "codemirror_mode": {
    "name": "ipython",
    "version": 3
   },
   "file_extension": ".py",
   "mimetype": "text/x-python",
   "name": "python",
   "nbconvert_exporter": "python",
   "pygments_lexer": "ipython3",
   "version": "3.9.7"
  }
 },
 "nbformat": 4,
 "nbformat_minor": 5
}
