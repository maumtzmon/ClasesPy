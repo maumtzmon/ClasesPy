{
 "cells": [
  {
   "cell_type": "markdown",
   "id": "6560383a",
   "metadata": {},
   "source": [
    "# Conjuntos"
   ]
  },
  {
   "cell_type": "code",
   "execution_count": 10,
   "id": "d147c981",
   "metadata": {},
   "outputs": [],
   "source": [
    "x={1,2,3,4}"
   ]
  },
  {
   "cell_type": "code",
   "execution_count": 11,
   "id": "b8ce74ba",
   "metadata": {},
   "outputs": [],
   "source": [
    "y={5}"
   ]
  },
  {
   "cell_type": "code",
   "execution_count": null,
   "id": "2789f3dd",
   "metadata": {},
   "outputs": [],
   "source": []
  },
  {
   "cell_type": "code",
   "execution_count": 12,
   "id": "6817caf5",
   "metadata": {},
   "outputs": [],
   "source": [
    "z=x|y"
   ]
  },
  {
   "cell_type": "code",
   "execution_count": 13,
   "id": "5fb30946",
   "metadata": {},
   "outputs": [
    {
     "data": {
      "text/plain": [
       "{1, 2, 3, 4, 5}"
      ]
     },
     "execution_count": 13,
     "metadata": {},
     "output_type": "execute_result"
    }
   ],
   "source": [
    "z"
   ]
  },
  {
   "cell_type": "code",
   "execution_count": 14,
   "id": "a03526c7",
   "metadata": {},
   "outputs": [
    {
     "data": {
      "text/plain": [
       "{1, 2, 3, 4}"
      ]
     },
     "execution_count": 14,
     "metadata": {},
     "output_type": "execute_result"
    }
   ],
   "source": [
    "z&x"
   ]
  },
  {
   "cell_type": "code",
   "execution_count": 15,
   "id": "5a318249",
   "metadata": {},
   "outputs": [
    {
     "data": {
      "text/plain": [
       "{5}"
      ]
     },
     "execution_count": 15,
     "metadata": {},
     "output_type": "execute_result"
    }
   ],
   "source": [
    "z&y"
   ]
  },
  {
   "cell_type": "code",
   "execution_count": 17,
   "id": "8b138e6a",
   "metadata": {},
   "outputs": [],
   "source": [
    "A={2,4,6}"
   ]
  },
  {
   "cell_type": "code",
   "execution_count": 18,
   "id": "a27f7bc4",
   "metadata": {},
   "outputs": [
    {
     "data": {
      "text/plain": [
       "{1, 3, 5, 6}"
      ]
     },
     "execution_count": 18,
     "metadata": {},
     "output_type": "execute_result"
    }
   ],
   "source": [
    "z ^ A"
   ]
  },
  {
   "cell_type": "markdown",
   "id": "3b6fa5ca",
   "metadata": {},
   "source": [
    "# Diccionarios"
   ]
  },
  {
   "cell_type": "markdown",
   "id": "5a538723",
   "metadata": {},
   "source": [
    "## Ejercicio usando operadores logicos, relacionales, while, if, input y diccionarios\n",
    "### Caja registradora\n",
    "1. Plantear el problema: \n",
    "2. uso de los recursos aprendidos (operadores logicos, relacionales, while, if, input y diccionarios)\n",
    "3. tienen 15min"
   ]
  },
  {
   "cell_type": "code",
   "execution_count": 36,
   "id": "703e47a1",
   "metadata": {},
   "outputs": [],
   "source": [
    "sabritas={'doritos':10,'rufles':15}"
   ]
  },
  {
   "cell_type": "code",
   "execution_count": 37,
   "id": "b22bf248",
   "metadata": {},
   "outputs": [],
   "source": [
    "tia_rosa={'doraditas':13}"
   ]
  },
  {
   "cell_type": "code",
   "execution_count": 38,
   "id": "21d03256",
   "metadata": {},
   "outputs": [],
   "source": [
    "refrescos={'coca':20,'fanta':14}"
   ]
  },
  {
   "cell_type": "code",
   "execution_count": 42,
   "id": "b0ac1571",
   "metadata": {},
   "outputs": [],
   "source": [
    "cuenta=0"
   ]
  },
  {
   "cell_type": "code",
   "execution_count": 48,
   "id": "2e2dfc48",
   "metadata": {},
   "outputs": [
    {
     "name": "stdout",
     "output_type": "stream",
     "text": [
      "doritos\n",
      "rufles\n",
      "fanta\n",
      "\n",
      "ok\n",
      "tu cuenta es: $64\n"
     ]
    }
   ],
   "source": [
    "x= ' '\n",
    "while x!='':\n",
    "    x=input()\n",
    "    if x in sabritas:\n",
    "        cuenta=cuenta+sabritas[x]#algo\n",
    "    elif x in tia_rosa:\n",
    "        cuenta=cuenta+tia_rosa[x]#algo\n",
    "    elif x in refrescos:\n",
    "        cuenta=cuenta+refrescos[x]\n",
    "    elif x == '':\n",
    "        print('ok')\n",
    "    else:\n",
    "        print('no tenemos')\n",
    "\n",
    "print('tu cuenta es: $'+ str(cuenta))"
   ]
  },
  {
   "cell_type": "code",
   "execution_count": null,
   "id": "67c01b7b",
   "metadata": {},
   "outputs": [],
   "source": []
  },
  {
   "cell_type": "code",
   "execution_count": null,
   "id": "89c7fd9c",
   "metadata": {},
   "outputs": [],
   "source": []
  }
 ],
 "metadata": {
  "kernelspec": {
   "display_name": "Python 3 (ipykernel)",
   "language": "python",
   "name": "python3"
  },
  "language_info": {
   "codemirror_mode": {
    "name": "ipython",
    "version": 3
   },
   "file_extension": ".py",
   "mimetype": "text/x-python",
   "name": "python",
   "nbconvert_exporter": "python",
   "pygments_lexer": "ipython3",
   "version": "3.9.7"
  }
 },
 "nbformat": 4,
 "nbformat_minor": 5
}
