{
 "cells": [
  {
   "cell_type": "markdown",
   "metadata": {},
   "source": [
    "# Comillas, saltos de linea, tabuladores"
   ]
  },
  {
   "cell_type": "markdown",
   "metadata": {},
   "source": [
    "Se puede utilizar ``\"``dobles``\"`` y/o ``'``simples``'`` para indicar que es una cadena el contenido dentro de ellas. También se puede usar una combinación de ambas para escribir caracteres especiales como las mismas comillas.\n",
    "\n",
    "Por ejemplo:"
   ]
  },
  {
   "cell_type": "code",
   "execution_count": 1,
   "metadata": {},
   "outputs": [
    {
     "name": "stdout",
     "output_type": "stream",
     "text": [
      "este texto contiene \"comillas dobles\" dentro de una cadena\n"
     ]
    }
   ],
   "source": [
    "print('este texto contiene \"comillas dobles\" dentro de una cadena')"
   ]
  },
  {
   "cell_type": "code",
   "execution_count": 2,
   "metadata": {},
   "outputs": [
    {
     "name": "stdout",
     "output_type": "stream",
     "text": [
      "este texto contiene 'comillas simples'. \n"
     ]
    }
   ],
   "source": [
    "print(\"este texto contiene 'comillas simples'. \")"
   ]
  },
  {
   "cell_type": "markdown",
   "metadata": {},
   "source": [
    "**Nota:  NO \"MEZCLAR'**\n",
    "\n",
    "No se pueden \"mezclar' el uso 'comillas simples' y \"dobles\". Siempre debes abrir y cerrar con el mismo tipo de comillas."
   ]
  },
  {
   "cell_type": "code",
   "execution_count": 5,
   "metadata": {},
   "outputs": [
    {
     "ename": "SyntaxError",
     "evalue": "unterminated string literal (detected at line 1) (3964819134.py, line 1)",
     "output_type": "error",
     "traceback": [
      "\u001b[0;36m  Cell \u001b[0;32mIn [5], line 1\u001b[0;36m\u001b[0m\n\u001b[0;31m    'Hola\"\u001b[0m\n\u001b[0m    ^\u001b[0m\n\u001b[0;31mSyntaxError\u001b[0m\u001b[0;31m:\u001b[0m unterminated string literal (detected at line 1)\n"
     ]
    }
   ],
   "source": [
    "'Hola\""
   ]
  },
  {
   "cell_type": "markdown",
   "metadata": {},
   "source": [
    "## Carriage return and Line Feed"
   ]
  },
  {
   "cell_type": "markdown",
   "metadata": {},
   "source": [
    "Un *carriage return* en español **retorno de carro** es abreviado como CR, <CR> o *return*, es un caracter de control o mecanismo usado para hacer un reset sobre la posicion de un dispositivo en el inicio de la linea de texto. Es comun relacionarlo con el concepto de *line feed* o *newline* (nueva linea), sin embargo puede ser considerado por si mismo un concepto diferente.\n",
    "    \n",
    "*Newline* (frecuentemente llamado término de linea o fin de la linea [EOL], line feed o salto de linea)  es un caracter de control o secuencia de caracter de control codificando una especificacion del caracter (por ejemplo codigo ASCII). Que es usado para darle significado al fin de la linea de texto y el inicio de una nueva. Algunos editores de texto colocan este caracter especial al presionar la tecla Enter ↵ .\n",
    "    \n",
    "    -wikipedia (english)\n",
    "    "
   ]
  },
  {
   "cell_type": "code",
   "execution_count": 6,
   "metadata": {},
   "outputs": [
    {
     "name": "stdout",
     "output_type": "stream",
     "text": [
      "hola mundo\n",
      "este fue un salto de linea\n"
     ]
    }
   ],
   "source": [
    "#ejemplo de ambos\n",
    "print('hola mundo\\neste fue un salto de linea')"
   ]
  },
  {
   "cell_type": "code",
   "execution_count": 12,
   "metadata": {},
   "outputs": [
    {
     "name": "stdout",
     "output_type": "stream",
     "text": [
      " un retorno de carroeste es ejemplo de \n"
     ]
    }
   ],
   "source": [
    "print('aqui vamos de nuevo este es ejemplo de \\r un retorno de carro') #que sucede??"
   ]
  },
  {
   "cell_type": "markdown",
   "metadata": {},
   "source": [
    "El uso combinado de ambos nos permite indicar que ya termino la linea y que podemos comenzar en una nueva y desde el inicio de esta."
   ]
  },
  {
   "cell_type": "code",
   "execution_count": 13,
   "metadata": {},
   "outputs": [
    {
     "name": "stdout",
     "output_type": "stream",
     "text": [
      "En este ejemplo podemos combinar el retorno de carro\n",
      "y salto de linea\n"
     ]
    }
   ],
   "source": [
    "print('En este ejemplo podemos combinar el retorno de carro\\r\\ny salto de linea')"
   ]
  },
  {
   "cell_type": "markdown",
   "metadata": {},
   "source": [
    "**Nota:**\n",
    "Actualmente para el uso de impresión de textos en pantalla, almacenamiento de cadenas en variables y su impresión en pantalla o archivos, no es necesario usar ambos. ``\\n`` El salto de linea es suficiente, pero como explicamos anteriormente ambos caracteres han sido y aun son usados como caracteres terminadores indicando el fin de una linea o comando de control. Es decir, es una respuesta por parte de otro sistema con el que quizás nos estamos comunicando."
   ]
  },
  {
   "cell_type": "markdown",
   "metadata": {},
   "source": [
    "## Strings"
   ]
  },
  {
   "cell_type": "markdown",
   "metadata": {},
   "source": [
    "Las strings son cadenas de caracteres, es decir, una secuencia de caracteres. "
   ]
  },
  {
   "cell_type": "code",
   "execution_count": 15,
   "metadata": {},
   "outputs": [],
   "source": [
    "variable = \"Esta cadena contiene un salto de línea\\ndentro de todos los caracteres\""
   ]
  },
  {
   "cell_type": "markdown",
   "metadata": {},
   "source": [
    "Si ponemos ``variable`` Python nos regresará literalmente lo que escribimos, sin ningún formato."
   ]
  },
  {
   "cell_type": "code",
   "execution_count": 16,
   "metadata": {},
   "outputs": [
    {
     "data": {
      "text/plain": [
       "'Esta cadena contiene un salto de línea\\ndentro de todos los caracteres'"
      ]
     },
     "execution_count": 16,
     "metadata": {},
     "output_type": "execute_result"
    }
   ],
   "source": [
    "variable"
   ]
  },
  {
   "cell_type": "markdown",
   "metadata": {},
   "source": [
    "En cambio, al usar ``print()`` nos imprimirá ``variable`` con el formato que diseñamos. "
   ]
  },
  {
   "cell_type": "code",
   "execution_count": 17,
   "metadata": {},
   "outputs": [
    {
     "name": "stdout",
     "output_type": "stream",
     "text": [
      "Esta cadena contiene un salto de línea\n",
      "dentro de todos los caracteres\n"
     ]
    }
   ],
   "source": [
    "print(variable)"
   ]
  },
  {
   "cell_type": "markdown",
   "metadata": {},
   "source": [
    "## Concatenación"
   ]
  },
  {
   "cell_type": "markdown",
   "metadata": {},
   "source": [
    "Cómo vimos hace algunos notebooks, se pueden 'sumar' strings, la forma correcta de llamar esta suma es **concatenación**."
   ]
  },
  {
   "cell_type": "code",
   "execution_count": 18,
   "metadata": {},
   "outputs": [
    {
     "data": {
      "text/plain": [
       "'Esta cadena contiene un salto de línea\\ndentro de todos los caracteresEsta cadena contiene un salto de línea\\ndentro de todos los caracteres'"
      ]
     },
     "execution_count": 18,
     "metadata": {},
     "output_type": "execute_result"
    }
   ],
   "source": [
    "variable + variable"
   ]
  },
  {
   "cell_type": "code",
   "execution_count": 19,
   "metadata": {},
   "outputs": [
    {
     "data": {
      "text/plain": [
       "'Esta cadena contiene un salto de línea\\ndentro de todos los caracteres'"
      ]
     },
     "execution_count": 19,
     "metadata": {},
     "output_type": "execute_result"
    }
   ],
   "source": [
    "variable"
   ]
  },
  {
   "cell_type": "code",
   "execution_count": 20,
   "metadata": {},
   "outputs": [
    {
     "name": "stdout",
     "output_type": "stream",
     "text": [
      "Esta cadena contiene un salto de línea\n",
      "dentro de todos los caracteresEsta cadena contiene un salto de línea\n",
      "dentro de todos los caracteres\n"
     ]
    }
   ],
   "source": [
    "print(variable + variable)"
   ]
  },
  {
   "cell_type": "markdown",
   "metadata": {},
   "source": [
    "Notemos como al concatenar las cadenas, pega una seguida de la otra, sin ningún espacio."
   ]
  },
  {
   "cell_type": "code",
   "execution_count": 21,
   "metadata": {},
   "outputs": [],
   "source": [
    "primero = \"primer parte\"\n",
    "segundo = \" segunda parte\" #Noten que existe un caracter vacío comenzando la cadena"
   ]
  },
  {
   "cell_type": "code",
   "execution_count": 22,
   "metadata": {},
   "outputs": [
    {
     "name": "stdout",
     "output_type": "stream",
     "text": [
      "concatenando primer parte segunda parte\n"
     ]
    }
   ],
   "source": [
    "print(\"concatenando \" + primero + segundo)"
   ]
  },
  {
   "cell_type": "markdown",
   "metadata": {},
   "source": [
    "Por el espacio al inicio de ``segundo`` se ve un formato más claro."
   ]
  },
  {
   "cell_type": "code",
   "execution_count": 23,
   "metadata": {},
   "outputs": [
    {
     "name": "stdout",
     "output_type": "stream",
     "text": [
      "concatenemos:primer parte, segunda parte y\ttercera parte2\n"
     ]
    }
   ],
   "source": [
    "tercero = \"tercera parte2\"\n",
    "print('concatenemos:'+ primero + ',' + segundo + ' y' + '\\t' + tercero)"
   ]
  },
  {
   "cell_type": "markdown",
   "metadata": {},
   "source": [
    "En este momento solo se están concatenando cadenas de texto, pero de igual manera pueden ingresarse números que son resultados de operaciones previas y que a traves de un mensaje queremos indicar al usuario el significado de su valor. Para ello, es necesario asegurarnos de que el tipo de la variable sea del tipo string. \n",
    "\n",
    "Por ejemplo:"
   ]
  },
  {
   "cell_type": "code",
   "execution_count": 24,
   "metadata": {},
   "outputs": [
    {
     "data": {
      "text/plain": [
       "int"
      ]
     },
     "execution_count": 24,
     "metadata": {},
     "output_type": "execute_result"
    }
   ],
   "source": [
    "x=10\n",
    "type(x)"
   ]
  },
  {
   "cell_type": "code",
   "execution_count": 25,
   "metadata": {},
   "outputs": [
    {
     "data": {
      "text/plain": [
       "'10'"
      ]
     },
     "execution_count": 25,
     "metadata": {},
     "output_type": "execute_result"
    }
   ],
   "source": [
    "str(x)"
   ]
  },
  {
   "cell_type": "code",
   "execution_count": 26,
   "metadata": {},
   "outputs": [
    {
     "data": {
      "text/plain": [
       "10"
      ]
     },
     "execution_count": 26,
     "metadata": {},
     "output_type": "execute_result"
    }
   ],
   "source": [
    "x"
   ]
  },
  {
   "cell_type": "code",
   "execution_count": 29,
   "metadata": {},
   "outputs": [
    {
     "name": "stdout",
     "output_type": "stream",
     "text": [
      "El radio del circulo es de 10\n",
      "El area del circulo es de 3.183098861837907\n"
     ]
    }
   ],
   "source": [
    "from numpy import pi as pi #En este momento no presten atención a esta línea. \n",
    "print('El radio del circulo es de '+ str(x))\n",
    "print('El area del circulo es de '+ str(x/pi))"
   ]
  },
  {
   "cell_type": "code",
   "execution_count": 30,
   "metadata": {},
   "outputs": [
    {
     "data": {
      "text/plain": [
       "int"
      ]
     },
     "execution_count": 30,
     "metadata": {},
     "output_type": "execute_result"
    }
   ],
   "source": [
    "type(x)"
   ]
  },
  {
   "cell_type": "markdown",
   "metadata": {},
   "source": [
    "## Dividir cadenas de caracteres\n",
    "\n",
    "Tal como para la suma existe la resta, para la concatenación existe la división, dada por la función ``split()``. "
   ]
  },
  {
   "cell_type": "code",
   "execution_count": 39,
   "metadata": {},
   "outputs": [],
   "source": [
    "directorio = \"/home/mauricio/documentos/file.info\"\n",
    "directorio_win=r\"c:\\nombre\\Documentos\\file.info\""
   ]
  },
  {
   "cell_type": "code",
   "execution_count": 32,
   "metadata": {},
   "outputs": [
    {
     "data": {
      "text/plain": [
       "'/home/mauricio/documentos/file.info'"
      ]
     },
     "execution_count": 32,
     "metadata": {},
     "output_type": "execute_result"
    }
   ],
   "source": [
    "directorio"
   ]
  },
  {
   "cell_type": "code",
   "execution_count": 33,
   "metadata": {},
   "outputs": [
    {
     "data": {
      "text/plain": [
       "'c:\\\\nombre\\\\Documentos\\\\file.info'"
      ]
     },
     "execution_count": 33,
     "metadata": {},
     "output_type": "execute_result"
    }
   ],
   "source": [
    "directorio_win"
   ]
  },
  {
   "cell_type": "code",
   "execution_count": 34,
   "metadata": {},
   "outputs": [],
   "source": [
    "directorio_win = r\"c:\\nombre\\Documentos\\file.info\""
   ]
  },
  {
   "cell_type": "markdown",
   "metadata": {},
   "source": [
    "El argumento de la función ``split()`` es el caracter donde se quiere hacer la división."
   ]
  },
  {
   "cell_type": "code",
   "execution_count": 40,
   "metadata": {},
   "outputs": [],
   "source": [
    "cadena_dividida=directorio.split('/') "
   ]
  },
  {
   "cell_type": "code",
   "execution_count": 41,
   "metadata": {},
   "outputs": [
    {
     "name": "stdout",
     "output_type": "stream",
     "text": [
      "['', 'home', 'mauricio', 'documentos', 'file.info']\n",
      "<class 'list'>\n"
     ]
    }
   ],
   "source": [
    "print(cadena_dividida)\n",
    "print(type(cadena_dividida))"
   ]
  },
  {
   "cell_type": "code",
   "execution_count": 38,
   "metadata": {},
   "outputs": [
    {
     "data": {
      "text/plain": [
       "'/home/mauricio/documentos/ile.in'"
      ]
     },
     "execution_count": 38,
     "metadata": {},
     "output_type": "execute_result"
    }
   ],
   "source": [
    "cadena_dividida\n",
    "nueva=cadena_dividida[0]+cadena_dividida[1]\n",
    "nueva"
   ]
  },
  {
   "cell_type": "markdown",
   "metadata": {},
   "source": [
    "Lo importante a notar es que no solo divide una vez, si no que divide cada que encuentra el caracter del argumento. \n",
    "Además, no nos regresa un string, si no una lista, un objeto que estudiaremos más adelante."
   ]
  }
 ],
 "metadata": {
  "kernelspec": {
   "display_name": "Python 3.9.7 ('base')",
   "language": "python",
   "name": "python3"
  },
  "language_info": {
   "codemirror_mode": {
    "name": "ipython",
    "version": 3
   },
   "file_extension": ".py",
   "mimetype": "text/x-python",
   "name": "python",
   "nbconvert_exporter": "python",
   "pygments_lexer": "ipython3",
   "version": "3.10.12"
  },
  "vscode": {
   "interpreter": {
    "hash": "ad9e000ace8b4c39afbdcf83b61f0f239008d468236d6baabfb987e10afb94b8"
   }
  }
 },
 "nbformat": 4,
 "nbformat_minor": 2
}
