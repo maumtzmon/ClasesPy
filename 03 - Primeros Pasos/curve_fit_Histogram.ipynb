{
 "cells": [
  {
   "cell_type": "markdown",
   "id": "7d416275",
   "metadata": {},
   "source": [
    "### Codigo para generar valores en X, hacer un histograma y despues una curva con los datos del histograma"
   ]
  },
  {
   "cell_type": "code",
   "execution_count": 2,
   "id": "0263d7b0",
   "metadata": {},
   "outputs": [],
   "source": [
    "import matplotlib.pyplot as plt\n",
    "from scipy.optimize import curve_fit\n",
    "from scipy.stats import norm\n",
    "import numpy as np\n",
    "from math import sin"
   ]
  },
  {
   "cell_type": "code",
   "execution_count": 3,
   "id": "35b0e19a",
   "metadata": {},
   "outputs": [],
   "source": [
    "Data = np.random.RandomState(10000) #ADUs\n",
    "yData = Data.randn(10000) #lista con valores distribuidos de manera normal"
   ]
  },
  {
   "cell_type": "code",
   "execution_count": 4,
   "id": "f1b5975a",
   "metadata": {},
   "outputs": [
    {
     "data": {
      "text/plain": [
       "array([-1.27109064,  0.17613707, -0.29621638, ...,  0.66019026,\n",
       "        0.53913786,  0.91287497])"
      ]
     },
     "execution_count": 4,
     "metadata": {},
     "output_type": "execute_result"
    }
   ],
   "source": [
    "yData #valores de los pixeles contenidos en un arreglo de 10 x 10"
   ]
  },
  {
   "cell_type": "code",
   "execution_count": 5,
   "id": "a8533ab2",
   "metadata": {},
   "outputs": [
    {
     "data": {
      "text/plain": [
       "10000"
      ]
     },
     "execution_count": 5,
     "metadata": {},
     "output_type": "execute_result"
    }
   ],
   "source": [
    "yData.size"
   ]
  },
  {
   "cell_type": "code",
   "execution_count": 6,
   "id": "3c075e5c",
   "metadata": {},
   "outputs": [],
   "source": [
    "xData=np.arange(0,10000)"
   ]
  },
  {
   "cell_type": "code",
   "execution_count": 7,
   "id": "ce45be39",
   "metadata": {},
   "outputs": [
    {
     "data": {
      "text/plain": [
       "array([   0,    1,    2, ..., 9997, 9998, 9999])"
      ]
     },
     "execution_count": 7,
     "metadata": {},
     "output_type": "execute_result"
    }
   ],
   "source": [
    "xData #pixeles de un arreglo 100 x 100"
   ]
  },
  {
   "cell_type": "code",
   "execution_count": 8,
   "id": "3913431a",
   "metadata": {},
   "outputs": [
    {
     "data": {
      "text/plain": [
       "[<matplotlib.lines.Line2D at 0x7f9434653be0>]"
      ]
     },
     "execution_count": 8,
     "metadata": {},
     "output_type": "execute_result"
    },
    {
     "data": {
      "image/png": "[encoded data removed]",
      "text/plain": [
       "<Figure size 432x288 with 1 Axes>"
      ]
     },
     "metadata": {
      "needs_background": "light"
     },
     "output_type": "display_data"
    }
   ],
   "source": [
    "plt.plot(xData, yData)"
   ]
  },
  {
   "cell_type": "code",
   "execution_count": 9,
   "id": "7b57423e",
   "metadata": {},
   "outputs": [],
   "source": [
    "### Creacion del histograma"
   ]
  },
  {
   "cell_type": "code",
   "execution_count": 10,
   "id": "ecf34c7e",
   "metadata": {},
   "outputs": [],
   "source": [
    "bins=np.histogram_bin_edges(yData, bins='fd')"
   ]
  },
  {
   "cell_type": "code",
   "execution_count": 11,
   "id": "a05f434e",
   "metadata": {},
   "outputs": [
    {
     "data": {
      "text/plain": [
       "array([-3.4832135 , -3.36045795, -3.23770241, -3.11494687, -2.99219132,\n",
       "       -2.86943578, -2.74668024, -2.62392469, -2.50116915, -2.37841361,\n",
       "       -2.25565806, -2.13290252, -2.01014697, -1.88739143, -1.76463589,\n",
       "       -1.64188034, -1.5191248 , -1.39636926, -1.27361371, -1.15085817,\n",
       "       -1.02810263, -0.90534708, -0.78259154, -0.65983599, -0.53708045,\n",
       "       -0.41432491, -0.29156936, -0.16881382, -0.04605828,  0.07669727,\n",
       "        0.19945281,  0.32220835,  0.4449639 ,  0.56771944,  0.69047499,\n",
       "        0.81323053,  0.93598607,  1.05874162,  1.18149716,  1.3042527 ,\n",
       "        1.42700825,  1.54976379,  1.67251933,  1.79527488,  1.91803042,\n",
       "        2.04078597,  2.16354151,  2.28629705,  2.4090526 ,  2.53180814,\n",
       "        2.65456368,  2.77731923,  2.90007477,  3.02283031,  3.14558586,\n",
       "        3.2683414 ,  3.39109695,  3.51385249,  3.63660803,  3.75936358])"
      ]
     },
     "execution_count": 11,
     "metadata": {},
     "output_type": "execute_result"
    }
   ],
   "source": [
    "bins"
   ]
  },
  {
   "cell_type": "code",
   "execution_count": 12,
   "id": "c97bfb7a",
   "metadata": {},
   "outputs": [],
   "source": [
    "data_histo, bins = np.histogram(yData,bins=bins)        #np.histogram genera los datos en data_histo y los bins"
   ]
  },
  {
   "cell_type": "code",
   "execution_count": 13,
   "id": "770d1c9e",
   "metadata": {},
   "outputs": [
    {
     "data": {
      "text/plain": [
       "array([  1,   3,   2,   6,   7,   9,  13,  21,  28,  38,  58,  65,  65,\n",
       "        86, 108, 115, 185, 207, 220, 264, 299, 378, 369, 439, 430, 456,\n",
       "       494, 471, 482, 479, 476, 463, 437, 402, 359, 388, 296, 245, 204,\n",
       "       182, 169, 127, 109,  86,  75,  50,  38,  21,  22,  13,  14,   3,\n",
       "         8,   4,   4,   3,   1,   1,   2])"
      ]
     },
     "execution_count": 13,
     "metadata": {},
     "output_type": "execute_result"
    }
   ],
   "source": [
    "data_histo # data_histo[0]: frecuencia u ocurrencia; data_histo[1]: bins"
   ]
  },
  {
   "cell_type": "code",
   "execution_count": 14,
   "id": "136be90a",
   "metadata": {},
   "outputs": [
    {
     "data": {
      "text/plain": [
       "array([-3.4832135 , -3.36045795, -3.23770241, -3.11494687, -2.99219132,\n",
       "       -2.86943578, -2.74668024, -2.62392469, -2.50116915, -2.37841361,\n",
       "       -2.25565806, -2.13290252, -2.01014697, -1.88739143, -1.76463589,\n",
       "       -1.64188034, -1.5191248 , -1.39636926, -1.27361371, -1.15085817,\n",
       "       -1.02810263, -0.90534708, -0.78259154, -0.65983599, -0.53708045,\n",
       "       -0.41432491, -0.29156936, -0.16881382, -0.04605828,  0.07669727,\n",
       "        0.19945281,  0.32220835,  0.4449639 ,  0.56771944,  0.69047499,\n",
       "        0.81323053,  0.93598607,  1.05874162,  1.18149716,  1.3042527 ,\n",
       "        1.42700825,  1.54976379,  1.67251933,  1.79527488,  1.91803042,\n",
       "        2.04078597,  2.16354151,  2.28629705,  2.4090526 ,  2.53180814,\n",
       "        2.65456368,  2.77731923,  2.90007477,  3.02283031,  3.14558586,\n",
       "        3.2683414 ,  3.39109695,  3.51385249,  3.63660803,  3.75936358])"
      ]
     },
     "execution_count": 14,
     "metadata": {},
     "output_type": "execute_result"
    }
   ],
   "source": [
    "bins"
   ]
  },
  {
   "cell_type": "code",
   "execution_count": 15,
   "id": "570bdda4",
   "metadata": {},
   "outputs": [
    {
     "data": {
      "image/png": "[encoded data removed]",
      "text/plain": [
       "<Figure size 432x288 with 1 Axes>"
      ]
     },
     "metadata": {
      "needs_background": "light"
     },
     "output_type": "display_data"
    }
   ],
   "source": [
    "histograma=plt.hist(yData, bins=bins)# #plt.hist genera los datos del histograma, guarda los \"datos,bins\" y hace un plot"
   ]
  },
  {
   "cell_type": "code",
   "execution_count": 16,
   "id": "65eb65de",
   "metadata": {},
   "outputs": [
    {
     "data": {
      "text/plain": [
       "array([  1.,   3.,   2.,   6.,   7.,   9.,  13.,  21.,  28.,  38.,  58.,\n",
       "        65.,  65.,  86., 108., 115., 185., 207., 220., 264., 299., 378.,\n",
       "       369., 439., 430., 456., 494., 471., 482., 479., 476., 463., 437.,\n",
       "       402., 359., 388., 296., 245., 204., 182., 169., 127., 109.,  86.,\n",
       "        75.,  50.,  38.,  21.,  22.,  13.,  14.,   3.,   8.,   4.,   4.,\n",
       "         3.,   1.,   1.,   2.])"
      ]
     },
     "execution_count": 16,
     "metadata": {},
     "output_type": "execute_result"
    }
   ],
   "source": [
    "histograma[0] #datos del histograma"
   ]
  },
  {
   "cell_type": "code",
   "execution_count": 17,
   "id": "ec4b3a94",
   "metadata": {},
   "outputs": [
    {
     "data": {
      "text/plain": [
       "array([-3.4832135 , -3.36045795, -3.23770241, -3.11494687, -2.99219132,\n",
       "       -2.86943578, -2.74668024, -2.62392469, -2.50116915, -2.37841361,\n",
       "       -2.25565806, -2.13290252, -2.01014697, -1.88739143, -1.76463589,\n",
       "       -1.64188034, -1.5191248 , -1.39636926, -1.27361371, -1.15085817,\n",
       "       -1.02810263, -0.90534708, -0.78259154, -0.65983599, -0.53708045,\n",
       "       -0.41432491, -0.29156936, -0.16881382, -0.04605828,  0.07669727,\n",
       "        0.19945281,  0.32220835,  0.4449639 ,  0.56771944,  0.69047499,\n",
       "        0.81323053,  0.93598607,  1.05874162,  1.18149716,  1.3042527 ,\n",
       "        1.42700825,  1.54976379,  1.67251933,  1.79527488,  1.91803042,\n",
       "        2.04078597,  2.16354151,  2.28629705,  2.4090526 ,  2.53180814,\n",
       "        2.65456368,  2.77731923,  2.90007477,  3.02283031,  3.14558586,\n",
       "        3.2683414 ,  3.39109695,  3.51385249,  3.63660803,  3.75936358])"
      ]
     },
     "execution_count": 17,
     "metadata": {},
     "output_type": "execute_result"
    }
   ],
   "source": [
    "histograma[1] #bins del histograma"
   ]
  },
  {
   "cell_type": "markdown",
   "id": "d591e4c7",
   "metadata": {},
   "source": [
    "#### Ajustar una curva "
   ]
  },
  {
   "cell_type": "code",
   "execution_count": 18,
   "id": "477fe7bc",
   "metadata": {},
   "outputs": [
    {
     "name": "stdout",
     "output_type": "stream",
     "text": [
      "Para ajustar una curva es necesario que ambos ejes sean del mismo tamaño\n",
      "size datos= 59\n",
      "size bins= 60\n"
     ]
    }
   ],
   "source": [
    "print('Para ajustar una curva es necesario que ambos ejes sean del mismo tamaño\\nsize datos= '+str(histograma[0].size)+'\\n'+'size bins= '+str(histograma[1].size))"
   ]
  },
  {
   "cell_type": "code",
   "execution_count": null,
   "id": "770b5c5d",
   "metadata": {},
   "outputs": [],
   "source": []
  },
  {
   "cell_type": "code",
   "execution_count": 19,
   "id": "a457243c",
   "metadata": {},
   "outputs": [
    {
     "name": "stdout",
     "output_type": "stream",
     "text": [
      "max=  3.7593635764838433\n",
      "min= -3.4832134981417675\n",
      "size= 60\n"
     ]
    }
   ],
   "source": [
    "print('max=  '+str(histograma[1].max()))\n",
    "print('min= '+str(histograma[1].min()))\n",
    "print('size= '+str(histograma[1].size))"
   ]
  },
  {
   "cell_type": "code",
   "execution_count": 20,
   "id": "a77031c8",
   "metadata": {},
   "outputs": [],
   "source": [
    "x=np.linspace(histograma[1].min(), histograma[1].max(), histograma[1].size)"
   ]
  },
  {
   "cell_type": "code",
   "execution_count": 21,
   "id": "d48bde84",
   "metadata": {},
   "outputs": [
    {
     "data": {
      "text/plain": [
       "60"
      ]
     },
     "execution_count": 21,
     "metadata": {},
     "output_type": "execute_result"
    }
   ],
   "source": [
    "x.size\n"
   ]
  },
  {
   "cell_type": "code",
   "execution_count": 22,
   "id": "ae304ac3",
   "metadata": {},
   "outputs": [
    {
     "data": {
      "text/plain": [
       "[<matplotlib.lines.Line2D at 0x7f94338c7970>]"
      ]
     },
     "execution_count": 22,
     "metadata": {},
     "output_type": "execute_result"
    },
    {
     "data": {
      "image/png": "[encoded data removed]",
      "text/plain": [
       "<Figure size 432x288 with 1 Axes>"
      ]
     },
     "metadata": {
      "needs_background": "light"
     },
     "output_type": "display_data"
    }
   ],
   "source": [
    "plt.plot(x, 1 / np.sqrt(2*np.pi) * np.exp(-(x**2)/2), linewidth=4)"
   ]
  },
  {
   "cell_type": "markdown",
   "id": "81731dce",
   "metadata": {},
   "source": [
    "#### A pesar de que la curva ajusta a los datos, es necesario que la curva se genere a partir del histograma"
   ]
  },
  {
   "cell_type": "markdown",
   "id": "1c4794b2",
   "metadata": {},
   "source": [
    "## Combinar plots"
   ]
  },
  {
   "cell_type": "code",
   "execution_count": 28,
   "id": "7f188d29",
   "metadata": {},
   "outputs": [
    {
     "data": {
      "text/plain": [
       "array([-1.27109064,  0.17613707, -0.29621638, ...,  0.66019026,\n",
       "        0.53913786,  0.91287497])"
      ]
     },
     "execution_count": 28,
     "metadata": {},
     "output_type": "execute_result"
    }
   ],
   "source": [
    "yData #Valores de los pixeles en ADUs"
   ]
  },
  {
   "cell_type": "code",
   "execution_count": 29,
   "id": "f56c5f99",
   "metadata": {},
   "outputs": [],
   "source": [
    "mu, std = norm.fit(yData)  #generar valores de la curva gaussiana"
   ]
  },
  {
   "cell_type": "code",
   "execution_count": 30,
   "id": "44da546f",
   "metadata": {},
   "outputs": [
    {
     "data": {
      "image/png": "[encoded data removed]",
      "text/plain": [
       "<Figure size 432x288 with 1 Axes>"
      ]
     },
     "metadata": {
      "needs_background": "light"
     },
     "output_type": "display_data"
    }
   ],
   "source": [
    "histograma=plt.hist(yData, bins, density=True, alpha=0.6, color='b') #Nuevamente: Generar solo histograma"
   ]
  },
  {
   "cell_type": "code",
   "execution_count": 32,
   "id": "19012335",
   "metadata": {},
   "outputs": [
    {
     "data": {
      "text/plain": [
       "[<matplotlib.lines.Line2D at 0x7f9433990a00>]"
      ]
     },
     "execution_count": 32,
     "metadata": {},
     "output_type": "execute_result"
    },
    {
     "data": {
      "image/png": "[encoded data removed]",
      "text/plain": [
       "<Figure size 432x288 with 1 Axes>"
      ]
     },
     "metadata": {
      "needs_background": "light"
     },
     "output_type": "display_data"
    }
   ],
   "source": [
    "x=np.linspace(histograma[1].min(), histograma[1].max(), histograma[1].size) #Valores en x a partir del histograma\n",
    "y = norm.pdf(x, mu, std) # generar valores de y, como la probabilidad de x\n",
    "plt.plot(x, y, 'k', linewidth=2)"
   ]
  },
  {
   "cell_type": "code",
   "execution_count": 33,
   "id": "89936c02",
   "metadata": {},
   "outputs": [
    {
     "data": {
      "text/plain": [
       "[<matplotlib.lines.Line2D at 0x7f9433601c70>]"
      ]
     },
     "execution_count": 33,
     "metadata": {},
     "output_type": "execute_result"
    },
    {
     "data": {
      "image/png": "[encoded data removed]",
      "text/plain": [
       "<Figure size 432x288 with 1 Axes>"
      ]
     },
     "metadata": {
      "needs_background": "light"
     },
     "output_type": "display_data"
    }
   ],
   "source": [
    "plt.hist(yData, bins, density=True, alpha=0.6, color='b')\n",
    "x=np.linspace(histograma[1].min(), histograma[1].max(), histograma[1].size)\n",
    "y = norm.pdf(x, mu, std)\n",
    "plt.plot(x, y, 'k', linewidth=2)"
   ]
  },
  {
   "cell_type": "code",
   "execution_count": null,
   "id": "5e74df30",
   "metadata": {},
   "outputs": [],
   "source": []
  },
  {
   "cell_type": "code",
   "execution_count": null,
   "id": "5ff148ee",
   "metadata": {},
   "outputs": [],
   "source": []
  }
 ],
 "metadata": {
  "kernelspec": {
   "display_name": "Python 3 (ipykernel)",
   "language": "python",
   "name": "python3"
  },
  "language_info": {
   "codemirror_mode": {
    "name": "ipython",
    "version": 3
   },
   "file_extension": ".py",
   "mimetype": "text/x-python",
   "name": "python",
   "nbconvert_exporter": "python",
   "pygments_lexer": "ipython3",
   "version": "3.9.7"
  }
 },
 "nbformat": 4,
 "nbformat_minor": 5
}
