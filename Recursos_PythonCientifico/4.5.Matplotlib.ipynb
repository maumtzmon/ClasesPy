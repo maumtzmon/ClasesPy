{
 "cells": [
  {
   "cell_type": "markdown",
   "metadata": {},
   "source": [
    "# Matplotlib\n",
    "Se presentan todos los ejercicios vistos en el documento teorico."
   ]
  },
  {
   "cell_type": "markdown",
   "metadata": {},
   "source": [
    "## 1. Gráficas Simples"
   ]
  },
  {
   "cell_type": "markdown",
   "metadata": {},
   "source": [
    "### Dibujar la función senoidal para 100 puntos en el intervalo de 0 a 2pi."
   ]
  },
  {
   "cell_type": "code",
   "execution_count": null,
   "metadata": {},
   "outputs": [],
   "source": [
    "import numpy as np # Importamos el modúlo numpy\n",
    "import matplotlib.pyplot as plt # Importamos el modulo pyplot de numpy\n",
    "# Generamos un arreglo de 100 \n",
    "# puntos que va desde 0 a 2pi\n",
    "x = np.linspace(0,2*np.pi,100) # Dominio\n",
    "# Evaluamos cada punto del dominio\n",
    "# en la funcion senoidal y lo almacenamos\n",
    "y = np.sin(x) # Rango\n",
    "# Graficamos el resultado\n",
    "plt.plot(x,y)\n",
    "# Mostramos en pantalla\n",
    "plt.show()"
   ]
  },
  {
   "cell_type": "markdown",
   "metadata": {},
   "source": [
    "###  Dibujamos la función senoidal y cosenoidal en la misma ventana."
   ]
  },
  {
   "cell_type": "code",
   "execution_count": null,
   "metadata": {},
   "outputs": [],
   "source": [
    "import numpy as np # Importamos el modúlo numpy\n",
    "import matplotlib.pyplot as plt # Importamos el modulo pyplot de numpy\n",
    "# Generamos un arreglo de 100 \n",
    "# puntos que va desde 0 a 2pi\n",
    "x = np.linspace(0,2*np.pi,100) # Dominio\n",
    "# Evaluamos cada punto del dominio\n",
    "# en la funcion senoidal y lo almacenamos\n",
    "y = np.sin(x) # Rango\n",
    "# Evaluamos cada punto del dominio\n",
    "# en la funcion cosenoidal y lo almacenamos\n",
    "f = np.cos(x) # Rango 2\n",
    "# Graficamos el resultado\n",
    "plt.plot(x,y) # Graficamos la función senoidal\n",
    "plt.plot(x,f) # Graficamos la función cosenoidal\n",
    "# Mostramos en pantalla\n",
    "plt.show()"
   ]
  },
  {
   "cell_type": "markdown",
   "metadata": {},
   "source": [
    "###  Dibujamos en pantalla la función cosenoidal y senoidal en distintas figuras."
   ]
  },
  {
   "cell_type": "code",
   "execution_count": null,
   "metadata": {},
   "outputs": [],
   "source": [
    "import numpy as np\n",
    "import matplotlib.pyplot as plt\n",
    "\n",
    "# Creamos dos figuras distintas en donde graficar\n",
    "plt.figure(1)   # Identificador 1\n",
    "plt.figure('dos') # Identificador dos\n",
    "# Generamos el dominio de 0 a 2pi con 100 puntos\n",
    "x = np.linspace(0,2*np.pi,100)\n",
    "# Hacemos la evaluacion de estos puntos\n",
    "y = np.sin(x)\n",
    "f = np.cos(x)\n",
    "# Dibujamos la funcion coseno en la ventada dos\n",
    "plt.figure('dos')\n",
    "plt.plot(x,f)\n",
    "# Dibujamos la funcion seno en grafica 1\n",
    "plt.figure(1)\n",
    "plt.plot(x,y)\n",
    "# Mostramos en pantalla el resultado\n",
    "plt.show()"
   ]
  },
  {
   "cell_type": "markdown",
   "metadata": {},
   "source": [
    "### Dibuja la función senoidal y cosenodial en la misma ventana. "
   ]
  },
  {
   "cell_type": "code",
   "execution_count": null,
   "metadata": {},
   "outputs": [],
   "source": [
    "import numpy as np\n",
    "import matplotlib.pyplot as plt\n",
    "\n",
    "# Generamos el dominio de 0 a 2pi con 100 puntos\n",
    "x = np.linspace(0,2*np.pi,100)\n",
    "# Hacemos la evaluacion de estos puntos\n",
    "y = np.sin(x)\n",
    "f = np.cos(x)\n",
    "# Dibujamos la funcion coseno en la primera\n",
    "# mitad de la grafica\n",
    "plt.subplot(1,2,1)\n",
    "plt.plot(x,y)\n",
    "# Dibujamos la funcion seno en la segunda\n",
    "# mitad de la grafica\n",
    "plt.subplot(1,2,2)\n",
    "plt.plot(x,f)\n",
    "plt.show()"
   ]
  },
  {
   "cell_type": "markdown",
   "metadata": {},
   "source": [
    "## Personalización\n",
    "Ejemplos sobre la personalización de los gráficos, para que el usuario pueda presentar con mayor claridad sus resultados."
   ]
  },
  {
   "cell_type": "markdown",
   "metadata": {},
   "source": [
    "## Mostrar en pantalla la función senoidal y cosenoidal con leyendas y una malla. "
   ]
  },
  {
   "cell_type": "code",
   "execution_count": null,
   "metadata": {},
   "outputs": [],
   "source": [
    "import numpy as np\n",
    "import matplotlib.pyplot as plt\n",
    "# Generamos el dominio\n",
    "x = np.linspace(0,2*np.pi,100)\n",
    "# Mostramos en pantalla la grafica del seno\n",
    "plt.plot(x,np.sin(x),label=\"sin(x)\")\n",
    "# Mostramos en pantalla la grafica de coseno\n",
    "plt.plot(x,np.cos(x),label=\"cos(x)\")\n",
    "# Agregamos las leyendas\n",
    "plt.legend()\n",
    "# Agregamos una malla al grafico\n",
    "plt.grid()\n",
    "# Etiqueta a los ejes\n",
    "plt.xlabel(\"x\")\n",
    "plt.ylabel(\"Funciones Trigonometricas\")\n",
    "plt.show()"
   ]
  },
  {
   "cell_type": "markdown",
   "metadata": {},
   "source": [
    "##  Gráficar la función senoidal de 0 a 2pi con 5 puntos.\n"
   ]
  },
  {
   "cell_type": "code",
   "execution_count": null,
   "metadata": {},
   "outputs": [],
   "source": [
    "# Agregamos la libreria de numpy\n",
    "import numpy as np\n",
    "# Agregamos la librieria matplotlib\n",
    "import matplotlib.pyplot as plt\n",
    "# Generamos el dominio con linspace\n",
    "x = np.linspace(0,2*np.pi,5)\n",
    "# Graficamos la funcion\n",
    "plt.plot(x,np.sin(x))\n",
    "# Mostramos en pantalla\n",
    "plt.show()"
   ]
  },
  {
   "cell_type": "markdown",
   "metadata": {},
   "source": [
    "## Gráficar la función senoidal de 0 a 2pi con 100 puntos y la linea discontinua."
   ]
  },
  {
   "cell_type": "code",
   "execution_count": null,
   "metadata": {},
   "outputs": [],
   "source": [
    "# Agregamos la libreria de numpy\n",
    "import numpy as np\n",
    "# Agregamos la librieria matplotlib\n",
    "import matplotlib.pyplot as plt\n",
    "# Generamos el dominio con linspace\n",
    "x = np.linspace(0,2*np.pi,100)\n",
    "# Graficamos la funcion\n",
    "plt.plot(x,np.sin(x),linestyle='dashed')\n",
    "# Mostramos en pantalla\n",
    "plt.show()"
   ]
  },
  {
   "cell_type": "markdown",
   "metadata": {},
   "source": [
    "## Gráficar la función senoidal de 0 a 2pi con 100 puntos y la linea con un espesor mayor."
   ]
  },
  {
   "cell_type": "code",
   "execution_count": null,
   "metadata": {},
   "outputs": [],
   "source": [
    "# Agregamos la libreria de numpy\n",
    "import numpy as np\n",
    "# Agregamos la librieria matplotlib\n",
    "import matplotlib.pyplot as plt\n",
    "# Generamos el dominio con linspace\n",
    "x = np.linspace(0,2*np.pi,100)\n",
    "# Graficamos la funcion\n",
    "plt.plot(x,np.sin(x),linewidth=6)\n",
    "# Mostramos en pantalla\n",
    "plt.show()"
   ]
  },
  {
   "cell_type": "markdown",
   "metadata": {},
   "source": [
    "## Gráficar la función senoidal de 0 a 2pi con 15 puntos y un marcador triangular."
   ]
  },
  {
   "cell_type": "code",
   "execution_count": null,
   "metadata": {},
   "outputs": [],
   "source": [
    "# Agregamos la libreria de numpy\n",
    "import numpy as np\n",
    "# Agregamos la librieria matplotlib\n",
    "import matplotlib.pyplot as plt\n",
    "# Generamos el dominio con linspace\n",
    "x = np.linspace(0,2*np.pi,15)\n",
    "# Graficamos la funcion\n",
    "plt.plot(x,np.sin(x),marker='v')\n",
    "# Mostramos en pantalla\n",
    "plt.show()"
   ]
  },
  {
   "cell_type": "markdown",
   "metadata": {},
   "source": [
    "## Gráficar la función senoidal de 0 a 2pi con 15 puntos y un color cafe."
   ]
  },
  {
   "cell_type": "code",
   "execution_count": null,
   "metadata": {},
   "outputs": [],
   "source": [
    "# Agregamos la libreria de numpy\n",
    "import numpy as np\n",
    "# Agregamos la librieria matplotlib\n",
    "import matplotlib.pyplot as plt\n",
    "# Generamos el dominio con linspace\n",
    "x = np.linspace(0,2*np.pi,15)\n",
    "# Graficamos la funcion\n",
    "plt.plot(x,np.sin(x),color='g')\n",
    "# Mostramos en pantalla\n",
    "plt.show()"
   ]
  },
  {
   "cell_type": "markdown",
   "metadata": {},
   "source": [
    "## Graficar la función senoidal y cosenoidal usando 20 puntos de 0 a 2pi y añadiendo todos los parametros vistos hasta ahora. "
   ]
  },
  {
   "cell_type": "code",
   "execution_count": null,
   "metadata": {},
   "outputs": [],
   "source": [
    "# Agregamos la libreria de numpy\n",
    "import numpy as np\n",
    "# Agregamos la librieria matplotlib\n",
    "import matplotlib.pyplot as plt\n",
    "# Generamos el dominio con linspace\n",
    "x = np.linspace(0,2*np.pi,20)\n",
    "# Graficamos la funcion seno\n",
    "plt.plot(x,np.sin(x),'r:',label='$sin(x)$')\n",
    "# Graficamos la funcion coseno\n",
    "plt.plot(x,np.cos(x),marker='p',linewidth=3,label='$cos(x)$')\n",
    "# Etiqueta del eje x\n",
    "plt.xlabel('x')\n",
    "# Etiqueta del eje y\n",
    "plt.ylabel('Funciones trigonometricas')\n",
    "# Mostramos la leyenda\n",
    "plt.legend()\n",
    "# Mostramos la malla\n",
    "plt.grid()\n",
    "# Mostramos en pantalla\n",
    "plt.show()"
   ]
  },
  {
   "cell_type": "markdown",
   "metadata": {},
   "source": [
    "## Contornos\n",
    "Muestra los ejercicios utilizados para explicar la visualización de curvas de nivel."
   ]
  },
  {
   "cell_type": "markdown",
   "metadata": {},
   "source": [
    "##  Obtener las curvas de nivel para la gráfica f(x,y) = cos(x)sin(x)\n"
   ]
  },
  {
   "cell_type": "code",
   "execution_count": null,
   "metadata": {},
   "outputs": [],
   "source": [
    "# Agregamos las librerias necesarias\n",
    "import numpy as np\n",
    "import matplotlib.pyplot as plt\n",
    "# Generamos el dominio\n",
    "x = np.linspace(-5,5,20)\n",
    "y = np.linspace(-5,5,20)\n",
    "# Generamos la malla\n",
    "X,Y = np.meshgrid(x,y)\n",
    "# Graficamos la curva\n",
    "plt.contour(X,Y,np.cos(X)*np.sin(Y))\n",
    "# Mostramos el resultado\n",
    "plt.show()"
   ]
  },
  {
   "cell_type": "markdown",
   "metadata": {},
   "source": [
    "## Ejemplo 2.  "
   ]
  },
  {
   "cell_type": "code",
   "execution_count": null,
   "metadata": {},
   "outputs": [],
   "source": [
    "# Agregamos las librerias necesarias\n",
    "import numpy as np\n",
    "import matplotlib.pyplot as plt\n",
    "# Generamos el dominio\n",
    "x = np.linspace(-5,5,20)\n",
    "y = np.linspace(-5,5,20)\n",
    "# Generamos la malla\n",
    "X,Y = np.meshgrid(x,y)\n",
    "# Graficamos la curva\n",
    "plt.contourf(X,Y,np.cos(X)*np.sin(Y))\n",
    "# Mostramos el resultado\n",
    "plt.show()"
   ]
  },
  {
   "cell_type": "code",
   "execution_count": 1,
   "metadata": {},
   "outputs": [
    {
     "data": {
      "image/png": "[encoded data removed]",
      "text/plain": [
       "<matplotlib.figure.Figure at 0x7fbc145af4e0>"
      ]
     },
     "metadata": {},
     "output_type": "display_data"
    }
   ],
   "source": [
    "import numpy as np\n",
    "import matplotlib.pyplot as plt\n",
    "\n",
    "x = np.linspace(0,5,100)\n",
    "m=5\n",
    "b=3\n",
    "y=m*x+b\n",
    "\n",
    "plt.plot(y)\n",
    "plt.show()\n"
   ]
  },
  {
   "cell_type": "code",
   "execution_count": null,
   "metadata": {
    "collapsed": true
   },
   "outputs": [],
   "source": []
  }
 ],
 "metadata": {
  "kernelspec": {
   "display_name": "Python 3",
   "language": "python",
   "name": "python3"
  },
  "language_info": {
   "codemirror_mode": {
    "name": "ipython",
    "version": 3
   },
   "file_extension": ".py",
   "mimetype": "text/x-python",
   "name": "python",
   "nbconvert_exporter": "python",
   "pygments_lexer": "ipython3",
   "version": "3.6.3"
  }
 },
 "nbformat": 4,
 "nbformat_minor": 2
}
