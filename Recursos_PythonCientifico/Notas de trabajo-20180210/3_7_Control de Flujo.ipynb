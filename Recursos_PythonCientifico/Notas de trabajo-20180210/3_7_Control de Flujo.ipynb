{
 "cells": [
  {
   "cell_type": "markdown",
   "metadata": {},
   "source": [
    "# Identación\n",
    "\n",
    "La identación en python forma parte de la sintaxis. Se usa para determinar bloques de código en condicionales, ciclos, funciones ... etc. "
   ]
  },
  {
   "cell_type": "markdown",
   "metadata": {},
   "source": [
    "# Flujo de control\n",
    "\n",
    "La ejecución de un programa en python se hace de forma secuencial, es decir se van ejecutando las instrucciones de arriba hacia abajo a esto se le llama flujo de control o control de flujo.\n",
    "\n",
    "\n",
    "Hay sin embargo ocasiones en que es necesario modificar este flujo de control \n",
    "\n",
    "Hay algunas instrucciones que rompen el control de flujo de la ejecucion."
   ]
  },
  {
   "cell_type": "markdown",
   "metadata": {},
   "source": [
    "## Sentencia if\n",
    "\n",
    "Es una sentencia de selección, elige que se debe y que no se debe de ejecutar."
   ]
  },
  {
   "cell_type": "code",
   "execution_count": 1,
   "metadata": {},
   "outputs": [
    {
     "name": "stdout",
     "output_type": "stream",
     "text": [
      "Hola mundo!!!\n"
     ]
    }
   ],
   "source": [
    "if True:\n",
    "    print(\"Hola mundo!!!\")"
   ]
  },
  {
   "cell_type": "code",
   "execution_count": 1,
   "metadata": {
    "collapsed": true
   },
   "outputs": [],
   "source": [
    "if False:\n",
    "    print(\"Hola mundo!!!\")"
   ]
  },
  {
   "cell_type": "code",
   "execution_count": 2,
   "metadata": {},
   "outputs": [
    {
     "name": "stdout",
     "output_type": "stream",
     "text": [
      "Valores iguales\n"
     ]
    }
   ],
   "source": [
    "if 32 == 32:\n",
    "    print(\"Valores iguales\")"
   ]
  },
  {
   "cell_type": "markdown",
   "metadata": {},
   "source": [
    "## Sentencia if-else\n",
    "\n",
    "Se utiliza cuando se requiere más de una opción "
   ]
  },
  {
   "cell_type": "code",
   "execution_count": 5,
   "metadata": {},
   "outputs": [
    {
     "name": "stdout",
     "output_type": "stream",
     "text": [
      "Valor de la presión: -32\n",
      "0.0\n"
     ]
    }
   ],
   "source": [
    "presion = float(input(\"Valor de la presión: \"))\n",
    "if presion < 0:\n",
    "    presion = 0.0\n",
    "else:\n",
    "    presion = 10\n",
    "print(presion)"
   ]
  },
  {
   "cell_type": "markdown",
   "metadata": {},
   "source": [
    "## Sentencia if-elif-else"
   ]
  },
  {
   "cell_type": "code",
   "execution_count": 4,
   "metadata": {},
   "outputs": [
    {
     "name": "stdout",
     "output_type": "stream",
     "text": [
      "Raices reales diferentes\n"
     ]
    }
   ],
   "source": [
    "a = 1.0\n",
    "b = 3.0\n",
    "c = -10\n",
    "d = b**2 - 4*a*c #Discriminante\n",
    "if d < 0:\n",
    "    print(\"Raices complejas\")\n",
    "elif d == 0:\n",
    "    print(\"Raices reales iguales\")\n",
    "else:\n",
    "    print(\"Raices reales diferentes\")\n"
   ]
  },
  {
   "cell_type": "markdown",
   "metadata": {},
   "source": [
    "## Iterativas\n",
    "\n",
    " las instrucciones iterativas o también llamadas bucles permiten la ejecución del mismo bloque de instrucciones tantas veces sea requerido.\n"
   ]
  },
  {
   "cell_type": "markdown",
   "metadata": {},
   "source": [
    "### while\n",
    "\n",
    "Esta instrucción ejecuta un bloque de código mientras se cumpla una condición.\n"
   ]
  },
  {
   "cell_type": "code",
   "execution_count": 5,
   "metadata": {},
   "outputs": [
    {
     "name": "stdout",
     "output_type": "stream",
     "text": [
      "Suma:  10\n"
     ]
    }
   ],
   "source": [
    "suma = 0\n",
    "while suma < 10:\n",
    "    suma += 1\n",
    "print(\"Suma: \",suma)"
   ]
  },
  {
   "cell_type": "code",
   "execution_count": 7,
   "metadata": {},
   "outputs": [
    {
     "name": "stdout",
     "output_type": "stream",
     "text": [
      "Continuar y/n \n",
      "y\n",
      "Continuar y/n \n",
      "y\n",
      "Continuar y/n \n",
      "y\n",
      "Continuar y/n \n",
      "y\n",
      "Continuar y/n \n",
      "y\n",
      "Continuar y/n \n",
      "y\n",
      "Continuar y/n \n",
      "n\n"
     ]
    }
   ],
   "source": [
    "continua = 'y'\n",
    "while(continua == 'y'):\n",
    "    continua = input(\"Continuar y/n \\n\")"
   ]
  },
  {
   "cell_type": "markdown",
   "metadata": {},
   "source": [
    "## Interrupciones\n",
    "\n",
    "En ocasiones se requiere interrumpir la ejecución de un ciclo, para hacer esto se cuentan con tres opciones:\n",
    "\n",
    "* continue\n",
    "* break\n",
    "\n",
    "### Continue\n",
    "\n",
    "Reinicia la ejecución de un ciclo, cuando es encontrado y regresa al inicio del ciclo."
   ]
  },
  {
   "cell_type": "code",
   "execution_count": 8,
   "metadata": {},
   "outputs": [
    {
     "name": "stdout",
     "output_type": "stream",
     "text": [
      "Letra actual : P\n",
      "Letra actual : y\n",
      "Letra actual : t\n",
      "Letra actual : o\n",
      "Letra actual : n\n",
      "Letra actual : i\n",
      "Letra actual : c\n",
      "Letra actual : o\n"
     ]
    }
   ],
   "source": [
    "for letra in \"Pythonico\":\n",
    "    if letra == \"h\":\n",
    "        continue\n",
    "    print (\"Letra actual : \" + letra)"
   ]
  },
  {
   "cell_type": "markdown",
   "metadata": {},
   "source": [
    "### Break\n",
    "\n",
    "Termina la ejecución del ciclo."
   ]
  },
  {
   "cell_type": "code",
   "execution_count": 9,
   "metadata": {},
   "outputs": [
    {
     "name": "stdout",
     "output_type": "stream",
     "text": [
      "Letra actual : P\n",
      "Letra actual : y\n",
      "Letra actual : t\n"
     ]
    }
   ],
   "source": [
    "for letra in \"Pythonico\":\n",
    "    if letra == \"h\":\n",
    "        break\n",
    "    print (\"Letra actual : \" + letra)"
   ]
  },
  {
   "cell_type": "markdown",
   "metadata": {},
   "source": [
    "## for ... in\n",
    "\n",
    "En for en python es aplicado a objetos iterables, como:\n",
    "\n",
    "* listas\n",
    "* cadenas\n",
    "* tuplas\n",
    "* diccionaros\n",
    "* conjuntos\n"
   ]
  },
  {
   "cell_type": "code",
   "execution_count": 6,
   "metadata": {},
   "outputs": [
    {
     "name": "stdout",
     "output_type": "stream",
     "text": [
      "fallas\n",
      "fracturas\n",
      "pliegues\n",
      "esfuerzos\n"
     ]
    }
   ],
   "source": [
    "estructural = ['fallas','fracturas','pliegues','esfuerzos']\n",
    "for i in estructural:\n",
    "    print (i)"
   ]
  },
  {
   "cell_type": "code",
   "execution_count": 1,
   "metadata": {},
   "outputs": [
    {
     "name": "stdout",
     "output_type": "stream",
     "text": [
      "fallas\n",
      "fracturas\n",
      "pliegues\n",
      "esfuerzos\n"
     ]
    }
   ],
   "source": [
    "estructural = ('fallas','fracturas','pliegues','esfuerzos')\n",
    "for i in estructural:\n",
    "    print (i)"
   ]
  },
  {
   "cell_type": "code",
   "execution_count": 2,
   "metadata": {},
   "outputs": [
    {
     "name": "stdout",
     "output_type": "stream",
     "text": [
      "1\n",
      "2\n",
      "3\n"
     ]
    }
   ],
   "source": [
    "A = {1,2,3,3,3}\n",
    "for i in A:\n",
    "    print (i)"
   ]
  },
  {
   "cell_type": "code",
   "execution_count": 6,
   "metadata": {},
   "outputs": [
    {
     "name": "stdout",
     "output_type": "stream",
     "text": [
      "Mario\n",
      "Nieto\n",
      "Butrón\n"
     ]
    }
   ],
   "source": [
    "persona = {\"nombre\": \"Mario\", \"apellido_1\":\"Nieto\", \"apellido_2\":\"Butrón\"}\n",
    "for i in persona:\n",
    "    print (persona[i])"
   ]
  },
  {
   "cell_type": "markdown",
   "metadata": {},
   "source": [
    "### range()\n",
    "\n",
    "Nos ayuda a definir rangos numericos pueden ser incrementales o decrementales."
   ]
  },
  {
   "cell_type": "code",
   "execution_count": 14,
   "metadata": {},
   "outputs": [
    {
     "name": "stdout",
     "output_type": "stream",
     "text": [
      "0,1,2,3,4,5,6,7,8,9,"
     ]
    }
   ],
   "source": [
    "for i in range(10):\n",
    "    print(i,end=',')"
   ]
  },
  {
   "cell_type": "code",
   "execution_count": 13,
   "metadata": {},
   "outputs": [
    {
     "name": "stdout",
     "output_type": "stream",
     "text": [
      "10,11,12,13,14,15,16,17,18,19,"
     ]
    }
   ],
   "source": [
    "for i in range(10,20):\n",
    "    print(i,end=',')"
   ]
  },
  {
   "cell_type": "code",
   "execution_count": 12,
   "metadata": {},
   "outputs": [
    {
     "name": "stdout",
     "output_type": "stream",
     "text": [
      "1,3,5,7,9,11,13,15,17,19,21,23,25,27,29,31,33,35,37,39,41,43,45,47,49,51,53,55,57,59,61,63,65,67,69,71,73,75,77,79,81,83,85,87,89,91,93,95,"
     ]
    }
   ],
   "source": [
    "for i in range(1,96,2):\n",
    "    print(i,end=',')"
   ]
  },
  {
   "cell_type": "code",
   "execution_count": 19,
   "metadata": {},
   "outputs": [
    {
     "name": "stdout",
     "output_type": "stream",
     "text": [
      "100,99,98,97,96,95,94,93,92,91,90,89,88,87,86,85,84,83,82,81,80,79,78,77,76,75,74,73,72,71,70,69,68,67,66,65,64,63,62,61,60,59,58,57,56,55,54,53,52,51,50,49,48,47,46,45,44,43,42,41,40,39,38,37,36,35,34,33,32,31,30,29,28,27,26,25,24,23,22,21,20,19,18,17,16,15,14,13,12,11,10,9,8,7,6,5,4,3,2,1,"
     ]
    }
   ],
   "source": [
    "for i in range(100,0,-1):\n",
    "    print(i,end=',')"
   ]
  },
  {
   "cell_type": "code",
   "execution_count": 20,
   "metadata": {},
   "outputs": [
    {
     "name": "stdout",
     "output_type": "stream",
     "text": [
      "100,97,94,91,88,85,82,79,76,73,70,67,64,61,58,55,52,49,46,43,40,37,34,31,28,25,22,19,16,13,10,7,4,1,"
     ]
    }
   ],
   "source": [
    "for i in range(100,0,-3):\n",
    "    print(i,end=',')"
   ]
  },
  {
   "cell_type": "code",
   "execution_count": null,
   "metadata": {
    "collapsed": true
   },
   "outputs": [],
   "source": []
  }
 ],
 "metadata": {
  "kernelspec": {
   "display_name": "Python 3",
   "language": "python",
   "name": "python3"
  },
  "language_info": {
   "codemirror_mode": {
    "name": "ipython",
    "version": 3
   },
   "file_extension": ".py",
   "mimetype": "text/x-python",
   "name": "python",
   "nbconvert_exporter": "python",
   "pygments_lexer": "ipython3",
   "version": "3.6.2"
  }
 },
 "nbformat": 4,
 "nbformat_minor": 2
}
