{
 "cells": [
  {
   "cell_type": "markdown",
   "metadata": {},
   "source": [
    "# Entradas y salidas\n",
    "\n",
    "Las entradas y salidas son interfaces, que permiten a los programas relacionarse con los usuarios. Por tanto un lenguaje que no permita esta interacción esta destinado a fracasar.\n",
    "\n",
    "## Entrada estandar\n",
    "\n",
    "Actualmente hay varias perfiricos de entrada en la computadora, por lo tanto en cualquiera de ellos puede ingresarse información, por defecto la entrada estandar es el teclado.\n"
   ]
  },
  {
   "cell_type": "code",
   "execution_count": 14,
   "metadata": {},
   "outputs": [
    {
     "name": "stdout",
     "output_type": "stream",
     "text": [
      "Escribe un nombre: Mario\n",
      "Mario\n"
     ]
    }
   ],
   "source": [
    "nombre = input(\"Escribe un nombre: \")\n",
    "print(nombre)"
   ]
  },
  {
   "cell_type": "code",
   "execution_count": 15,
   "metadata": {},
   "outputs": [
    {
     "data": {
      "text/plain": [
       "str"
      ]
     },
     "execution_count": 15,
     "metadata": {},
     "output_type": "execute_result"
    }
   ],
   "source": [
    "type(nombre)"
   ]
  },
  {
   "cell_type": "code",
   "execution_count": 16,
   "metadata": {},
   "outputs": [
    {
     "name": "stdout",
     "output_type": "stream",
     "text": [
      "Dame un numero: 32\n"
     ]
    },
    {
     "data": {
      "text/plain": [
       "str"
      ]
     },
     "execution_count": 16,
     "metadata": {},
     "output_type": "execute_result"
    }
   ],
   "source": [
    "numero = input(\"Dame un numero: \")\n",
    "type(numero)"
   ]
  },
  {
   "cell_type": "code",
   "execution_count": 17,
   "metadata": {},
   "outputs": [
    {
     "name": "stdout",
     "output_type": "stream",
     "text": [
      "Dame un numero: 32\n"
     ]
    },
    {
     "data": {
      "text/plain": [
       "int"
      ]
     },
     "execution_count": 17,
     "metadata": {},
     "output_type": "execute_result"
    }
   ],
   "source": [
    "numero = int(input(\"Dame un numero: \"))\n",
    "type(numero)"
   ]
  },
  {
   "cell_type": "markdown",
   "metadata": {},
   "source": [
    "## Salida estandar\n",
    "\n",
    "En Python la salida estandar por defecto, corresponde al interprete.\n",
    "\n",
    "Se utiliza la función **print()** para desplegar información en la salida estándar. \n",
    "\n",
    "\n"
   ]
  },
  {
   "cell_type": "code",
   "execution_count": 5,
   "metadata": {},
   "outputs": [
    {
     "name": "stdout",
     "output_type": "stream",
     "text": [
      "hola mundo\n"
     ]
    }
   ],
   "source": [
    "print(\"hola\",\"mundo\") # Deja un espacio en pantalla"
   ]
  },
  {
   "cell_type": "code",
   "execution_count": 11,
   "metadata": {},
   "outputs": [
    {
     "name": "stdout",
     "output_type": "stream",
     "text": [
      "hola-mundo\n"
     ]
    }
   ],
   "source": [
    "print(\"hola\",\"mundo\",sep='-')"
   ]
  },
  {
   "cell_type": "code",
   "execution_count": 6,
   "metadata": {},
   "outputs": [
    {
     "name": "stdout",
     "output_type": "stream",
     "text": [
      "holamundo\n"
     ]
    }
   ],
   "source": [
    "print(\"hola\"+\"mundo\") # Concatena las palabras"
   ]
  },
  {
   "cell_type": "code",
   "execution_count": 12,
   "metadata": {},
   "outputs": [
    {
     "name": "stdout",
     "output_type": "stream",
     "text": [
      "hola\n",
      "mundo\n"
     ]
    }
   ],
   "source": [
    "print(\"hola\");print(\"mundo\") # Salta una linea"
   ]
  },
  {
   "cell_type": "code",
   "execution_count": 20,
   "metadata": {},
   "outputs": [
    {
     "name": "stdout",
     "output_type": "stream",
     "text": [
      "hola\n",
      "\n",
      "mundo\n"
     ]
    }
   ],
   "source": [
    "print(\"hola\",end=' ');print(\"mundo\") # Quitamos el comportamiento"
   ]
  },
  {
   "cell_type": "code",
   "execution_count": 15,
   "metadata": {
    "collapsed": true
   },
   "outputs": [],
   "source": [
    "a = 2    # Definimos una variable entera."
   ]
  },
  {
   "cell_type": "code",
   "execution_count": 5,
   "metadata": {},
   "outputs": [
    {
     "name": "stdout",
     "output_type": "stream",
     "text": [
      "2\n"
     ]
    }
   ],
   "source": [
    "print(a) # Por defecto la plabra devuelve un número entero."
   ]
  },
  {
   "cell_type": "code",
   "execution_count": 6,
   "metadata": {},
   "outputs": [
    {
     "name": "stdout",
     "output_type": "stream",
     "text": [
      "Tienes 2 tipos de fallas.\n"
     ]
    }
   ],
   "source": [
    "print(\"Tienes\", a, \"tipos de fallas.\") # Usamos , debido a que a es un número."
   ]
  },
  {
   "cell_type": "code",
   "execution_count": 9,
   "metadata": {},
   "outputs": [
    {
     "name": "stdout",
     "output_type": "stream",
     "text": [
      "Tienes 2 tipos de fallas.\n"
     ]
    }
   ],
   "source": [
    "print(\"Tienes \" + str(a) + \" tipos de fallas.\") # La concatenación de hace con +"
   ]
  },
  {
   "cell_type": "markdown",
   "metadata": {},
   "source": [
    "## Formato\n",
    "\n",
    "Se puede dar un formato especial a los resultados para mostrarlos en salida estándar, por medio de especificadores. \n",
    "\n",
    "|Caracter|Modo de despliegue|\n",
    "|:----------------:|:----------------:|\n",
    "|_%s_|\tcadena de texto|\n",
    "|_%d_|\t entero|\n",
    "|_%o_|\t octal|\n",
    "|_%x_|\t hexadecimal|\n",
    "|_%f_|\t punto flotante|\n",
    "|_%e_|\t punto flotante en formato exponencial|   \n"
   ]
  },
  {
   "cell_type": "code",
   "execution_count": 8,
   "metadata": {
    "collapsed": true
   },
   "outputs": [],
   "source": [
    "pi = 3.141592\n",
    "radio = 2"
   ]
  },
  {
   "cell_type": "code",
   "execution_count": 3,
   "metadata": {},
   "outputs": [
    {
     "name": "stdout",
     "output_type": "stream",
     "text": [
      "El perímetro de un circulo de radio 2 es 12.566368.\n"
     ]
    }
   ],
   "source": [
    "print(\"El perímetro de un circulo de radio %d es %f.\" % (radio, 2 * radio * pi))"
   ]
  },
  {
   "cell_type": "code",
   "execution_count": 4,
   "metadata": {},
   "outputs": [
    {
     "name": "stdout",
     "output_type": "stream",
     "text": [
      "El perímetro de un circulo de radio 2 es 12.\n"
     ]
    }
   ],
   "source": [
    "print(\"El perímetro de un circulo de radio %d es %d.\" % (radio, 2 * radio * pi))"
   ]
  },
  {
   "cell_type": "code",
   "execution_count": 5,
   "metadata": {},
   "outputs": [
    {
     "name": "stdout",
     "output_type": "stream",
     "text": [
      "El perímetro de un circulo de radio 2 es 12.566368\n"
     ]
    }
   ],
   "source": [
    "print(\"El perímetro de un circulo de radio %s es %s\" % (radio, 2 * radio * pi))"
   ]
  },
  {
   "cell_type": "markdown",
   "metadata": {},
   "source": [
    "## Cifras significativas\n",
    "\n",
    "Se puede elegír el número de cifras significativas a ser desplegadas usandose un . después del % con el número de cifras a ser desplegadas."
   ]
  },
  {
   "cell_type": "code",
   "execution_count": 6,
   "metadata": {},
   "outputs": [
    {
     "name": "stdout",
     "output_type": "stream",
     "text": [
      "El valor de pi es 3.141592.\n"
     ]
    }
   ],
   "source": [
    "print(\"El valor de pi es %f.\" % (pi))"
   ]
  },
  {
   "cell_type": "code",
   "execution_count": 7,
   "metadata": {},
   "outputs": [
    {
     "name": "stdout",
     "output_type": "stream",
     "text": [
      "El valor de pi es 3.141592e+00.\n"
     ]
    }
   ],
   "source": [
    "print(\"El valor de pi es %e.\" % pi)"
   ]
  },
  {
   "cell_type": "code",
   "execution_count": 17,
   "metadata": {},
   "outputs": [
    {
     "name": "stdout",
     "output_type": "stream",
     "text": [
      "El perímetro de un círculo de radio igual a 2 es 12.566368.\n",
      "El perímetro de un círculo de radio igual a 2 es 12.57.\n"
     ]
    }
   ],
   "source": [
    "print(\"El perímetro de un círculo de radio igual a %d es %f.\" % (radio, 2 * pi * radio))\n",
    "print(\"El perímetro de un círculo de radio igual a %d es %.2f.\" % (radio, 2 * pi * radio))"
   ]
  },
  {
   "cell_type": "markdown",
   "metadata": {},
   "source": [
    "## Secuencias de escape\n",
    "\n",
    "Pueden utilizarse secuencias en escape en la función **print()**.\n",
    "\n",
    "|Secuencia|Despliegue|\n",
    "|:-------:|:--------:|\n",
    "|*\\\\n*    |Retorno de línea|\n",
    "|*\\\\t*    |Tabulador |\n",
    "|*\\\\\"*    |Comillas  |\n",
    "|*\\\\'*    |Apóstrofe |\n",
    "|*\\\\\\\\*   |Diagonal invertida|\n",
    "|*\\\\xNN*  |Caracter que corresponde al número hexadecimal *NN* en ASCII|\n",
    "|*\\\\uNN*  |Caracter que corresponde al número hexadecimal *NN* en Unicode|"
   ]
  },
  {
   "cell_type": "code",
   "execution_count": 30,
   "metadata": {},
   "outputs": [
    {
     "name": "stdout",
     "output_type": "stream",
     "text": [
      "Estratigrafía.\t Sedimentología \n",
      " Petrología \t \\ \n"
     ]
    }
   ],
   "source": [
    "print(\"Estratigrafía.\\t Sedimentología \\n Petrología \\t \\\\ \")"
   ]
  },
  {
   "cell_type": "code",
   "execution_count": 22,
   "metadata": {},
   "outputs": [
    {
     "name": "stdout",
     "output_type": "stream",
     "text": [
      "Este es el signo de  \"gato\" #.\n"
     ]
    }
   ],
   "source": [
    "print(\"Este es el signo de  \\\"gato\\\" \\x23.\")"
   ]
  },
  {
   "cell_type": "code",
   "execution_count": 25,
   "metadata": {},
   "outputs": [
    {
     "name": "stdout",
     "output_type": "stream",
     "text": [
      "Sigma: Σ\n"
     ]
    }
   ],
   "source": [
    "print(\"Sigma: \\u03A3\")"
   ]
  },
  {
   "cell_type": "code",
   "execution_count": 32,
   "metadata": {},
   "outputs": [
    {
     "name": "stdout",
     "output_type": "stream",
     "text": [
      "arroba: @\n"
     ]
    }
   ],
   "source": [
    "print(\"arroba: \\x40\")"
   ]
  },
  {
   "cell_type": "code",
   "execution_count": null,
   "metadata": {
    "collapsed": true
   },
   "outputs": [],
   "source": []
  }
 ],
 "metadata": {
  "kernelspec": {
   "display_name": "Python 3",
   "language": "python",
   "name": "python3"
  },
  "language_info": {
   "codemirror_mode": {
    "name": "ipython",
    "version": 3
   },
   "file_extension": ".py",
   "mimetype": "text/x-python",
   "name": "python",
   "nbconvert_exporter": "python",
   "pygments_lexer": "ipython3",
   "version": "3.6.2"
  }
 },
 "nbformat": 4,
 "nbformat_minor": 2
}
