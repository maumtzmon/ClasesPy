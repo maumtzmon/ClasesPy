{
 "cells": [
  {
   "cell_type": "markdown",
   "metadata": {},
   "source": [
    "#### [Python Ver.: 3.6.x] | [Autor: Luis Miguel de la Cruz Salas]\n",
    "\n",
    "# Funciones (Repaso)\n",
    "\n",
    "## Varios nombres para una función"
   ]
  },
  {
   "cell_type": "code",
   "execution_count": null,
   "metadata": {
    "collapsed": true
   },
   "outputs": [],
   "source": [
    "def sucesor(x): # x es un parámetro\n",
    "    return x + 1\n",
    "\n",
    "print(sucesor(10))   # 10 es el argumento que se le pasa a la función\n",
    "suc = sucesor\n",
    "print(suc(10))"
   ]
  },
  {
   "cell_type": "code",
   "execution_count": null,
   "metadata": {
    "collapsed": true
   },
   "outputs": [],
   "source": [
    "del sucesor # Se puede eliminar uno de estos nombres, pero la función\n",
    "suc(10)     # sigue existiendo a través del otro nombre"
   ]
  },
  {
   "cell_type": "markdown",
   "metadata": {},
   "source": [
    "## Funciones con un número variable de parámetros\n",
    "\n",
    "- Un parámetro es el nombre de una entidad en la definición de una función que especifica un argumento que una función puede aceptar. Hay cinco tipos de parámetros, véase https://docs.python.org/3/glossary.html#term-parameter \n",
    "\n",
    "- Un *argumento* es el valor que se le pasa a una función cuando se llama. Hay dos tipos de argumentos:\n",
    "    - *keyword argument* : un argumento precedido por un identificador en la llamdad de una función, o pasado por valor en un diccionario precedido por \\*\\*:\n",
    "    ```python\n",
    "    complex(real=3, imag=5)\n",
    "    complex(**{'real': 3, 'imag': 5})\n",
    "    ```\n",
    "    - *positional argument* : un argumento que no es precedido por un identificador, o pasado en una tupla precedido por \\*:\n",
    "    ```python\n",
    "    complex(3, 5)\n",
    "    complex(*(3, 5))\n",
    "    ```"
   ]
  },
  {
   "cell_type": "code",
   "execution_count": null,
   "metadata": {
    "collapsed": true
   },
   "outputs": [],
   "source": [
    "# *args: número variable de positional arguments empacados en una tupla\n",
    "# *kwargs: número variable de keyword arguments empacados en un diccionario\n",
    "def parametrosVariables(*args, **kwargs):\n",
    "    print('args es una tupla : ', args)\n",
    "    print('kwargs es un diccionario: ', kwargs)\n",
    "    \n",
    "parametrosVariables('one', 'two',a = 4,  x=1, y=2, z=3)"
   ]
  },
  {
   "cell_type": "markdown",
   "metadata": {},
   "source": [
    "## Funciones como parámetros\n",
    "\n",
    "- Se puede pasar una función como parámetro a otra función:"
   ]
  },
  {
   "cell_type": "code",
   "execution_count": null,
   "metadata": {
    "collapsed": true
   },
   "outputs": [],
   "source": [
    "def g():\n",
    "    print(\"Iniciando la función 'g()'\")\n",
    "    \n",
    "def func(f):\n",
    "    print(\"Iniciando la función 'func()'\")\n",
    "    print(\"Ejecución de la función 'f()', nombre real '\" + f.__name__ + \"()'\")\n",
    "    f()\n",
    "    \n",
    "func(g)"
   ]
  },
  {
   "cell_type": "code",
   "execution_count": null,
   "metadata": {
    "collapsed": true
   },
   "outputs": [],
   "source": [
    "import math\n",
    "\n",
    "def integra(func,a,b):\n",
    "    print(\"Integral de \" + func.__name__ + \n",
    "         \" en el intervalo [ %f, %f ]\" % (a,b))\n",
    "    h = (b - a) / 10\n",
    "    resultado = 0\n",
    "    for x in [1, 2, 2.5]:\n",
    "        resultado += func(x) * h\n",
    "    return resultado\n",
    "\n",
    "print(integra(math.sin, 1,2))\n",
    "print(integra(math.cos, 2,3))"
   ]
  },
  {
   "cell_type": "markdown",
   "metadata": {},
   "source": [
    "## Funciones anidadas\n",
    "\n",
    "- Es posible definir funciones dentro de funciones:"
   ]
  },
  {
   "cell_type": "code",
   "execution_count": 8,
   "metadata": {},
   "outputs": [
    {
     "name": "stdout",
     "output_type": "stream",
     "text": [
      "Estamos en la funcionPadre()\n",
      "Estamos en la funcion segundoHijo()\n",
      "Estamos en la funcion primerHijo()\n"
     ]
    }
   ],
   "source": [
    "def funcionPadre():\n",
    "    print(\"Estamos en la funcionPadre()\")\n",
    "\n",
    "    def primerHijo():\n",
    "        return \"Estamos en la funcion primerHijo()\"\n",
    "\n",
    "    def segundoHijo():\n",
    "        return \"Estamos en la funcion segundoHijo()\"\n",
    "\n",
    "    print(segundoHijo())\n",
    "    print(primerHijo())\n",
    "\n",
    "\n",
    "funcionPadre()"
   ]
  },
  {
   "cell_type": "markdown",
   "metadata": {},
   "source": [
    "## Regresando una función\n",
    "\n",
    "- Es posible que una función regrese otra función:"
   ]
  },
  {
   "cell_type": "markdown",
   "metadata": {},
   "source": [
    "## Ejemplo:\n",
    "Implementar una fábrica de polinomios de segundo grado: \n",
    "\n",
    "$$\n",
    "p(x) = a x^2 + b x + c\n",
    "$$"
   ]
  },
  {
   "cell_type": "code",
   "execution_count": 9,
   "metadata": {},
   "outputs": [
    {
     "name": "stdout",
     "output_type": "stream",
     "text": [
      "x =  -2, p1(x) =   1, p2(x) =  -7\n",
      "x =  -1, p1(x) =  -2, p2(x) =  -2\n",
      "x =   0, p1(x) =  -1, p2(x) =   1\n",
      "x =   1, p1(x) =   4, p2(x) =   2\n"
     ]
    }
   ],
   "source": [
    "def polinomio(a, b, c):\n",
    "    def polSegundoGrado(x):\n",
    "        return a * x**2 + b * x + c\n",
    "    return polSegundoGrado\n",
    "\n",
    "p1 = polinomio(2, 3, -1) # 2x^2 + 3x - 1\n",
    "p2 = polinomio(-1, 2, 1) # -x^2 + 2x + 1\n",
    "\n",
    "for x in range(-2, 2, 1):\n",
    "    print('x = %3d, p1(x) = %3d, p2(x) = %3d' % (x, p1(x), p2(x)))"
   ]
  },
  {
   "cell_type": "markdown",
   "metadata": {},
   "source": [
    "## Ejemplo:\n",
    "\n",
    "Implementar una fábrica de polinomios de cualquier grado: \n",
    "\n",
    "$$\n",
    "\\sum\\limits_{k=0}^{n} a_k x^k = a_n x^n + a_{n-1} x^{n-1} + \\dots + a_1 x + a_0 \n",
    "$$"
   ]
  },
  {
   "cell_type": "code",
   "execution_count": 10,
   "metadata": {},
   "outputs": [
    {
     "name": "stdout",
     "output_type": "stream",
     "text": [
      "x =  -2, p1(x) =   5, p2(x) =  -6, p3(x) =  -1, p4(x) = -18\n",
      "x =  -1, p1(x) =   5, p2(x) =  -2, p3(x) =  -2, p4(x) =  -5\n",
      "x =   0, p1(x) =   5, p2(x) =   2, p3(x) =  -1, p4(x) =   0\n",
      "x =   1, p1(x) =   5, p2(x) =   6, p3(x) =   2, p4(x) =   3\n"
     ]
    }
   ],
   "source": [
    "def polinomioFactory(*coeficientes):\n",
    "    \"\"\" Los coeficientes están en la forma a_0, a_1, ... a_n\"\"\"\n",
    "    def polinomio(x):\n",
    "        res = 0\n",
    "        for i, coef in enumerate(coeficientes):\n",
    "            res += coef * x ** i\n",
    "        return res\n",
    "    return polinomio\n",
    "\n",
    "p1 = polinomioFactory(5)           # a_0 = 5\n",
    "p2 = polinomioFactory(2, 4)        # 4 x + 2\n",
    "p3 = polinomioFactory(-1, 2, 1)    # x^2 + 2x - 1\n",
    "p4 = polinomioFactory(0, 3, -1, 1) # x^3 - x^2 + 3x + 0\n",
    "\n",
    "for x in range(-2, 2, 1):\n",
    "    print('x = %3d, p1(x) = %3d, p2(x) = %3d, p3(x) = %3d, p4(x) = %3d' \n",
    "          % (x, p1(x), p2(x), p3(x), p4(x)))"
   ]
  },
  {
   "cell_type": "markdown",
   "metadata": {},
   "source": [
    "# Decoradores\n",
    "\n",
    "- Se denomina decorador a la persona dedicada a diseñar el interior de oficinas, viviendas o establecimientos comerciales con criterios estéticos y funcionales. <br>\n",
    "- Un decorador es un objeto de Python usado para modificar una función (o clase). <br>\n",
    "- Los decoradores son herramientas bonitas y útiles de Python. <br>\n",
    "\n",
    "## Ejemplo:\n",
    "\n",
    "Pornele una envoltura (*wrap*) para regalo a una función que imprime un texto."
   ]
  },
  {
   "cell_type": "code",
   "execution_count": 1,
   "metadata": {},
   "outputs": [
    {
     "name": "stdout",
     "output_type": "stream",
     "text": [
      "     Hola mundo     \n",
      "\u001b[34m.--------------------.\u001b[0m\n",
      "     Hola mundo     \n",
      "\u001b[32m.--------------------.\u001b[0m\n",
      "\u001b[34m.--------------------.\u001b[0m\n",
      "  Hola Pythonistas  \n",
      "\u001b[32m.--------------------.\u001b[0m\n"
     ]
    }
   ],
   "source": [
    "from termcolor import colored\n",
    "\n",
    "# Esta función contiene funciones anidadas, las cuales son las que \n",
    "# decoran a la función que se recibe como parámetro.\n",
    "def miDecorador(f):\n",
    "\n",
    "    # La función que hace el decorado.\n",
    "    def envoltura():\n",
    "        linea = '-' * 20\n",
    "        print(colored('.'+ linea + '.','blue'))\n",
    "        f()\n",
    "        print(colored('.'+ linea + '.','green'))\n",
    "    return envoltura\n",
    "\n",
    "# Una función cualquiera.\n",
    "def funcionX():\n",
    "    print('{:^20}'.format('Hola mundo'))\n",
    "\n",
    "# Ejecutando la función de manera normal.\n",
    "funcionX() \n",
    "\n",
    "# Decorando la función.\n",
    "funcionX = miDecorador(funcionX) # Funcion decorada\n",
    "\n",
    "# Ahora se ejecuta la función decorada.\n",
    "funcionX()\n",
    "\n",
    "# Otra manera de decorar una función.\n",
    "@miDecorador\n",
    "def funcionY():\n",
    "    print('{:^20}'.format('Hola Pythonistas'))\n",
    "\n",
    "# La ejecución después del decorado.\n",
    "funcionY()\n"
   ]
  },
  {
   "cell_type": "markdown",
   "metadata": {},
   "source": [
    "## Ejemplo:\n",
    "\n",
    "Calcular el seno y coseno de un número y *colorear* el resultado."
   ]
  },
  {
   "cell_type": "code",
   "execution_count": 13,
   "metadata": {},
   "outputs": [
    {
     "name": "stdout",
     "output_type": "stream",
     "text": [
      "\u001b[34m.---------------------------------------------------------------.\u001b[0m\n",
      "\u001b[34m| \u001b[0m\u001b[1m\u001b[31msin\u001b[0m(3.141596) = -3.3464102065883993e-06\n",
      "\u001b[32m.---------------------------------------------------------------.\u001b[0m\n",
      "\u001b[34m.-----------------------------------------------------------.\u001b[0m\n",
      "\u001b[34m| \u001b[0m\u001b[1m\u001b[31mcos\u001b[0m(3.141596) = -0.9999999999944008\n",
      "\u001b[32m.-----------------------------------------------------------.\u001b[0m\n"
     ]
    }
   ],
   "source": [
    "from termcolor import colored\n",
    "\n",
    "def miColoreador(f):\n",
    "\n",
    "    def coloreado(x):\n",
    "        res = colored('| ', 'blue') \n",
    "        res += colored(f.__name__, 'red', attrs=['bold']) \n",
    "        res += '(' + str(x) + ') = ' + str(f(x))\n",
    "        n = len(res)\n",
    "        linea = '-' * n\n",
    "        \n",
    "        print(colored('.'+ linea + '.','blue'))\n",
    "        print(res)\n",
    "        print(colored('.'+ linea + '.','green'))\n",
    "    return coloreado\n",
    "\n",
    "from math import sin, cos\n",
    "\n",
    "sin = miColoreador(sin)\n",
    "cos = miColoreador(cos)\n",
    "\n",
    "for f in [sin, cos]:\n",
    "    f(3.141596)\n"
   ]
  },
  {
   "cell_type": "markdown",
   "metadata": {},
   "source": [
    "## Ejemplo:\n",
    "\n",
    "Decorar funciones con un número variable de argumentos."
   ]
  },
  {
   "cell_type": "code",
   "execution_count": 3,
   "metadata": {},
   "outputs": [
    {
     "name": "stdout",
     "output_type": "stream",
     "text": [
      "\u001b[34m.----------.\u001b[0m\n",
      "\u001b[34m| \u001b[0m\u001b[1mrandom\u001b[0m(\u001b[1m\u001b[31m()\u001b[0m) =  0.865452809250475\n",
      "\u001b[32m.----------.\u001b[0m\n",
      "\u001b[34m.----------.\u001b[0m\n",
      "\u001b[34m| \u001b[0m\u001b[1mrandint\u001b[0m(\u001b[1m\u001b[31m(3, 8)\u001b[0m) =  8\n",
      "\u001b[32m.----------.\u001b[0m\n",
      "\u001b[34m.----------.\u001b[0m\n",
      "\u001b[34m| \u001b[0m\u001b[1mchoice\u001b[0m(\u001b[1m\u001b[31m([4, 5, 6],)\u001b[0m) =  5\n",
      "\u001b[32m.----------.\u001b[0m\n"
     ]
    }
   ],
   "source": [
    "from random import random, randint, choice\n",
    "\n",
    "def otroDecorador(f):\n",
    "    def envoltura(*args, **kwargs):\n",
    "        cadena = colored('| ', 'blue') \n",
    "        cadena += colored(f.__name__, attrs=['bold']) \n",
    "        cadena += '(' + colored(str(args),'red',attrs=['bold']) + ') = ' \n",
    "        linea = '-' * 10\n",
    "        print(colored('.'+ linea + '.','blue'))\n",
    "        res = f(*args, **kwargs)\n",
    "        print(cadena, res)\n",
    "        print(colored('.'+ linea + '.','green'))\n",
    "        \n",
    "    return envoltura\n",
    "\n",
    "random = otroDecorador(random)\n",
    "randint = otroDecorador(randint)\n",
    "choice = otroDecorador(choice)\n",
    "\n",
    "random()\n",
    "randint(3, 8)\n",
    "choice([4, 5, 6])"
   ]
  },
  {
   "cell_type": "markdown",
   "metadata": {},
   "source": [
    "## Ejemplo:\n",
    "\n",
    "Crear un decorador que calcule el tiempo de ejecución de una función."
   ]
  },
  {
   "cell_type": "code",
   "execution_count": 11,
   "metadata": {},
   "outputs": [
    {
     "name": "stdout",
     "output_type": "stream",
     "text": [
      "\n",
      "La suma es: 49995000\n",
      "Elapsed time: 0.0027043819427490234\n",
      "\n"
     ]
    }
   ],
   "source": [
    "import time\n",
    "\n",
    "def crono(f):\n",
    "    \"\"\"\n",
    "    Regresa el tiempo que toma en ejecutarse la funcion.\n",
    "    \"\"\"\n",
    "    def tiempo():\n",
    "        t1 = time.time()\n",
    "        f()\n",
    "        t2 = time.time()\n",
    "        return 'Elapsed time: ' + str((t2 - t1)) + \"\\n\"\n",
    "    return tiempo\n",
    "\n",
    "@crono\n",
    "def miFuncion():\n",
    "    numeros = []\n",
    "    for num in (range(0, 10000)):\n",
    "        numeros.append(num)\n",
    "    print('\\nLa suma es: ' + str((sum(numeros))))\n",
    "\n",
    "print(miFuncion())\n"
   ]
  },
  {
   "cell_type": "markdown",
   "metadata": {},
   "source": [
    "## Ejemplo:\n",
    "\n",
    "Detener la ejecución por un tiempo antes que una función sea ejecutada."
   ]
  },
  {
   "cell_type": "code",
   "execution_count": 12,
   "metadata": {},
   "outputs": [
    {
     "name": "stdout",
     "output_type": "stream",
     "text": [
      "222\n",
      "1\n",
      "2\n",
      "3\n",
      "4\n",
      "5\n",
      "happy finish!\n"
     ]
    }
   ],
   "source": [
    "from time import sleep\n",
    "\n",
    "def sleepDecorador(function):\n",
    "\n",
    "    def duerme(*args, **kwargs):\n",
    "        sleep(2)\n",
    "        return function(*args, **kwargs)\n",
    "    return duerme\n",
    "\n",
    "\n",
    "@sleepDecorador\n",
    "def imprimeNumero(num):\n",
    "    return num\n",
    "\n",
    "print(imprimeNumero(222))\n",
    "\n",
    "for num in range(1, 6):\n",
    "    print(imprimeNumero(num))\n",
    "\n",
    "print('happy finish!')"
   ]
  },
  {
   "cell_type": "markdown",
   "metadata": {},
   "source": [
    "## Ejemplo:\n",
    "\n",
    "Crear un decorador que cheque que el argumento de una función que calcula el factorial, sea un entero positivo."
   ]
  },
  {
   "cell_type": "code",
   "execution_count": 4,
   "metadata": {},
   "outputs": [
    {
     "name": "stdout",
     "output_type": "stream",
     "text": [
      "1 1\n",
      "2 2\n",
      "3 6\n",
      "4 24\n",
      "5 120\n",
      "6 720\n",
      "7 5040\n",
      "8 40320\n",
      "9 362880\n"
     ]
    },
    {
     "ename": "Exception",
     "evalue": "El argumento no es un entero positivo",
     "output_type": "error",
     "traceback": [
      "\u001b[0;31m---------------------------------------------------------------------------\u001b[0m",
      "\u001b[0;31mException\u001b[0m                                 Traceback (most recent call last)",
      "\u001b[0;32m<ipython-input-4-18f9e6de35fc>\u001b[0m in \u001b[0;36m<module>\u001b[0;34m()\u001b[0m\n\u001b[1;32m     17\u001b[0m     \u001b[0mprint\u001b[0m\u001b[0;34m(\u001b[0m\u001b[0mi\u001b[0m\u001b[0;34m,\u001b[0m \u001b[0mfactorial\u001b[0m\u001b[0;34m(\u001b[0m\u001b[0mi\u001b[0m\u001b[0;34m)\u001b[0m\u001b[0;34m)\u001b[0m\u001b[0;34m\u001b[0m\u001b[0m\n\u001b[1;32m     18\u001b[0m \u001b[0;34m\u001b[0m\u001b[0m\n\u001b[0;32m---> 19\u001b[0;31m \u001b[0mprint\u001b[0m\u001b[0;34m(\u001b[0m\u001b[0mfactorial\u001b[0m\u001b[0;34m(\u001b[0m\u001b[0;34m-\u001b[0m\u001b[0;36m1\u001b[0m\u001b[0;34m)\u001b[0m\u001b[0;34m)\u001b[0m\u001b[0;34m\u001b[0m\u001b[0m\n\u001b[0m",
      "\u001b[0;32m<ipython-input-4-18f9e6de35fc>\u001b[0m in \u001b[0;36mchecador\u001b[0;34m(x)\u001b[0m\n\u001b[1;32m      4\u001b[0m             \u001b[0;32mreturn\u001b[0m \u001b[0mf\u001b[0m\u001b[0;34m(\u001b[0m\u001b[0mx\u001b[0m\u001b[0;34m)\u001b[0m\u001b[0;34m\u001b[0m\u001b[0m\n\u001b[1;32m      5\u001b[0m         \u001b[0;32melse\u001b[0m\u001b[0;34m:\u001b[0m\u001b[0;34m\u001b[0m\u001b[0m\n\u001b[0;32m----> 6\u001b[0;31m             \u001b[0;32mraise\u001b[0m \u001b[0mException\u001b[0m\u001b[0;34m(\u001b[0m\u001b[0;34m\"El argumento no es un entero positivo\"\u001b[0m\u001b[0;34m)\u001b[0m\u001b[0;34m\u001b[0m\u001b[0m\n\u001b[0m\u001b[1;32m      7\u001b[0m     \u001b[0;32mreturn\u001b[0m \u001b[0mchecador\u001b[0m\u001b[0;34m\u001b[0m\u001b[0m\n\u001b[1;32m      8\u001b[0m \u001b[0;34m\u001b[0m\u001b[0m\n",
      "\u001b[0;31mException\u001b[0m: El argumento no es un entero positivo"
     ]
    }
   ],
   "source": [
    "def checaArgumento(f):\n",
    "    def checador(x):\n",
    "        if type(x) == int and x > 0:\n",
    "            return f(x)\n",
    "        else:\n",
    "            raise Exception(\"El argumento no es un entero positivo\")\n",
    "    return checador\n",
    "\n",
    "@checaArgumento\n",
    "def factorial(n):\n",
    "    if n == 1:\n",
    "        return 1\n",
    "    else:\n",
    "        return n * factorial(n-1)\n",
    "    \n",
    "for i in range(1,10):\n",
    "    print(i, factorial(i))\n",
    "    \n",
    "print(factorial(-1))"
   ]
  },
  {
   "cell_type": "markdown",
   "metadata": {},
   "source": [
    "## Ejemplo.\n",
    "\n",
    "Contar el número de llamadas de una función"
   ]
  },
  {
   "cell_type": "code",
   "execution_count": 5,
   "metadata": {},
   "outputs": [
    {
     "name": "stdout",
     "output_type": "stream",
     "text": [
      "0\n",
      "4\n",
      "3\n"
     ]
    }
   ],
   "source": [
    "def contadorDeLlamadas(func):\n",
    "    def cuenta(*args, **kwargs):\n",
    "        cuenta.calls += 1\n",
    "        return func(*args, **kwargs)\n",
    "    cuenta.calls = 0\n",
    "    return cuenta\n",
    "\n",
    "@contadorDeLlamadas\n",
    "def suc(x):\n",
    "    return x + 1\n",
    "\n",
    "@contadorDeLlamadas\n",
    "def mulp1(x, y=1):\n",
    "    return x*y + 1\n",
    "\n",
    "print(suc.calls)\n",
    "\n",
    "for i in range(4):\n",
    "    suc(i)\n",
    "    \n",
    "mulp1(1, 2)\n",
    "mulp1(5)\n",
    "mulp1(y=2, x=25)\n",
    "\n",
    "print(suc.calls)\n",
    "print(mulp1.calls)"
   ]
  },
  {
   "cell_type": "markdown",
   "metadata": {},
   "source": [
    "## Ejemplo:\n",
    "\n",
    "Decorar una función con diferentes saludos."
   ]
  },
  {
   "cell_type": "code",
   "execution_count": null,
   "metadata": {
    "collapsed": true
   },
   "outputs": [],
   "source": [
    "def buenasTardes(func):\n",
    "    def saludo(x):\n",
    "        print(\"Hola, buenas tardes, \", end='')\n",
    "        func(x)\n",
    "    return saludo\n",
    "\n",
    "def buenosDias(func):\n",
    "    def saludo(x):\n",
    "        print(\"Hola, buenos días, \", end='')\n",
    "        func(x)\n",
    "    return saludo\n",
    "\n",
    "@buenasTardes\n",
    "def mensaje1(hora):\n",
    "    print(\"son las \" + hora)\n",
    "\n",
    "mensaje1(\"3 pm\")\n",
    "\n",
    "@buenosDias\n",
    "def mensaje2(hora):\n",
    "    print(\"son las \" + hora)\n",
    "    \n",
    "mensaje2(\"8 am\")"
   ]
  },
  {
   "cell_type": "markdown",
   "metadata": {},
   "source": [
    "## Ejemplo: decorador con parámetros\n",
    "\n",
    "El ejemplo anterior se puede realizar como sigue:"
   ]
  },
  {
   "cell_type": "code",
   "execution_count": null,
   "metadata": {
    "collapsed": true
   },
   "outputs": [],
   "source": [
    "def saludo(expr):\n",
    "    def saludoDecorador(func):\n",
    "        def saludoGenerico(x):\n",
    "            print(expr, end='')\n",
    "            func(x)\n",
    "        return saludoGenerico\n",
    "    return saludoDecorador\n",
    "\n",
    "@saludo(\"Hola, buenas tardes, \")\n",
    "def mensaje1(hora):\n",
    "    print(\"son las \" + hora)\n",
    "\n",
    "mensaje1(\"3 pm\")\n",
    "\n",
    "@saludo(\"Hola, buenos días, \")\n",
    "def mensaje2(hora):\n",
    "    print(\"son las \" + hora)\n",
    "    \n",
    "mensaje2(\"8 am\")\n",
    "\n",
    "@saludo(\"καλημερα \")\n",
    "def mensaje3(hora):\n",
    "    print(\" <--- en griego \" + hora)\n",
    "    \n",
    "mensaje3(\" :D \")"
   ]
  }
 ],
 "metadata": {
  "kernelspec": {
   "display_name": "Python 3",
   "language": "python",
   "name": "python3"
  },
  "language_info": {
   "codemirror_mode": {
    "name": "ipython",
    "version": 3
   },
   "file_extension": ".py",
   "mimetype": "text/x-python",
   "name": "python",
   "nbconvert_exporter": "python",
   "pygments_lexer": "ipython3",
   "version": "3.6.3"
  }
 },
 "nbformat": 4,
 "nbformat_minor": 2
}
