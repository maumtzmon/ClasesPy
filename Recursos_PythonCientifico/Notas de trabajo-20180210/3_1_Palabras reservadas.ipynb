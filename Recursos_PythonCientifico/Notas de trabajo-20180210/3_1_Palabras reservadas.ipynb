{
 "cells": [
  {
   "cell_type": "markdown",
   "metadata": {},
   "source": [
    "# 3.1. Palabras reservadas"
   ]
  },
  {
   "cell_type": "markdown",
   "metadata": {},
   "source": [
    "# Etiquetas\n",
    "\n",
    "Son símbolos que permiten almacenar o reasignar información en la computadora.\n",
    "\n",
    "Se crean con ayuda del operador de asignación (**=**) y a diferencia de otros lenguajes en python no se tiene que establecer explicitamente el tipo de dato a almacenar.\n",
    "\n",
    "\n",
    "## Sintaxis\n",
    "\n",
    "Hay reglas especificas para escribir una etiqueta, estas son:\n",
    "\n",
    "        1. Usar combinaciones de números, caracteres alfabeticos y guion bajo.\n",
    "        2. No pueden iniciar con número.\n",
    "        3. No pueden ser palabras reservadas.\n"
   ]
  },
  {
   "cell_type": "code",
   "execution_count": 1,
   "metadata": {},
   "outputs": [
    {
     "name": "stdout",
     "output_type": "stream",
     "text": [
      "3.75\n"
     ]
    }
   ],
   "source": [
    "# Definición de etiquetas en python\n",
    "densidad = 3.75        # Definición de una etiqueta por asignación\n",
    "print(densidad)\n",
    "densidad = \"densidad\"  # El contenido de las etiquetas puede alterarse"
   ]
  },
  {
   "cell_type": "code",
   "execution_count": 2,
   "metadata": {},
   "outputs": [
    {
     "name": "stdout",
     "output_type": "stream",
     "text": [
      "Normal\n"
     ]
    }
   ],
   "source": [
    "_falla = \"Normal\"    # Pueden comenzar con guion bajo\n",
    "print(_falla)"
   ]
  },
  {
   "cell_type": "code",
   "execution_count": 11,
   "metadata": {},
   "outputs": [
    {
     "name": "stdout",
     "output_type": "stream",
     "text": [
      "0.3\n"
     ]
    }
   ],
   "source": [
    "porosidad1 = 0.3    # Pueden contener numeros\n",
    "print(porosidad1)"
   ]
  },
  {
   "cell_type": "code",
   "execution_count": 6,
   "metadata": {},
   "outputs": [
    {
     "name": "stdout",
     "output_type": "stream",
     "text": [
      "32\n"
     ]
    }
   ],
   "source": [
    "Ħ = 32             # Pueden ser caracteres unicode\n",
    "print(Ħ)"
   ]
  },
  {
   "cell_type": "code",
   "execution_count": 13,
   "metadata": {},
   "outputs": [
    {
     "ename": "SyntaxError",
     "evalue": "invalid syntax (<ipython-input-13-97b185426197>, line 1)",
     "output_type": "error",
     "traceback": [
      "\u001b[0;36m  File \u001b[0;32m\"<ipython-input-13-97b185426197>\"\u001b[0;36m, line \u001b[0;32m1\u001b[0m\n\u001b[0;31m    3error = 323       # No pueden iniciar con un número\u001b[0m\n\u001b[0m         ^\u001b[0m\n\u001b[0;31mSyntaxError\u001b[0m\u001b[0;31m:\u001b[0m invalid syntax\n"
     ]
    }
   ],
   "source": [
    "3error = 323       # No pueden iniciar con un número"
   ]
  },
  {
   "cell_type": "code",
   "execution_count": 16,
   "metadata": {},
   "outputs": [
    {
     "ename": "SyntaxError",
     "evalue": "invalid syntax (<ipython-input-16-0292a3554616>, line 1)",
     "output_type": "error",
     "traceback": [
      "\u001b[0;36m  File \u001b[0;32m\"<ipython-input-16-0292a3554616>\"\u001b[0;36m, line \u001b[0;32m1\u001b[0m\n\u001b[0;31m    valor$ = 32       # No pueden contener simbolos especiales\u001b[0m\n\u001b[0m         ^\u001b[0m\n\u001b[0;31mSyntaxError\u001b[0m\u001b[0;31m:\u001b[0m invalid syntax\n"
     ]
    }
   ],
   "source": [
    "valor$ = 32       # No pueden contener simbolos especiales"
   ]
  },
  {
   "cell_type": "markdown",
   "metadata": {},
   "source": [
    "### Buenas practicas. Los nombres de las etiquetas deben ser significativos para el programador."
   ]
  },
  {
   "cell_type": "markdown",
   "metadata": {},
   "source": [
    "## Sensibilidad a minusculas y mayusculas\n",
    "\n",
    "Se distinguen las letras minusculas y mayusculas entre si."
   ]
  },
  {
   "cell_type": "code",
   "execution_count": 3,
   "metadata": {
    "collapsed": true
   },
   "outputs": [],
   "source": [
    "# El lenguaje es sensitivo a las minusculas y mayusculas\n",
    "porosidad = 0.2\n",
    "POROSIDAD = 0.3\n",
    "porosidaD = 0.4\n",
    "# En todos estos casos las variables son diferentes"
   ]
  },
  {
   "cell_type": "markdown",
   "metadata": {},
   "source": [
    "## Asiganción multiple\n",
    "\n",
    "Es posible, asignar etiquetas, usando el operador de asignación en una unica ocasión: "
   ]
  },
  {
   "cell_type": "code",
   "execution_count": 1,
   "metadata": {},
   "outputs": [
    {
     "name": "stdout",
     "output_type": "stream",
     "text": [
      "1\n",
      "1\n",
      "1\n"
     ]
    }
   ],
   "source": [
    "x = y = z = 1 # Se asigna a todas las etiquetas el valor de uno\n",
    "print(x)\n",
    "print(y)\n",
    "print(z)"
   ]
  },
  {
   "cell_type": "code",
   "execution_count": 2,
   "metadata": {},
   "outputs": [
    {
     "name": "stdout",
     "output_type": "stream",
     "text": [
      "normal\n",
      "inversa\n",
      "basalto\n"
     ]
    }
   ],
   "source": [
    "falla1,falla2,roca = 'normal','inversa','basalto'\n",
    "print(falla1)\n",
    "print(falla2)\n",
    "print(roca)"
   ]
  },
  {
   "cell_type": "markdown",
   "metadata": {},
   "source": [
    "# Palabras reservadas\n",
    "\n",
    "Son palabras que tienen un significado especial para el interprete de Python. "
   ]
  },
  {
   "cell_type": "code",
   "execution_count": 20,
   "metadata": {},
   "outputs": [
    {
     "name": "stdout",
     "output_type": "stream",
     "text": [
      "\n",
      "Here is a list of the Python keywords.  Enter any keyword to get more help.\n",
      "\n",
      "False               def                 if                  raise\n",
      "None                del                 import              return\n",
      "True                elif                in                  try\n",
      "and                 else                is                  while\n",
      "as                  except              lambda              with\n",
      "assert              finally             nonlocal            yield\n",
      "break               for                 not                 \n",
      "class               from                or                  \n",
      "continue            global              pass                \n",
      "\n"
     ]
    }
   ],
   "source": [
    "help(\"keywords\")  # Lista de palabras reservadas"
   ]
  },
  {
   "cell_type": "code",
   "execution_count": 5,
   "metadata": {},
   "outputs": [
    {
     "ename": "SyntaxError",
     "evalue": "invalid syntax (<ipython-input-5-a49a47cf2263>, line 1)",
     "output_type": "error",
     "traceback": [
      "\u001b[0;36m  File \u001b[0;32m\"<ipython-input-5-a49a47cf2263>\"\u001b[0;36m, line \u001b[0;32m1\u001b[0m\n\u001b[0;31m    if = 53   # Una palabra reservada no puede ser usada como etiquetas\u001b[0m\n\u001b[0m       ^\u001b[0m\n\u001b[0;31mSyntaxError\u001b[0m\u001b[0;31m:\u001b[0m invalid syntax\n"
     ]
    }
   ],
   "source": [
    "if = 53   # Una palabra reservada no puede ser usada como etiquetas"
   ]
  },
  {
   "cell_type": "markdown",
   "metadata": {
    "collapsed": true
   },
   "source": [
    "## Ejericicio. Determinar cuales de las siguientes palabras NO pueden ser usadas como etiquetas.\n",
    "\n",
    "* estrato\n",
    "* 3strato\n",
    "* e$strato\n",
    "* estra to\n",
    "* del "
   ]
  },
  {
   "cell_type": "code",
   "execution_count": null,
   "metadata": {
    "collapsed": true
   },
   "outputs": [],
   "source": []
  }
 ],
 "metadata": {
  "kernelspec": {
   "display_name": "Python 3",
   "language": "python",
   "name": "python3"
  },
  "language_info": {
   "codemirror_mode": {
    "name": "ipython",
    "version": 3
   },
   "file_extension": ".py",
   "mimetype": "text/x-python",
   "name": "python",
   "nbconvert_exporter": "python",
   "pygments_lexer": "ipython3",
   "version": "3.6.2"
  }
 },
 "nbformat": 4,
 "nbformat_minor": 2
}
