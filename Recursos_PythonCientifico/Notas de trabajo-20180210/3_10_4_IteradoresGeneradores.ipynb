{
 "cells": [
  {
   "cell_type": "markdown",
   "metadata": {},
   "source": [
    "#### [Python Ver.: 3.6.x] | [Autor: Luis Miguel de la Cruz Salas]\n",
    "\n",
    "# iterables (*iterable*) e iteradores (*iterator*)\n",
    "\n",
    "## Descripción.\n",
    "\n",
    "- La mayoría de los objetos contenedores se pueden recorrer usando un ciclo <font color=#009500>**for ... in ...**</font> . <br>\n",
    "\n",
    "- Estos contenedores se conocen como iterables (objetos iterables, secuencias iterables, contenedores iterables, conjunto iterable, ...).\n",
    "\n",
    "## Por ejemplo:"
   ]
  },
  {
   "cell_type": "code",
   "execution_count": 1,
   "metadata": {},
   "outputs": [
    {
     "name": "stdout",
     "output_type": "stream",
     "text": [
      "\n",
      "String Iteration: 1 2 3 4 5 \n",
      "List Iteration: 1 2 3 4 5 \n",
      "Tuple Iteration: 1 2 3 4 5 \n",
      "Dictionary Iteration: uno dos tres cuatro cinco \n",
      "File Iteration: \n",
      "1\n",
      "2\n",
      "3\n"
     ]
    }
   ],
   "source": [
    "mi_cadena = \"12345\"\n",
    "mi_lista = [1,2,3,4,5]\n",
    "mi_tupla = (1,2,3,4,5)\n",
    "mi_dict = {'uno':1, 'dos':2, 'tres':3, 'cuatro':4, 'cinco':5}\n",
    "mi_archivo = open(\"mi_archivo.txt\")\n",
    "\n",
    "# Iterating over a String\n",
    "print(\"\\nString Iteration: \", end='')\n",
    "for char in mi_cadena:\n",
    "    print(char, end=' ')\n",
    "\n",
    "# Iterating over a list\n",
    "print('\\nList Iteration: ', end='')\n",
    "for element in mi_lista:\n",
    "    print(element, end=' ')\n",
    "\n",
    "# Iterating over a tuple (immutable)\n",
    "print(\"\\nTuple Iteration: \", end='')\n",
    "for element in mi_tupla:\n",
    "    print(element, end=' ')\n",
    "\n",
    "# Iterating over dictionary\n",
    "print(\"\\nDictionary Iteration: \", end='') \n",
    "for key in mi_dict:\n",
    "    print(key, end=' ')\n",
    "\n",
    "# Iterating over file\n",
    "print(\"\\nFile Iteration: \") \n",
    "for line in mi_archivo:\n",
    "    print(line, end = '')"
   ]
  },
  {
   "cell_type": "markdown",
   "metadata": {},
   "source": [
    "## Datos importantes\n",
    "- Este es un estilo claro y conveniente que impregna el universo de Python. \n",
    "- La instrucción <font color=#009500>**for**</font> llama a la función <font color=#009500>**iter()**</font> que está definida dentro del objeto **contenedor**.\n",
    "- La función <font color=#009500>**iter()**</font> regresa como resultado un objeto **iterador** que define el método <font color=#009500>**\\_\\_next\\_\\_()**</font> el cual puede acceder a los elementos del objeto contenedor, uno a la vez.\n",
    "- Cuando no hay más elementos, <font color=#009500>**\\_\\_next\\_\\_()**</font> lanza una excepción de tipo <font color=#950000>**StopIteration**</font> que le dice al ciclo <font color=#009500>**for**</font> que debe terminar.\n",
    "- Se puede ejecutar al método <font color=#009500>**\\_\\_next\\_\\_()**</font> usando la función de biblioteca <font color=#009500>**next()**</font>.\n",
    "\n",
    "\n",
    "## Por ejemplo:"
   ]
  },
  {
   "cell_type": "code",
   "execution_count": 2,
   "metadata": {},
   "outputs": [
    {
     "data": {
      "text/plain": [
       "'z'"
      ]
     },
     "execution_count": 2,
     "metadata": {},
     "output_type": "execute_result"
    }
   ],
   "source": [
    "contenedor = 'xyz'\n",
    "iterador = iter(contenedor)\n",
    "next(iterador)\n",
    "next(iterador)\n",
    "next(iterador)"
   ]
  },
  {
   "cell_type": "code",
   "execution_count": 3,
   "metadata": {},
   "outputs": [
    {
     "ename": "StopIteration",
     "evalue": "",
     "output_type": "error",
     "traceback": [
      "\u001b[0;31m---------------------------------------------------------------------------\u001b[0m",
      "\u001b[0;31mStopIteration\u001b[0m                             Traceback (most recent call last)",
      "\u001b[0;32m<ipython-input-3-ae67a9e76e22>\u001b[0m in \u001b[0;36m<module>\u001b[0;34m()\u001b[0m\n\u001b[0;32m----> 1\u001b[0;31m \u001b[0mnext\u001b[0m\u001b[0;34m(\u001b[0m\u001b[0miterador\u001b[0m\u001b[0;34m)\u001b[0m\u001b[0;34m\u001b[0m\u001b[0m\n\u001b[0m",
      "\u001b[0;31mStopIteration\u001b[0m: "
     ]
    }
   ],
   "source": [
    "next(iterador)"
   ]
  },
  {
   "cell_type": "markdown",
   "metadata": {},
   "source": [
    "## Iterable con *list comprehension*  :"
   ]
  },
  {
   "cell_type": "code",
   "execution_count": 4,
   "metadata": {},
   "outputs": [
    {
     "name": "stdout",
     "output_type": "stream",
     "text": [
      "0 1 4 "
     ]
    },
    {
     "data": {
      "text/plain": [
       "list"
      ]
     },
     "execution_count": 4,
     "metadata": {},
     "output_type": "execute_result"
    }
   ],
   "source": [
    "Icuadrados = [x*x for x in range(3)]\n",
    "\n",
    "for i in Icuadrados:\n",
    "    print(i, end=' ')\n",
    "    \n",
    "type(Icuadrados)"
   ]
  },
  {
   "cell_type": "code",
   "execution_count": 5,
   "metadata": {},
   "outputs": [
    {
     "name": "stdout",
     "output_type": "stream",
     "text": [
      "0 1 4 "
     ]
    }
   ],
   "source": [
    "for i in Icuadrados:\n",
    "    print(i, end=' ')"
   ]
  },
  {
   "cell_type": "markdown",
   "metadata": {},
   "source": [
    "Estos iterables son manejables y prácticos debido a que se pueden leer tanto como se desee, pero se almacenan todos los valores en memoria y esto no siempre es coveniente, sobre todo cuando se tienen muchos valores.\n"
   ]
  },
  {
   "cell_type": "markdown",
   "metadata": {},
   "source": [
    "# Generadores\n",
    "\n",
    "## Descripción.\n",
    "\n",
    "- Los objetos **generadores** son iteradores. <br>\n",
    "\n",
    "- Pero solo se puede iterar sobre ellos una vez. Esto es porque los generadores no almacenan todos los valores en memoria, ellos generan los valores al vuelo.\n",
    "\n",
    "## Por ejemplo:"
   ]
  },
  {
   "cell_type": "code",
   "execution_count": 6,
   "metadata": {},
   "outputs": [
    {
     "name": "stdout",
     "output_type": "stream",
     "text": [
      "0 1 4 "
     ]
    },
    {
     "data": {
      "text/plain": [
       "generator"
      ]
     },
     "execution_count": 6,
     "metadata": {},
     "output_type": "execute_result"
    }
   ],
   "source": [
    "cuadradosG = (x*x for x in range(3))\n",
    "\n",
    "for i in cuadradosG:\n",
    "    print(i, end=' ')\n",
    "\n",
    "type(cuadradosG)"
   ]
  },
  {
   "cell_type": "code",
   "execution_count": 7,
   "metadata": {},
   "outputs": [],
   "source": [
    "for i in cuadradosG:    # Este ciclo no imprimirá nada por que\n",
    "    print(i, end=' ')   # el generador ya se usó antes"
   ]
  },
  {
   "cell_type": "markdown",
   "metadata": {},
   "source": [
    "Un generador solo se puede usar una vez, pues va calculando sus valores uno por uno e inmediatamente los va olvidando. En el ejemplo anterior tenemos:\n",
    "\n",
    "- genera el 0, es usado y lo olvida\n",
    "- genera el 1, es usado y lo olvida\n",
    "- genera el 4, es usado y lo olvida "
   ]
  },
  {
   "cell_type": "markdown",
   "metadata": {},
   "source": [
    "# Yield\n",
    "\n",
    "## Descripción.\n",
    "\n",
    "- Es una palabra clave que suspende la ejecución de una función y envía un valor de regreso a quien la ejecuta, pero retiene la información suficiente para reactivar la ejecución de la función donde se quedó. <br>\n",
    "\n",
    "- Esto permite al código producir una serie de valores uno por uno, en vez de calcularlos y regresarlos todos.\n",
    "\n",
    "## Por ejemplo:"
   ]
  },
  {
   "cell_type": "code",
   "execution_count": 8,
   "metadata": {},
   "outputs": [
    {
     "name": "stdout",
     "output_type": "stream",
     "text": [
      "1\n",
      "2\n",
      "3\n"
     ]
    }
   ],
   "source": [
    "def generadorSimple():\n",
    "    yield 1\n",
    "    yield 2\n",
    "    yield 3\n",
    "    \n",
    "for valor in generadorSimple(): \n",
    "    print(valor)"
   ]
  },
  {
   "cell_type": "markdown",
   "metadata": {},
   "source": [
    "\n",
    "- <font color=#009900>**yield**</font> es usada como un <font color=#009900>**return**</font>, excepto que la función regresa un objeto **generador**.\n",
    "- Las funciones generadoras regresan un objeto generator.\n",
    "- Los objetos generadores pueden ser usados en:\n",
    "    - un <font color=#009900>**for ... in ...**</font>\n",
    "    - ejecutando la función <font color=#009900>**\\_\\_next\\_\\_( )**</font<> del generador.\n"
   ]
  },
  {
   "cell_type": "code",
   "execution_count": 9,
   "metadata": {},
   "outputs": [
    {
     "name": "stdout",
     "output_type": "stream",
     "text": [
      "1\n",
      "2\n",
      "3\n"
     ]
    }
   ],
   "source": [
    "x = generadorSimple()\n",
    "print(x.__next__())\n",
    "print(x.__next__())\n",
    "print(x.__next__())"
   ]
  },
  {
   "cell_type": "code",
   "execution_count": 10,
   "metadata": {},
   "outputs": [
    {
     "ename": "StopIteration",
     "evalue": "",
     "output_type": "error",
     "traceback": [
      "\u001b[0;31m---------------------------------------------------------------------------\u001b[0m",
      "\u001b[0;31mStopIteration\u001b[0m                             Traceback (most recent call last)",
      "\u001b[0;32m<ipython-input-10-9da221031dba>\u001b[0m in \u001b[0;36m<module>\u001b[0;34m()\u001b[0m\n\u001b[0;32m----> 1\u001b[0;31m \u001b[0mprint\u001b[0m\u001b[0;34m(\u001b[0m\u001b[0mx\u001b[0m\u001b[0;34m.\u001b[0m\u001b[0m__next__\u001b[0m\u001b[0;34m(\u001b[0m\u001b[0;34m)\u001b[0m\u001b[0;34m)\u001b[0m\u001b[0;34m\u001b[0m\u001b[0m\n\u001b[0m",
      "\u001b[0;31mStopIteration\u001b[0m: "
     ]
    }
   ],
   "source": [
    "print(x.__next__())"
   ]
  },
  {
   "cell_type": "markdown",
   "metadata": {},
   "source": [
    "- Entonces, una función generadora regresa un objeto **generador** que es iterable, es decir, se puede usar como un **iterador**."
   ]
  },
  {
   "cell_type": "code",
   "execution_count": 11,
   "metadata": {},
   "outputs": [
    {
     "name": "stdout",
     "output_type": "stream",
     "text": [
      "<generator object construyeUnGenerador at 0x1074a60a0>\n",
      "0\n",
      "1\n",
      "4\n"
     ]
    }
   ],
   "source": [
    "def construyeUnGenerador():\n",
    "    for i in range(3):       # Equivalente a: yield 0*0\n",
    "        yield i*i            #                yield 1*1\n",
    "                             #                yield 3*3\n",
    "cuadradosY = construyeUnGenerador() \n",
    "print(cuadradosY)\n",
    "\n",
    "for i in cuadradosY:\n",
    "    print(i)"
   ]
  },
  {
   "cell_type": "markdown",
   "metadata": {},
   "source": [
    "- Se recomienda usar <font color=#009900>**yield**</font> cuando se desea iterar sobre una secuencia, pero no se quiere almacenar toda la secuencia en memoria. \n",
    "- Si el cuerpo de la función contiene una instrucción <font color=#009900>**yield**</font>, la función automáticamente se convierte en una función generadora."
   ]
  },
  {
   "cell_type": "markdown",
   "metadata": {},
   "source": [
    "## Ejemplo:\n",
    "Crear un programa que genere los cuadrados del 1 al $\\infty$ usando <font color=#009900>**yield**</font>."
   ]
  },
  {
   "cell_type": "code",
   "execution_count": 12,
   "metadata": {},
   "outputs": [
    {
     "name": "stdout",
     "output_type": "stream",
     "text": [
      "1\n",
      "4\n",
      "9\n",
      "16\n",
      "25\n",
      "36\n",
      "49\n",
      "64\n",
      "81\n",
      "100\n"
     ]
    }
   ],
   "source": [
    "# Función generadora infinita que genera el cuadrado de un número\n",
    "def cuadradoSiguiente():\n",
    "    i = 1; \n",
    "    while True:\n",
    "        yield i*i                \n",
    "        i += 1  # La siguiente ejecución se \n",
    "                # reactiva en este punto   \n",
    "\n",
    "for numero in cuadradoSiguiente():\n",
    "    if numero > 100:\n",
    "         break   \n",
    "    print(numero)"
   ]
  },
  {
   "cell_type": "markdown",
   "metadata": {},
   "source": [
    "## Ejemplo:\n",
    "Crear un generador de los números de Fibonacci."
   ]
  },
  {
   "cell_type": "code",
   "execution_count": 13,
   "metadata": {},
   "outputs": [
    {
     "name": "stdout",
     "output_type": "stream",
     "text": [
      "\n",
      "Usando la función __next()__\n",
      "0\n",
      "1\n",
      "1\n",
      "2\n",
      "3\n",
      "\n",
      "Usando un ciclo for ... in ...\n",
      "0\n",
      "1\n",
      "1\n",
      "2\n",
      "3\n"
     ]
    }
   ],
   "source": [
    "def fib(limite):\n",
    "    a, b = 0, 1\n",
    " \n",
    "    while a < limite:\n",
    "        yield a\n",
    "        a, b = b, a + b\n",
    " \n",
    "x = fib(5)\n",
    "\n",
    "print(\"\\nUsando la función __next()__\")\n",
    "print(x.__next__()); \n",
    "print(x.__next__());\n",
    "print(x.__next__());\n",
    "print(x.__next__());\n",
    "print(x.__next__());\n",
    "\n",
    "print(\"\\nUsando un ciclo for ... in ...\")\n",
    "for i in fib(5): \n",
    "    print(i)"
   ]
  },
  {
   "cell_type": "markdown",
   "metadata": {},
   "source": [
    "## Ejercicio.\n",
    "Crear una función generadora para procesar un archivo muy grande."
   ]
  },
  {
   "cell_type": "code",
   "execution_count": null,
   "metadata": {
    "collapsed": true
   },
   "outputs": [],
   "source": []
  }
 ],
 "metadata": {
  "kernelspec": {
   "display_name": "Python 3",
   "language": "python",
   "name": "python3"
  },
  "language_info": {
   "codemirror_mode": {
    "name": "ipython",
    "version": 3
   },
   "file_extension": ".py",
   "mimetype": "text/x-python",
   "name": "python",
   "nbconvert_exporter": "python",
   "pygments_lexer": "ipython3",
   "version": "3.6.1"
  }
 },
 "nbformat": 4,
 "nbformat_minor": 2
}
