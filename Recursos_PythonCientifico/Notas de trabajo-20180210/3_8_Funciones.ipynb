{
 "cells": [
  {
   "cell_type": "markdown",
   "metadata": {},
   "source": [
    "# Funciones \n",
    "\n",
    "\n",
    "Por defecto python, nos ofrece varias funciones previamente construidas para utilizarlas, estas son:\n",
    "\n",
    "https://docs.python.org/3/library/functions.html\n",
    "\n",
    "\n",
    "\n",
    "Son herramientas básicas para minimizar la redundancia y maximizar la reutilización de código.\n",
    "En otras palabras una función es un agrupador de código que puede ser ejecutado en más de una ocasión sin tener que repetirlo cada vez que se requiera.\n",
    "\n",
    "Para utilizarlas se deben considerar dos pasos distintos, estos son:\n",
    "\n",
    "1. Definición.\n",
    "2. Llamada o evaluación.\n",
    "\n"
   ]
  },
  {
   "cell_type": "markdown",
   "metadata": {},
   "source": [
    "## Definición\n",
    "\n",
    "Consiste en agrupar un conjunto de instrucciones.\n"
   ]
  },
  {
   "cell_type": "raw",
   "metadata": {},
   "source": [
    "Sintaxis\n",
    "def <nombre_funcion>(parm1,parm2,...,parmn):\n",
    "    <bloque de codigo>\n",
    "    return <variable>"
   ]
  },
  {
   "cell_type": "code",
   "execution_count": 86,
   "metadata": {
    "collapsed": true
   },
   "outputs": [],
   "source": [
    "# Definir una función que calcule el área de un triangulo, aquí se llaman parametros\n",
    "def areaTriangulo(base,altura):\n",
    "    return (base*altura)/2.0;"
   ]
  },
  {
   "cell_type": "markdown",
   "metadata": {},
   "source": [
    "## Evaluación\n",
    "\n",
    "\n",
    "Una vez declarada, puede utilizarse una función fácilmente indicando el nombre y poniendo entre paréntesis los argumentos, así pues para llamar a la función areaTriangulo, lo cual puede hacerse de distintas maneras:\n"
   ]
  },
  {
   "cell_type": "code",
   "execution_count": 84,
   "metadata": {},
   "outputs": [
    {
     "data": {
      "text/plain": [
       "15.0"
      ]
     },
     "execution_count": 84,
     "metadata": {},
     "output_type": "execute_result"
    }
   ],
   "source": [
    "areaTriangulo(10,3) # Devuelve 15, aqui se llaman argumentos."
   ]
  },
  {
   "cell_type": "code",
   "execution_count": 85,
   "metadata": {},
   "outputs": [
    {
     "data": {
      "text/plain": [
       "15.0"
      ]
     },
     "execution_count": 85,
     "metadata": {},
     "output_type": "execute_result"
    }
   ],
   "source": [
    "areaTriangulo(altura = 3, base = 10) # Devuelve 15"
   ]
  },
  {
   "cell_type": "markdown",
   "metadata": {},
   "source": [
    "###  pass\n",
    "  Es usada para, evitar un error al momento de la declaración de una función vacía."
   ]
  },
  {
   "cell_type": "code",
   "execution_count": 1,
   "metadata": {
    "collapsed": true
   },
   "outputs": [],
   "source": [
    "def nueva():\n",
    "    pass"
   ]
  },
  {
   "cell_type": "code",
   "execution_count": 2,
   "metadata": {
    "collapsed": true
   },
   "outputs": [],
   "source": [
    "nueva()"
   ]
  },
  {
   "cell_type": "markdown",
   "metadata": {},
   "source": [
    "## Ambitos \n",
    "\n",
    "Las variables dentro de una función crean su propio espacio de nombres."
   ]
  },
  {
   "cell_type": "code",
   "execution_count": 78,
   "metadata": {
    "collapsed": true
   },
   "outputs": [],
   "source": [
    "a = 20\n",
    "def f1(x):\n",
    "    a = 21 #Esta es una nueva variable local\n",
    "    return a*x - 2.0"
   ]
  },
  {
   "cell_type": "code",
   "execution_count": 79,
   "metadata": {},
   "outputs": [
    {
     "name": "stdout",
     "output_type": "stream",
     "text": [
      "418.0\n",
      "20\n"
     ]
    }
   ],
   "source": [
    "print(f1(a))\n",
    "print (a) "
   ]
  },
  {
   "cell_type": "code",
   "execution_count": 80,
   "metadata": {
    "collapsed": true
   },
   "outputs": [],
   "source": [
    "a = 20; b = -2.0\n",
    "def f2(x):\n",
    "    global a \n",
    "    a = 21\n",
    "    return a*x - 2.0"
   ]
  },
  {
   "cell_type": "code",
   "execution_count": 81,
   "metadata": {},
   "outputs": [
    {
     "name": "stdout",
     "output_type": "stream",
     "text": [
      "418.0\n",
      "21\n"
     ]
    }
   ],
   "source": [
    "print(f2(a))\n",
    "print (a) "
   ]
  },
  {
   "cell_type": "markdown",
   "metadata": {},
   "source": [
    "## Multiples valores de retorno\n"
   ]
  },
  {
   "cell_type": "code",
   "execution_count": 11,
   "metadata": {
    "collapsed": true
   },
   "outputs": [],
   "source": [
    "def Funcion_y(t,v0): \n",
    "    g = 9.81\n",
    "    y = v0*t - 0.5*g*t**2 \n",
    "    dydt = v0 - g*t \n",
    "    return y, dydt"
   ]
  },
  {
   "cell_type": "code",
   "execution_count": 12,
   "metadata": {
    "collapsed": true
   },
   "outputs": [],
   "source": [
    "posicion, velocidad = Funcion_y(0.6, 3)"
   ]
  },
  {
   "cell_type": "code",
   "execution_count": 13,
   "metadata": {},
   "outputs": [
    {
     "data": {
      "text/plain": [
       "0.034199999999999786"
      ]
     },
     "execution_count": 13,
     "metadata": {},
     "output_type": "execute_result"
    }
   ],
   "source": [
    "posicion"
   ]
  },
  {
   "cell_type": "code",
   "execution_count": 14,
   "metadata": {},
   "outputs": [
    {
     "data": {
      "text/plain": [
       "-2.886"
      ]
     },
     "execution_count": 14,
     "metadata": {},
     "output_type": "execute_result"
    }
   ],
   "source": [
    "velocidad"
   ]
  },
  {
   "cell_type": "markdown",
   "metadata": {},
   "source": [
    "## Funciones con parametros por defecto\n",
    "\n",
    "Se puede utilizar el operador de asignación para dar un valor por defecto a algún parametro, con lo cual al invocar la función no se requiere que se defina de manera explicita."
   ]
  },
  {
   "cell_type": "code",
   "execution_count": 26,
   "metadata": {},
   "outputs": [],
   "source": [
    "def areaCirculo(radio,pi=3.1416):\n",
    "    return pi*radio**2"
   ]
  },
  {
   "cell_type": "code",
   "execution_count": 25,
   "metadata": {},
   "outputs": [
    {
     "data": {
      "text/plain": [
       "12.5664"
      ]
     },
     "execution_count": 25,
     "metadata": {},
     "output_type": "execute_result"
    }
   ],
   "source": [
    "areaCirculo(2)  # No es necesario agregar el valor de pi"
   ]
  },
  {
   "cell_type": "code",
   "execution_count": 20,
   "metadata": {},
   "outputs": [
    {
     "data": {
      "text/plain": [
       "12.566370614"
      ]
     },
     "execution_count": 20,
     "metadata": {},
     "output_type": "execute_result"
    }
   ],
   "source": [
    "areaCirculo(2,3.1415926535) # Podemos agregar el valor de pi"
   ]
  },
  {
   "cell_type": "markdown",
   "metadata": {},
   "source": [
    "## Funciones con multiples parametros\n",
    "\n",
    "Pueden ingresarse, multiples parametros utilizando una tupla, utilizando el operador *."
   ]
  },
  {
   "cell_type": "code",
   "execution_count": 29,
   "metadata": {
    "collapsed": true
   },
   "outputs": [],
   "source": [
    "def promedio(*muestras):\n",
    "    return sum(muestras)/len(muestras)"
   ]
  },
  {
   "cell_type": "code",
   "execution_count": 30,
   "metadata": {},
   "outputs": [
    {
     "data": {
      "text/plain": [
       "21.375"
      ]
     },
     "execution_count": 30,
     "metadata": {},
     "output_type": "execute_result"
    }
   ],
   "source": [
    "promedio(1, 3, 5, 8, 11, 24, 90, 29)"
   ]
  },
  {
   "cell_type": "code",
   "execution_count": 31,
   "metadata": {},
   "outputs": [
    {
     "data": {
      "text/plain": [
       "17.666666666666668"
      ]
     },
     "execution_count": 31,
     "metadata": {},
     "output_type": "execute_result"
    }
   ],
   "source": [
    "promedio(14, 38, 1)"
   ]
  },
  {
   "cell_type": "code",
   "execution_count": 40,
   "metadata": {
    "collapsed": true
   },
   "outputs": [],
   "source": [
    "def imprime(dato,*datos):\n",
    "    print('El dato principal es: ',dato)\n",
    "    for i in datos:\n",
    "        print(i)\n"
   ]
  },
  {
   "cell_type": "code",
   "execution_count": 41,
   "metadata": {},
   "outputs": [
    {
     "name": "stdout",
     "output_type": "stream",
     "text": [
      "El dato principal es:  100\n",
      "1\n",
      "2\n",
      "3\n",
      "4\n",
      "5\n",
      "6\n",
      "7\n",
      "8\n",
      "calcita\n"
     ]
    }
   ],
   "source": [
    "imprime(100,1,2,3,4,5,6,7,8,'calcita')"
   ]
  },
  {
   "cell_type": "code",
   "execution_count": null,
   "metadata": {
    "collapsed": true
   },
   "outputs": [],
   "source": []
  }
 ],
 "metadata": {
  "kernelspec": {
   "display_name": "Python 3",
   "language": "python",
   "name": "python3"
  },
  "language_info": {
   "codemirror_mode": {
    "name": "ipython",
    "version": 3
   },
   "file_extension": ".py",
   "mimetype": "text/x-python",
   "name": "python",
   "nbconvert_exporter": "python",
   "pygments_lexer": "ipython3",
   "version": "3.6.2"
  }
 },
 "nbformat": 4,
 "nbformat_minor": 2
}
