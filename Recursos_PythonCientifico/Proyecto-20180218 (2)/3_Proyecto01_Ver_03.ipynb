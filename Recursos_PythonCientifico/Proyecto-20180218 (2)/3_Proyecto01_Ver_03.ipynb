{
 "cells": [
  {
   "cell_type": "markdown",
   "metadata": {},
   "source": [
    "# Proyecto 1: Convertidor de unidades (Ver. 3)\n",
    "\n",
    "## Descripción\n",
    "\n",
    "Generar un convertidor de unidades de temperatura y longitud.\n",
    "\n",
    "## Requerimientos\n",
    "- Cada categoria tendrá tres diferentes tipos de unidades.\n",
    "    - Por ejemplo: Temperatura: Celsius, Farehrenheit, Kelvin \n",
    "- Forma de uso: \n",
    "    - El usuario selecciona la categoría.\n",
    "    - El usuario selecciona la unidad inicial a convertir.\n",
    "    - El usuario ingresa el valor a convertir.\n",
    "    - El programa despliega el valor equivalente en las tres unidades en una tabla.\n",
    "    - El programa pregunta si se desea hacer otra conversión.\n",
    "    - El programa escribe una bitácora de todas las conversiones realizadas.\n",
    "    - Cuando el usuario introduce valores inválidos el programa los detecta y le pide al usuario corregir.\n",
    "   \n",
    "- <font color=#990000>Usar expresiones lambda para las conversiones.</font>\n",
    "- <font color=#990000>Usar decoradores para el despliegue de resultados.</font>  \n"
   ]
  },
  {
   "cell_type": "code",
   "execution_count": null,
   "metadata": {
    "collapsed": true
   },
   "outputs": [],
   "source": []
  }
 ],
 "metadata": {
  "kernelspec": {
   "display_name": "Python 3",
   "language": "python",
   "name": "python3"
  },
  "language_info": {
   "codemirror_mode": {
    "name": "ipython",
    "version": 3
   },
   "file_extension": ".py",
   "mimetype": "text/x-python",
   "name": "python",
   "nbconvert_exporter": "python",
   "pygments_lexer": "ipython3",
   "version": "3.6.1"
  }
 },
 "nbformat": 4,
 "nbformat_minor": 2
}
