{
 "cells": [
  {
   "cell_type": "markdown",
   "metadata": {},
   "source": [
    "# Proyecto 1: Convertidor de unidades (Ver. 2)\n",
    "\n",
    "## Descripción\n",
    "\n",
    "Generar un convertidor de unidades de temperatura y longitud.\n",
    "\n",
    "## Requerimientos\n",
    "- Cada categoria tendrá tres diferentes tipos de unidades.\n",
    "    - Por ejemplo: Temperatura: Celsius, Farehrenheit, Kelvin \n",
    "- Forma de uso: \n",
    "    - El usuario selecciona la categoría.\n",
    "    - El usuario selecciona la unidad inicial a convertir.\n",
    "    - El usuario ingresa el valor a convertir.\n",
    "    - El programa despliega el valor equivalente en las tres unidades en una tabla.\n",
    "    - El programa pregunta si se desea hacer otra conversión.\n",
    "    - El programa escribe una bitácora de todas las conversiones realizadas.\n",
    "    - <font color=#990000>Cuando el usuario introduce valores inválidos el programa los detecta y le pide al usuario corregir.</font>"
   ]
  },
  {
   "cell_type": "code",
   "execution_count": 1,
   "metadata": {
    "collapsed": true
   },
   "outputs": [],
   "source": [
    "from termcolor import colored\n",
    "\n",
    "def seleccionaCategoria(unidades_permitidas):\n",
    "    \"\"\"\n",
    "    Imprime las categorías de unidades que se pueden usar y solicita al usuario\n",
    "    elegir entre dichas categorías.\n",
    "    \n",
    "    Args:\n",
    "        unidades_permitidas: diccionario que contiene como claves las categorías.\n",
    "    Return:\n",
    "        categoria: es la categoría seleccionada por el usuario. \n",
    "    \"\"\"\n",
    "    while True:\n",
    "        try:\n",
    "            print('\\n' + colored('Categoría de unidades:','blue',attrs=['bold','underline']))\n",
    "            [print('{:>25}'.format(key.title())) for key in unidades_permitidas.keys()]\n",
    "            categoria = input('Tu elección: ').upper()\n",
    "            unidades_permitidas[categoria]\n",
    "            break\n",
    "        except KeyError:\n",
    "            print(colored('La opción ' + categoria + ' es inválida. Intenta de nuevo ...','red',attrs=['bold']))\n",
    "            \n",
    "    return categoria\n",
    "\n",
    "def seleccionaUnidad(unidades):\n",
    "    \"\"\"\n",
    "    Imprime las unidades que se pueden transformar y solicita al usuario\n",
    "    elegir entre estas unidades\n",
    "    \n",
    "    Args:\n",
    "        unidades: lista de las unidades que son válidas\n",
    "    \"\"\"\n",
    "    while True:\n",
    "        try:\n",
    "            print('\\n' + colored('Unidades:','green',attrs=['bold','underline']))\n",
    "            [print('{:>25}'.format(x)) for x in unidades]\n",
    "            unidad_1 = input('Tu elección: ')\n",
    "            unidades.index(unidad_1)\n",
    "            break\n",
    "        except ValueError:\n",
    "            print(colored('La opción ' + unidad_1 + ' es inválida. Intenta de nuevo ...','red',attrs=['bold']))\n",
    "\n",
    "    return unidad_1\n",
    "\n",
    "def introduceDato():\n",
    "    \"\"\"\n",
    "    Solicita un valor a convertir y lo regresa.\n",
    "    \"\"\"\n",
    "    while True:\n",
    "        try:\n",
    "            return float(input('Valor a convertir:'))\n",
    "        except ValueError:\n",
    "            print('Opcion inválida, ingresa un número')\n",
    "\n",
    "def despliegaResultado(unidades, valores):\n",
    "    \"\"\"\n",
    "    Imprime el resultado final de la conversión.\n",
    "    \n",
    "    Args:\n",
    "        unidades: lista de las unidades que son válidas\n",
    "        valores: valores transformados en las diferentes unidades\n",
    "    \"\"\"\n",
    "    num = len(unidades)\n",
    "    lines = '-' * 20\n",
    "    print('.',end='')\n",
    "    [print(lines,end='.') for x in range(num)]\n",
    "    print('\\n|',end='')\n",
    "    [print('{:^20}'.format(x),end='|') for x in unidades]\n",
    "    print('\\n+',end='')\n",
    "    [print(lines,end='+') for x in range(num)]\n",
    "    print('\\n|',end='')\n",
    "    [print('{:20.10e}'.format(x),end='|') for x in valores]    \n",
    "    print('\\n+',end='')\n",
    "    [print(lines,end='+') for x in range(num)]\n",
    "\n",
    "def otraConversion():\n",
    "    \"\"\"\n",
    "    Pregunta si se desea realizar otra conversión y regresa la respuesta.\n",
    "    \"\"\"\n",
    "    return input('Deseas hacer otra conversión? (Si / No): ').lower().startswith('s')"
   ]
  },
  {
   "cell_type": "code",
   "execution_count": 2,
   "metadata": {
    "collapsed": true
   },
   "outputs": [],
   "source": [
    "from IPython.display import clear_output\n",
    "\n",
    "def iniciaConvertidor(bitacora):\n",
    "    \"\"\"\"\"\"\n",
    "    while True:\n",
    "        clear_output()\n",
    "    \n",
    "        categoria = seleccionaCategoria(unidades_permitidas)\n",
    "        unidades = []\n",
    "        [unidades.append(x) for x in unidades_permitidas[categoria]]\n",
    "\n",
    "        u1 = seleccionaUnidad(unidades)\n",
    "        v1 = introduceDato()\n",
    "        \n",
    "        if categoria == 'TEMPERATURA':\n",
    "            valores = [x for x in convierteTemperatura(u1,v1)]\n",
    "        elif categoria == 'LONGITUD':\n",
    "            valores = [x for x in convierteLongitud(u1,v1)]\n",
    "        \n",
    "        despliegaResultado(unidades, valores)\n",
    "\n",
    "        bitacora.write(categoria + '\\n')\n",
    "        [bitacora.write(x + '\\t' + str(y) + '\\n') for x,y in zip(unidades_permitidas[categoria],valores)]\n",
    "    \n",
    "        if not otraConversion():\n",
    "            clear_output()\n",
    "            print('Happy Finish!')\n",
    "            break"
   ]
  },
  {
   "cell_type": "code",
   "execution_count": 3,
   "metadata": {},
   "outputs": [
    {
     "name": "stdout",
     "output_type": "stream",
     "text": [
      "Happy Finish!\n"
     ]
    }
   ],
   "source": [
    "from miConvertidor import *\n",
    "\n",
    "unidades_permitidas = {'TEMPERATURA' : ['Kelvin',\n",
    "                                        'Fahrenheit', \n",
    "                                        'Celsius'],\n",
    "                       'LONGITUD' : ['Metro', \n",
    "                                     'Pie',\n",
    "                                     'Parsecs']}\n",
    "\n",
    "bitacora = open('conversiones','w')\n",
    "\n",
    "iniciaConvertidor(bitacora)\n",
    "        \n",
    "bitacora.close()"
   ]
  },
  {
   "cell_type": "markdown",
   "metadata": {},
   "source": []
  },
  {
   "cell_type": "code",
   "execution_count": null,
   "metadata": {
    "collapsed": true
   },
   "outputs": [],
   "source": []
  }
 ],
 "metadata": {
  "kernelspec": {
   "display_name": "Python 3",
   "language": "python",
   "name": "python3"
  },
  "language_info": {
   "codemirror_mode": {
    "name": "ipython",
    "version": 3
   },
   "file_extension": ".py",
   "mimetype": "text/x-python",
   "name": "python",
   "nbconvert_exporter": "python",
   "pygments_lexer": "ipython3",
   "version": "3.6.1"
  }
 },
 "nbformat": 4,
 "nbformat_minor": 2
}
