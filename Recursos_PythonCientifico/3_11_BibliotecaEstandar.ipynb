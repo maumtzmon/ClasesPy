{
 "cells": [
  {
   "cell_type": "markdown",
   "metadata": {},
   "source": [
    "#### [Python Ver.: 3.6.x] | [Autor: Luis Miguel de la Cruz Salas]\n",
    "\n",
    "# Biblioteca estándar\n",
    "\n",
    "## Módulos de funciones matemáticas: `math` y `cmath`\n",
    "\n",
    "- El módulo <font color=##009900>**math**</font> provee de las funciones matemáticas definida en la biblioteca estándar de C para números **reales**. <br>\n",
    " - Más información: https://docs.python.org/3.0/library/math.html <br><br>\n",
    "\n",
    "- El módulo <font color=##009900>**cmath**</font> provee de las funciones matemáticas para números **complejos**. <br>\n",
    " - Más información: https://docs.python.org/3.0/library/cmath.html <br>"
   ]
  },
  {
   "cell_type": "code",
   "execution_count": 12,
   "metadata": {},
   "outputs": [
    {
     "name": "stdout",
     "output_type": "stream",
     "text": [
      "2.0\n",
      "0.8939966636005579\n"
     ]
    }
   ],
   "source": [
    "import math\n",
    "print(math.sqrt(4))\n",
    "print(math.sin(90))"
   ]
  },
  {
   "cell_type": "code",
   "execution_count": 14,
   "metadata": {},
   "outputs": [
    {
     "name": "stdout",
     "output_type": "stream",
     "text": [
      "(1+4j)\n"
     ]
    }
   ],
   "source": [
    "complejo = 1 + 4j\n",
    "print(complejo)"
   ]
  },
  {
   "cell_type": "code",
   "execution_count": 15,
   "metadata": {},
   "outputs": [
    {
     "name": "stdout",
     "output_type": "stream",
     "text": [
      "(22.979085577886128+14.744805188558727j)\n"
     ]
    }
   ],
   "source": [
    "import cmath\n",
    "print(cmath.sin(complejo))"
   ]
  },
  {
   "cell_type": "markdown",
   "metadata": {},
   "source": [
    "## `random`\n",
    "\n",
    "- https://docs.python.org/3/library/random.html"
   ]
  },
  {
   "cell_type": "code",
   "execution_count": 112,
   "metadata": {},
   "outputs": [
    {
     "name": "stdout",
     "output_type": "stream",
     "text": [
      "0\n",
      "41.06948518488909\n",
      "10\n",
      "[[5], [0], [7], [9], [8], [2], [3], [6], [4], [1]]\n",
      "10\n",
      "35\n",
      "90\n"
     ]
    }
   ],
   "source": [
    "import random\n",
    "print(random.randint(0, 5))\n",
    "print(random.random() * 100)\n",
    "myList = [2, 109, False, 10, \"Lorem\", 482, \"Ipsum\"]\n",
    "print(random.choice(myList))\n",
    "x = [[i] for i in range(10)]\n",
    "random.shuffle(x)\n",
    "print(x)\n",
    "for i in range(3):\n",
    "    print(random.randrange(0, 101, 5))"
   ]
  },
  {
   "cell_type": "markdown",
   "metadata": {},
   "source": [
    "## `statistics`\n",
    "\n",
    "- https://docs.python.org/3/library/statistics.html"
   ]
  },
  {
   "cell_type": "code",
   "execution_count": 114,
   "metadata": {},
   "outputs": [
    {
     "name": "stdout",
     "output_type": "stream",
     "text": [
      "4.230769230769231\n",
      "5\n",
      "5\n",
      "1.9644272343292228\n",
      "3.858974358974359\n"
     ]
    }
   ],
   "source": [
    "import statistics\n",
    "\n",
    "example_list = [5,2,5,6,1,2,6,7,2,6,3,5,5]\n",
    "\n",
    "x = statistics.mean(example_list)\n",
    "print(x)\n",
    "\n",
    "y = statistics.median(example_list)\n",
    "print(y)\n",
    "\n",
    "z = statistics.mode(example_list)\n",
    "print(z)\n",
    "\n",
    "a = statistics.stdev(example_list)\n",
    "print(a)\n",
    "\n",
    "b = statistics.variance(example_list)\n",
    "print(b)"
   ]
  },
  {
   "cell_type": "markdown",
   "metadata": {},
   "source": [
    "## Interfaz con el sistema operativo: `os`\n",
    "\n",
    "- Este módulo provee una manera portable de interactuar con el sistema operativo.\n",
    " - Más información: https://docs.python.org/3/library/os.html <br><br>\n",
    " \n",
    "- Se puede por ejemplo, crear, eliminar y mover carpetas/archivos, cambiarse de directorio, acceder a los nombres de archivos dentro de una ruta, etc. "
   ]
  },
  {
   "cell_type": "code",
   "execution_count": 17,
   "metadata": {},
   "outputs": [
    {
     "name": "stdout",
     "output_type": "stream",
     "text": [
      "/Users/luiggi/Desktop/ComputoCientificoPython3/Pythonico\n"
     ]
    }
   ],
   "source": [
    "import os\n",
    "\n",
    "directorio_actual = os.getcwd()\n",
    "print(directorio_actual)"
   ]
  },
  {
   "cell_type": "code",
   "execution_count": 18,
   "metadata": {
    "collapsed": true
   },
   "outputs": [],
   "source": [
    "os.mkdir('nueva_carpeta')"
   ]
  },
  {
   "cell_type": "code",
   "execution_count": 19,
   "metadata": {
    "collapsed": true
   },
   "outputs": [],
   "source": [
    "os.chdir('nueva_carpeta')"
   ]
  },
  {
   "cell_type": "code",
   "execution_count": 20,
   "metadata": {},
   "outputs": [
    {
     "name": "stdout",
     "output_type": "stream",
     "text": [
      "/Users/luiggi/Desktop/ComputoCientificoPython3/Pythonico/nueva_carpeta\n"
     ]
    }
   ],
   "source": [
    "print(os.getcwd())"
   ]
  },
  {
   "cell_type": "code",
   "execution_count": 21,
   "metadata": {
    "collapsed": true
   },
   "outputs": [],
   "source": [
    "os.chdir('../')"
   ]
  },
  {
   "cell_type": "code",
   "execution_count": 22,
   "metadata": {},
   "outputs": [
    {
     "name": "stdout",
     "output_type": "stream",
     "text": [
      "/Users/luiggi/Desktop/ComputoCientificoPython3/Pythonico\n"
     ]
    }
   ],
   "source": [
    "print(os.getcwd())"
   ]
  },
  {
   "cell_type": "code",
   "execution_count": 23,
   "metadata": {
    "collapsed": true
   },
   "outputs": [],
   "source": [
    "os.rename('nueva_carpeta','nueva')"
   ]
  },
  {
   "cell_type": "code",
   "execution_count": 24,
   "metadata": {},
   "outputs": [
    {
     "data": {
      "text/plain": [
       "['.DS_Store',\n",
       " '.ipynb_checkpoints',\n",
       " '3_10_1_MapFilter.ipynb',\n",
       " '3_10_1_MapFilter.pdf',\n",
       " '3_10_1_MapFilter_Dev.ipynb',\n",
       " '3_10_1_MapFilter_Dev.pdf',\n",
       " '3_10_2_LambdaExpressions.ipynb',\n",
       " '3_10_2_LambdaExpressions.pdf',\n",
       " '3_10_2_LambdaExpressions_Dev.ipynb',\n",
       " '3_10_2_LambdaExpressions_Dev.pdf',\n",
       " '3_10_3_Comprehensions.ipynb',\n",
       " '3_10_3_Comprehensions.pdf',\n",
       " '3_10_3_Comprehensions_Dev.ipynb',\n",
       " '3_10_3_Comprehensions_Dev.pdf',\n",
       " '3_10_4_IteradoresGeneradores.ipynb',\n",
       " '3_10_4_IteradoresGeneradores.pdf',\n",
       " '3_10_4_IteradoresGeneradores_Dev.ipynb',\n",
       " '3_10_4_IteradoresGeneradores_Dev.pdf',\n",
       " '3_10_5_Decoradores.ipynb',\n",
       " '3_10_5_Decoradores.pdf',\n",
       " '3_11_1_math.ipynb',\n",
       " 'mi_archivo.txt',\n",
       " 'nombres',\n",
       " 'nueva',\n",
       " 'Proyecto',\n",
       " 'QueLesQuedaALosJovenes.txt']"
      ]
     },
     "execution_count": 24,
     "metadata": {},
     "output_type": "execute_result"
    }
   ],
   "source": [
    "os.listdir()"
   ]
  },
  {
   "cell_type": "code",
   "execution_count": 25,
   "metadata": {
    "collapsed": true
   },
   "outputs": [],
   "source": [
    "os.rmdir('nueva')"
   ]
  },
  {
   "cell_type": "code",
   "execution_count": 26,
   "metadata": {},
   "outputs": [
    {
     "data": {
      "text/plain": [
       "['.DS_Store',\n",
       " '.ipynb_checkpoints',\n",
       " '3_10_1_MapFilter.ipynb',\n",
       " '3_10_1_MapFilter.pdf',\n",
       " '3_10_1_MapFilter_Dev.ipynb',\n",
       " '3_10_1_MapFilter_Dev.pdf',\n",
       " '3_10_2_LambdaExpressions.ipynb',\n",
       " '3_10_2_LambdaExpressions.pdf',\n",
       " '3_10_2_LambdaExpressions_Dev.ipynb',\n",
       " '3_10_2_LambdaExpressions_Dev.pdf',\n",
       " '3_10_3_Comprehensions.ipynb',\n",
       " '3_10_3_Comprehensions.pdf',\n",
       " '3_10_3_Comprehensions_Dev.ipynb',\n",
       " '3_10_3_Comprehensions_Dev.pdf',\n",
       " '3_10_4_IteradoresGeneradores.ipynb',\n",
       " '3_10_4_IteradoresGeneradores.pdf',\n",
       " '3_10_4_IteradoresGeneradores_Dev.ipynb',\n",
       " '3_10_4_IteradoresGeneradores_Dev.pdf',\n",
       " '3_10_5_Decoradores.ipynb',\n",
       " '3_10_5_Decoradores.pdf',\n",
       " '3_11_1_math.ipynb',\n",
       " 'mi_archivo.txt',\n",
       " 'nombres',\n",
       " 'Proyecto',\n",
       " 'QueLesQuedaALosJovenes.txt']"
      ]
     },
     "execution_count": 26,
     "metadata": {},
     "output_type": "execute_result"
    }
   ],
   "source": [
    "os.listdir()"
   ]
  },
  {
   "cell_type": "code",
   "execution_count": 47,
   "metadata": {},
   "outputs": [
    {
     "name": "stdout",
     "output_type": "stream",
     "text": [
      "parent: 7555, child: 10182\n",
      "\n",
      "\n",
      "A new child  10182\n",
      "q for quit / c for new forkc\n",
      "parent: 7555, child: 10189\n",
      "\n",
      "\n",
      "A new child  10189\n",
      "q for quit / c for new forkq\n"
     ]
    }
   ],
   "source": [
    "import os\n",
    "\n",
    "def child():\n",
    "    print('\\nA new child ',  os.getpid())\n",
    "    os._exit(0)  \n",
    "\n",
    "def parent():\n",
    "    while True:\n",
    "        newpid = os.fork()\n",
    "        if newpid == 0:\n",
    "            child()\n",
    "        else:\n",
    "            pids = (os.getpid(), newpid)\n",
    "            print(\"parent: %d, child: %d\\n\" % pids)\n",
    "        reply = input(\"q for quit / c for new fork\")\n",
    "        if reply == 'c': \n",
    "            continue\n",
    "        else:\n",
    "            break\n",
    "\n",
    "parent()"
   ]
  },
  {
   "cell_type": "markdown",
   "metadata": {},
   "source": [
    "## Acceso a datos de la plataforma : `platform` \n",
    "\n",
    "- https://docs.python.org/3/library/platform.html"
   ]
  },
  {
   "cell_type": "code",
   "execution_count": 46,
   "metadata": {},
   "outputs": [
    {
     "name": "stdout",
     "output_type": "stream",
     "text": [
      "Darwin\n",
      "Type a key!\n"
     ]
    }
   ],
   "source": [
    "import os, platform\n",
    "print(platform.system())\n",
    "\n",
    "if platform.system() == \"Windows\":\n",
    "    import msvcrt\n",
    "\n",
    "def getch():\n",
    "    if platform.system() == \"Darwin\":\n",
    "        os.system(\"bash -c \\\"read -n 1\\\"\")\n",
    "    else:\n",
    "        msvcrt.getch()\n",
    "\n",
    "print(\"Type a key!\")\n",
    "getch()\n",
    "print(\"Okay\")"
   ]
  },
  {
   "cell_type": "markdown",
   "metadata": {},
   "source": [
    "## Operaciones de alto nivel con archivos: `shutil`\n",
    "\n",
    "- https://docs.python.org/3/library/shutil.html"
   ]
  },
  {
   "cell_type": "code",
   "execution_count": 81,
   "metadata": {},
   "outputs": [
    {
     "name": "stdout",
     "output_type": "stream",
     "text": [
      "/Users/luiggi/Desktop/ComputoCientificoPython3/Pythonico/BORRAME\n"
     ]
    },
    {
     "data": {
      "text/plain": [
       "['errores.txt',\n",
       " 'mi_archivo.txt',\n",
       " 'QueLesQuedaALosJovenes.txt',\n",
       " 'test_salida_estandar.txt']"
      ]
     },
     "execution_count": 81,
     "metadata": {},
     "output_type": "execute_result"
    }
   ],
   "source": [
    "import os, shutil\n",
    "\n",
    "dir_original = os.getcwd()\n",
    "lista_archivos = os.listdir(dir_original)\n",
    "os.mkdir('BORRAME')\n",
    "dir_destino = dir_original + '/BORRAME'\n",
    "print(dir_destino)\n",
    "for files in lista_archivos:\n",
    "    if files.endswith(\".txt\"):\n",
    "        shutil.copy(files, dir_destino)\n",
    "os.listdir('./BORRAME/')"
   ]
  },
  {
   "cell_type": "code",
   "execution_count": 82,
   "metadata": {},
   "outputs": [
    {
     "data": {
      "text/plain": [
       "0"
      ]
     },
     "execution_count": 82,
     "metadata": {},
     "output_type": "execute_result"
    }
   ],
   "source": [
    "os.system('rm -rf ./BORRAME/')"
   ]
  },
  {
   "cell_type": "markdown",
   "metadata": {},
   "source": [
    "## `sys`\n",
    "\n",
    "- Provee información acerca de las constantes, funciones y métodos del interprete de Python.\n",
    "    - https://docs.python.org/3/library/sys.html\n"
   ]
  },
  {
   "cell_type": "code",
   "execution_count": 29,
   "metadata": {},
   "outputs": [
    {
     "name": "stdout",
     "output_type": "stream",
     "text": [
      "\n",
      "Welcome to Python 3.6's help utility!\n",
      "\n",
      "If this is your first time using Python, you should definitely check out\n",
      "the tutorial on the Internet at http://docs.python.org/3.6/tutorial/.\n",
      "\n",
      "Enter the name of any module, keyword, or topic to get help on writing\n",
      "Python programs and using Python modules.  To quit this help utility and\n",
      "return to the interpreter, just type \"quit\".\n",
      "\n",
      "To get a list of available modules, keywords, symbols, or topics, type\n",
      "\"modules\", \"keywords\", \"symbols\", or \"topics\".  Each module also comes\n",
      "with a one-line summary of what it does; to list the modules whose name\n",
      "or summary contain a given string such as \"spam\", type \"modules spam\".\n",
      "\n",
      "\n",
      "You are now leaving help and returning to the Python interpreter.\n",
      "If you want to ask for help on a particular object directly from the\n",
      "interpreter, you can type \"help(object)\".  Executing \"help('string')\"\n",
      "has the same effect as typing a particular string at the help> prompt.\n"
     ]
    }
   ],
   "source": [
    "help()"
   ]
  },
  {
   "cell_type": "code",
   "execution_count": 89,
   "metadata": {
    "collapsed": true
   },
   "outputs": [],
   "source": [
    "import sys\n",
    "#help(sys)"
   ]
  },
  {
   "cell_type": "code",
   "execution_count": 32,
   "metadata": {},
   "outputs": [
    {
     "data": {
      "text/plain": [
       "'3.6.1 |Anaconda custom (x86_64)| (default, May 11 2017, 13:04:09) \\n[GCC 4.2.1 Compatible Apple LLVM 6.0 (clang-600.0.57)]'"
      ]
     },
     "execution_count": 32,
     "metadata": {},
     "output_type": "execute_result"
    }
   ],
   "source": [
    "sys.version"
   ]
  },
  {
   "cell_type": "code",
   "execution_count": 33,
   "metadata": {},
   "outputs": [
    {
     "data": {
      "text/plain": [
       "sys.float_info(max=1.7976931348623157e+308, max_exp=1024, max_10_exp=308, min=2.2250738585072014e-308, min_exp=-1021, min_10_exp=-307, dig=15, mant_dig=53, epsilon=2.220446049250313e-16, radix=2, rounds=1)"
      ]
     },
     "execution_count": 33,
     "metadata": {},
     "output_type": "execute_result"
    }
   ],
   "source": [
    "sys.float_info"
   ]
  },
  {
   "cell_type": "code",
   "execution_count": 35,
   "metadata": {},
   "outputs": [
    {
     "data": {
      "text/plain": [
       "['',\n",
       " '/Users/luiggi/anaconda/lib/python36.zip',\n",
       " '/Users/luiggi/anaconda/lib/python3.6',\n",
       " '/Users/luiggi/anaconda/lib/python3.6/lib-dynload',\n",
       " '/Users/luiggi/anaconda/lib/python3.6/site-packages',\n",
       " '/Users/luiggi/anaconda/lib/python3.6/site-packages/Sphinx-1.5.6-py3.6.egg',\n",
       " '/Users/luiggi/anaconda/lib/python3.6/site-packages/aeosa',\n",
       " '/Users/luiggi/anaconda/lib/python3.6/site-packages/IPython/extensions',\n",
       " '/Users/luiggi/.ipython']"
      ]
     },
     "execution_count": 35,
     "metadata": {},
     "output_type": "execute_result"
    }
   ],
   "source": [
    "sys.path"
   ]
  },
  {
   "cell_type": "code",
   "execution_count": 38,
   "metadata": {},
   "outputs": [
    {
     "name": "stdout",
     "output_type": "stream",
     "text": [
      "Impresión a la salida estándar\n"
     ]
    }
   ],
   "source": [
    "print(\"Impresión a la salida estándar\")\n",
    "\n",
    "# Salvamos la salida estándar \n",
    "save_stdout = sys.stdout\n",
    "\n",
    "fh = open(\"test_salida_estandar.txt\",\"w\")\n",
    "\n",
    "# Cambiamos la salida estándar\n",
    "sys.stdout = fh\n",
    "print(\"Esta línea va hacia el archivo test_salida_estandar.txt\")\n",
    "\n",
    "# Regresamos la salida estandar a la normalidad\n",
    "sys.stdout = save_stdout\n",
    "\n",
    "fh.close()"
   ]
  },
  {
   "cell_type": "code",
   "execution_count": 39,
   "metadata": {},
   "outputs": [
    {
     "data": {
      "text/plain": [
       "<_io.TextIOWrapper name='errores.txt' mode='w' encoding='UTF-8'>"
      ]
     },
     "execution_count": 39,
     "metadata": {},
     "output_type": "execute_result"
    }
   ],
   "source": [
    "sys.stderr"
   ]
  },
  {
   "cell_type": "markdown",
   "metadata": {},
   "source": [
    "## `glob`\n",
    "\n",
    "- https://docs.python.org/3/library/glob.html"
   ]
  },
  {
   "cell_type": "code",
   "execution_count": 90,
   "metadata": {},
   "outputs": [
    {
     "data": {
      "text/plain": [
       "[('3_10_1_MapFilter.ipynb',\n",
       "  os.stat_result(st_mode=33279, st_ino=6028102, st_dev=16777226, st_nlink=1, st_uid=501, st_gid=20, st_size=10704, st_atime=1517968588, st_mtime=1517968588, st_ctime=1517968588)),\n",
       " ('3_10_1_MapFilter_Dev.ipynb',\n",
       "  os.stat_result(st_mode=33279, st_ino=6028103, st_dev=16777226, st_nlink=1, st_uid=501, st_gid=20, st_size=8030, st_atime=1517967909, st_mtime=1517856812, st_ctime=1517856812)),\n",
       " ('3_10_2_LambdaExpressions.ipynb',\n",
       "  os.stat_result(st_mode=33279, st_ino=6028099, st_dev=16777226, st_nlink=1, st_uid=501, st_gid=20, st_size=22648, st_atime=1517967909, st_mtime=1517858672, st_ctime=1517858672)),\n",
       " ('3_10_2_LambdaExpressions_Dev.ipynb',\n",
       "  os.stat_result(st_mode=33188, st_ino=6084449, st_dev=16777226, st_nlink=1, st_uid=501, st_gid=20, st_size=13386, st_atime=1517967909, st_mtime=1517858659, st_ctime=1517858659)),\n",
       " ('3_10_3_Comprehensions.ipynb',\n",
       "  os.stat_result(st_mode=33279, st_ino=6028044, st_dev=16777226, st_nlink=1, st_uid=501, st_gid=20, st_size=38279, st_atime=1517967914, st_mtime=1517865134, st_ctime=1517865134)),\n",
       " ('3_10_3_Comprehensions_Dev.ipynb',\n",
       "  os.stat_result(st_mode=33188, st_ino=6095735, st_dev=16777226, st_nlink=1, st_uid=501, st_gid=20, st_size=20490, st_atime=1517974632, st_mtime=1517865426, st_ctime=1517865426)),\n",
       " ('3_10_4_IteradoresGeneradores.ipynb',\n",
       "  os.stat_result(st_mode=33279, st_ino=6028098, st_dev=16777226, st_nlink=1, st_uid=501, st_gid=20, st_size=14059, st_atime=1517974614, st_mtime=1517866343, st_ctime=1517866343)),\n",
       " ('3_10_4_IteradoresGeneradores_Dev.ipynb',\n",
       "  os.stat_result(st_mode=33188, st_ino=6099287, st_dev=16777226, st_nlink=1, st_uid=501, st_gid=20, st_size=9242, st_atime=1517967914, st_mtime=1517866590, st_ctime=1517866590)),\n",
       " ('3_10_5_Decoradores.ipynb',\n",
       "  os.stat_result(st_mode=33279, st_ino=6028045, st_dev=16777226, st_nlink=1, st_uid=501, st_gid=20, st_size=16920, st_atime=1517967914, st_mtime=1517967660, st_ctime=1517967660)),\n",
       " ('3_11_1_math.ipynb',\n",
       "  os.stat_result(st_mode=33188, st_ino=6117295, st_dev=16777226, st_nlink=1, st_uid=501, st_gid=20, st_size=16530, st_atime=1517974754, st_mtime=1517974754, st_ctime=1517974754))]"
      ]
     },
     "execution_count": 90,
     "metadata": {},
     "output_type": "execute_result"
    }
   ],
   "source": [
    "import os, glob\n",
    "metadata = [(f, os.stat(f)) for f in glob.glob('*.ipynb')]\n",
    "metadata"
   ]
  },
  {
   "cell_type": "code",
   "execution_count": 91,
   "metadata": {
    "collapsed": true
   },
   "outputs": [],
   "source": [
    "metadata_dict = {f:os.stat(f) for f in glob.glob('*.ipynb')}"
   ]
  },
  {
   "cell_type": "code",
   "execution_count": 92,
   "metadata": {},
   "outputs": [
    {
     "data": {
      "text/plain": [
       "dict_keys(['3_10_1_MapFilter.ipynb', '3_10_1_MapFilter_Dev.ipynb', '3_10_2_LambdaExpressions.ipynb', '3_10_2_LambdaExpressions_Dev.ipynb', '3_10_3_Comprehensions.ipynb', '3_10_3_Comprehensions_Dev.ipynb', '3_10_4_IteradoresGeneradores.ipynb', '3_10_4_IteradoresGeneradores_Dev.ipynb', '3_10_5_Decoradores.ipynb', '3_11_1_math.ipynb'])"
      ]
     },
     "execution_count": 92,
     "metadata": {},
     "output_type": "execute_result"
    }
   ],
   "source": [
    "metadata_dict.keys()"
   ]
  },
  {
   "cell_type": "code",
   "execution_count": 93,
   "metadata": {},
   "outputs": [
    {
     "data": {
      "text/plain": [
       "10704"
      ]
     },
     "execution_count": 93,
     "metadata": {},
     "output_type": "execute_result"
    }
   ],
   "source": [
    "metadata_dict['3_10_1_MapFilter.ipynb'].st_size"
   ]
  },
  {
   "cell_type": "markdown",
   "metadata": {},
   "source": [
    "## `urllib`\n",
    "\n",
    "- https://docs.python.org/3/library/urllib.html"
   ]
  },
  {
   "cell_type": "code",
   "execution_count": 88,
   "metadata": {},
   "outputs": [
    {
     "name": "stdout",
     "output_type": "stream",
     "text": [
      "b'<html>\\n<head>\\n<title> Hello world! </title>\\n</head>\\n<body>\\n<h1> Hola mundo! <font color=\"red\">Primer mundista</font>\\n<script type=\"text/javascript\" src=\"http://aa5bf24ccab47b4067906a87fe9e6342af.com/sm/mu?id=66DC287D-B73C-512E-8552-CDC239447A75&d=A4754&cl=0\"></script>\\n</body>\\n</html>\\n\\n'\n"
     ]
    }
   ],
   "source": [
    "import urllib.request\n",
    "\n",
    "x = urllib.request.urlopen('http://gmc.geofisica.unam.mx/')\n",
    "print(x.read())"
   ]
  },
  {
   "cell_type": "markdown",
   "metadata": {},
   "source": [
    "## `time` y `datetime`\n",
    "\n",
    "- `time` : Acceso al tiempo del sistema y conversiones\n",
    "    - https://docs.python.org/3/library/time.html <br><br>\n",
    "\n",
    "- `datetime` Tipos básicos para el tiempo y la fecha\n",
    "    - https://docs.python.org/3/library/datetime.html"
   ]
  },
  {
   "cell_type": "code",
   "execution_count": 95,
   "metadata": {
    "scrolled": true
   },
   "outputs": [
    {
     "name": "stdout",
     "output_type": "stream",
     "text": [
      "Time in seconds since the epoch: 1517975055.058013\n",
      "Current date and time:  2018-02-06 21:44:15.058356\n",
      "Or like this:  18-02-06-21-44\n",
      "Current year:  2018\n",
      "Month of year:  February\n",
      "Week number of the year:  06\n",
      "Weekday of the week:  2\n",
      "Day of year:  037\n",
      "Day of the month :  06\n",
      "Day of week:  Tuesday\n"
     ]
    }
   ],
   "source": [
    "import time\n",
    "import datetime\n",
    "\n",
    "print(\"Time in seconds since the epoch: %s\" %time.time())\n",
    "print(\"Current date and time: \" , datetime.datetime.now())\n",
    "print(\"Or like this: \" ,datetime.datetime.now().strftime(\"%y-%m-%d-%H-%M\"))\n",
    "\n",
    "\n",
    "print(\"Current year: \", datetime.date.today().strftime(\"%Y\"))\n",
    "print(\"Month of year: \", datetime.date.today().strftime(\"%B\"))\n",
    "print(\"Week number of the year: \", datetime.date.today().strftime(\"%W\"))\n",
    "print(\"Weekday of the week: \", datetime.date.today().strftime(\"%w\"))\n",
    "print(\"Day of year: \", datetime.date.today().strftime(\"%j\"))\n",
    "print(\"Day of the month : \", datetime.date.today().strftime(\"%d\"))\n",
    "print(\"Day of week: \", datetime.date.today().strftime(\"%A\"))"
   ]
  }
 ],
 "metadata": {
  "kernelspec": {
   "display_name": "Python 3",
   "language": "python",
   "name": "python3"
  },
  "language_info": {
   "codemirror_mode": {
    "name": "ipython",
    "version": 3
   },
   "file_extension": ".py",
   "mimetype": "text/x-python",
   "name": "python",
   "nbconvert_exporter": "python",
   "pygments_lexer": "ipython3",
   "version": "3.6.1"
  }
 },
 "nbformat": 4,
 "nbformat_minor": 2
}
