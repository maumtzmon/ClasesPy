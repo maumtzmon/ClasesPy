{
 "cells": [
  {
   "cell_type": "markdown",
   "metadata": {},
   "source": [
    "# Notebook\n",
    "\n",
    "Es una herramienta web, cuyo objetivo es desarrollar, documentar, ejecutar código y comunicar los resultados. Puede ser vista como una bitacora, la cual es ampliamente usada por científicos. \n",
    "\n",
    "\n",
    "Contienen entradas y salidas de una sesión interactiva, así como texto adicional que acompañara al código, que no esta destinando a ser ejecutado.\n",
    "\n",
    "Internamente son archivos JSON, que son almacenados con la extensión .ipynb.\n",
    "\n",
    "\n",
    "Cada cuaderno puede ser exportado como archivos:\n",
    "\n",
    "                    1. HTML\n",
    "                    2. Latex\n",
    "                    3. PDF\n",
    "                    4. entre otros\n",
    "\n",
    "Cada cuaderno, tiene un **nombre**, **barra de menú**, **celdas vacías**.\n",
    "\n",
    "\n",
    "\n",
    "Se conforma por celdas las cuales son campos de entrada ,y pueden tener distintos comportamientos:\n",
    "\n",
    "     1. Code (Celdas de código)\n",
    "     2. Markdown (Celdas de reducción)\n",
    "     3. Raw NBConvert (Celdas sin formato)\n",
    "\n",
    "Por defecto, todas las celdas son de código, pero su comportamiento puede modificarse utilizando la barra de tareas.\n"
   ]
  },
  {
   "cell_type": "markdown",
   "metadata": {},
   "source": [
    "## Celdas de Código\n",
    "\n",
    "Tiene por objetivo la escritura de código fuente, que puede ser ejecutado por el usuario. Por fecto se trabaja con python aunque también es aceptado **Julia** y **R**."
   ]
  },
  {
   "cell_type": "code",
   "execution_count": 3,
   "metadata": {},
   "outputs": [
    {
     "data": {
      "image/png": "[encoded data removed]",
      "text/plain": [
       "<matplotlib.figure.Figure at 0x7f548016c2b0>"
      ]
     },
     "metadata": {},
     "output_type": "display_data"
    }
   ],
   "source": [
    "import numpy as np\n",
    "import matplotlib.pyplot as plt\n",
    "\n",
    "x = np.linspace(-2*np.pi,2*np.pi,200)\n",
    "plt.plot(x,np.sin(x))\n",
    "plt.show()"
   ]
  },
  {
   "cell_type": "markdown",
   "metadata": {},
   "source": [
    "## Markdown\n",
    "\n",
    "Permite documentar el proceso de desarrollo de software con texto enriquecido. Esto se logra usando el lenguaje **Markdown**. Este permite la inclusión de:\n",
    "\n",
    "                    1. Títulos.\n",
    "                    2. Resaltar texto.\n",
    "                    3. Lista de formularios.\n",
    "                    4. Agregar ecuaciones.\n",
    "                    5. Agregar imagenes.\n",
    "                    6. etc\n",
    "\n"
   ]
  },
  {
   "cell_type": "markdown",
   "metadata": {
    "collapsed": true
   },
   "source": [
    "### Títulos"
   ]
  },
  {
   "cell_type": "markdown",
   "metadata": {},
   "source": [
    "Para resaltar los títulos se utiliza el símbolo #:\n",
    "\n",
    "\n",
    "    #   Título 1\n",
    "    ##  Título 2\n",
    "    ### Título 3 \n",
    "    "
   ]
  },
  {
   "cell_type": "markdown",
   "metadata": {},
   "source": [
    "### Resaltar texto\n"
   ]
  },
  {
   "cell_type": "markdown",
   "metadata": {},
   "source": [
    "Para resaltar en negritas:\n",
    "\n",
    "        ** texto ** (ponemos entre **, el texto a resaltar)\n",
    "        \n",
    "Para resaltar en cursiva:\n",
    "\n",
    "        *texto* (ponemos entre *, el texto a resaltar)"
   ]
  },
  {
   "cell_type": "markdown",
   "metadata": {},
   "source": [
    "### Ecuaciones "
   ]
  },
  {
   "cell_type": "markdown",
   "metadata": {},
   "source": [
    "Se pueden añadir ecuaciones usando la notación de latex, usando los símbolos $$, o usando:\n",
    "\\begin{equation}\n",
    "\\end{equation}"
   ]
  },
  {
   "cell_type": "markdown",
   "metadata": {},
   "source": [
    "${ \\phi  }_{ k }=\\arctan { \\left( \\frac { Im(tf) }{ Re(tf) }  \\right)  } $\n",
    "\n",
    "\n",
    "\\begin{equation}\n",
    "{ \\phi  }_{ k }=\\arctan { \\left( \\frac { Im(tf) }{ Re(tf) }  \\right)  }\n",
    "\\end{equation}\n",
    "\n",
    "\n",
    "$$e^x=\\sum_{i=0}^\\infty \\frac{1}{i!}x^i$$"
   ]
  },
  {
   "cell_type": "markdown",
   "metadata": {},
   "source": [
    "## Raw NBConverter\n",
    "\n",
    "Este tipo de celdas permiten que el texto escrito, se muestre en pantalla sin ningún formato."
   ]
  },
  {
   "cell_type": "code",
   "execution_count": null,
   "metadata": {
    "collapsed": true
   },
   "outputs": [],
   "source": []
  }
 ],
 "metadata": {
  "kernelspec": {
   "display_name": "Python 3",
   "language": "python",
   "name": "python3"
  },
  "language_info": {
   "codemirror_mode": {
    "name": "ipython",
    "version": 3
   },
   "file_extension": ".py",
   "mimetype": "text/x-python",
   "name": "python",
   "nbconvert_exporter": "python",
   "pygments_lexer": "ipython3",
   "version": "3.6.3"
  }
 },
 "nbformat": 4,
 "nbformat_minor": 2
}
