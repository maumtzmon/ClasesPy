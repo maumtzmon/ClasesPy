{
 "cells": [
  {
   "cell_type": "markdown",
   "metadata": {},
   "source": [
    "# Entradas y salidas\n",
    "\n",
    "Las entradas y salidas son interfaces, que permiten a los programas relacionarse con los usuarios. Por tanto un lenguaje que no permita esta interacción esta destinado a fracasar.\n",
    "\n",
    "## Entrada estandar\n",
    "\n",
    "Actualmente hay varias perfiricos de entrada en la computadora, por lo tanto en cualquiera de ellos puede ingresarse información, por defecto la entrada estandar es el teclado.\n"
   ]
  },
  {
   "cell_type": "code",
   "execution_count": 14,
   "metadata": {},
   "outputs": [
    {
     "name": "stdout",
     "output_type": "stream",
     "text": [
      "Escribe un nombre: Mario\n",
      "Mario\n"
     ]
    }
   ],
   "source": [
    "nombre = input(\"Escribe un nombre: \")\n",
    "print(nombre)"
   ]
  },
  {
   "cell_type": "code",
   "execution_count": 15,
   "metadata": {},
   "outputs": [
    {
     "data": {
      "text/plain": [
       "str"
      ]
     },
     "execution_count": 15,
     "metadata": {},
     "output_type": "execute_result"
    }
   ],
   "source": [
    "type(nombre)"
   ]
  },
  {
   "cell_type": "code",
   "execution_count": 16,
   "metadata": {},
   "outputs": [
    {
     "name": "stdout",
     "output_type": "stream",
     "text": [
      "Dame un numero: 32\n"
     ]
    },
    {
     "data": {
      "text/plain": [
       "str"
      ]
     },
     "execution_count": 16,
     "metadata": {},
     "output_type": "execute_result"
    }
   ],
   "source": [
    "numero = input(\"Dame un numero: \")\n",
    "type(numero)"
   ]
  },
  {
   "cell_type": "code",
   "execution_count": 17,
   "metadata": {},
   "outputs": [
    {
     "name": "stdout",
     "output_type": "stream",
     "text": [
      "Dame un numero: 32\n"
     ]
    },
    {
     "data": {
      "text/plain": [
       "int"
      ]
     },
     "execution_count": 17,
     "metadata": {},
     "output_type": "execute_result"
    }
   ],
   "source": [
    "numero = int(input(\"Dame un numero: \"))\n",
    "type(numero)"
   ]
  },
  {
   "cell_type": "markdown",
   "metadata": {},
   "source": [
    "## Salida estandar\n",
    "\n",
    "En Python la salida estandar por defecto, corresponde al interprete interactivo.\n",
    "\n",
    "Hay dos maneras en las cuales se puede mostrar el cotenido de una variable:\n",
    "\n",
    "1. Declaración de expresión.\n",
    "2. Declaración **print()**.\n",
    "\n",
    "### Declaración de expresión\n",
    "\n",
    "Consiste unicamente en escribir la palabra, por ejemplo:"
   ]
  },
  {
   "cell_type": "code",
   "execution_count": 1,
   "metadata": {},
   "outputs": [
    {
     "data": {
      "text/plain": [
       "2"
      ]
     },
     "execution_count": 1,
     "metadata": {},
     "output_type": "execute_result"
    }
   ],
   "source": [
    "a = 2    # Definimos una variable entera.\n",
    "a"
   ]
  },
  {
   "cell_type": "markdown",
   "metadata": {},
   "source": [
    "### Declaración **print()**."
   ]
  },
  {
   "cell_type": "code",
   "execution_count": 5,
   "metadata": {},
   "outputs": [
    {
     "name": "stdout",
     "output_type": "stream",
     "text": [
      "2\n"
     ]
    }
   ],
   "source": [
    "print(a) # Por defecto la plabra devuelve un número entero."
   ]
  },
  {
   "cell_type": "code",
   "execution_count": 6,
   "metadata": {},
   "outputs": [
    {
     "name": "stdout",
     "output_type": "stream",
     "text": [
      "Tienes 2 tipos de fallas.\n"
     ]
    }
   ],
   "source": [
    "print(\"Tienes\", a, \"tipos de fallas.\") # Usamos , debido a que a es un número."
   ]
  },
  {
   "cell_type": "code",
   "execution_count": 9,
   "metadata": {},
   "outputs": [
    {
     "name": "stdout",
     "output_type": "stream",
     "text": [
      "Tienes 2 tipos de fallas.\n"
     ]
    }
   ],
   "source": [
    "print(\"Tienes \" + str(a) + \" tipos de fallas.\") # La concatenación de hace con +"
   ]
  },
  {
   "cell_type": "markdown",
   "metadata": {},
   "source": [
    "## Formato\n",
    "\n",
    "Se puede dar un formato especial a los resultados "
   ]
  },
  {
   "cell_type": "code",
   "execution_count": 5,
   "metadata": {
    "collapsed": true
   },
   "outputs": [],
   "source": [
    "pi = 3.141592\n",
    "radio = 2"
   ]
  },
  {
   "cell_type": "code",
   "execution_count": 6,
   "metadata": {},
   "outputs": [
    {
     "name": "stdout",
     "output_type": "stream",
     "text": [
      "El perímetro de un circulo de radio 2 es 12.566368.\n"
     ]
    }
   ],
   "source": [
    "print(\"El perímetro de un circulo de radio %d es %f.\" % (radio, 2 * radio * pi))"
   ]
  },
  {
   "cell_type": "code",
   "execution_count": 7,
   "metadata": {},
   "outputs": [
    {
     "name": "stdout",
     "output_type": "stream",
     "text": [
      "El perímetro de un circulo de radio 2 es 12.\n"
     ]
    }
   ],
   "source": [
    "print(\"El perímetro de un circulo de radio %d es %d.\" % (radio, 2 * radio * pi))"
   ]
  },
  {
   "cell_type": "code",
   "execution_count": 8,
   "metadata": {},
   "outputs": [
    {
     "name": "stdout",
     "output_type": "stream",
     "text": [
      "El perímetro de un circulo de radio 2 es 12.566368.\n"
     ]
    }
   ],
   "source": [
    "print(\"El perímetro de un circulo de radio %s es %s.\" % (radio, 2 * radio * pi))"
   ]
  },
  {
   "cell_type": "code",
   "execution_count": 9,
   "metadata": {},
   "outputs": [
    {
     "name": "stdout",
     "output_type": "stream",
     "text": [
      "El valor de pi es 3.141592.\n"
     ]
    }
   ],
   "source": [
    "print(\"El valor de pi es %f.\" % (pi))"
   ]
  },
  {
   "cell_type": "code",
   "execution_count": 10,
   "metadata": {},
   "outputs": [
    {
     "name": "stdout",
     "output_type": "stream",
     "text": [
      "El valor de pi es 3.141592e+00.\n"
     ]
    }
   ],
   "source": [
    "print(\"El valor de pi es %e.\" % pi)"
   ]
  },
  {
   "cell_type": "code",
   "execution_count": 11,
   "metadata": {},
   "outputs": [
    {
     "name": "stdout",
     "output_type": "stream",
     "text": [
      "Primera línea.\n",
      "Segunda línea\t con tabulador.\n"
     ]
    }
   ],
   "source": [
    "print(\"Primera línea.\\nSegunda línea\\t con tabulador.\")"
   ]
  },
  {
   "cell_type": "code",
   "execution_count": 12,
   "metadata": {},
   "outputs": [
    {
     "name": "stdout",
     "output_type": "stream",
     "text": [
      "Este es el signo de \"gato\" #.\n"
     ]
    }
   ],
   "source": [
    "print(\"Este es el signo de \\\"gato\\\" \\x23.\")"
   ]
  },
  {
   "cell_type": "code",
   "execution_count": 13,
   "metadata": {},
   "outputs": [
    {
     "name": "stdout",
     "output_type": "stream",
     "text": [
      "Beta: ß\n"
     ]
    }
   ],
   "source": [
    "print(\"Beta: \\u00DF\")"
   ]
  },
  {
   "cell_type": "code",
   "execution_count": null,
   "metadata": {
    "collapsed": true
   },
   "outputs": [],
   "source": []
  }
 ],
 "metadata": {
  "kernelspec": {
   "display_name": "Python 3",
   "language": "python",
   "name": "python3"
  },
  "language_info": {
   "codemirror_mode": {
    "name": "ipython",
    "version": 3
   },
   "file_extension": ".py",
   "mimetype": "text/x-python",
   "name": "python",
   "nbconvert_exporter": "python",
   "pygments_lexer": "ipython3",
   "version": "3.6.3"
  }
 },
 "nbformat": 4,
 "nbformat_minor": 2
}
