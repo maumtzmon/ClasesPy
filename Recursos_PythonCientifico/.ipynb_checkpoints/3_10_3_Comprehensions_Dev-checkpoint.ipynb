{
 "cells": [
  {
   "cell_type": "markdown",
   "metadata": {},
   "source": [
    "#### [Python Ver.: 3.6.x] | [Autor: Luis Miguel de la Cruz Salas]\n",
    "\n",
    "# List comprehensions\n",
    "\n",
    "## Descripción.\n",
    "\n",
    "- Las *list comprehensions* (listas inteligentes ?) pueden ser usadas para construir listas de una manera muy concisa, natural y fácil, como lo hace un matemático. <br>\n",
    "\n",
    "- En matemáticas podemos definir un conjunto como sigue: <br>\n",
    "\n",
    "$$S = \\{x^2 : x \\in (0, 1, 2, \\dots, 9)\\} = \\{0, 1, 4, \\dots, 81\\}$$\n",
    "\n",
    "¿Cómo hacemos lo mismo en Python?"
   ]
  },
  {
   "cell_type": "code",
   "execution_count": null,
   "metadata": {},
   "outputs": [],
   "source": [
    "S = [x**2 for x in range(10)]\n",
    "S"
   ]
  },
  {
   "cell_type": "markdown",
   "metadata": {},
   "source": [
    "## Definición.\n",
    "\n",
    "```python\n",
    "[ out_expression for name in secuence if predicate ]\n",
    "```\n",
    "\n",
    "1. Una secuencia de entrada (<font color=blue>S</font>) : <br><br>\n",
    "    - `M = [math.sqrt(x) for x in ` <font color=blue>**S**</font> ` if x%2 == 0]` <br> <br>\n",
    "\n",
    "2. Un nombre (<font color=blue>x</font>) que representa los miembros de la secuencia de entrada: <br><br>\n",
    "    - `M = [math.sqrt(x) for` <font color=blue>**x**</font> `in S if x%2 == 0]` <br> <br>\n",
    "\n",
    "3. Una expresión de predicado (<font color=blue>if x % 2 == 0</font>) opcional: <br><br>\n",
    "    - `M = [math.sqrt(x) for x in S` <font color=blue>**if x % 2 == 0**</font> `]` <br> <br>\n",
    "    \n",
    "4. Una expresión de salida (<font color=blue>math.sqrt(x)</font>) que produce los elementos de la lista resultado, los cuales provienen de los miembros de la secuencia de entrada que satisfacen el predicado: <br><br>\n",
    "    - `M = [`<font color=blue>**math.sqrt(x)**</font> ` for x in S if x % 2 == 0]`\n",
    "\n",
    "## Ejercicio. \n",
    "Obtener todos los enteros de la siguiente lista, elevarlos al cuadrado y poner el resultado en una lista:<br>\n",
    "\n",
    "```python\n",
    "    lista = [1,'4',9,'luiggi',0,4,('mike','dela+')]\n",
    "```"
   ]
  },
  {
   "cell_type": "markdown",
   "metadata": {},
   "source": [
    "## Ejercicio.\n",
    "Crear la siguiente lista:\n",
    "$$V = (1,2,4, \\dots, 2^{12}) = (1, 2, 4, 8, \\dots, 4096) $$"
   ]
  },
  {
   "cell_type": "markdown",
   "metadata": {},
   "source": [
    "## Ejercicio.\n",
    "\n",
    "Crear la siguiente lista:\n",
    "\n",
    "$$M = \\{\\sqrt{x} \\, |\\, x \\in S \\text{ y } x \\text{ par }\\} = [0, 4, 16, 36, 64]$$\n",
    "\n",
    "con \n",
    "\n",
    "$$S = \\{x^2 : x \\in (0 \\dots 9)\\} = \\{0, 1, 4, \\dots, 81\\}$$\n"
   ]
  },
  {
   "cell_type": "markdown",
   "metadata": {},
   "source": [
    "# Anidado de *list comprehensions*\n",
    "\n",
    "- Una matriz identidad de tamaño $n \\times n$ :<br>\n",
    "\n",
    "$$\n",
    "\\left[\n",
    "\\begin{matrix}\n",
    "1 & 0 & 0 & \\dots & 0 \\\\\n",
    "0 & 1 & 0 & \\dots & 0 \\\\\n",
    "0 & 0 & 1 & \\dots & 0 \\\\\n",
    "\\vdots&\\vdots&\\vdots&\\ddots&\\vdots \\\\\n",
    "0 & 0 & 0 & \\dots & 1 \\\\\n",
    "\\end{matrix}\n",
    "\\right]\n",
    "$$\n",
    "\n",
    "- En Python esta matriz se puede representar por la siguiente lista: <br>\n",
    "\n",
    "```python\n",
    "[[1,0,0, ... , 0],\n",
    " [0,1,0, ... , 0],\n",
    " [0,0,1, ... , 0],\n",
    " ................,     \n",
    " [0,0,0, ... , 1]]\n",
    "```\n",
    "\n",
    "- Usando *comprehensions* anidados se puede obtener dicha lista: <br>"
   ]
  },
  {
   "cell_type": "code",
   "execution_count": null,
   "metadata": {},
   "outputs": [],
   "source": [
    "n = 5\n",
    "[[1 if col == row else 0 for col in range(0,n)] for row in range(0,n)]"
   ]
  },
  {
   "cell_type": "markdown",
   "metadata": {},
   "source": [
    "## Ejercicio.\n",
    "\n",
    "Calcular números primos en el rango [2,50]."
   ]
  },
  {
   "cell_type": "code",
   "execution_count": null,
   "metadata": {},
   "outputs": [],
   "source": [
    "noprimos = [j for i in range(2,8) for j in range(i*2, 50, i)]\n",
    "print(noprimos)"
   ]
  },
  {
   "cell_type": "code",
   "execution_count": null,
   "metadata": {},
   "outputs": [],
   "source": [
    "primos = [x for x in range(2,50) if x not in noprimos]\n",
    "print(primos)"
   ]
  },
  {
   "cell_type": "code",
   "execution_count": null,
   "metadata": {},
   "outputs": [],
   "source": [
    "[x for x in range(2,50) if x not in [j for i in range(2,8) for j in range(i*2, 50, i)]]"
   ]
  },
  {
   "cell_type": "markdown",
   "metadata": {},
   "source": [
    "## *list comprehension* con elementos diferentes de números\n",
    "Las listas también pueden contener otro tipo de elementos, no solo números:"
   ]
  },
  {
   "cell_type": "code",
   "execution_count": null,
   "metadata": {
    "collapsed": true
   },
   "outputs": [],
   "source": [
    "mensaje = 'La vida no es la que uno vivió, sino la que uno recuerda'"
   ]
  },
  {
   "cell_type": "markdown",
   "metadata": {},
   "source": [
    "## Ejercicio.\n",
    "\n",
    "Transformar grados Celsius en Fahrenheit y vieceversa."
   ]
  },
  {
   "cell_type": "code",
   "execution_count": null,
   "metadata": {},
   "outputs": [],
   "source": [
    "c = [0, 22.5, 40,100]"
   ]
  },
  {
   "cell_type": "markdown",
   "metadata": {},
   "source": [
    "# Set comprehensions\n",
    "\n",
    "## Descripción.\n",
    "\n",
    "Permite crear conjuntos usando los mismos principios que las *list comprehensions*, la única diferencia es que la secuencia que resulta es un <font color=#009900>**set**</font>. <br>\n",
    "\n",
    "## Definición.\n",
    "\n",
    "```python\n",
    "{expression(variable) for variable in input_set [predicate][, …]}\n",
    "```\n",
    "\n",
    "1. `expression` : Es una expresión **opcional**) de salida que produce los miembros del nuevo conjunto a partir de los miembros del conjunto de entrada que satisfacen el `predicate`. <br>\n",
    "\n",
    "2. `variable` : Es una variable **requerida** que representa los miembros del conjunto de entrada. <br>\n",
    "\n",
    "3. `input_set`: Representa el conjunto de entrada. (**requerido**). <br>\n",
    "\n",
    "4. `predicate` : Expresión **opcional** que actúa como un filtro sobre los miembros del conjunto de entrada. <br>\n",
    "\n",
    "5. `[, …]]` : Otra *comprehension* anidada **opcional**.\n",
    "  \n",
    "## Ejemplo:\n",
    "Supongamos que deseamos organizar una lista de nombres de tal manera que no haya repeticiones, que los nombres tengan más de un caracter y que su representación sea con la primera letra mayúscula y las demás minúsculas. Por ejemplo, una lista aceptable sería:\n",
    "\n",
    "```python\n",
    "nombres = ['Luis', 'Juan', 'Angie', 'Pedro', 'María', 'Diana']\n",
    "```"
   ]
  },
  {
   "cell_type": "code",
   "execution_count": null,
   "metadata": {},
   "outputs": [],
   "source": [
    "archivo = open('nombres','r')\n",
    "lista_nombres = archivo.read().split()\n",
    "print(lista_nombres)"
   ]
  },
  {
   "cell_type": "code",
   "execution_count": null,
   "metadata": {},
   "outputs": [],
   "source": [
    "nombres_ordenados = {nombre[0].upper() + nombre[1:].lower() \n",
    "                     for nombre in lista_nombres if len(nombre) > 1 }\n",
    "print(nombres_ordenados)"
   ]
  },
  {
   "cell_type": "markdown",
   "metadata": {},
   "source": [
    "## Ejemplos:\n",
    "\n",
    "Explicar los siguientes ejemplos."
   ]
  },
  {
   "cell_type": "code",
   "execution_count": null,
   "metadata": {},
   "outputs": [],
   "source": [
    "{s for s in [1, 2, 1, 0]}"
   ]
  },
  {
   "cell_type": "code",
   "execution_count": null,
   "metadata": {},
   "outputs": [],
   "source": [
    "{s**2 for s in [1, 2, 1, 0]}"
   ]
  },
  {
   "cell_type": "code",
   "execution_count": null,
   "metadata": {},
   "outputs": [],
   "source": [
    "{s**2 for s in range(10)}"
   ]
  },
  {
   "cell_type": "code",
   "execution_count": null,
   "metadata": {},
   "outputs": [],
   "source": [
    "{s for s in range(10) if s % 2}"
   ]
  },
  {
   "cell_type": "code",
   "execution_count": null,
   "metadata": {},
   "outputs": [],
   "source": [
    "{(m, n) for n in range(2) for m in range(3, 5)}\n",
    "set([(3, 0), (3, 1), (4, 0), (4, 1)])"
   ]
  },
  {
   "cell_type": "markdown",
   "metadata": {},
   "source": [
    "# Dictionary Comprehensions\n",
    "\n",
    "## Descripción.\n",
    "\n",
    "- Es un método para transformar un diccionario en otro diccionario. <br>\n",
    "\n",
    "- Durante esta transformación, los objetos dentro del diccionario original pueden ser incluidos o no en el nuevo diccionario dependiendo de una condición. <br>\n",
    "\n",
    "- Cada objeto en el nuevo diccionario puede ser transformado como sea requerido. <br>\n",
    "\n",
    "## Repaso de diccionarios:"
   ]
  },
  {
   "cell_type": "code",
   "execution_count": null,
   "metadata": {},
   "outputs": [],
   "source": [
    "# Los diccionarios tienes claves (key).\n",
    "dict1 = {'a': 1, 'b': 2, 'c': 3, 'd': 4}\n",
    "dict1.keys() # Función para obtener las claves"
   ]
  },
  {
   "cell_type": "code",
   "execution_count": null,
   "metadata": {},
   "outputs": [],
   "source": [
    "# Los diccionarios tienen un valor por cada clave.\n",
    "dict1.values() # Función para obtener los valores"
   ]
  },
  {
   "cell_type": "code",
   "execution_count": null,
   "metadata": {},
   "outputs": [],
   "source": [
    "# Los diccionarios tienen entradas (items) que consisten\n",
    "# de una key y un valor.\n",
    "dict1.items() # Función para obtener los items"
   ]
  },
  {
   "cell_type": "markdown",
   "metadata": {},
   "source": [
    "## Definición.\n",
    "\n",
    "```python\n",
    "{key:value for (key,value) in dictonary.items()}\n",
    "```\n",
    "\n",
    "## Ejemplo:\n",
    "Duplicar el valor (*value*) de cada entrada (*item*) de un diccionario:"
   ]
  },
  {
   "cell_type": "code",
   "execution_count": null,
   "metadata": {},
   "outputs": [],
   "source": [
    "dict1 = {'a': 1, 'b': 2, 'c': 3, 'd': 4, 'e': 5}\n",
    "dict1_values = {k:v*2 for (k,v) in dict1.items()}\n",
    "print(dict1_values)"
   ]
  },
  {
   "cell_type": "markdown",
   "metadata": {},
   "source": [
    "## Ejemplo:\n",
    "Duplicar la clave (*key*) de cada entrada (*item*) del diccionario:"
   ]
  },
  {
   "cell_type": "code",
   "execution_count": null,
   "metadata": {},
   "outputs": [],
   "source": [
    "dict1_keys = {k*2:v for (k,v) in dict1.items()}\n",
    "print(dict1_keys)"
   ]
  },
  {
   "cell_type": "markdown",
   "metadata": {},
   "source": [
    "## Ejercicio.\n",
    "\n",
    "Crear un diccionario donde la clave sea un número divisible por 2 en un rango de 0 a 10 y sus valores sean el cuadrado de la clave."
   ]
  },
  {
   "cell_type": "code",
   "execution_count": null,
   "metadata": {},
   "outputs": [],
   "source": [
    "# La forma tradicional\n",
    "numeros = range(11)\n",
    "dicc = {}\n",
    "\n",
    "for n in numeros:\n",
    "    if n%2==0:\n",
    "        dicc[n] = n**2\n",
    "\n",
    "print(dicc)"
   ]
  },
  {
   "cell_type": "markdown",
   "metadata": {},
   "source": [
    "## Ejercicio.\n",
    "\n",
    "Intercambiar las claves y los valores en un diccionario."
   ]
  },
  {
   "cell_type": "markdown",
   "metadata": {},
   "source": [
    "## Ejercicio.\n",
    "\n",
    "Convertir Fahrenheit a Celsius y viceversa (again!!!)"
   ]
  },
  {
   "cell_type": "code",
   "execution_count": null,
   "metadata": {},
   "outputs": [],
   "source": [
    "# Usando map, lambda y diccionarios\n",
    "[32.0, 72.5, 104.0, 212.0]\n",
    "fahrenheit_dict = {'t1':32.0, 't2':72.5, 't3':104.0, 't4':212.0}\n",
    "\n",
    "celsius = list(map(lambda f: (5/9)*(f-32), fahrenheit_dict.values()))\n",
    "\n",
    "celsius_dict = dict(zip(fahrenheit_dict.keys(), celsius))\n",
    "\n",
    "print(celsius_dict)"
   ]
  },
  {
   "cell_type": "code",
   "execution_count": null,
   "metadata": {},
   "outputs": [],
   "source": [
    "# Usando dict comprehensions !\n",
    "celsius_smart = {k:(5/9)*(v-32) for (k,v) in fahrenheit_dict.items()}\n",
    "print(celsius_smart)"
   ]
  },
  {
   "cell_type": "markdown",
   "metadata": {},
   "source": [
    "## Ejercicio.\n",
    "\n",
    "Dado un diccionario, cuyos valores son enteros, crear un nuevo diccionario cuyos valores sean mayores que 2."
   ]
  },
  {
   "cell_type": "code",
   "execution_count": null,
   "metadata": {},
   "outputs": [],
   "source": [
    "a_dict = {'a':1, 'b':2, 'c':3, 'd':4, 'e':5, 'f':6, 'g':7, 'h':8}\n",
    "print(a_dict)\n",
    "a_dict_cond = { k:v for (k,v) in a_dict.items() if v > 2 }\n",
    "print(a_dict_cond)"
   ]
  },
  {
   "cell_type": "markdown",
   "metadata": {},
   "source": [
    "## Ejercicio.\n",
    "\n",
    "Dado un diccionario, cuyos valores son enteros, crear un nuevo diccionario cuyos valores sean mayores que 2 y que además sean pares."
   ]
  },
  {
   "cell_type": "code",
   "execution_count": null,
   "metadata": {},
   "outputs": [],
   "source": [
    "a_dict_cond2 = { k:v for (k,v) in a_dict.items() if v > 2 if v % 2 == 0}\n",
    "print(a_dict_cond2)"
   ]
  },
  {
   "cell_type": "markdown",
   "metadata": {},
   "source": [
    "## Ejercicio.\n",
    "Dado un diccionario, cuyos valores son enteros, crear un nuevo diccionario cuyos valores sean mayores que 2 y que además sean pares y divisibles por 3."
   ]
  },
  {
   "cell_type": "code",
   "execution_count": null,
   "metadata": {},
   "outputs": [],
   "source": [
    "# La forma tradicional\n",
    "a_dict_cond3_loop = {}\n",
    "\n",
    "for (k,v) in a_dict.items():\n",
    "    if (v>=2 and v%2 == 0 and v%3 == 0):\n",
    "            a_dict_cond3_loop[k] = v\n",
    "\n",
    "print(a_dict_cond3_loop)"
   ]
  },
  {
   "cell_type": "code",
   "execution_count": null,
   "metadata": {},
   "outputs": [],
   "source": [
    "# Usando dict comprehensions\n",
    "a_dict_cond3 = {k:v for (k,v) in a_dict.items() if v>2 if v%2 == 0 if v%3 == 0}\n",
    "\n",
    "print(a_dict_cond3)"
   ]
  },
  {
   "cell_type": "markdown",
   "metadata": {},
   "source": [
    "## Ejercicio.\n",
    "\n",
    "Apartir de un diccionario con valores enteros, identificar los valores pares y los impares, y sustituir los valores por etiquetas 'par' e 'impar' segun corresponda."
   ]
  },
  {
   "cell_type": "code",
   "execution_count": null,
   "metadata": {},
   "outputs": [],
   "source": [
    "print(a_dict)\n",
    "a_dict_else = { k:('par' if v%2==0 else 'impar') for (k,v) in a_dict.items()}\n",
    "print(a_dict_else)"
   ]
  },
  {
   "cell_type": "markdown",
   "metadata": {},
   "source": [
    "## Dict comprehensions anidados"
   ]
  },
  {
   "cell_type": "code",
   "execution_count": null,
   "metadata": {},
   "outputs": [],
   "source": [
    "# con dict comprehensions\n",
    "anidado = {'primero':{'a':1}, 'segundo':{'b':2}, 'tercero':{'c':3}}\n",
    "pi = 3.1415\n",
    "float_dict = {e_k:{i_k:i_v*pi for (i_k, i_v) in e_v.items()} \n",
    "              for (e_k, e_v) in anidado.items()}\n",
    "\n",
    "print(float_dict)"
   ]
  },
  {
   "cell_type": "code",
   "execution_count": null,
   "metadata": {},
   "outputs": [],
   "source": [
    "# La forma tradicional sería:\n",
    "anidado = {'primero':{'a':1}, 'segundo':{'b':2}, 'tercero':{'c':3}}\n",
    "pi = 3.1415\n",
    "for (e_k, e_v) in anidado.items():\n",
    "    for (i_k, i_v) in e_v.items():\n",
    "        e_v.update({i_k: i_v * pi})\n",
    "        \n",
    "anidado.update({e_k:e_v})\n",
    "\n",
    "print(anidado)"
   ]
  },
  {
   "cell_type": "markdown",
   "metadata": {
    "collapsed": true
   },
   "source": [
    "# Más ejercicios\n",
    "\n",
    "## Ejercicio.\n",
    "\n",
    "Eliminar números duplicados de una lista."
   ]
  },
  {
   "cell_type": "code",
   "execution_count": null,
   "metadata": {},
   "outputs": [],
   "source": [
    "numeros = [i for i in range(1,11)] + [i for i in range(1,6)]\n",
    "numeros"
   ]
  },
  {
   "cell_type": "code",
   "execution_count": null,
   "metadata": {},
   "outputs": [],
   "source": [
    "# Una manera es:\n",
    "numeros_unicos = []\n",
    "for n in numeros:\n",
    "    if n not in numeros_unicos:\n",
    "        numeros_unicos.append(n)\n",
    "numeros_unicos"
   ]
  },
  {
   "cell_type": "code",
   "execution_count": null,
   "metadata": {},
   "outputs": [],
   "source": [
    "# Otra forma mas pythonica!\n",
    "numeros_unicos_easy = list(set(numeros))\n",
    "numeros_unicos_easy"
   ]
  },
  {
   "cell_type": "markdown",
   "metadata": {},
   "source": [
    "## Ejercicio.\n",
    "\n",
    "Eliminar objetos duplicados de una lista de diccionarios."
   ]
  },
  {
   "cell_type": "code",
   "execution_count": null,
   "metadata": {},
   "outputs": [],
   "source": [
    "datos = [\n",
    "  {'id': 10, 'dato': '...'},\n",
    "  {'id': 11, 'dato': '...'},\n",
    "  {'id': 12, 'dato': '...'},\n",
    "  {'id': 10, 'dato': '...'},\n",
    "  {'id': 11, 'dato': '...'},\n",
    "]\n",
    "\n",
    "datos"
   ]
  },
  {
   "cell_type": "code",
   "execution_count": null,
   "metadata": {},
   "outputs": [],
   "source": [
    "# La forma tradicional\n",
    "objetos_unicos = []\n",
    "for d in datos:\n",
    "    dato_existe = False\n",
    "    for ou in objetos_unicos:\n",
    "        if ou['id'] == d['id']:\n",
    "          dato_existe = True\n",
    "          break\n",
    "    if not dato_existe:\n",
    "        objetos_unicos.append(d)\n",
    "        \n",
    "objetos_unicos"
   ]
  },
  {
   "cell_type": "code",
   "execution_count": null,
   "metadata": {},
   "outputs": [],
   "source": [
    "# The very best!!\n",
    "objetos_unicos_easy = { d['id']:d for d in datos }.values()\n",
    "\n",
    "print(list(objetos_unicos_easy))"
   ]
  },
  {
   "cell_type": "markdown",
   "metadata": {},
   "source": [
    "## Ejercicio.\n",
    "\n",
    "Un diccionario que tiene como claves letras minúsculas y mayúsculas, y como valores números enteros:\n",
    "\n",
    "```python\n",
    "mcase = {'z':23, 'a':30, 'b':21, 'A':78, 'Z':4, 'C':43, 'B':89}\n",
    "```\n",
    "\n",
    "- Sumar los valores que corresponden a la misma letra, mayúscula y minúscula.\n",
    "\n",
    "- Construir un diccionario cuyas claves sean solo letras minúsculas y sus valores sean la suma antes calculada. "
   ]
  },
  {
   "cell_type": "code",
   "execution_count": null,
   "metadata": {},
   "outputs": [],
   "source": [
    "mcase = {'z':23, 'a':30, 'b':21, 'A':78, 'Z':4, 'C':43, 'B':89}\n",
    "mcase_freq = {k.lower() : \n",
    "              mcase.get(k.lower(), 0) + mcase.get(k.upper(),0)\n",
    "              for k in mcase.keys()}\n",
    "print(mcase_freq)"
   ]
  },
  {
   "cell_type": "markdown",
   "metadata": {},
   "source": [
    "## Ejercicio."
   ]
  },
  {
   "cell_type": "code",
   "execution_count": null,
   "metadata": {},
   "outputs": [],
   "source": [
    "import os, glob\n",
    "metadata = [(f, os.stat(f)) for f in glob.glob('*.ipynb')]\n",
    "metadata"
   ]
  },
  {
   "cell_type": "code",
   "execution_count": null,
   "metadata": {
    "collapsed": true
   },
   "outputs": [],
   "source": [
    "metadata_dict = {f:os.stat(f) for f in glob.glob('*.ipynb')}"
   ]
  },
  {
   "cell_type": "code",
   "execution_count": null,
   "metadata": {},
   "outputs": [],
   "source": [
    "metadata_dict.keys()"
   ]
  },
  {
   "cell_type": "code",
   "execution_count": null,
   "metadata": {},
   "outputs": [],
   "source": [
    "metadata_dict['3_10_1_MapFilter.ipynb'].st_size"
   ]
  },
  {
   "cell_type": "code",
   "execution_count": null,
   "metadata": {
    "collapsed": true
   },
   "outputs": [],
   "source": []
  }
 ],
 "metadata": {
  "kernelspec": {
   "display_name": "Python 3",
   "language": "python",
   "name": "python3"
  },
  "language_info": {
   "codemirror_mode": {
    "name": "ipython",
    "version": 3
   },
   "file_extension": ".py",
   "mimetype": "text/x-python",
   "name": "python",
   "nbconvert_exporter": "python",
   "pygments_lexer": "ipython3",
   "version": "3.6.1"
  }
 },
 "nbformat": 4,
 "nbformat_minor": 2
}
