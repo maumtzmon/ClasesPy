{
 "cells": [
  {
   "cell_type": "markdown",
   "metadata": {},
   "source": [
    "# Documentación\n",
    "\n",
    "Un programa no sólo es un lenguaje de comunicación entre un desarrollador y la computadora, si no también es un lenguaje entre desarrolladores. Aunque python cuenta con una sintaxis elegante, es posible hacer más legible un programa usando comentarios.\n",
    "\n",
    "\n",
    "Los comentarios son líneas de texto, cuyo único propósito es dar información extra a un usuario o un desarrollador, por lo tanto no causaran ningún efecto en la ejecución de un programa pero bien hechos causaron un gran efecto en tareas de mantenimiento, reutilización y escalibilidad. Python nos ofrece dos tipos básicos de comentarios:\n",
    "\n",
    "1. Lineal\n",
    "2. Docstrings"
   ]
  },
  {
   "cell_type": "markdown",
   "metadata": {},
   "source": [
    "## Lineal \n",
    "\n",
    "Este tipo de comentarios se llevan a cabo utilizando el símbolo especial #, con este python sabrá que en adelante de este símbolo es un comentario con lo cual no será tomado en cuenta en la ejecución de un programa, aunque le da más claridad al código, por ejemplo:"
   ]
  },
  {
   "cell_type": "code",
   "execution_count": 2,
   "metadata": {},
   "outputs": [
    {
     "name": "stdout",
     "output_type": "stream",
     "text": [
      "Area =  9.0\n"
     ]
    }
   ],
   "source": [
    "  # Calcula el área de un cuadrado\n",
    "  l = 3.0 # l es el lado de cuadrado\n",
    "  A = l*l # Calcula y almacena el área del cuadrado\n",
    "  # Muestra en pantalla\n",
    "  print(\"Area = \",A)"
   ]
  },
  {
   "cell_type": "markdown",
   "metadata": {},
   "source": [
    "\n",
    "estos comentarios son accesibles únicamente desde el código fuente. Son usados para que el desarrollador o desarrolladores terceros, pueden entender fácilmente el código y puedan modificarlo o realizar tareas de mantenimiento, sobre el código. "
   ]
  },
  {
   "cell_type": "markdown",
   "metadata": {},
   "source": [
    "## Docstring\n",
    "\n",
    "Son comentarios que pueden accederse en tiempo de ejecución. Se encuentran inmediatamente en la codificación de: un módulo, función, clase o método. Para hacer uso de ellos se utilizan las triples comillas, como sigue:"
   ]
  },
  {
   "cell_type": "code",
   "execution_count": 3,
   "metadata": {
    "collapsed": true
   },
   "outputs": [],
   "source": [
    "def suma(a,b):\n",
    "    '''\n",
    "    Calcula la suma de dos\n",
    "    números dados\n",
    "    '''\n",
    "    return a+b"
   ]
  },
  {
   "cell_type": "code",
   "execution_count": 5,
   "metadata": {
    "collapsed": true
   },
   "outputs": [],
   "source": [
    "suma?"
   ]
  },
  {
   "cell_type": "markdown",
   "metadata": {},
   "source": [
    "Aunque no hay ningún estándar de que deba contener y para que son usados. Normalmente sirven de guía para especificar a un usuario como utilizar el código sin tener que revisar los detalles de la implementación. En este caso se recomienda utilizar un formato similar al usado por numpy"
   ]
  },
  {
   "cell_type": "code",
   "execution_count": 6,
   "metadata": {
    "collapsed": true
   },
   "outputs": [],
   "source": [
    "def suma(a,b):\n",
    "    '''\n",
    "    Calcula la suma de dos números dados\n",
    "    \n",
    "    Args: \n",
    "        a: int Numero a sumar\n",
    "        b: int Numero a sumar\n",
    "    Return:\n",
    "        c: int Suma del numero a y b\n",
    "    '''\n",
    "    return a+b"
   ]
  },
  {
   "cell_type": "code",
   "execution_count": 7,
   "metadata": {
    "collapsed": true
   },
   "outputs": [],
   "source": [
    "suma?"
   ]
  },
  {
   "cell_type": "code",
   "execution_count": null,
   "metadata": {
    "collapsed": true
   },
   "outputs": [],
   "source": []
  }
 ],
 "metadata": {
  "kernelspec": {
   "display_name": "Python 3",
   "language": "python",
   "name": "python3"
  },
  "language_info": {
   "codemirror_mode": {
    "name": "ipython",
    "version": 3
   },
   "file_extension": ".py",
   "mimetype": "text/x-python",
   "name": "python",
   "nbconvert_exporter": "python",
   "pygments_lexer": "ipython3",
   "version": "3.6.2"
  }
 },
 "nbformat": 4,
 "nbformat_minor": 2
}
