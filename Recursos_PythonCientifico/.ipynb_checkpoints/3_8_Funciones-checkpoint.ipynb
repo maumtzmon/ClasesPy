{
 "cells": [
  {
   "cell_type": "markdown",
   "metadata": {},
   "source": [
    "# Funciones \n",
    "\n",
    "Son herramientas básicas para minimizar la redundancia y maximizar la reutilización de código.\n",
    "En otras palabras una función es un agrupador de código que puede ser ejecutado en más de una ocasión sin tener que repetirlo cada vez que se requiera.\n",
    "\n",
    "Para utilizarlas se deben considerar dos pasos distintos, estos son:\n",
    "\n",
    "1. Definición.\n",
    "2. Llamada o evaluación.\n",
    "\n"
   ]
  },
  {
   "cell_type": "markdown",
   "metadata": {},
   "source": [
    "## Definición\n",
    "\n",
    "Consiste en agrupar un conjunto de instrucciones.\n"
   ]
  },
  {
   "cell_type": "raw",
   "metadata": {},
   "source": [
    "Sintaxis\n",
    "def <nombre_funcion>(parm1,parm2,...,parmn):\n",
    "    <bloque de codigo>\n",
    "    return <variable>"
   ]
  },
  {
   "cell_type": "code",
   "execution_count": 1,
   "metadata": {
    "collapsed": true
   },
   "outputs": [],
   "source": [
    "# Definir una función que calcule el área de un triangulo\n",
    "def areaTriangulo(base,altura):\n",
    "    return (base*altura)/2.0;"
   ]
  },
  {
   "cell_type": "markdown",
   "metadata": {},
   "source": [
    "## Evaluación\n",
    "\n",
    "\n",
    "Una vez declarada, puede utilizarse una función fácilmente indicando el nombre y poniendo entre paréntesis los argumentos, así pues para llamar a la función areaTriangulo, lo cual puede hacerse de distintas maneras:\n"
   ]
  },
  {
   "cell_type": "code",
   "execution_count": 2,
   "metadata": {},
   "outputs": [
    {
     "data": {
      "text/plain": [
       "15.0"
      ]
     },
     "execution_count": 2,
     "metadata": {},
     "output_type": "execute_result"
    }
   ],
   "source": [
    "areaTriangulo(10,3) # Devuelve 15"
   ]
  },
  {
   "cell_type": "code",
   "execution_count": 3,
   "metadata": {},
   "outputs": [
    {
     "data": {
      "text/plain": [
       "15.0"
      ]
     },
     "execution_count": 3,
     "metadata": {},
     "output_type": "execute_result"
    }
   ],
   "source": [
    "areaTriangulo(altura = 3, base = 10) # Devuelve 15"
   ]
  },
  {
   "cell_type": "markdown",
   "metadata": {},
   "source": [
    "## Ejemplos"
   ]
  },
  {
   "cell_type": "code",
   "execution_count": 5,
   "metadata": {},
   "outputs": [],
   "source": [
    "a = 20; b = -2.5 \n",
    "def f1(x):\n",
    "    a = 21 #Esta es una nueva variable local\n",
    "    return a*x + b "
   ]
  },
  {
   "cell_type": "code",
   "execution_count": 8,
   "metadata": {},
   "outputs": [],
   "source": [
    "def f2(x):\n",
    "    global a \n",
    "    a = 21\n",
    "    return a*x + b\n"
   ]
  },
  {
   "cell_type": "code",
   "execution_count": 9,
   "metadata": {},
   "outputs": [
    {
     "name": "stdout",
     "output_type": "stream",
     "text": [
      "20\n",
      "21\n"
     ]
    }
   ],
   "source": [
    "f1(3); print (a)  \n",
    "f2(3); print (a) "
   ]
  },
  {
   "cell_type": "markdown",
   "metadata": {},
   "source": [
    "## Multiples valores de retorno\n"
   ]
  },
  {
   "cell_type": "code",
   "execution_count": 11,
   "metadata": {},
   "outputs": [],
   "source": [
    "def Funcion_y(t,v0): \n",
    "    g = 9.81\n",
    "    y = v0*t - 0.5*g*t**2 \n",
    "    dydt = v0 - g*t \n",
    "    return y, dydt"
   ]
  },
  {
   "cell_type": "code",
   "execution_count": 12,
   "metadata": {
    "collapsed": true
   },
   "outputs": [],
   "source": [
    "posicion, velocidad = Funcion_y(0.6, 3)"
   ]
  },
  {
   "cell_type": "code",
   "execution_count": 13,
   "metadata": {},
   "outputs": [
    {
     "data": {
      "text/plain": [
       "0.034199999999999786"
      ]
     },
     "execution_count": 13,
     "metadata": {},
     "output_type": "execute_result"
    }
   ],
   "source": [
    "posicion"
   ]
  },
  {
   "cell_type": "code",
   "execution_count": 14,
   "metadata": {},
   "outputs": [
    {
     "data": {
      "text/plain": [
       "-2.886"
      ]
     },
     "execution_count": 14,
     "metadata": {},
     "output_type": "execute_result"
    }
   ],
   "source": [
    "velocidad"
   ]
  },
  {
   "cell_type": "markdown",
   "metadata": {},
   "source": [
    "## Funciones con parametros por defecto"
   ]
  },
  {
   "cell_type": "code",
   "execution_count": 18,
   "metadata": {},
   "outputs": [],
   "source": [
    "import math\n",
    "def f(t, A=1, a=1, omega=2*math.pi): \n",
    "    return A*math.exp(-a*t)*math.sin(omega*t)"
   ]
  },
  {
   "cell_type": "code",
   "execution_count": 19,
   "metadata": {},
   "outputs": [
    {
     "data": {
      "text/plain": [
       "0.778659217806053"
      ]
     },
     "execution_count": 19,
     "metadata": {},
     "output_type": "execute_result"
    }
   ],
   "source": [
    "f(0.2)"
   ]
  },
  {
   "cell_type": "markdown",
   "metadata": {},
   "source": [
    "## Funciones con multiples parametros"
   ]
  },
  {
   "cell_type": "code",
   "execution_count": 20,
   "metadata": {
    "collapsed": true
   },
   "outputs": [],
   "source": [
    "def promedio(*muestras):\n",
    "    promedio = sum(muestras)/len(muestras)\n",
    "    print('El promedio de la muestra de %d elementos es %.3f.' %(len(muestras), promedio))"
   ]
  },
  {
   "cell_type": "code",
   "execution_count": 21,
   "metadata": {},
   "outputs": [
    {
     "name": "stdout",
     "output_type": "stream",
     "text": [
      "El promedio de la muestra de 8 elementos es 21.375.\n"
     ]
    }
   ],
   "source": [
    "promedio(1, 3, 5, 8, 11, 24, 90, 29)"
   ]
  },
  {
   "cell_type": "code",
   "execution_count": 22,
   "metadata": {},
   "outputs": [
    {
     "name": "stdout",
     "output_type": "stream",
     "text": [
      "El promedio de la muestra de 3 elementos es 17.667.\n"
     ]
    }
   ],
   "source": [
    "promedio(14, 38, 1)"
   ]
  },
  {
   "cell_type": "code",
   "execution_count": null,
   "metadata": {
    "collapsed": true
   },
   "outputs": [],
   "source": []
  }
 ],
 "metadata": {
  "kernelspec": {
   "display_name": "Python 3",
   "language": "python",
   "name": "python3"
  },
  "language_info": {
   "codemirror_mode": {
    "name": "ipython",
    "version": 3
   },
   "file_extension": ".py",
   "mimetype": "text/x-python",
   "name": "python",
   "nbconvert_exporter": "python",
   "pygments_lexer": "ipython3",
   "version": "3.6.2"
  }
 },
 "nbformat": 4,
 "nbformat_minor": 2
}
