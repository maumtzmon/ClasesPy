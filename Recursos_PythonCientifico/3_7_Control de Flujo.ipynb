{
 "cells": [
  {
   "cell_type": "markdown",
   "metadata": {},
   "source": [
    "# Flujo de control\n",
    "\n",
    "La ejecución de un programa en python se hace de forma secuencial, es decir se van ejecutando las instrucciones de arriba hacia abajo a esto se le llama flujo de control o control de flujo.\n",
    "\n",
    "\n",
    "Hay sin embargo ocasiones en que es necesario modificar este flujo de control \n",
    "\n",
    "Hay algunas instrucciones que rompen el control de flujo de la ejecucion."
   ]
  },
  {
   "cell_type": "markdown",
   "metadata": {},
   "source": [
    "## Sentencia if\n",
    "\n",
    "Es una sentencia de selección, elige que se debe y que no se debe de ejecutar."
   ]
  },
  {
   "cell_type": "code",
   "execution_count": 1,
   "metadata": {},
   "outputs": [
    {
     "name": "stdout",
     "output_type": "stream",
     "text": [
      "Hola mundo!!!\n"
     ]
    }
   ],
   "source": [
    "if True:\n",
    "    print(\"Hola mundo!!!\")"
   ]
  },
  {
   "cell_type": "markdown",
   "metadata": {},
   "source": [
    "## Sentencia if-else"
   ]
  },
  {
   "cell_type": "code",
   "execution_count": 3,
   "metadata": {},
   "outputs": [
    {
     "name": "stdout",
     "output_type": "stream",
     "text": [
      "0.0\n"
     ]
    }
   ],
   "source": [
    "presion = -10.3\n",
    "if presion < 0:\n",
    "    presion = 0.0\n",
    "else:\n",
    "    presion = 10\n",
    "print(presion)"
   ]
  },
  {
   "cell_type": "markdown",
   "metadata": {},
   "source": [
    "## Sentencia if-elif-else"
   ]
  },
  {
   "cell_type": "code",
   "execution_count": 4,
   "metadata": {},
   "outputs": [
    {
     "name": "stdout",
     "output_type": "stream",
     "text": [
      "Raices reales diferentes\n"
     ]
    }
   ],
   "source": [
    "a = 1.0\n",
    "b = 3.0\n",
    "c = -10\n",
    "d = b**2 - 4*a*c #Discriminante\n",
    "if d < 0:\n",
    "    print(\"Raices complejas\")\n",
    "elif d == 0:\n",
    "    print(\"Raices reales iguales\")\n",
    "else:\n",
    "    print(\"Raices reales diferentes\")\n"
   ]
  },
  {
   "cell_type": "markdown",
   "metadata": {},
   "source": [
    "## Iterativas\n",
    "\n",
    " las instrucciones iterativas o también llamadas bucles permiten la ejecución del mismo bloque de instrucciones tantas veces sea requerido.\n"
   ]
  },
  {
   "cell_type": "markdown",
   "metadata": {},
   "source": [
    "### while\n",
    "\n",
    "Esta instrucción ejecuta un bloque de código mientras se cumpla una condición.\n"
   ]
  },
  {
   "cell_type": "code",
   "execution_count": 5,
   "metadata": {},
   "outputs": [
    {
     "name": "stdout",
     "output_type": "stream",
     "text": [
      "Suma:  10\n"
     ]
    }
   ],
   "source": [
    "suma = 0\n",
    "while suma < 10:\n",
    "    suma += 1\n",
    "print(\"Suma: \",suma)"
   ]
  },
  {
   "cell_type": "markdown",
   "metadata": {},
   "source": [
    "### for\n",
    "\n",
    "Lista los elementos de un objeto iterable, en una variable llamada índice.\n"
   ]
  },
  {
   "cell_type": "code",
   "execution_count": 6,
   "metadata": {},
   "outputs": [
    {
     "name": "stdout",
     "output_type": "stream",
     "text": [
      "fallas\n",
      "fracturas\n",
      "pliegues\n",
      "esfuerzos\n"
     ]
    }
   ],
   "source": [
    "estructural = ['fallas','fracturas','pliegues','esfuerzos']\n",
    "for i in estructural:\n",
    "    print (i)"
   ]
  },
  {
   "cell_type": "markdown",
   "metadata": {},
   "source": [
    "## Interrupciones\n",
    "\n",
    "Son expresiones que interrumpen el flujo de un ciclo, tenemos:\n",
    "\n",
    "* continue\n",
    "* break\n",
    "* exit"
   ]
  },
  {
   "cell_type": "markdown",
   "metadata": {},
   "source": [
    "### continue\n",
    "\n",
    "Termina la ejecución de un bloque y salta al siguiente."
   ]
  },
  {
   "cell_type": "code",
   "execution_count": 7,
   "metadata": {},
   "outputs": [
    {
     "name": "stdout",
     "output_type": "stream",
     "text": [
      "Intento 1.\n",
      "Clave: despedida\n",
      "\n",
      "Intento 2.\n",
      "Clave: ds\n",
      "\n",
      "Intento 3.\n",
      "Clave: des\n",
      "\n",
      "Tuviste 2 intentos fallidos.\n"
     ]
    }
   ],
   "source": [
    "\n",
    "entrada = \"\"\n",
    "suma = 0\n",
    "fallido = 0\n",
    "while suma < 3:\n",
    "    suma += 1\n",
    "    print(\"Intento %d.\" % suma)\n",
    "    entrada = input(\"Clave: \")\n",
    "    print()\n",
    "    # Al ingresar \"despedida\", se evita que la variable fallido se incremente.\n",
    "    if entrada == \"despedida\":\n",
    "        continue\n",
    "    fallido += 1\n",
    "print(\"Tuviste %d intentos fallidos.\" % fallido)"
   ]
  },
  {
   "cell_type": "markdown",
   "metadata": {},
   "source": [
    "### break\n",
    "\n",
    "Termina la ejecucion de un ciclo."
   ]
  },
  {
   "cell_type": "code",
   "execution_count": 9,
   "metadata": {},
   "outputs": [
    {
     "name": "stdout",
     "output_type": "stream",
     "text": [
      "Clave:despedida\n",
      "Tuviste 0 intentos fallidos.\n"
     ]
    }
   ],
   "source": [
    "suma = 0\n",
    "while suma < 3:\n",
    "    entrada = input(\"Clave:\")\n",
    "    #Si se ingresa la palabra \"despedida, se termina el ciclo.\n",
    "    if entrada == \"despedida\":\n",
    "        break\n",
    "    suma = suma + 1\n",
    "    print(\"Intento %d. \\n \" % suma)\n",
    "print(\"Tuviste %d intentos fallidos.\" % suma)\n"
   ]
  },
  {
   "cell_type": "markdown",
   "metadata": {},
   "source": [
    "## exit\n",
    "Termina con la ejecución del programa."
   ]
  },
  {
   "cell_type": "code",
   "execution_count": null,
   "metadata": {
    "collapsed": true
   },
   "outputs": [],
   "source": [
    "entrada = \"\"\n",
    "suma = 0\n",
    "while suma < 3:\n",
    "    entrada = input(\"Clave:\")\n",
    "    if entrada == \"despedida\":\n",
    "        break\n",
    "    elif entrada == \"termina\":\n",
    "        exit()\n",
    "    suma = suma + 1\n",
    "    print(\"Intento %d. \\n \" % suma)\n",
    "print(\"Tuviste %d intentos fallidos.\" % suma)"
   ]
  },
  {
   "cell_type": "code",
   "execution_count": null,
   "metadata": {
    "collapsed": true
   },
   "outputs": [],
   "source": []
  }
 ],
 "metadata": {
  "kernelspec": {
   "display_name": "Python 3",
   "language": "python",
   "name": "python3"
  },
  "language_info": {
   "codemirror_mode": {
    "name": "ipython",
    "version": 3
   },
   "file_extension": ".py",
   "mimetype": "text/x-python",
   "name": "python",
   "nbconvert_exporter": "python",
   "pygments_lexer": "ipython3",
   "version": "3.6.3"
  }
 },
 "nbformat": 4,
 "nbformat_minor": 2
}
