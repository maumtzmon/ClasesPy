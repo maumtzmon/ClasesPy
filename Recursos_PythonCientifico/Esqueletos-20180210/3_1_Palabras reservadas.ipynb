{
 "cells": [
  {
   "cell_type": "markdown",
   "metadata": {},
   "source": [
    "# 3.1. Palabras reservadas"
   ]
  },
  {
   "cell_type": "markdown",
   "metadata": {},
   "source": [
    "# Etiquetas\n",
    "\n",
    "Son símbolos que permiten almacenar o reasignar información en la computadora.\n",
    "\n",
    "Se crean con ayuda del operador de asignación (**=**) y a diferencia de otros lenguajes en python no se tiene que establecer explicitamente el tipo de dato a almacenar.\n",
    "\n",
    "\n",
    "## Sintaxis\n",
    "\n",
    "Hay reglas especificas para escribir una etiqueta, estas son:\n",
    "\n",
    "        1. Usar combinaciones de números, caracteres alfabeticos y guion bajo.\n",
    "        2. No pueden iniciar con número.\n",
    "        3. No pueden ser palabras reservadas.\n"
   ]
  },
  {
   "cell_type": "code",
   "execution_count": null,
   "metadata": {},
   "outputs": [],
   "source": []
  },
  {
   "cell_type": "code",
   "execution_count": null,
   "metadata": {},
   "outputs": [],
   "source": []
  },
  {
   "cell_type": "code",
   "execution_count": null,
   "metadata": {},
   "outputs": [],
   "source": []
  },
  {
   "cell_type": "code",
   "execution_count": null,
   "metadata": {},
   "outputs": [],
   "source": []
  },
  {
   "cell_type": "code",
   "execution_count": null,
   "metadata": {},
   "outputs": [],
   "source": []
  },
  {
   "cell_type": "code",
   "execution_count": null,
   "metadata": {},
   "outputs": [],
   "source": []
  },
  {
   "cell_type": "markdown",
   "metadata": {},
   "source": [
    "### Buenas practicas. Los nombres de las etiquetas deben ser significativos para el programador."
   ]
  },
  {
   "cell_type": "markdown",
   "metadata": {},
   "source": [
    "## Sensibilidad a minusculas y mayusculas\n",
    "\n",
    "Se distinguen las letras minusculas y mayusculas entre si."
   ]
  },
  {
   "cell_type": "code",
   "execution_count": null,
   "metadata": {
    "collapsed": true
   },
   "outputs": [],
   "source": []
  },
  {
   "cell_type": "markdown",
   "metadata": {},
   "source": [
    "## Asiganción multiple\n",
    "\n",
    "Es posible, asignar etiquetas, usando el operador de asignación en una unica ocasión: "
   ]
  },
  {
   "cell_type": "code",
   "execution_count": null,
   "metadata": {},
   "outputs": [],
   "source": []
  },
  {
   "cell_type": "code",
   "execution_count": null,
   "metadata": {},
   "outputs": [],
   "source": []
  },
  {
   "cell_type": "markdown",
   "metadata": {},
   "source": [
    "# Palabras reservadas\n",
    "\n",
    "Son palabras que tienen un significado especial para el interprete de Python. "
   ]
  },
  {
   "cell_type": "code",
   "execution_count": null,
   "metadata": {},
   "outputs": [],
   "source": []
  },
  {
   "cell_type": "code",
   "execution_count": null,
   "metadata": {},
   "outputs": [],
   "source": []
  },
  {
   "cell_type": "markdown",
   "metadata": {
    "collapsed": true
   },
   "source": [
    "## Ejericicio. Determinar cuales de las siguientes palabras NO pueden ser usadas como etiquetas.\n",
    "\n",
    "* estrato\n",
    "* 3strato\n",
    "* e$strato\n",
    "* estra to\n",
    "* del "
   ]
  },
  {
   "cell_type": "code",
   "execution_count": null,
   "metadata": {
    "collapsed": true
   },
   "outputs": [],
   "source": []
  }
 ],
 "metadata": {
  "kernelspec": {
   "display_name": "Python 3",
   "language": "python",
   "name": "python3"
  },
  "language_info": {
   "codemirror_mode": {
    "name": "ipython",
    "version": 3
   },
   "file_extension": ".py",
   "mimetype": "text/x-python",
   "name": "python",
   "nbconvert_exporter": "python",
   "pygments_lexer": "ipython3",
   "version": "3.6.2"
  }
 },
 "nbformat": 4,
 "nbformat_minor": 2
}
