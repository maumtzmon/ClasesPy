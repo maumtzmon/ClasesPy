{
 "cells": [
  {
   "cell_type": "markdown",
   "metadata": {},
   "source": [
    "# Vectorización \n",
    "\n",
    "\n",
    "Como se ha mencionado hasta ahora Python es un lenguaje de programación interpretado, por lo tanto no se genera un archivo de ejecución, lo cual produce que Python sea más lento en ejecución que un lenguaje como C, C++, Fortran. \n",
    "\n",
    "Para hacer más eficiente el código python, conviene escribir algunas parte del código en lenguajes de más bajo nivel y usarlos cada vez que se requiera, esto lo hace Numpy. \n",
    "\n",
    "Por lo tanto siempre conviene más utilizar las operaciones que traé consigo Numpy que usar expresiones por defecto de python. "
   ]
  },
  {
   "cell_type": "code",
   "execution_count": 6,
   "metadata": {},
   "outputs": [],
   "source": [
    "import numpy as np"
   ]
  },
  {
   "cell_type": "code",
   "execution_count": 31,
   "metadata": {},
   "outputs": [],
   "source": [
    "import time\n",
    "\n",
    "def crono(f):\n",
    "    \"\"\"\n",
    "    Regresa el tiempo que toma en ejecutarse la funcion.\n",
    "    \"\"\"\n",
    "    def tiempo():\n",
    "        t1 = time.time()\n",
    "        f()\n",
    "        t2 = time.time()\n",
    "        return 'Elapsed time: ' + str((t2 - t1)) + \"\\n\"\n",
    "    return tiempo\n",
    "\n",
    "@crono\n",
    "def sumaE():\n",
    "    a = np.ones(1000000)\n",
    "    val = np.zeros_like(a)\n",
    "    for i in range(len(a)):\n",
    "        val[i] = a[i]+5\n",
    "    return val\n",
    "\n",
    "@crono\n",
    "def sumaV():\n",
    "    a = np.ones(1000000)\n",
    "    val = a + 5\n",
    "    return val\n"
   ]
  },
  {
   "cell_type": "code",
   "execution_count": 32,
   "metadata": {},
   "outputs": [
    {
     "name": "stdout",
     "output_type": "stream",
     "text": [
      "Elapsed time: 0.3738119602203369\n",
      "\n",
      "Elapsed time: 0.0029387474060058594\n",
      "\n"
     ]
    }
   ],
   "source": [
    "print(sumaE())\n",
    "print(sumaV())"
   ]
  },
  {
   "cell_type": "markdown",
   "metadata": {},
   "source": [
    "Las operaciones vectoriales usando esta característica del lenguaje es más rapida que cualquier equivalente usando Python puro. \n",
    "\n",
    "Por lo tanto la vectorización consiste en remplazar partes lentas como ciclos for, por operaciones, rebanado o funciones de Numpy. "
   ]
  },
  {
   "cell_type": "code",
   "execution_count": null,
   "metadata": {},
   "outputs": [],
   "source": []
  }
 ],
 "metadata": {
  "kernelspec": {
   "display_name": "Python 3",
   "language": "python",
   "name": "python3"
  },
  "language_info": {
   "codemirror_mode": {
    "name": "ipython",
    "version": 3
   },
   "file_extension": ".py",
   "mimetype": "text/x-python",
   "name": "python",
   "nbconvert_exporter": "python",
   "pygments_lexer": "ipython3",
   "version": "3.6.4"
  }
 },
 "nbformat": 4,
 "nbformat_minor": 2
}
