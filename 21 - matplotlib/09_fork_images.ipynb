{
 "cells": [
  {
   "cell_type": "markdown",
   "metadata": {},
   "source": [
    "# Usando Fork para desplegar las imagenes sin detener el flujo del codigo"
   ]
  },
  {
   "attachments": {},
   "cell_type": "markdown",
   "metadata": {},
   "source": [
    "#### El objetivo de esta herramienta es poder hacer multimples tareas de manera simultanea y que el flujo del codigo no se vea interrumpido.\n",
    "\n",
    "#### El flujo de nuestro codigo tendra una bifurcacion en el punto donde se despliegue la imagen y esto se logra generando procesos alternos a nuestro codigo\n",
    "\n",
    "#### Cuando ejecutamos codigo, el SO asigna un proceso a esa tarea y el proceso se dara por terminado cuando termine de ejecutarse la ultima linea o cuando se cierren las ventanas emergentes producidas por nuestro codigo. Estas ventanas pueden ser, por ejemplo, una ventana de Matplotlib.\n",
    "\n",
    "\n",
    "![diagramas](fork_python.png)"
   ]
  },
  {
   "attachments": {},
   "cell_type": "markdown",
   "metadata": {},
   "source": [
    "### un Ejemplo de codigo es el siguiente, los bloques quedarian de la siguiente manera:\n",
    "\n",
    "* #### Bloque de librerias\n",
    "* #### Codigo principal\n",
    "* #### definimos los parametros de la imagen, una recta simple y una etiqueta en el eje Y\n",
    "* #### utilizamos fork() y en ese momento se genera el proceso hijo\n",
    "* #### A traves de estructuras de control (if else while) es posible determinar la tarea correspóndiente a cada proceso. De manera que cada proceso ejecute de manera independiente el codigo asignado sin tener que esperar a que se ejecuten todos los proceso en cadena.\n",
    "\n"
   ]
  },
  {
   "cell_type": "markdown",
   "metadata": {},
   "source": [
    "```\n",
    "from matplotlib import pyplot as plt\n",
    "from os import fork, getpid\n",
    "import sys\n",
    "```\n"
   ]
  },
  {
   "attachments": {},
   "cell_type": "markdown",
   "metadata": {},
   "source": [
    "```\n",
    "{\n",
    "  plt.plot([1, 2, 3, 4])\n",
    "  plt.ylabel('some numbers')\n",
    "\n",
    "  Val = fork()\n",
    "\n",
    "\n",
    "\n",
    "  if Val==0: #si es el proceso hijo\n",
    "      print('el valod del PID del proceso hijo es ' + str(getpid()))\n",
    "      plt.show()\n",
    "      sys.exit() #termina aqui el proceso, de lo contrario hara lo que siga \n",
    "                 #desṕues del IF-ELSE como el proceso padre\n",
    "    \n",
    "  else:\n",
    "      time.sleep(1) #este tiempo solo es para evitar que ambos usen la linea \n",
    "                    #de comando para escribir al mismo tiempo\n",
    "      PID_padre=str(getpid())\n",
    "      print('el valor del PID del proceso padre es: ' + PID_padre)\n",
    "   \n",
    "  print('solo imprimir si eres el padre '+PID_padre)\n",
    "}\n",
    "```"
   ]
  },
  {
   "cell_type": "code",
   "execution_count": null,
   "metadata": {},
   "outputs": [],
   "source": []
  }
 ],
 "metadata": {
  "kernelspec": {
   "display_name": "Python 3",
   "language": "python",
   "name": "python3"
  },
  "language_info": {
   "codemirror_mode": {
    "name": "ipython",
    "version": 3
   },
   "file_extension": ".py",
   "mimetype": "text/x-python",
   "name": "python",
   "nbconvert_exporter": "python",
   "pygments_lexer": "ipython3",
   "version": "3.10.6"
  },
  "orig_nbformat": 4
 },
 "nbformat": 4,
 "nbformat_minor": 2
}
