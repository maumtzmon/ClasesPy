{
 "cells": [
  {
   "cell_type": "markdown",
   "metadata": {},
   "source": [
    "# Voltage Levels"
   ]
  },
  {
   "cell_type": "code",
   "execution_count": 3,
   "metadata": {},
   "outputs": [],
   "source": [
    "import matplotlib.pyplot as plt\n",
    "\n",
    "#https://matplotlib.org/stable/gallery/lines_bars_and_markers/hat_graph.html#sphx-glr-gallery-lines-bars-and-markers-hat-graph-py\n",
    "#https://matplotlib.org/stable/api/_as_gen/matplotlib.axes.Axes.annotate.html#matplotlib.axes.Axes.annotate\n",
    "\n",
    "def outputStageTiming(vFile='/home/mauricio/datosFits/microchip/testMarzo/voltage_skp_lta_v2_microchip.sh'):\n",
    "    voltageDict={}\n",
    "    swingDict={}\n",
    "    with open(vFile, 'r') as VoltageFile:\n",
    "        varlist=[]\n",
    "        for line in VoltageFile:\n",
    "            #print(line, end='\\r')\n",
    "            if '='in line:\n",
    "                varlist.append(float(line.split('=')[1]))\n",
    "            if len(varlist)==2:\n",
    "                voltageDict[line.split('=')[0][0]]=varlist\n",
    "                varlist=[]\n",
    "    vr=-7\n",
    "    voltageDict['r']=[vr,vr-0.1] #voltaje del nodo de lectura, esta en la seccion del Bias como vr (aumento .01 solo para el plot)\n",
    "    print(str(voltageDict))\n",
    "\n",
    "    cell_text = []\n",
    "    fig, ax = plt.subplots()\n",
    "    \n",
    "\n",
    "    for key in voltageDict:\n",
    "        x=0\n",
    "        if key.startswith('v') or key.startswith('t') or key.startswith('h') or key.startswith('s') or key.startswith('o') or key.startswith('d') or key.startswith('r'):\n",
    "            \n",
    "            #   'key' : [high=0, low=1]\n",
    "            #high states\n",
    "            x+=1\n",
    "            if voltageDict[key][0]>0:   \n",
    "                ax.annotate(voltageDict[key][0],(key, float(voltageDict[key][0]+0.05)))\n",
    "                ax.bar(key,voltageDict[key][0],color='black',label=key)\n",
    "                if voltageDict[key][1]>0:\n",
    "                    ax.bar(key,voltageDict[key][1], color='white',label=key)\n",
    "                else:\n",
    "                    ax.bar(key,voltageDict[key][1], color='black',label=key)          \n",
    "            elif voltageDict[key][1]<0:\n",
    "                ax.annotate(voltageDict[key][0],(key, float(voltageDict[key][0]+0.05)))\n",
    "                ax.bar(key,voltageDict[key][1],color='black',label=key)\n",
    "                if voltageDict[key][0]<0:\n",
    "                    ax.bar(key,voltageDict[key][0], color='white',label=key)\n",
    "                else:\n",
    "                    ax.bar(key,voltageDict[key][1], color='black',label=key)\n",
    "            #Lowstates\n",
    "            # if voltageDict[key][1]>0:\n",
    "            #     ax.bar(key,voltageDict[key][0],color='black',label=key)\n",
    "            #     ax.bar(key,voltageDict[key][1], color='white',label=key)\n",
    "                \n",
    "            # else:\n",
    "            #     ax.bar(key,voltageDict[key][1], color='black',label=key)\n",
    "            #     ax.bar(key,voltageDict[key][0],color='green',label=key)\n",
    "            if key != 'r':\n",
    "                ax.annotate(voltageDict[key][1],(key, float(voltageDict[key][1]-.5))) "
   ]
  },
  {
   "cell_type": "markdown",
   "metadata": {},
   "source": [
    "Para incluir imagenes usamos:\n",
    "\n",
    "![diagramas](/home/oem/Software/cursoInstrumentacion_2022/ClasesPy/block_timingCCD_Diagram.jpg)"
   ]
  },
  {
   "cell_type": "code",
   "execution_count": 9,
   "metadata": {},
   "outputs": [
    {
     "name": "stdout",
     "output_type": "stream",
     "text": [
      "{'v': [-3.5, -6.0], 't': [-4.0, -6.5], 'h': [-4.5, -7.0], 's': [-5.0, -10.0], 'o': [-5.5, -8.0], 'r': [-7, -7.1], 'd': [-1.0, -10.0]}\n"
     ]
    },
    {
     "data": {
      "image/png": "[encoded data removed]",
      "text/plain": [
       "<Figure size 432x288 with 1 Axes>"
      ]
     },
     "metadata": {
      "needs_background": "light"
     },
     "output_type": "display_data"
    }
   ],
   "source": [
    "outputStageTiming()"
   ]
  },
  {
   "cell_type": "markdown",
   "metadata": {},
   "source": [
    "# plot data\n",
    "busqueda de electronePeaks"
   ]
  },
  {
   "cell_type": "code",
   "execution_count": null,
   "metadata": {},
   "outputs": [],
   "source": [
    "from plotdata_sub_electronPeak import plotData as pt\n",
    "file='/home/maumtz/datosFits/testMITLL/14NOV22/proc_skp_module26_MITLL01_externalVr_Vtest_T170_testLeakage__NSAMP324_NROW50_NCOL700_EXPOSURE0_NBINROW1_NBINCOL1_img13.fits'\n",
    "pt(file)"
   ]
  },
  {
   "cell_type": "markdown",
   "metadata": {},
   "source": [
    "# Propuesta\n",
    "#### -leer el header del archivo fits y extraer directamente de la imagen los parametros de los relojes.\n",
    "#### -iterar sobre una lista de arhivos y generar la imagen correspondiente a cada uno de ellos\n",
    "#### -Salvar cada imagen con el nombre correspondiente a la imagen que esta analizando"
   ]
  }
 ],
 "metadata": {
  "kernelspec": {
   "display_name": "Python 3",
   "language": "python",
   "name": "python3"
  },
  "language_info": {
   "codemirror_mode": {
    "name": "ipython",
    "version": 3
   },
   "file_extension": ".py",
   "mimetype": "text/x-python",
   "name": "python",
   "nbconvert_exporter": "python",
   "pygments_lexer": "ipython3",
   "version": "3.10.6"
  },
  "vscode": {
   "interpreter": {
    "hash": "31f2aee4e71d21fbe5cf8b01ff0e069b9275f58929596ceb00d14d90e3e16cd6"
   }
  }
 },
 "nbformat": 4,
 "nbformat_minor": 4
}
