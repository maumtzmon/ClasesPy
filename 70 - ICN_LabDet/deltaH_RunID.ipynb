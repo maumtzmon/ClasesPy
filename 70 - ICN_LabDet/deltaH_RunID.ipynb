{
 "cells": [
  {
   "cell_type": "code",
   "execution_count": 13,
   "metadata": {},
   "outputs": [],
   "source": [
    "from astropy.io import fits\n",
    "import os\n",
    "from matplotlib import pyplot as plt"
   ]
  },
  {
   "cell_type": "code",
   "execution_count": 66,
   "metadata": {},
   "outputs": [
    {
     "data": {
      "text/plain": [
       "Text(0.5, 0, 'RunID')"
      ]
     },
     "execution_count": 66,
     "metadata": {},
     "output_type": "execute_result"
    },
    {
     "data": {
      "image/png": "[encoded data removed]",
      "text/plain": [
       "<Figure size 1440x360 with 4 Axes>"
      ]
     },
     "metadata": {
      "needs_background": "light"
     },
     "output_type": "display_data"
    }
   ],
   "source": [
    "path = \"/home/mauricio/datosFits/microchip/testMarzo/vfile/nsamp_324/\"\n",
    "\n",
    "files = os.listdir(path)\n",
    "deltaH=[]\n",
    "deltaV=[]\n",
    "deltaT=[]\n",
    "deltaSW=[]\n",
    "RunID=[]\n",
    "\n",
    "for file in files:\n",
    "    if file.endswith('.fits'):\n",
    "        hdul=fits.open(path+file)\n",
    "        header=hdul[1].header\n",
    "        deltaH.append(float(header[\"H1AH\"])-float(header[\"H1AL\"]))\n",
    "        deltaV.append(float(header[\"V1AH\"])-float(header[\"V1AL\"]))\n",
    "        deltaT.append(float(header[\"TGAH\"])-float(header[\"TGAL\"]))\n",
    "        deltaSW.append(float(header[\"SWAH\"])-float(header[\"SWAL\"]))\n",
    "        RunID.append(float(header[\"RUNID\"]))\n",
    "\n",
    "fig_delta, axs_plot=plt.subplots(1,4,figsize=(20, 5))\n",
    "axs_plot[0].plot(RunID,deltaV,\".k\")\n",
    "axs_plot[0].set_title(\"Delta V\")\n",
    "axs_plot[0].set_ylabel(\"Volts\")\n",
    "axs_plot[1].plot(RunID,deltaT,\".k\")\n",
    "axs_plot[1].set_title(\"Delta T\")\n",
    "axs_plot[2].plot(RunID,deltaH,\".k\")\n",
    "axs_plot[2].set_title(\"Delta H\")\n",
    "axs_plot[3].plot(RunID,deltaSW,\".k\")\n",
    "axs_plot[3].set_title(\"Delta SW\")\n",
    "axs_plot[3].set_xlabel(\"RunID\")\n"
   ]
  },
  {
   "cell_type": "code",
   "execution_count": null,
   "metadata": {},
   "outputs": [],
   "source": []
  }
 ],
 "metadata": {
  "kernelspec": {
   "display_name": "Python 3",
   "language": "python",
   "name": "python3"
  },
  "language_info": {
   "codemirror_mode": {
    "name": "ipython",
    "version": 3
   },
   "file_extension": ".py",
   "mimetype": "text/x-python",
   "name": "python",
   "nbconvert_exporter": "python",
   "pygments_lexer": "ipython3",
   "version": "3.10.6"
  },
  "orig_nbformat": 4,
  "vscode": {
   "interpreter": {
    "hash": "916dbcbb3f70747c44a77c7bcd40155683ae19c65e1c03b4aa3499c5328201f1"
   }
  }
 },
 "nbformat": 4,
 "nbformat_minor": 2
}
