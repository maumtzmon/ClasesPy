{
 "cells": [
  {
   "cell_type": "code",
   "execution_count": null,
   "metadata": {},
   "outputs": [],
   "source": [
    "variable = float(input(\"Introduce algo: \"))\n",
    "a = 2\n",
    "print(\"resultado: \",a*variable)"
   ]
  },
  {
   "cell_type": "code",
   "execution_count": null,
   "metadata": {},
   "outputs": [],
   "source": [
    "try:\n",
    "    variable = float(input(\"Introduce un numero: \"))\n",
    "    a = 2\n",
    "    print(\"resultado: \",a*variable)\n",
    "except:\n",
    "    print(\"Ingresaste cualquier otra cosa menos la que se te pidio\")"
   ]
  },
  {
   "cell_type": "code",
   "execution_count": null,
   "metadata": {},
   "outputs": [],
   "source": [
    "while(True):\n",
    "    try:\n",
    "        variable = float(input(\"Introduce un numero: \"))\n",
    "        a = 2\n",
    "        print(\"resultado: \",a*variable)\n",
    "        break\n",
    "    except:\n",
    "        print(\"Ingresaste cualquier otra cosa menos la que se te pidio, te voy a dar otra oportunidad\")"
   ]
  },
  {
   "cell_type": "code",
   "execution_count": null,
   "metadata": {},
   "outputs": [],
   "source": [
    "while(True):\n",
    "    try:\n",
    "        variable = float(input(\"Introduce un numero: \"))\n",
    "        a = 2\n",
    "        print(\"resultado: \",a*variable)\n",
    "    except:\n",
    "        print(\"Ingresaste cualquier otra cosa menos la que se te pidio, te voy a dar otra oportunidad\")\n",
    "    else:\n",
    "        print(\"iniciaste sesion perfectamente, amego\")\n",
    "        break"
   ]
  },
  {
   "cell_type": "code",
   "execution_count": null,
   "metadata": {},
   "outputs": [],
   "source": [
    "while(True):\n",
    "    try:\n",
    "        variable = float(input(\"Introduce un numero: \"))\n",
    "        a = 2\n",
    "        print(\"resultado: \",a*variable)\n",
    "    except:\n",
    "        print(\"Ingresaste cualquier otra cosa menos la que se te pidio, te voy a dar otra oportunidad\")\n",
    "    else:\n",
    "        print(\"iniciaste sesion perfectamente, amego\")\n",
    "        break\n",
    "    finally:\n",
    "        print(\"Perfecto mi Amigo, termino todo esto.\")"
   ]
  },
  {
   "cell_type": "code",
   "execution_count": null,
   "metadata": {},
   "outputs": [],
   "source": []
  }
 ],
 "metadata": {
  "kernelspec": {
   "display_name": "Python 3 (ipykernel)",
   "language": "python",
   "name": "python3"
  },
  "language_info": {
   "codemirror_mode": {
    "name": "ipython",
    "version": 3
   },
   "file_extension": ".py",
   "mimetype": "text/x-python",
   "name": "python",
   "nbconvert_exporter": "python",
   "pygments_lexer": "ipython3",
   "version": "3.9.7"
  }
 },
 "nbformat": 4,
 "nbformat_minor": 2
}
