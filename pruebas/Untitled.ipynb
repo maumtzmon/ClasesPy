{
 "cells": [
  {
   "cell_type": "code",
   "execution_count": 1,
   "id": "269fb132-44bb-40d4-892a-b324774c37f2",
   "metadata": {},
   "outputs": [],
   "source": [
    "import subprocess"
   ]
  },
  {
   "cell_type": "code",
   "execution_count": 15,
   "id": "5aa240f1-fc68-4ebc-b0e5-995adc196bb1",
   "metadata": {},
   "outputs": [],
   "source": [
    "x=subprocess.check_output('ls ..', shell=True).decode()"
   ]
  },
  {
   "cell_type": "code",
   "execution_count": 16,
   "id": "029f533f-e342-41b9-b0ad-f5010977c89a",
   "metadata": {},
   "outputs": [
    {
     "name": "stdout",
     "output_type": "stream",
     "text": [
      "03 - Primeros Pasos\n",
      "04 - Estructuras de Control\n",
      "05 - Operadores relacionales, lógicos y asignación. Expresiones Anidadas\n",
      "06 - Funciones\n",
      "07 - Errores y Excepciones\n",
      "08 - POO\n",
      "09 - matplotlib\n",
      "info\n",
      "pandas_excel.ipynb\n",
      "pandas_Index.ipynb\n",
      "pruebas\n",
      "Recursos_PythonCientifico\n",
      "\n"
     ]
    }
   ],
   "source": [
    "print(x)"
   ]
  },
  {
   "cell_type": "code",
   "execution_count": 17,
   "id": "85a80c97-2735-4b82-968c-124acc983bd0",
   "metadata": {},
   "outputs": [
    {
     "data": {
      "text/plain": [
       "str"
      ]
     },
     "execution_count": 17,
     "metadata": {},
     "output_type": "execute_result"
    }
   ],
   "source": [
    "type(x)"
   ]
  },
  {
   "cell_type": "code",
   "execution_count": 23,
   "id": "7468268d-62e0-4fe2-83b3-8bc6463dcf78",
   "metadata": {},
   "outputs": [],
   "source": [
    "x=subprocess.check_output('./script.sh', shell=True).decode()"
   ]
  },
  {
   "cell_type": "code",
   "execution_count": 24,
   "id": "159349bc-6d5a-422e-88b1-0b11a7abaab8",
   "metadata": {},
   "outputs": [
    {
     "data": {
      "text/plain": [
       "'Hola perro\\n'"
      ]
     },
     "execution_count": 24,
     "metadata": {},
     "output_type": "execute_result"
    }
   ],
   "source": [
    "x"
   ]
  },
  {
   "cell_type": "code",
   "execution_count": null,
   "id": "f70e0561-0ed2-4640-b119-a66d7f378763",
   "metadata": {},
   "outputs": [],
   "source": []
  }
 ],
 "metadata": {
  "kernelspec": {
   "display_name": "Python 3 (ipykernel)",
   "language": "python",
   "name": "python3"
  },
  "language_info": {
   "codemirror_mode": {
    "name": "ipython",
    "version": 3
   },
   "file_extension": ".py",
   "mimetype": "text/x-python",
   "name": "python",
   "nbconvert_exporter": "python",
   "pygments_lexer": "ipython3",
   "version": "3.10.4"
  }
 },
 "nbformat": 4,
 "nbformat_minor": 5
}
