{
 "cells": [
  {
   "cell_type": "markdown",
   "metadata": {},
   "source": [
    "# Calculo de Exactitud y Error de Exactitud"
   ]
  },
  {
   "cell_type": "markdown",
   "metadata": {},
   "source": [
    "### Crear una lista de los datos. Una lista es un objeto de elementos no ordenados. En esta lista todos sis elementos deben de ser del mismo tipo"
   ]
  },
  {
   "cell_type": "code",
   "execution_count": 197,
   "metadata": {},
   "outputs": [],
   "source": [
    "data_list=[8580.0,6658.0,6054.0,7327.0,7442.0,7955.0,6769.0,6236.0,7425.0,6076.0]"
   ]
  },
  {
   "cell_type": "markdown",
   "metadata": {},
   "source": [
    "### Para este ejemplo haremos el calculo en el mismo orden que si lo realizaramos a mano"
   ]
  },
  {
   "cell_type": "code",
   "execution_count": 217,
   "metadata": {},
   "outputs": [],
   "source": [
    "Vpatron=7240   # Suponiendo\n",
    "\n",
    "sumatoria=0\n",
    "for dato in data_list:\n",
    "    sumatoria=sumatoria+dato\n",
    "Vprom=sumatoria/len(data_list)\n",
    "\n",
    "\n",
    "Exactitud=100-abs((Vpatron-Vprom)/Vpatron)*(100)\n",
    "Error_Exactitud= abs((Vpatron-Vprom)/Vpatron)*100"
   ]
  },
  {
   "cell_type": "code",
   "execution_count": 218,
   "metadata": {},
   "outputs": [
    {
     "name": "stdout",
     "output_type": "stream",
     "text": [
      "97.40607734806629\n",
      "2.593922651933704\n"
     ]
    }
   ],
   "source": [
    "print(str(Exactitud))\n",
    "print(str(Error_Exactitud))"
   ]
  },
  {
   "cell_type": "markdown",
   "metadata": {},
   "source": [
    "# Calculo de Precision y Error de Precision"
   ]
  },
  {
   "cell_type": "code",
   "execution_count": 211,
   "metadata": {},
   "outputs": [],
   "source": [
    "sumatoria=0\n",
    "for dato in data_list:\n",
    "    sumatoria=sumatoria+dato\n",
    "Vprom=sumatoria/len(data_list)\n",
    "\n",
    "max_value=max(data_list)\n",
    "min_value=min(data_list)\n",
    "Va=max_value-min_value\n",
    "\n",
    "\n",
    "Precision=100-abs((Vprom-Va)/Vprom)*(100)\n",
    "Error_Precision= abs((Vprom-Va)/Vprom)*100"
   ]
  },
  {
   "cell_type": "code",
   "execution_count": 212,
   "metadata": {},
   "outputs": [
    {
     "name": "stdout",
     "output_type": "stream",
     "text": [
      "35.81860979552481\n",
      "64.18139020447519\n"
     ]
    }
   ],
   "source": [
    "print(str(Precision))\n",
    "print(str(Error_Precision))"
   ]
  },
  {
   "cell_type": "code",
   "execution_count": 202,
   "metadata": {},
   "outputs": [],
   "source": [
    "data_file=open('file_med_inst2025.txt','r')"
   ]
  },
  {
   "cell_type": "code",
   "execution_count": 203,
   "metadata": {},
   "outputs": [],
   "source": [
    "Data_list=data_file.readlines()"
   ]
  },
  {
   "cell_type": "code",
   "execution_count": 204,
   "metadata": {},
   "outputs": [],
   "source": [
    "sumatoria=0\n",
    "new_data_list=[]\n",
    "for dato in Data_list:\n",
    "    sumatoria=sumatoria+float(dato)\n",
    "    new_data_list.append(float(dato))\n",
    "Vprom=sumatoria/len(new_data_list)\n",
    "\n"
   ]
  },
  {
   "cell_type": "code",
   "execution_count": 205,
   "metadata": {},
   "outputs": [
    {
     "name": "stdout",
     "output_type": "stream",
     "text": [
      "338.9864\n",
      "-238.9864\n"
     ]
    }
   ],
   "source": [
    "porcentaje_Ex=abs((Vpatron-Vprom)/Vpatron)*100\n",
    "porcentaje_EE=100-abs((Vpatron-Vprom)/Vpatron)*100\n",
    "print(str(porcentaje_Ex)+'\\n'+str(porcentaje_EE))"
   ]
  },
  {
   "cell_type": "code",
   "execution_count": 206,
   "metadata": {},
   "outputs": [],
   "source": [
    "from matplotlib import pyplot as plt"
   ]
  },
  {
   "cell_type": "code",
   "execution_count": 207,
   "metadata": {},
   "outputs": [
    {
     "data": {
      "text/plain": [
       "[<matplotlib.lines.Line2D at 0x79f2545c3790>]"
      ]
     },
     "execution_count": 207,
     "metadata": {},
     "output_type": "execute_result"
    },
    {
     "data": {
      "image/png": "[encoded data removed]",
      "text/plain": [
       "<Figure size 640x480 with 1 Axes>"
      ]
     },
     "metadata": {},
     "output_type": "display_data"
    }
   ],
   "source": [
    "plt.plot(new_data_list)"
   ]
  },
  {
   "cell_type": "code",
   "execution_count": 208,
   "metadata": {},
   "outputs": [
    {
     "data": {
      "text/plain": [
       "(array([  1.,   0.,   1.,   0.,   0.,   0.,   0.,   0.,   0.,   1.,   1.,\n",
       "          0.,   0.,   0.,   0.,   0.,   0.,   0.,   0.,   0.,   0.,   0.,\n",
       "          0.,   0.,   0.,   0.,   0.,   0.,   0.,   0.,   0.,   0.,   1.,\n",
       "          0.,   0.,   1.,   1.,   0.,   1.,   0.,   0.,   0.,   1.,   0.,\n",
       "          0.,   0.,   0.,   0.,   0.,   0.,   0.,   0.,   0.,   0.,   0.,\n",
       "          0.,   0.,   1.,   1.,   0.,   0.,   0.,   0.,   0.,   0.,   0.,\n",
       "          0.,   0.,   0.,   0.,   0.,   0.,   0.,   0.,   0.,   0.,   0.,\n",
       "          0.,   0.,   1.,   0.,   0.,   0.,   0.,   0.,   1.,   0.,   0.,\n",
       "          0.,   0.,   0.,   0.,   0.,   0.,   0.,   0.,   0.,   0.,   0.,\n",
       "          0.,   0.,   0.,   0.,   0.,   0.,   0.,   0.,   0.,   0.,   0.,\n",
       "          0.,   0.,   1.,   0.,   0.,   1.,   0.,   0.,   0.,   0.,   0.,\n",
       "          0.,   0.,   0.,   0.,   0.,   0.,   0.,   0.,   2.,   0.,   0.,\n",
       "          0.,   0.,   0.,   0.,   0.,   2.,   0.,   0.,   0.,   0.,   0.,\n",
       "          0.,   0.,   0.,   0.,   0.,   0.,   1.,   0.,   0.,   1.,   0.,\n",
       "          0.,   1.,   0.,   0.,   0.,   0.,   0.,   0.,   0.,   0.,   0.,\n",
       "          0.,   0.,   0.,   0.,   0.,   0.,   0.,   0.,   1.,   0.,   0.,\n",
       "          0.,   0.,   1.,   0.,   1.,   0.,   0.,   0.,   0.,   0.,   0.,\n",
       "          0.,   0.,   0.,   1.,   0.,   0.,   0.,   0.,   0.,   0.,   0.,\n",
       "          0.,   0.,   0.,   0.,   0.,   0.,   0.,   0.,   0.,   0.,   0.,\n",
       "          0.,   0.,   0.,   0.,   0.,   0.,   0.,   0.,   1.,   0.,   1.,\n",
       "          0.,   0.,   0.,   0.,   0.,   0.,   0.,   0.,   1.,   0.,   0.,\n",
       "          0.,   0.,   0.,   0.,   0.,   0.,   0.,   0.,   0.,   0.,   0.,\n",
       "          0.,   0.,   1.,   0.,   1.,   0.,   1.,   1.,   0.,   0.,   0.,\n",
       "          1.,   0.,   0.,   0.,   0.,   0.,   0.,   0.,   0.,   0.,   0.,\n",
       "          0.,   0.,   0.,   0.,   1.,   0.,   0.,   1.,   0.,   0.,   0.,\n",
       "          1.,   1.,   0.,   0.,   0.,   0.,   0.,   0.,   0.,   0.,   0.,\n",
       "          0.,   0.,   0.,   0.,   1.,   0.,   0.,   1.,   0.,   0.,   1.,\n",
       "          0.,   1.,   1.,   0.,   0.,   0.,   0.,   0.,   2.,   0.,   0.,\n",
       "          1.,   0.,   0.,   0.,   0.,   0.,   0.,   0.,   0.,   0.,   0.,\n",
       "          0.,   0.,   0.,   0.,   1.,   0.,   0.,   0.,   1.,   0.,   0.,\n",
       "          0.,   1.,   0.,   1.,   1.,   1.,   0.,   0.,   0.,   0.,   2.,\n",
       "          1.,   1.,   0.,   0.,   0.,   0.,   0.,   0.,   0.,   0.,   0.,\n",
       "          0.,   0.,   0.,   0.,   0.,   0.,   0.,   0.,   0.,   0.,   1.,\n",
       "          0.,   0.,   0.,   0.,   0.,   1.,   1.,   0.,   0.,   1.,   0.,\n",
       "          0.,   1.,   0.,   0.,   0.,   0.,   0.,   0.,   0.,   0.,   0.,\n",
       "          1.,   0.,   1.,   0.,   0.,   0.,   0.,   0.,   0.,   0.,   0.,\n",
       "          0.,   0.,   0.,   1.,   2.,   0.,   3.,   0.,   0.,   1.,   0.,\n",
       "          1.,   0.,   0.,   1.,   0.,   0.,   1.,   1.,   0.,   1.,   1.,\n",
       "          0.,   0.,   0.,   0.,   0.,   0.,   0.,   1.,   0.,   0.,   0.,\n",
       "          0.,   0.,   0.,   0.,   0.,   0.,   0.,   0.,   0.,   0.,   0.,\n",
       "          1.,   0.,   2.,   0.,   0.,   1.,   0.,   0.,   0.,   1.,   0.,\n",
       "          0.,   0.,   1.,   2.,   0.,   0.,   0.,   0.,   0.,   1.,   0.,\n",
       "          0.,   0.,   0.,   0.,   0.,   0.,   0.,   0.,   0.,   0.,   0.,\n",
       "          0.,   0.,   0.,   0.,   1.,   0.,   0.,   1.,   1.,   0.,   0.,\n",
       "          0.,   1.,   1.,   0.,   0.,   0.,   0.,   1.,   0.,   0.,   0.,\n",
       "          0.,   0.,   0.,   0.,   0.,   0.,   0.,   0.,   0.,   0.,   0.,\n",
       "          0.,   0.,   1.,   0.,   0.,   0.,   0.,   0.,   0.,   0.,   1.,\n",
       "          0.,   1.,   0.,   0.,   0.,   0.,   0.,   0.,   1.,   1.,   0.,\n",
       "          0.,   0.,   0.,   0.,   0.,   1.,   0.,   0.,   0.,   0.,   0.,\n",
       "          0.,   0.,   0.,   0.,   0.,   1.,   0.,   0.,   0.,   0.,   2.,\n",
       "          0.,   0.,   0.,   0.,   0.,   0.,   1.,   0.,   0.,   0.,   0.,\n",
       "          0.,   0.,   1.,   1.,   1.,   0.,   0.,   0.,   0.,   0.,   0.,\n",
       "          0.,   0.,   0.,   1.,   0.,   1.,   0.,   1.,   0.,   1.,   0.,\n",
       "          0.,   0.,   2.,   0.,   1.,   2.,   0.,   1.,   2.,   1.,   0.,\n",
       "          2.,   0.,   1.,   2.,   0.,   1.,   0.,   1.,   0.,   1.,   1.,\n",
       "          2.,   1.,   1.,   2.,   4.,   1.,   3.,   1.,   2.,   1.,   2.,\n",
       "          3.,   3.,   3.,   1.,   3.,   3.,   2.,   3.,   4.,   3.,   4.,\n",
       "          2.,   3.,   4.,  10.,   3.,   3.,   2.,   3.,   8.,   2.,   1.,\n",
       "          4.,   7.,   4.,   3.,   3.,   4.,   3.,   9.,   5.,   4.,  10.,\n",
       "          8.,   7.,  10.,   7.,   6.,  12.,  12.,   9.,  12.,   6.,  15.,\n",
       "         16.,  14.,   9.,  15.,  15.,  16.,  10.,  12.,  17.,  16.,  15.,\n",
       "         16.,  15.,  20.,  20.,  14.,  29.,  27.,  22.,  21.,  11.,  16.,\n",
       "         25.,  18.,  16.,  21.,  18.,  29.,  24.,  37.,  33.,  35.,  31.,\n",
       "         30.,  32.,  33.,  41.,  28.,  35.,  24.,  44.,  34.,  50.,  37.,\n",
       "         53.,  43.,  39.,  48.,  53.,  49.,  36.,  38.,  41.,  63.,  42.,\n",
       "         57.,  59.,  40.,  52.,  50.,  52.,  63.,  67.,  44.,  54.,  53.,\n",
       "         73.,  67.,  68.,  61.,  56.,  65.,  69.,  62.,  63.,  64.,  60.,\n",
       "         70.,  73.,  75.,  69.,  64.,  73.,  64.,  76.,  71.,  72.,  65.,\n",
       "         84.,  74.,  68.,  73.,  86.,  59.,  75.,  66.,  68.,  79.,  68.,\n",
       "         64.,  69.,  84.,  78.,  69.,  63., 107.,  70.,  82.,  71.,  74.,\n",
       "         82.,  85.,  88.,  62.,  81.,  76.,  92.,  47.,  75.,  70.,  59.,\n",
       "         74.,  74.,  66.,  70.,  75.,  61.,  66.,  64.,  71.,  64.,  60.,\n",
       "         49.,  70.,  61.,  56.,  64.,  59.,  79.,  58.,  68.,  52.,  53.,\n",
       "         50.,  53.,  49.,  52.,  32.,  41.,  59.,  45.,  44.,  51.,  48.,\n",
       "         45.,  43.,  38.,  44.,  40.,  39.,  31.,  31.,  40.,  39.,  45.,\n",
       "         31.,  45.,  31.,  35.,  44.,  29.,  39.,  24.,  27.,  29.,  33.,\n",
       "         29.,  32.,  20.,  23.,  21.,  22.,  17.,  25.,  22.,  28.,  18.,\n",
       "         21.,  17.,  16.,  13.,  15.,  13.,  11.,  17.,  20.,  10.,  10.,\n",
       "         12.,  20.,  10.,  14.,  16.,   7.,  14.,  10.,  10.,  10.,  14.,\n",
       "         11.,  13.,   6.,  10.,  12.,   8.,   6.,   7.,   4.,   4.,   8.,\n",
       "         11.,   6.,   4.,   0.,  11.,   2.,   4.,   6.,   2.,   3.,   6.,\n",
       "          4.,   1.,   5.,   3.,   8.,   6.,   6.,   3.,   0.,   4.,   0.,\n",
       "          4.,   3.,   2.,   3.,   1.,   1.,   3.,   4.,   0.,   1.,   5.,\n",
       "          1.,   2.,   0.,   1.,   3.,   3.,   3.,   0.,   2.,   0.,   1.,\n",
       "          2.,   5.,   1.,   3.,   0.,   0.,   1.,   2.,   1.,   0.,   0.,\n",
       "          1.,   1.,   2.,   1.,   1.,   1.,   0.,   1.,   1.,   0.,   1.,\n",
       "          1.,   2.,   0.,   0.,   0.,   0.,   0.,   1.,   0.,   0.,   0.,\n",
       "          0.,   1.,   0.,   0.,   0.,   0.,   0.,   0.,   0.,   0.,   0.,\n",
       "          0.,   0.,   0.,   0.,   0.,   0.,   0.,   0.,   0.,   0.,   0.,\n",
       "          0.,   0.,   0.,   0.,   0.,   0.,   0.,   0.,   0.,   0.,   0.,\n",
       "          0.,   0.,   0.,   0.,   0.,   0.,   0.,   0.,   0.,   1.]),\n",
       " array([-6062.   , -6044.539, -6027.078, ..., 11364.078, 11381.539,\n",
       "        11399.   ]),\n",
       " <BarContainer object of 1000 artists>)"
      ]
     },
     "execution_count": 208,
     "metadata": {},
     "output_type": "execute_result"
    },
    {
     "data": {
      "image/png": "[encoded data removed]",
      "text/plain": [
       "<Figure size 640x480 with 1 Axes>"
      ]
     },
     "metadata": {},
     "output_type": "display_data"
    }
   ],
   "source": [
    "plt.hist(new_data_list,1000)"
   ]
  },
  {
   "cell_type": "code",
   "execution_count": 213,
   "metadata": {},
   "outputs": [
    {
     "data": {
      "text/plain": [
       "7052.2"
      ]
     },
     "execution_count": 213,
     "metadata": {},
     "output_type": "execute_result"
    }
   ],
   "source": [
    "Vprom"
   ]
  },
  {
   "cell_type": "code",
   "execution_count": 214,
   "metadata": {},
   "outputs": [],
   "source": [
    "import statistics"
   ]
  },
  {
   "cell_type": "code",
   "execution_count": 215,
   "metadata": {},
   "outputs": [
    {
     "data": {
      "text/plain": [
       "7169.592"
      ]
     },
     "execution_count": 215,
     "metadata": {},
     "output_type": "execute_result"
    }
   ],
   "source": [
    "statistics.mean(new_data_list)"
   ]
  },
  {
   "cell_type": "code",
   "execution_count": 216,
   "metadata": {},
   "outputs": [
    {
     "data": {
      "text/plain": [
       "7240.0"
      ]
     },
     "execution_count": 216,
     "metadata": {},
     "output_type": "execute_result"
    }
   ],
   "source": [
    "statistics.median(new_data_list)"
   ]
  },
  {
   "cell_type": "code",
   "execution_count": null,
   "metadata": {},
   "outputs": [],
   "source": []
  }
 ],
 "metadata": {
  "kernelspec": {
   "display_name": "usr",
   "language": "python",
   "name": "python3"
  },
  "language_info": {
   "codemirror_mode": {
    "name": "ipython",
    "version": 3
   },
   "file_extension": ".py",
   "mimetype": "text/x-python",
   "name": "python",
   "nbconvert_exporter": "python",
   "pygments_lexer": "ipython3",
   "version": "3.10.12"
  }
 },
 "nbformat": 4,
 "nbformat_minor": 2
}
