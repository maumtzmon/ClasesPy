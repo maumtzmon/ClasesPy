{
 "cells": [
  {
   "cell_type": "code",
   "execution_count": 1,
   "metadata": {},
   "outputs": [],
   "source": [
    "import pandas as pd"
   ]
  },
  {
   "cell_type": "code",
   "execution_count": 9,
   "metadata": {},
   "outputs": [
    {
     "data": {
      "text/plain": [
       "'0.25.3'"
      ]
     },
     "execution_count": 9,
     "metadata": {},
     "output_type": "execute_result"
    }
   ],
   "source": [
    "pd.__version__"
   ]
  },
  {
   "cell_type": "code",
   "execution_count": 13,
   "metadata": {},
   "outputs": [],
   "source": [
    "dataframe = pd.read_csv('/home/mauricio/Desktop/original.csv')"
   ]
  },
  {
   "cell_type": "code",
   "execution_count": null,
   "metadata": {},
   "outputs": [],
   "source": [
    "excel =pd.read_excel('/home/mauricio/Desktop/relacion de material.xls',sheet_name='Sheet1')"
   ]
  },
  {
   "cell_type": "code",
   "execution_count": 12,
   "metadata": {},
   "outputs": [],
   "source": [
    "pd.read_csv?"
   ]
  },
  {
   "cell_type": "code",
   "execution_count": null,
   "metadata": {},
   "outputs": [],
   "source": [
    "excel"
   ]
  },
  {
   "cell_type": "code",
   "execution_count": null,
   "metadata": {},
   "outputs": [],
   "source": [
    "pd.read_excel?"
   ]
  },
  {
   "cell_type": "code",
   "execution_count": 4,
   "metadata": {},
   "outputs": [
    {
     "data": {
      "text/html": [
       "<div>\n",
       "<style scoped>\n",
       "    .dataframe tbody tr th:only-of-type {\n",
       "        vertical-align: middle;\n",
       "    }\n",
       "\n",
       "    .dataframe tbody tr th {\n",
       "        vertical-align: top;\n",
       "    }\n",
       "\n",
       "    .dataframe thead th {\n",
       "        text-align: right;\n",
       "    }\n",
       "</style>\n",
       "<table border=\"1\" class=\"dataframe\">\n",
       "  <thead>\n",
       "    <tr style=\"text-align: right;\">\n",
       "      <th></th>\n",
       "      <th>fecha</th>\n",
       "      <th>apertura</th>\n",
       "      <th>alto</th>\n",
       "      <th>bajo</th>\n",
       "      <th>cierre</th>\n",
       "      <th>Adj cierre</th>\n",
       "      <th>volumen</th>\n",
       "    </tr>\n",
       "  </thead>\n",
       "  <tbody>\n",
       "    <tr>\n",
       "      <th>0</th>\n",
       "      <td>1999-12-31</td>\n",
       "      <td>146.843704</td>\n",
       "      <td>147.500000</td>\n",
       "      <td>146.250000</td>\n",
       "      <td>146.8750</td>\n",
       "      <td>104.415031</td>\n",
       "      <td>3172700</td>\n",
       "    </tr>\n",
       "    <tr>\n",
       "      <th>1</th>\n",
       "      <td>2000-01-03</td>\n",
       "      <td>148.250000</td>\n",
       "      <td>148.250000</td>\n",
       "      <td>143.875000</td>\n",
       "      <td>145.4375</td>\n",
       "      <td>103.393074</td>\n",
       "      <td>8164300</td>\n",
       "    </tr>\n",
       "    <tr>\n",
       "      <th>2</th>\n",
       "      <td>2000-01-04</td>\n",
       "      <td>143.531204</td>\n",
       "      <td>144.062500</td>\n",
       "      <td>139.640594</td>\n",
       "      <td>139.7500</td>\n",
       "      <td>99.349785</td>\n",
       "      <td>8089800</td>\n",
       "    </tr>\n",
       "    <tr>\n",
       "      <th>3</th>\n",
       "      <td>2000-01-05</td>\n",
       "      <td>139.937500</td>\n",
       "      <td>141.531204</td>\n",
       "      <td>137.250000</td>\n",
       "      <td>140.0000</td>\n",
       "      <td>99.527527</td>\n",
       "      <td>12177900</td>\n",
       "    </tr>\n",
       "    <tr>\n",
       "      <th>4</th>\n",
       "      <td>2000-01-06</td>\n",
       "      <td>139.625000</td>\n",
       "      <td>141.500000</td>\n",
       "      <td>137.750000</td>\n",
       "      <td>137.7500</td>\n",
       "      <td>97.928017</td>\n",
       "      <td>6227200</td>\n",
       "    </tr>\n",
       "  </tbody>\n",
       "</table>\n",
       "</div>"
      ],
      "text/plain": [
       "        fecha    apertura        alto        bajo    cierre  Adj cierre  \\\n",
       "0  1999-12-31  146.843704  147.500000  146.250000  146.8750  104.415031   \n",
       "1  2000-01-03  148.250000  148.250000  143.875000  145.4375  103.393074   \n",
       "2  2000-01-04  143.531204  144.062500  139.640594  139.7500   99.349785   \n",
       "3  2000-01-05  139.937500  141.531204  137.250000  140.0000   99.527527   \n",
       "4  2000-01-06  139.625000  141.500000  137.750000  137.7500   97.928017   \n",
       "\n",
       "    volumen  \n",
       "0   3172700  \n",
       "1   8164300  \n",
       "2   8089800  \n",
       "3  12177900  \n",
       "4   6227200  "
      ]
     },
     "execution_count": 4,
     "metadata": {},
     "output_type": "execute_result"
    }
   ],
   "source": [
    "dataframe.head()"
   ]
  },
  {
   "cell_type": "code",
   "execution_count": 16,
   "metadata": {},
   "outputs": [
    {
     "data": {
      "text/html": [
       "<div>\n",
       "<style scoped>\n",
       "    .dataframe tbody tr th:only-of-type {\n",
       "        vertical-align: middle;\n",
       "    }\n",
       "\n",
       "    .dataframe tbody tr th {\n",
       "        vertical-align: top;\n",
       "    }\n",
       "\n",
       "    .dataframe thead th {\n",
       "        text-align: right;\n",
       "    }\n",
       "</style>\n",
       "<table border=\"1\" class=\"dataframe\">\n",
       "  <thead>\n",
       "    <tr style=\"text-align: right;\">\n",
       "      <th></th>\n",
       "      <th>fecha</th>\n",
       "      <th>apertura</th>\n",
       "    </tr>\n",
       "  </thead>\n",
       "  <tbody>\n",
       "    <tr>\n",
       "      <th>0</th>\n",
       "      <td>1999-12-31</td>\n",
       "      <td>146.843704</td>\n",
       "    </tr>\n",
       "    <tr>\n",
       "      <th>1</th>\n",
       "      <td>2000-01-03</td>\n",
       "      <td>148.250000</td>\n",
       "    </tr>\n",
       "    <tr>\n",
       "      <th>2</th>\n",
       "      <td>2000-01-04</td>\n",
       "      <td>143.531204</td>\n",
       "    </tr>\n",
       "    <tr>\n",
       "      <th>3</th>\n",
       "      <td>2000-01-05</td>\n",
       "      <td>139.937500</td>\n",
       "    </tr>\n",
       "    <tr>\n",
       "      <th>4</th>\n",
       "      <td>2000-01-06</td>\n",
       "      <td>139.625000</td>\n",
       "    </tr>\n",
       "    <tr>\n",
       "      <th>5</th>\n",
       "      <td>2000-01-07</td>\n",
       "      <td>140.312500</td>\n",
       "    </tr>\n",
       "    <tr>\n",
       "      <th>6</th>\n",
       "      <td>2000-01-10</td>\n",
       "      <td>146.250000</td>\n",
       "    </tr>\n",
       "    <tr>\n",
       "      <th>7</th>\n",
       "      <td>2000-01-11</td>\n",
       "      <td>145.812500</td>\n",
       "    </tr>\n",
       "    <tr>\n",
       "      <th>8</th>\n",
       "      <td>2000-01-12</td>\n",
       "      <td>144.593704</td>\n",
       "    </tr>\n",
       "    <tr>\n",
       "      <th>9</th>\n",
       "      <td>2000-01-13</td>\n",
       "      <td>144.468704</td>\n",
       "    </tr>\n",
       "  </tbody>\n",
       "</table>\n",
       "</div>"
      ],
      "text/plain": [
       "        fecha    apertura\n",
       "0  1999-12-31  146.843704\n",
       "1  2000-01-03  148.250000\n",
       "2  2000-01-04  143.531204\n",
       "3  2000-01-05  139.937500\n",
       "4  2000-01-06  139.625000\n",
       "5  2000-01-07  140.312500\n",
       "6  2000-01-10  146.250000\n",
       "7  2000-01-11  145.812500\n",
       "8  2000-01-12  144.593704\n",
       "9  2000-01-13  144.468704"
      ]
     },
     "execution_count": 16,
     "metadata": {},
     "output_type": "execute_result"
    }
   ],
   "source": [
    "dataframe.head(10)[['fecha','apertura']]"
   ]
  },
  {
   "cell_type": "code",
   "execution_count": 17,
   "metadata": {},
   "outputs": [
    {
     "data": {
      "text/html": [
       "<div>\n",
       "<style scoped>\n",
       "    .dataframe tbody tr th:only-of-type {\n",
       "        vertical-align: middle;\n",
       "    }\n",
       "\n",
       "    .dataframe tbody tr th {\n",
       "        vertical-align: top;\n",
       "    }\n",
       "\n",
       "    .dataframe thead th {\n",
       "        text-align: right;\n",
       "    }\n",
       "</style>\n",
       "<table border=\"1\" class=\"dataframe\">\n",
       "  <thead>\n",
       "    <tr style=\"text-align: right;\">\n",
       "      <th></th>\n",
       "      <th>fecha</th>\n",
       "      <th>apertura</th>\n",
       "    </tr>\n",
       "  </thead>\n",
       "  <tbody>\n",
       "    <tr>\n",
       "      <th>4620</th>\n",
       "      <td>2018-05-14</td>\n",
       "      <td>273.339996</td>\n",
       "    </tr>\n",
       "    <tr>\n",
       "      <th>4621</th>\n",
       "      <td>2018-05-15</td>\n",
       "      <td>271.589996</td>\n",
       "    </tr>\n",
       "    <tr>\n",
       "      <th>4622</th>\n",
       "      <td>2018-05-16</td>\n",
       "      <td>271.140015</td>\n",
       "    </tr>\n",
       "    <tr>\n",
       "      <th>4623</th>\n",
       "      <td>2018-05-17</td>\n",
       "      <td>271.940002</td>\n",
       "    </tr>\n",
       "    <tr>\n",
       "      <th>4624</th>\n",
       "      <td>2018-05-18</td>\n",
       "      <td>271.619995</td>\n",
       "    </tr>\n",
       "    <tr>\n",
       "      <th>4625</th>\n",
       "      <td>2018-05-21</td>\n",
       "      <td>273.010010</td>\n",
       "    </tr>\n",
       "    <tr>\n",
       "      <th>4626</th>\n",
       "      <td>2018-05-22</td>\n",
       "      <td>273.959991</td>\n",
       "    </tr>\n",
       "    <tr>\n",
       "      <th>4627</th>\n",
       "      <td>2018-05-23</td>\n",
       "      <td>271.170013</td>\n",
       "    </tr>\n",
       "    <tr>\n",
       "      <th>4628</th>\n",
       "      <td>2018-05-24</td>\n",
       "      <td>272.910004</td>\n",
       "    </tr>\n",
       "    <tr>\n",
       "      <th>4629</th>\n",
       "      <td>2018-05-25</td>\n",
       "      <td>272.149994</td>\n",
       "    </tr>\n",
       "  </tbody>\n",
       "</table>\n",
       "</div>"
      ],
      "text/plain": [
       "           fecha    apertura\n",
       "4620  2018-05-14  273.339996\n",
       "4621  2018-05-15  271.589996\n",
       "4622  2018-05-16  271.140015\n",
       "4623  2018-05-17  271.940002\n",
       "4624  2018-05-18  271.619995\n",
       "4625  2018-05-21  273.010010\n",
       "4626  2018-05-22  273.959991\n",
       "4627  2018-05-23  271.170013\n",
       "4628  2018-05-24  272.910004\n",
       "4629  2018-05-25  272.149994"
      ]
     },
     "execution_count": 17,
     "metadata": {},
     "output_type": "execute_result"
    }
   ],
   "source": [
    "dataframe.tail(10)[['fecha','apertura']]"
   ]
  },
  {
   "cell_type": "code",
   "execution_count": 18,
   "metadata": {},
   "outputs": [
    {
     "name": "stdout",
     "output_type": "stream",
     "text": [
      "<class 'pandas.core.frame.DataFrame'>\n",
      "RangeIndex: 4630 entries, 0 to 4629\n",
      "Data columns (total 7 columns):\n",
      "fecha         4630 non-null object\n",
      "apertura      4630 non-null float64\n",
      "alto          4630 non-null float64\n",
      "bajo          4630 non-null float64\n",
      "cierre        4630 non-null float64\n",
      "Adj cierre    4630 non-null float64\n",
      "volumen       4630 non-null int64\n",
      "dtypes: float64(5), int64(1), object(1)\n",
      "memory usage: 253.3+ KB\n"
     ]
    }
   ],
   "source": [
    "dataframe.info()"
   ]
  },
  {
   "cell_type": "code",
   "execution_count": 23,
   "metadata": {},
   "outputs": [
    {
     "data": {
      "text/plain": [
       "144.000000    5\n",
       "114.839996    5\n",
       "129.649994    5\n",
       "133.690002    4\n",
       "140.889999    4\n",
       "             ..\n",
       "119.089996    1\n",
       "143.234299    1\n",
       "153.380005    1\n",
       "131.619995    1\n",
       "108.199997    1\n",
       "Name: alto, Length: 3838, dtype: int64"
      ]
     },
     "execution_count": 23,
     "metadata": {},
     "output_type": "execute_result"
    }
   ],
   "source": [
    "dataframe.alto.value_counts() #nos dice cuantas veces se repiten \n",
    "                                #valores en la columna alto"
   ]
  },
  {
   "cell_type": "code",
   "execution_count": 24,
   "metadata": {},
   "outputs": [
    {
     "data": {
      "text/plain": [
       "108.199997    1\n",
       "131.619995    1\n",
       "153.380005    1\n",
       "143.234299    1\n",
       "119.089996    1\n",
       "             ..\n",
       "140.889999    4\n",
       "133.690002    4\n",
       "129.649994    5\n",
       "114.839996    5\n",
       "144.000000    5\n",
       "Name: alto, Length: 3838, dtype: int64"
      ]
     },
     "execution_count": 24,
     "metadata": {},
     "output_type": "execute_result"
    }
   ],
   "source": [
    "dataframe.alto.value_counts(ascending=True)"
   ]
  },
  {
   "cell_type": "code",
   "execution_count": 28,
   "metadata": {},
   "outputs": [
    {
     "data": {
      "text/plain": [
       "4546    286.579987\n",
       "4547    286.429993\n",
       "4548    284.739990\n",
       "4544    284.700012\n",
       "4545    284.269989\n",
       "           ...    \n",
       "2309     72.370003\n",
       "2306     71.730003\n",
       "2304     71.699997\n",
       "2307     70.449997\n",
       "2308     70.000000\n",
       "Name: alto, Length: 4630, dtype: float64"
      ]
     },
     "execution_count": 28,
     "metadata": {},
     "output_type": "execute_result"
    }
   ],
   "source": [
    "dataframe.alto.sort_values(ascending=False)"
   ]
  },
  {
   "cell_type": "code",
   "execution_count": 31,
   "metadata": {},
   "outputs": [
    {
     "data": {
      "text/html": [
       "<div>\n",
       "<style scoped>\n",
       "    .dataframe tbody tr th:only-of-type {\n",
       "        vertical-align: middle;\n",
       "    }\n",
       "\n",
       "    .dataframe tbody tr th {\n",
       "        vertical-align: top;\n",
       "    }\n",
       "\n",
       "    .dataframe thead th {\n",
       "        text-align: right;\n",
       "    }\n",
       "</style>\n",
       "<table border=\"1\" class=\"dataframe\">\n",
       "  <thead>\n",
       "    <tr style=\"text-align: right;\">\n",
       "      <th></th>\n",
       "      <th>fecha</th>\n",
       "      <th>apertura</th>\n",
       "      <th>alto</th>\n",
       "      <th>bajo</th>\n",
       "      <th>cierre</th>\n",
       "      <th>Adj cierre</th>\n",
       "      <th>volumen</th>\n",
       "    </tr>\n",
       "  </thead>\n",
       "  <tbody>\n",
       "    <tr>\n",
       "      <th>24</th>\n",
       "      <td>2000-02-04</td>\n",
       "      <td>143.187500</td>\n",
       "      <td>144.0</td>\n",
       "      <td>142.125000</td>\n",
       "      <td>142.593704</td>\n",
       "      <td>101.371422</td>\n",
       "      <td>4925400</td>\n",
       "    </tr>\n",
       "    <tr>\n",
       "      <th>85</th>\n",
       "      <td>2000-05-03</td>\n",
       "      <td>144.000000</td>\n",
       "      <td>144.0</td>\n",
       "      <td>139.781204</td>\n",
       "      <td>140.750000</td>\n",
       "      <td>100.315025</td>\n",
       "      <td>12630700</td>\n",
       "    </tr>\n",
       "    <tr>\n",
       "      <th>87</th>\n",
       "      <td>2000-05-05</td>\n",
       "      <td>141.062500</td>\n",
       "      <td>144.0</td>\n",
       "      <td>140.937500</td>\n",
       "      <td>143.531204</td>\n",
       "      <td>102.297218</td>\n",
       "      <td>7862400</td>\n",
       "    </tr>\n",
       "    <tr>\n",
       "      <th>104</th>\n",
       "      <td>2000-05-31</td>\n",
       "      <td>142.562500</td>\n",
       "      <td>144.0</td>\n",
       "      <td>142.093704</td>\n",
       "      <td>142.812500</td>\n",
       "      <td>101.785004</td>\n",
       "      <td>6056500</td>\n",
       "    </tr>\n",
       "    <tr>\n",
       "      <th>216</th>\n",
       "      <td>2000-11-07</td>\n",
       "      <td>143.140594</td>\n",
       "      <td>144.0</td>\n",
       "      <td>142.562500</td>\n",
       "      <td>143.750000</td>\n",
       "      <td>102.952400</td>\n",
       "      <td>5231300</td>\n",
       "    </tr>\n",
       "  </tbody>\n",
       "</table>\n",
       "</div>"
      ],
      "text/plain": [
       "          fecha    apertura   alto        bajo      cierre  Adj cierre  \\\n",
       "24   2000-02-04  143.187500  144.0  142.125000  142.593704  101.371422   \n",
       "85   2000-05-03  144.000000  144.0  139.781204  140.750000  100.315025   \n",
       "87   2000-05-05  141.062500  144.0  140.937500  143.531204  102.297218   \n",
       "104  2000-05-31  142.562500  144.0  142.093704  142.812500  101.785004   \n",
       "216  2000-11-07  143.140594  144.0  142.562500  143.750000  102.952400   \n",
       "\n",
       "      volumen  \n",
       "24    4925400  \n",
       "85   12630700  \n",
       "87    7862400  \n",
       "104   6056500  \n",
       "216   5231300  "
      ]
     },
     "execution_count": 31,
     "metadata": {},
     "output_type": "execute_result"
    }
   ],
   "source": [
    "dataframe[dataframe.alto == 144.000000] #despliega toda la informacion\n",
    "                                    #del(los) elemento(s) indicado(s)"
   ]
  },
  {
   "cell_type": "code",
   "execution_count": 35,
   "metadata": {},
   "outputs": [
    {
     "data": {
      "text/html": [
       "<div>\n",
       "<style scoped>\n",
       "    .dataframe tbody tr th:only-of-type {\n",
       "        vertical-align: middle;\n",
       "    }\n",
       "\n",
       "    .dataframe tbody tr th {\n",
       "        vertical-align: top;\n",
       "    }\n",
       "\n",
       "    .dataframe thead th {\n",
       "        text-align: right;\n",
       "    }\n",
       "</style>\n",
       "<table border=\"1\" class=\"dataframe\">\n",
       "  <thead>\n",
       "    <tr style=\"text-align: right;\">\n",
       "      <th></th>\n",
       "      <th>fecha</th>\n",
       "      <th>apertura</th>\n",
       "      <th>alto</th>\n",
       "      <th>bajo</th>\n",
       "      <th>cierre</th>\n",
       "      <th>Adj cierre</th>\n",
       "      <th>volumen</th>\n",
       "    </tr>\n",
       "  </thead>\n",
       "  <tbody>\n",
       "    <tr>\n",
       "      <th>24</th>\n",
       "      <td>2000-02-04</td>\n",
       "      <td>143.187500</td>\n",
       "      <td>144.0</td>\n",
       "      <td>142.125000</td>\n",
       "      <td>142.593704</td>\n",
       "      <td>101.371422</td>\n",
       "      <td>4925400</td>\n",
       "    </tr>\n",
       "    <tr>\n",
       "      <th>104</th>\n",
       "      <td>2000-05-31</td>\n",
       "      <td>142.562500</td>\n",
       "      <td>144.0</td>\n",
       "      <td>142.093704</td>\n",
       "      <td>142.812500</td>\n",
       "      <td>101.785004</td>\n",
       "      <td>6056500</td>\n",
       "    </tr>\n",
       "    <tr>\n",
       "      <th>216</th>\n",
       "      <td>2000-11-07</td>\n",
       "      <td>143.140594</td>\n",
       "      <td>144.0</td>\n",
       "      <td>142.562500</td>\n",
       "      <td>143.750000</td>\n",
       "      <td>102.952400</td>\n",
       "      <td>5231300</td>\n",
       "    </tr>\n",
       "  </tbody>\n",
       "</table>\n",
       "</div>"
      ],
      "text/plain": [
       "          fecha    apertura   alto        bajo      cierre  Adj cierre  \\\n",
       "24   2000-02-04  143.187500  144.0  142.125000  142.593704  101.371422   \n",
       "104  2000-05-31  142.562500  144.0  142.093704  142.812500  101.785004   \n",
       "216  2000-11-07  143.140594  144.0  142.562500  143.750000  102.952400   \n",
       "\n",
       "     volumen  \n",
       "24   4925400  \n",
       "104  6056500  \n",
       "216  5231300  "
      ]
     },
     "execution_count": 35,
     "metadata": {},
     "output_type": "execute_result"
    }
   ],
   "source": [
    "dataframe[(dataframe.alto == 144.000000) & (dataframe.volumen < 7000000)]\n",
    "#multimples condiciones dentro del dataframe"
   ]
  },
  {
   "cell_type": "code",
   "execution_count": 8,
   "metadata": {},
   "outputs": [],
   "source": [
    "dataframe = pd.read_csv('/home/mauricio/Desktop/originalUTF8.csv')"
   ]
  },
  {
   "cell_type": "code",
   "execution_count": 9,
   "metadata": {},
   "outputs": [
    {
     "data": {
      "text/html": [
       "<div>\n",
       "<style scoped>\n",
       "    .dataframe tbody tr th:only-of-type {\n",
       "        vertical-align: middle;\n",
       "    }\n",
       "\n",
       "    .dataframe tbody tr th {\n",
       "        vertical-align: top;\n",
       "    }\n",
       "\n",
       "    .dataframe thead th {\n",
       "        text-align: right;\n",
       "    }\n",
       "</style>\n",
       "<table border=\"1\" class=\"dataframe\">\n",
       "  <thead>\n",
       "    <tr style=\"text-align: right;\">\n",
       "      <th></th>\n",
       "      <th>Nombre y apellido</th>\n",
       "      <th>Edad</th>\n",
       "      <th>País</th>\n",
       "      <th>Automovil</th>\n",
       "    </tr>\n",
       "  </thead>\n",
       "  <tbody>\n",
       "    <tr>\n",
       "      <th>0</th>\n",
       "      <td>Juan</td>\n",
       "      <td>35</td>\n",
       "      <td>Mexico</td>\n",
       "      <td>No</td>\n",
       "    </tr>\n",
       "    <tr>\n",
       "      <th>1</th>\n",
       "      <td>Pedro</td>\n",
       "      <td>41</td>\n",
       "      <td>Honduras</td>\n",
       "      <td>Si</td>\n",
       "    </tr>\n",
       "    <tr>\n",
       "      <th>2</th>\n",
       "      <td>Maria</td>\n",
       "      <td>28</td>\n",
       "      <td>Peru</td>\n",
       "      <td>Si</td>\n",
       "    </tr>\n",
       "    <tr>\n",
       "      <th>3</th>\n",
       "      <td>Laura</td>\n",
       "      <td>66</td>\n",
       "      <td>Argentina</td>\n",
       "      <td>No</td>\n",
       "    </tr>\n",
       "  </tbody>\n",
       "</table>\n",
       "</div>"
      ],
      "text/plain": [
       "  Nombre y apellido  Edad       País Automovil\n",
       "0              Juan    35     Mexico        No\n",
       "1             Pedro    41   Honduras        Si\n",
       "2             Maria    28       Peru        Si\n",
       "3             Laura    66  Argentina        No"
      ]
     },
     "execution_count": 9,
     "metadata": {},
     "output_type": "execute_result"
    }
   ],
   "source": [
    "dataframe"
   ]
  },
  {
   "cell_type": "code",
   "execution_count": 10,
   "metadata": {},
   "outputs": [
    {
     "data": {
      "text/html": [
       "<div>\n",
       "<style scoped>\n",
       "    .dataframe tbody tr th:only-of-type {\n",
       "        vertical-align: middle;\n",
       "    }\n",
       "\n",
       "    .dataframe tbody tr th {\n",
       "        vertical-align: top;\n",
       "    }\n",
       "\n",
       "    .dataframe thead th {\n",
       "        text-align: right;\n",
       "    }\n",
       "</style>\n",
       "<table border=\"1\" class=\"dataframe\">\n",
       "  <thead>\n",
       "    <tr style=\"text-align: right;\">\n",
       "      <th></th>\n",
       "      <th>Nombre y apellido</th>\n",
       "      <th>Edad</th>\n",
       "      <th>País</th>\n",
       "      <th>Automovil</th>\n",
       "    </tr>\n",
       "  </thead>\n",
       "  <tbody>\n",
       "    <tr>\n",
       "      <th>2</th>\n",
       "      <td>Maria</td>\n",
       "      <td>28</td>\n",
       "      <td>Peru</td>\n",
       "      <td>Si</td>\n",
       "    </tr>\n",
       "  </tbody>\n",
       "</table>\n",
       "</div>"
      ],
      "text/plain": [
       "  Nombre y apellido  Edad  País Automovil\n",
       "2             Maria    28  Peru        Si"
      ]
     },
     "execution_count": 10,
     "metadata": {},
     "output_type": "execute_result"
    }
   ],
   "source": [
    "dataframe[dataframe.País.str.contains('Peru')]"
   ]
  },
  {
   "cell_type": "code",
   "execution_count": 13,
   "metadata": {},
   "outputs": [
    {
     "data": {
      "text/html": [
       "<div>\n",
       "<style scoped>\n",
       "    .dataframe tbody tr th:only-of-type {\n",
       "        vertical-align: middle;\n",
       "    }\n",
       "\n",
       "    .dataframe tbody tr th {\n",
       "        vertical-align: top;\n",
       "    }\n",
       "\n",
       "    .dataframe thead th {\n",
       "        text-align: right;\n",
       "    }\n",
       "</style>\n",
       "<table border=\"1\" class=\"dataframe\">\n",
       "  <thead>\n",
       "    <tr style=\"text-align: right;\">\n",
       "      <th></th>\n",
       "      <th>Nombre y apellido</th>\n",
       "      <th>Edad</th>\n",
       "      <th>País</th>\n",
       "      <th>Automovil</th>\n",
       "    </tr>\n",
       "  </thead>\n",
       "  <tbody>\n",
       "    <tr>\n",
       "      <th>1</th>\n",
       "      <td>Pedro</td>\n",
       "      <td>41</td>\n",
       "      <td>Honduras</td>\n",
       "      <td>Si</td>\n",
       "    </tr>\n",
       "  </tbody>\n",
       "</table>\n",
       "</div>"
      ],
      "text/plain": [
       "  Nombre y apellido  Edad      País Automovil\n",
       "1             Pedro    41  Honduras        Si"
      ]
     },
     "execution_count": 13,
     "metadata": {},
     "output_type": "execute_result"
    }
   ],
   "source": [
    "dataframe[dataframe.País.str.startswith('H')]"
   ]
  },
  {
   "cell_type": "code",
   "execution_count": 8,
   "metadata": {},
   "outputs": [],
   "source": [
    "import matplotlib.pyplot as plt"
   ]
  },
  {
   "cell_type": "code",
   "execution_count": 35,
   "metadata": {},
   "outputs": [],
   "source": [
    "dataframe=pd.read_csv('/home/mauricio/datosFits/microchip/testMarzo/05JUN23/nSamp/overscan_nsamp.crio',sep=',')"
   ]
  },
  {
   "cell_type": "code",
   "execution_count": 36,
   "metadata": {},
   "outputs": [
    {
     "data": {
      "text/html": [
       "<div>\n",
       "<style scoped>\n",
       "    .dataframe tbody tr th:only-of-type {\n",
       "        vertical-align: middle;\n",
       "    }\n",
       "\n",
       "    .dataframe tbody tr th {\n",
       "        vertical-align: top;\n",
       "    }\n",
       "\n",
       "    .dataframe thead th {\n",
       "        text-align: right;\n",
       "    }\n",
       "</style>\n",
       "<table border=\"1\" class=\"dataframe\">\n",
       "  <thead>\n",
       "    <tr style=\"text-align: right;\">\n",
       "      <th></th>\n",
       "      <th>Unnamed: 0</th>\n",
       "      <th>nSamp</th>\n",
       "      <th>Ext_0</th>\n",
       "      <th>Ext_1</th>\n",
       "      <th>Ext_2</th>\n",
       "      <th>Ext_3</th>\n",
       "    </tr>\n",
       "  </thead>\n",
       "  <tbody>\n",
       "    <tr>\n",
       "      <th>0</th>\n",
       "      <td>3</td>\n",
       "      <td>1</td>\n",
       "      <td>4.0060</td>\n",
       "      <td>4.2244</td>\n",
       "      <td>5.0000</td>\n",
       "      <td>4.4383</td>\n",
       "    </tr>\n",
       "    <tr>\n",
       "      <th>1</th>\n",
       "      <td>4</td>\n",
       "      <td>4</td>\n",
       "      <td>1.8271</td>\n",
       "      <td>2.0162</td>\n",
       "      <td>2.6507</td>\n",
       "      <td>2.0268</td>\n",
       "    </tr>\n",
       "    <tr>\n",
       "      <th>2</th>\n",
       "      <td>5</td>\n",
       "      <td>9</td>\n",
       "      <td>1.2269</td>\n",
       "      <td>1.2712</td>\n",
       "      <td>1.7633</td>\n",
       "      <td>1.3677</td>\n",
       "    </tr>\n",
       "    <tr>\n",
       "      <th>3</th>\n",
       "      <td>6</td>\n",
       "      <td>16</td>\n",
       "      <td>0.9154</td>\n",
       "      <td>0.9466</td>\n",
       "      <td>1.2768</td>\n",
       "      <td>1.0328</td>\n",
       "    </tr>\n",
       "    <tr>\n",
       "      <th>4</th>\n",
       "      <td>7</td>\n",
       "      <td>25</td>\n",
       "      <td>0.7323</td>\n",
       "      <td>0.6794</td>\n",
       "      <td>0.9366</td>\n",
       "      <td>0.8093</td>\n",
       "    </tr>\n",
       "    <tr>\n",
       "      <th>5</th>\n",
       "      <td>8</td>\n",
       "      <td>81</td>\n",
       "      <td>0.3792</td>\n",
       "      <td>0.3662</td>\n",
       "      <td>0.5388</td>\n",
       "      <td>0.4281</td>\n",
       "    </tr>\n",
       "    <tr>\n",
       "      <th>6</th>\n",
       "      <td>9</td>\n",
       "      <td>100</td>\n",
       "      <td>0.4476</td>\n",
       "      <td>0.4313</td>\n",
       "      <td>0.6145</td>\n",
       "      <td>0.5342</td>\n",
       "    </tr>\n",
       "    <tr>\n",
       "      <th>7</th>\n",
       "      <td>10</td>\n",
       "      <td>144</td>\n",
       "      <td>0.2916</td>\n",
       "      <td>0.2876</td>\n",
       "      <td>0.4501</td>\n",
       "      <td>0.3235</td>\n",
       "    </tr>\n",
       "    <tr>\n",
       "      <th>8</th>\n",
       "      <td>11</td>\n",
       "      <td>225</td>\n",
       "      <td>0.2501</td>\n",
       "      <td>0.2502</td>\n",
       "      <td>1.3959</td>\n",
       "      <td>0.2743</td>\n",
       "    </tr>\n",
       "    <tr>\n",
       "      <th>9</th>\n",
       "      <td>12</td>\n",
       "      <td>324</td>\n",
       "      <td>0.2567</td>\n",
       "      <td>0.2555</td>\n",
       "      <td>0.8959</td>\n",
       "      <td>0.2812</td>\n",
       "    </tr>\n",
       "    <tr>\n",
       "      <th>10</th>\n",
       "      <td>13</td>\n",
       "      <td>400</td>\n",
       "      <td>0.2454</td>\n",
       "      <td>0.2550</td>\n",
       "      <td>0.6656</td>\n",
       "      <td>0.3007</td>\n",
       "    </tr>\n",
       "    <tr>\n",
       "      <th>11</th>\n",
       "      <td>14</td>\n",
       "      <td>625</td>\n",
       "      <td>0.2319</td>\n",
       "      <td>0.2384</td>\n",
       "      <td>0.4751</td>\n",
       "      <td>0.2567</td>\n",
       "    </tr>\n",
       "    <tr>\n",
       "      <th>12</th>\n",
       "      <td>15</td>\n",
       "      <td>900</td>\n",
       "      <td>0.1994</td>\n",
       "      <td>0.2035</td>\n",
       "      <td>0.4876</td>\n",
       "      <td>0.2267</td>\n",
       "    </tr>\n",
       "    <tr>\n",
       "      <th>13</th>\n",
       "      <td>16</td>\n",
       "      <td>1225</td>\n",
       "      <td>0.2059</td>\n",
       "      <td>0.2150</td>\n",
       "      <td>0.4851</td>\n",
       "      <td>0.2420</td>\n",
       "    </tr>\n",
       "  </tbody>\n",
       "</table>\n",
       "</div>"
      ],
      "text/plain": [
       "    Unnamed: 0  nSamp   Ext_0   Ext_1   Ext_2   Ext_3\n",
       "0            3      1  4.0060  4.2244  5.0000  4.4383\n",
       "1            4      4  1.8271  2.0162  2.6507  2.0268\n",
       "2            5      9  1.2269  1.2712  1.7633  1.3677\n",
       "3            6     16  0.9154  0.9466  1.2768  1.0328\n",
       "4            7     25  0.7323  0.6794  0.9366  0.8093\n",
       "5            8     81  0.3792  0.3662  0.5388  0.4281\n",
       "6            9    100  0.4476  0.4313  0.6145  0.5342\n",
       "7           10    144  0.2916  0.2876  0.4501  0.3235\n",
       "8           11    225  0.2501  0.2502  1.3959  0.2743\n",
       "9           12    324  0.2567  0.2555  0.8959  0.2812\n",
       "10          13    400  0.2454  0.2550  0.6656  0.3007\n",
       "11          14    625  0.2319  0.2384  0.4751  0.2567\n",
       "12          15    900  0.1994  0.2035  0.4876  0.2267\n",
       "13          16   1225  0.2059  0.2150  0.4851  0.2420"
      ]
     },
     "execution_count": 36,
     "metadata": {},
     "output_type": "execute_result"
    }
   ],
   "source": [
    "dataframe"
   ]
  },
  {
   "cell_type": "code",
   "execution_count": 37,
   "metadata": {},
   "outputs": [
    {
     "data": {
      "image/png": "[encoded data removed]",
      "text/plain": [
       "<Figure size 1440x360 with 4 Axes>"
      ]
     },
     "metadata": {
      "needs_background": "light"
     },
     "output_type": "display_data"
    }
   ],
   "source": [
    "fig, axes=plt.subplots(1, 4,figsize=(20,5))\n",
    "axes[0].plot(dataframe.index, dataframe.Ext_0,\".k\")\n",
    "axes[0].set_ylabel(\"Noise (e-)\")\n",
    "axes[0].set_xlabel(\"nSamp from 1 to 1225\")\n",
    "axes[0].grid(True)\n",
    "\n",
    "axes[1].plot(dataframe.index, dataframe.Ext_1,\".k\")\n",
    "axes[1].grid(True)\n",
    "\n",
    "axes[2].plot(dataframe.index, dataframe.Ext_2,\".k\")\n",
    "axes[2].grid(True)\n",
    "\n",
    "axes[3].plot(dataframe.index, dataframe.Ext_3,\".k\")\n",
    "axes[3].grid(True)\n"
   ]
  },
  {
   "cell_type": "code",
   "execution_count": null,
   "metadata": {},
   "outputs": [],
   "source": []
  }
 ],
 "metadata": {
  "kernelspec": {
   "display_name": "Python 3 (ipykernel)",
   "language": "python",
   "name": "python3"
  },
  "language_info": {
   "codemirror_mode": {
    "name": "ipython",
    "version": 3
   },
   "file_extension": ".py",
   "mimetype": "text/x-python",
   "name": "python",
   "nbconvert_exporter": "python",
   "pygments_lexer": "ipython3",
   "version": "3.10.12"
  }
 },
 "nbformat": 4,
 "nbformat_minor": 4
}
