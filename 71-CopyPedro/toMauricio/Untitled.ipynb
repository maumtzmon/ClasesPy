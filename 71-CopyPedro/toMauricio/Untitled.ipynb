{
 "cells": [
  {
   "cell_type": "code",
   "execution_count": 2,
   "id": "17ae3709-bae0-428b-92dd-3b29dc017b33",
   "metadata": {},
   "outputs": [],
   "source": [
    "from functions_py import *\n",
    "import matplotlib.pyplot as plt\n",
    "from mpl_toolkits.axes_grid1 import make_axes_locatable"
   ]
  },
  {
   "cell_type": "code",
   "execution_count": 3,
   "id": "3239725e-a771-4b82-8427-06ea3bf2d3f8",
   "metadata": {
    "tags": []
   },
   "outputs": [],
   "source": [
    "plt.rcParams.update({\n",
    "    \"image.origin\": \"lower\",\n",
    "    \"image.aspect\": 1,\n",
    "    #\"text.usetex\": True,\n",
    "    \"grid.alpha\": .5,\n",
    "    \"axes.linewidth\":2,\n",
    "    \"lines.linewidth\" : 1,\n",
    "    \"font.size\":    15.0,\n",
    "    \"xaxis.labellocation\": 'right',  # alignment of the xaxis label: {left, right, center}\n",
    "    \"yaxis.labellocation\": 'top',  # alignment of the yaxis label: {bottom, top, center}\n",
    "    \"xtick.top\":           True ,  # draw ticks on the top side\n",
    "    \"xtick.major.size\":    8    ,# major tick size in points\n",
    "    \"xtick.minor.size\":    4      ,# minor tick size in points\n",
    "    \"xtick.direction\":     'in',\n",
    "    \"xtick.minor.visible\": True,\n",
    "    \"ytick.right\":           True ,  # draw ticks on the top side\n",
    "    \"ytick.major.size\":    8    ,# major tick size in points\n",
    "    \"ytick.minor.size\":    4      ,# minor tick size in points\n",
    "    \"ytick.direction\":     'in',\n",
    "    \"ytick.minor.visible\": True,\n",
    "    \"ytick.major.width\":   2   , # major tick width in points\n",
    "    \"ytick.minor.width\":   1 ,\n",
    "    \"xtick.major.width\":   2   , # major tick width in points\n",
    "    \"xtick.minor.width\":   1 ,\n",
    "    \"legend.framealpha\": 0 ,\n",
    "    \"legend.loc\": 'best',\n",
    "\n",
    "})"
   ]
  },
  {
   "cell_type": "code",
   "execution_count": 9,
   "id": "653b83f8-fa69-4b29-b252-7a660c8d9a4f",
   "metadata": {},
   "outputs": [],
   "source": [
    "dataADU1x10=['dataADUcalib/RunADU_1x10_1.npy',\n",
    "             'dataADUcalib/RunADU_1x10_2.npy',\n",
    "             'dataADUcalib/RunADU_1x10_3.npy']\n",
    "dataADU1x2=['dataADUcalib/RunADU_1x2_1.npy',\n",
    "            'dataADUcalib/RunADU_1x2_2.npy',\n",
    "            'dataADUcalib/RunADU_1x2_3.npy']\n",
    "dataADU1x4=['RunADU_1x4_1.npy',\n",
    "            'RunADU_1x4_2.npy']\n",
    "dataADU2x1=['RunADU_2x1_1.npy',\n",
    "            'RunADU_2x1_2.npy']\n",
    "dataADU2x2=['RunADU_2x2_1.npy',\n",
    "            'RunADU_2x2_2.npy']\n",
    "\n",
    "data_set=[dataADU1x10,dataADU1x2,dataADU1x4,dataADU2x1,dataADU2x2]\n",
    "data_set_name=['dataADU1x10','dataADU1x2','dataADU1x4','dataADU2x1','dataADU2x2']"
   ]
  },
  {
   "cell_type": "code",
   "execution_count": 10,
   "id": "936a7ac3-b6a8-42fc-8ce2-a19e80ffd96a",
   "metadata": {},
   "outputs": [
    {
     "name": "stdout",
     "output_type": "stream",
     "text": [
      "dataADU2x1 done! \n",
      "dataADU2x2 done! \n"
     ]
    }
   ],
   "source": [
    "for i in [3,4]:\n",
    "    \n",
    "    lista=[]\n",
    "    for file in data_set[i]:\n",
    "        lista.append(np.load(file))\n",
    "    np.save(data_set_name[i]+'.npy',np.concatenate(lista,axis=1))\n",
    "    print(data_set_name[i]+' done! ')"
   ]
  },
  {
   "cell_type": "code",
   "execution_count": null,
   "id": "ab056675-7b27-4bbd-ae84-93f9eea1472e",
   "metadata": {},
   "outputs": [],
   "source": [
    "def GlobalCalib(RunData_adu, RunGain_list, RunNoise_list ,csv_file,extensions=4):\n",
    "    if extensions!=1:\n",
    "        for j in extensions:\n",
    "            global_hist, xb = np.histogram(RunData_adu[j], bins = np.arange(-250, RunGain_list[j]*100+250, 1) ) \n",
    "            x = (xb[1:]+xb[:-1])/2\n",
    "\n",
    "            global_sigma=RunNoise_list[j]*RunGain_list[j]\n",
    "            peaks, prop = find_peaks(global_hist, distance=4*global_sigma, height=10)\n",
    "            trunc=abs(np.diff(peaks)-np.median(np.diff(peaks)))/np.median(np.diff(peaks))\n",
    "            pk=0\n",
    "            electron_list=[0] #electron number correspondig to each peak \n",
    "            for t in trunc.round():\n",
    "                elec_pk=pk+1+t\n",
    "                pk=elec_pk\n",
    "                electron_list.append(elec_pk)\n",
    "            amp=list(prop['peak_heights']) # initial paramter to curve_fit\n",
    "            med=list(x[peaks])  # initial paramter to curve_fit\n",
    "\n",
    "            #Final lists to calibration fit linear\n",
    "            means_fit=[]\n",
    "            electrons_fit=[]\n",
    "            err_means_fit=[]\n",
    "            out_peaks=csv_file\n",
    "            with open(out_peaks, \"w\") as o:\n",
    "            o.write(\"#peak, mean, mean_err, sigma, sigma_err, amp, amp_err\\n\")\n",
    "            for k in range(len(med)):\n",
    "                y,xb=np.histogram(RunData_adu,bins=np.arange(med[k]-global_sigma*3,med[k]+global_sigma*3,1))\n",
    "                x=(xb[1:]+xb[:-1])/2\n",
    "                try:\n",
    "                    popt,pcov=curve_fit(gauss,x,y,p0=[med[k],global_sigma,amp[k]])\n",
    "                    means_fit.append(popt[0])\n",
    "                    err_means_fit.append(np.sqrt(np.diag(pcov))[0])\n",
    "                    electrons_fit.append(electron_list[k])\n",
    "                    perr = np.sqrt(np.diag(pcov))\n",
    "                    with open(out_peaks, \"a\") as o:\n",
    "                        o.write( f\"{electron_list[k]}, {popt[0]}, {perr[0]}, {abs(popt[1])}, {perr[1]}, {popt[2]}, {perr[2]}\\n\" )\n",
    "                except (RuntimeError,OptimizeWarning,RuntimeWarning):\n",
    "                    continue\n",
    "            try:\n",
    "                popt_g, pcov_g = curve_fit(ax, electrons_fit, means_fit,sigma=err_means_fit, absolute_sigma=True)\n",
    "\n",
    "            except (RuntimeError,OptimizeWarning,RuntimeWarning):\n",
    "                print(f\"Error - global gain fit failed\")\n",
    "                sys.exit()\n",
    "\n",
    "            perr=np.sqrt(np.diag(pcov_g))\n",
    "\n",
    "\n",
    "            print(\"\")\n",
    "            print(\"Global Gain a : \",popt_g[0],\"+-\",perr[0],\" ADU/e-\")\n",
    "            print(\"Global Gain b : \",popt_g[1],\"+-\",perr[1],\" ADU\")\n",
    "            return (popt_g[0],popt_g[1]),len(electrons_fit)"
   ]
  },
  {
   "cell_type": "code",
   "execution_count": 36,
   "id": "9e809351-2051-44e2-837f-e57653d2bdd8",
   "metadata": {},
   "outputs": [
    {
     "name": "stdout",
     "output_type": "stream",
     "text": [
      "/home/zilvespedro/work/MICROCHIP/MANA/AnaParamsCSV/AnaParams_1x10_1.csv\n",
      "[0.21202125190770266, 0.1955687886984654, 0.19098674372081034, 0.18972967916248684]\n",
      "/home/zilvespedro/work/MICROCHIP/MANA/AnaParamsCSV/AnaParams_1x2_1.csv\n",
      "[0.2116075999946698, 0.1956338482169269, 0.1910119036880306, 0.1897318390680469]\n",
      "/home/zilvespedro/work/MICROCHIP/MANA/AnaParamsCSV/AnaParams_1x4_1.csv\n",
      "[0.21204752012843645, 0.1956216643360677, 0.1911767997342964, 0.18985113943864695]\n",
      "/home/zilvespedro/work/MICROCHIP/MANA/AnaParamsCSV/AnaParams_2x1_1.csv\n",
      "[0.2111948780839982, 0.196901358174851, 0.19573119277093326, 0.18944595665932795]\n",
      "/home/zilvespedro/work/MICROCHIP/MANA/AnaParamsCSV/AnaParams_2x2_1.csv\n",
      "[0.2106189338747109, 0.1966793264835053, 0.1943233548979894, 0.188464662993293]\n"
     ]
    }
   ],
   "source": [
    "for path in glob.glob('/home/zilvespedro/work/MICROCHIP/MANA/AnaParamsCSV/*1.csv'):\n",
    "    print(path)\n",
    "    data=pd.read_csv(path,na_values=[' nan',' inf',-1000])\n",
    "    data=data.dropna(how='any')\n",
    "    RunGain_list=[np.median(data[data['CHID']==i]['Gain'].values) for i in range(4)]\n",
    "    RunNoise_list =[np.median(data[data['CHID']==i]['Noise'].values) for i in range(4)]\n",
    "    rundata_path=path.replace('/home/zilvespedro/work/MICROCHIP/MANA/AnaParamsCSV/AnaParams_',\n",
    "                              '/home/zilvespedro/work/MICROCHIP/MANA/dataADU').replace('_1.csv','.npy')\n",
    "    print(RunNoise_list)"
   ]
  },
  {
   "cell_type": "code",
   "execution_count": 47,
   "id": "32741fab-883a-4d81-95de-6ccb4cd095f9",
   "metadata": {},
   "outputs": [
    {
     "name": "stdout",
     "output_type": "stream",
     "text": [
      "dataADU1x10.npy\n",
      "[0, 1.0, 2.0, 3.0, 4.0, 5.0, 6.0, 7.0, 8.0, 9.0, 10.0]\n",
      "[0, 1.0, 2.0, 3.0, 4.0, 5.0, 6.0, 7.0, 8.0, 9.0, 10.0]\n",
      "[0, 1.0, 2.0, 3.0, 4.0, 5.0, 6.0, 7.0, 8.0, 9.0, 10.0]\n",
      "[0, 1.0, 2.0, 3.0, 4.0, 5.0, 6.0, 7.0, 8.0, 9.0, 10.0]\n"
     ]
    }
   ],
   "source": [
    "peaks=25\n",
    "RunGain_list=[782.6446956497007, 791.4238071687431, 795.2713582541396, 795.1852236417219]\n",
    "RunNoise_list=[0.21202125190770266, 0.1955687886984654, 0.19098674372081034, 0.18972967916248684]\n",
    "for path in glob.glob('dataADU1x10.npy'):\n",
    "    print(path)\n",
    "    run_data=np.load(path)\n",
    "    for i in range(4):\n",
    "        global_hist, xb = np.histogram(run_data[i], bins = np.arange(-150, 790*10+150, 1) ) \n",
    "        x = (xb[1:]+xb[:-1])/2\n",
    "        peaks, prop = find_peaks(global_hist, distance=4*RunNoise_list[i]*RunGain_list[i], height=10)\n",
    "        trunc=abs(np.diff(peaks)-np.median(np.diff(peaks)))/np.median(np.diff(peaks))\n",
    "        pk=0\n",
    "        electron_list=[0] #electron number correspondig to each peak \n",
    "        for t in trunc.round():\n",
    "            elec_pk=pk+1+t\n",
    "            pk=elec_pk\n",
    "            electron_list.append(elec_pk)\n",
    "        print(electron_list)\n",
    "#         plt.figure(figsize=(20,5))\n",
    "#         plt.plot(x,global_hist)\n",
    "#         plt.plot(x[peaks],global_hist[peaks],'x')\n",
    "#         plt.yscale('log')\n",
    "# #         plt.xlim(-250, 790*peaks+250)\n",
    "#     #     plt.ylim(10,1e5)\n",
    "#         plt.show()"
   ]
  },
  {
   "cell_type": "code",
   "execution_count": null,
   "id": "7ab2ace1-a0d9-4c94-aa43-81edc6674e0d",
   "metadata": {},
   "outputs": [],
   "source": []
  }
 ],
 "metadata": {
  "kernelspec": {
   "display_name": "Python 3",
   "language": "python",
   "name": "python3"
  },
  "language_info": {
   "codemirror_mode": {
    "name": "ipython",
    "version": 3
   },
   "file_extension": ".py",
   "mimetype": "text/x-python",
   "name": "python",
   "nbconvert_exporter": "python",
   "pygments_lexer": "ipython3",
   "version": "3.8.8"
  }
 },
 "nbformat": 4,
 "nbformat_minor": 5
}
