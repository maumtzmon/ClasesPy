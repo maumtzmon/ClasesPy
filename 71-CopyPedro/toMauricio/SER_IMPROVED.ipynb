{
 "cells": [
  {
   "cell_type": "markdown",
   "id": "3dc51cc3-60b5-46dc-b81b-b89436b7ddb5",
   "metadata": {},
   "source": [
    "# MICROCHIP SINGLE ELECTRON RATE CALCULATION"
   ]
  },
  {
   "cell_type": "code",
   "execution_count": 1,
   "id": "4dfca922-638b-485e-b666-43de5483ad04",
   "metadata": {},
   "outputs": [],
   "source": [
    "from functions_py import *\n",
    "import matplotlib.pyplot as plt\n",
    "from mpl_toolkits.axes_grid1 import make_axes_locatable"
   ]
  },
  {
   "cell_type": "code",
   "execution_count": 2,
   "id": "131b3585-9823-4d71-93d6-c39534ab9160",
   "metadata": {
    "tags": []
   },
   "outputs": [],
   "source": [
    "plt.rcParams.update({\n",
    "    \"image.origin\": \"lower\",\n",
    "    \"image.aspect\": 1,\n",
    "    #\"text.usetex\": True,\n",
    "    \"grid.alpha\": .5,\n",
    "    \"axes.linewidth\":2,\n",
    "    \"lines.linewidth\" : 1,\n",
    "    \"font.size\":    15.0,\n",
    "    \"xaxis.labellocation\": 'right',  # alignment of the xaxis label: {left, right, center}\n",
    "    \"yaxis.labellocation\": 'top',  # alignment of the yaxis label: {bottom, top, center}\n",
    "    \"xtick.top\":           True ,  # draw ticks on the top side\n",
    "    \"xtick.major.size\":    8    ,# major tick size in points\n",
    "    \"xtick.minor.size\":    4      ,# minor tick size in points\n",
    "    \"xtick.direction\":     'in',\n",
    "    \"xtick.minor.visible\": True,\n",
    "    \"ytick.right\":           True ,  # draw ticks on the top side\n",
    "    \"ytick.major.size\":    8    ,# major tick size in points\n",
    "    \"ytick.minor.size\":    4      ,# minor tick size in points\n",
    "    \"ytick.direction\":     'in',\n",
    "    \"ytick.minor.visible\": True,\n",
    "    \"ytick.major.width\":   2   , # major tick width in points\n",
    "    \"ytick.minor.width\":   1 ,\n",
    "    \"xtick.major.width\":   2   , # major tick width in points\n",
    "    \"xtick.minor.width\":   1 ,\n",
    "    \"legend.framealpha\": 0 ,\n",
    "    \"legend.loc\": 'best',\n",
    "\n",
    "})"
   ]
  },
  {
   "cell_type": "code",
   "execution_count": 3,
   "id": "8b074021-be17-415a-9b9a-195acc112250",
   "metadata": {},
   "outputs": [],
   "source": [
    "import numpy.ma as ma"
   ]
  },
  {
   "cell_type": "code",
   "execution_count": 4,
   "id": "5c28cee2-825f-4185-a383-e6db6a6d677f",
   "metadata": {},
   "outputs": [],
   "source": [
    "\n",
    "def LocalSER(data,mask,sigma,readout_time,extensions=4):\n",
    "    \n",
    "    madata=ma.masked_array(data, mask)\n",
    "    if extensions!=1:\n",
    "        \n",
    "        dc_list=[]\n",
    "        dc_err_list=[]\n",
    "        for k in range(extensions):\n",
    "            global_mask=mask[k]\n",
    "            Npix=global_mask.shape[0]*global_mask.shape[1]\n",
    "\n",
    "            time_map=np.linspace(0,readout_time,num=Npix,endpoint=True).reshape(global_mask.shape[0],global_mask.shape[1])\n",
    "\n",
    "            time_map_mask=ma.masked_where( global_mask.astype(bool), time_map)\n",
    "            Nactive=ma.count(time_map_mask)\n",
    "            exposure_time=ma.mean(time_map_mask)\n",
    "#             print(Nactive,exposure_time)\n",
    "            sigmaN=sigma[k]\n",
    "            \n",
    "            def poisson_normN(x, mu, A, lamb, Nmax=5): #sigma parameter global \n",
    "                y = 0.\n",
    "                for i in range(0, Nmax+1):\n",
    "                    y += (lamb**i)/float(math.factorial(i)) *np.exp(-0.5*((x-i-mu-lamb)/float(sigmaN))**2)\n",
    "                return A*np.exp(-lamb)*y/(np.sqrt(2*np.pi*sigmaN**2))\n",
    "            \n",
    "            try:\n",
    "                masked_hist, bins = np.histogram( ma.compressed(madata[k][convolution_mask]), np.arange(-0.5, 2.5, .01) )\n",
    "                x = (bins[1:]+bins[:-1])/2\n",
    "                \n",
    "                popt, pcov = curve_fit( \n",
    "                    poisson_normN, \n",
    "                    x, \n",
    "                    masked_hist, \n",
    "                    p0=[-0.4, 1000, 0.05],\n",
    "                )\n",
    "                perr = np.sqrt(np.diag(pcov))\n",
    "                dc = popt[2]/exposure_time # electron/pix/day\n",
    "                dc_err = perr[2]/exposure_time # electron/pix/day                \n",
    "            except (RuntimeError,OptimizeWarning,RuntimeWarning):\n",
    "                print( f\"Error - dc fit failed at\" )\n",
    "                (dc, dc_err)=(-1000,-1000)\n",
    "            dc_list.append(dc)\n",
    "            dc_err_list.append(dc_err)\n",
    "        return (dc_list,dc_err_list)"
   ]
  },
  {
   "cell_type": "code",
   "execution_count": 5,
   "id": "f8c518ea-c708-4fb0-8c8a-4bd8b27f22de",
   "metadata": {},
   "outputs": [],
   "source": [
    "path='/share/storage2/connie/data/microchip/proc_bkgd_1x2_2/proc_skp_moduleC002_bkgd_clearVB300_NBINROW2_img75.fits'\n",
    "\n",
    "\n",
    "hdu_list = fits.open(path)\n",
    "readout_time = GetRDtime(hdu_list)\n",
    "data_pre = precal(hdu_list,extensions=4)\n",
    "gain, gain_err, data= LocalCalib(data_pre,extensions=4)\n",
    "sigma, sigma_err = LocalSigma(data,extensions=4)\n",
    "\n",
    "\n",
    "mask_bleeding_array, HE_events_array = mask_bleeding(data,direction='xy',iterations=[40,20],extensions=4,he_th=80)\n",
    "SRE_mask_array=mask_SRE(DataMminus(data,(mask_bleeding_array+HE_events_array)),extensions=4,SRE_th=1.5)\n",
    "\n",
    "masks_data=[32*mask_bleeding_array.astype('bool'),128*SRE_mask_array.astype('bool')]\n",
    "GlobalMask=np.array(masks_data).max(axis=0)\n",
    "EventHalo_Mask(data,mask_bleeding_array)\n",
    "\n",
    "event_halo_SR_mask = np.array(GlobalMask,dtype=bool)|EventHalo_Mask(data,mask_bleeding_array).astype(bool)"
   ]
  },
  {
   "cell_type": "code",
   "execution_count": 7,
   "id": "9a9546e8-7bab-451d-ba59-24c079ec1df0",
   "metadata": {},
   "outputs": [],
   "source": [
    "ser_list,ser_err_list = LocalSER(data,event_halo_SR_mask,sigma,readout_time)"
   ]
  },
  {
   "cell_type": "code",
   "execution_count": 10,
   "id": "f1ff84b8-2c6c-49e3-9bcd-9239468e7464",
   "metadata": {},
   "outputs": [
    {
     "data": {
      "text/plain": [
       "[9.928524842520893, 2.0244499800277183, 7.615579253856292, 26.00399941857452]"
      ]
     },
     "execution_count": 10,
     "metadata": {},
     "output_type": "execute_result"
    }
   ],
   "source": [
    "ser_list"
   ]
  },
  {
   "cell_type": "code",
   "execution_count": 14,
   "id": "103f44af-bda6-4b28-a4cb-67d9869be667",
   "metadata": {},
   "outputs": [
    {
     "data": {
      "text/plain": [
       "(854, 4, 33995)"
      ]
     },
     "execution_count": 14,
     "metadata": {},
     "output_type": "execute_result"
    }
   ],
   "source": [
    "np.load('DataADU_1x10_1.npy').shape"
   ]
  },
  {
   "cell_type": "code",
   "execution_count": null,
   "id": "1402edd6-cb5a-46c3-ab6a-5a91cb47e227",
   "metadata": {},
   "outputs": [],
   "source": []
  }
 ],
 "metadata": {
  "kernelspec": {
   "display_name": "Python 3",
   "language": "python",
   "name": "python3"
  },
  "language_info": {
   "codemirror_mode": {
    "name": "ipython",
    "version": 3
   },
   "file_extension": ".py",
   "mimetype": "text/x-python",
   "name": "python",
   "nbconvert_exporter": "python",
   "pygments_lexer": "ipython3",
   "version": "3.8.8"
  }
 },
 "nbformat": 4,
 "nbformat_minor": 5
}
