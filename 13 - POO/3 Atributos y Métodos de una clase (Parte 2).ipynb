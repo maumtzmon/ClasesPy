{
 "cells": [
  {
   "cell_type": "code",
   "execution_count": 1,
   "metadata": {},
   "outputs": [],
   "source": [
    "class Auto:\n",
    "    Rojo = False\n",
    "    \n",
    "    def __init__(self, puertas, color):\n",
    "        self.puertas = puertas\n",
    "        self.color = color\n",
    "        print(\"Se creo un Auto con puertas {} y color {}\".format(puertas, color))\n",
    "        \n",
    "    def Fabricar(self):\n",
    "        self.Rojo = True\n",
    "    \n",
    "    def confirmar_fabricacion(self):\n",
    "        if (self.Rojo):\n",
    "            print(\"auto coloreado rojo\")\n",
    "        else:\n",
    "            print(\"aun no esta coloreado\")"
   ]
  },
  {
   "cell_type": "code",
   "execution_count": 2,
   "metadata": {},
   "outputs": [
    {
     "name": "stdout",
     "output_type": "stream",
     "text": [
      "Se creo un Auto con puertas 2 y color Rojo\n"
     ]
    }
   ],
   "source": [
    "a = Auto(\"2\", \"Rojo\")"
   ]
  },
  {
   "cell_type": "code",
   "execution_count": 3,
   "metadata": {},
   "outputs": [
    {
     "ename": "TypeError",
     "evalue": "Auto.__init__() missing 2 required positional arguments: 'puertas' and 'color'",
     "output_type": "error",
     "traceback": [
      "\u001b[0;31m---------------------------------------------------------------------------\u001b[0m",
      "\u001b[0;31mTypeError\u001b[0m                                 Traceback (most recent call last)",
      "\u001b[1;32m/home/oem/Software/cursoInstrumentacion_2022/ClasesPy/13 - POO/3 Atributos y Métodos de una clase (Parte 2).ipynb Celda 3\u001b[0m line \u001b[0;36m1\n\u001b[0;32m----> <a href='vscode-notebook-cell:/home/oem/Software/cursoInstrumentacion_2022/ClasesPy/13%20-%20POO/3%20Atributos%20y%20M%C3%A9todos%20de%20una%20clase%20%28Parte%202%29.ipynb#W2sZmlsZQ%3D%3D?line=0'>1</a>\u001b[0m a \u001b[39m=\u001b[39m Auto()\n",
      "\u001b[0;31mTypeError\u001b[0m: Auto.__init__() missing 2 required positional arguments: 'puertas' and 'color'"
     ]
    }
   ],
   "source": [
    "a = Auto()"
   ]
  },
  {
   "cell_type": "code",
   "execution_count": 4,
   "metadata": {},
   "outputs": [],
   "source": [
    "class Auto:\n",
    "    Rojo = False\n",
    "    \n",
    "    def __init__(self, puertas=None, color=None):\n",
    "        self.puertas = puertas\n",
    "        self.color = color\n",
    "        if puertas is not None and color is not None:\n",
    "            print(\"Se creo un Auto con puertas {} y color {}\".format(puertas, color))\n",
    "        \n",
    "    def Fabricar(self):\n",
    "        self.Rojo = True\n",
    "    \n",
    "    def confirmar_fabricacion(self):\n",
    "        if (self.Rojo):\n",
    "            print(\"auto coloreado rojo\")\n",
    "        else:\n",
    "            print(\"aun no esta coloreado\")"
   ]
  },
  {
   "cell_type": "code",
   "execution_count": 25,
   "metadata": {},
   "outputs": [
    {
     "name": "stdout",
     "output_type": "stream",
     "text": [
      "Se creo un Auto con puertas 4 y color verde\n"
     ]
    }
   ],
   "source": [
    "mi_coche=Auto(4,'verde')"
   ]
  },
  {
   "cell_type": "code",
   "execution_count": 29,
   "metadata": {},
   "outputs": [
    {
     "name": "stdout",
     "output_type": "stream",
     "text": [
      "aun no esta coloreado\n"
     ]
    }
   ],
   "source": [
    "Auto.confirmar_fabricacion(mi_coche)"
   ]
  },
  {
   "cell_type": "code",
   "execution_count": 13,
   "metadata": {},
   "outputs": [],
   "source": [
    "import math"
   ]
  },
  {
   "cell_type": "code",
   "execution_count": 25,
   "metadata": {},
   "outputs": [],
   "source": [
    "class coordenada_v2():\n",
    "    def __init__(self, X=None, Y=None):\n",
    "        self.X = X\n",
    "        self.Y = Y\n",
    "        self.lenght=(self.X**2+self.Y**2)**0.5\n",
    "        self.angle=(math.atan(self.Y/self.X)*360/(2*math.pi))\n",
    "        \n",
    "        \n",
    "\n",
    "    \n",
    "        \n",
    "        "
   ]
  },
  {
   "cell_type": "code",
   "execution_count": 26,
   "metadata": {},
   "outputs": [],
   "source": [
    "P1=coordenada_v2(1,1)"
   ]
  },
  {
   "cell_type": "code",
   "execution_count": 27,
   "metadata": {},
   "outputs": [
    {
     "data": {
      "text/plain": [
       "1.4142135623730951"
      ]
     },
     "execution_count": 27,
     "metadata": {},
     "output_type": "execute_result"
    }
   ],
   "source": [
    "P1.lenght"
   ]
  },
  {
   "cell_type": "code",
   "execution_count": 28,
   "metadata": {},
   "outputs": [
    {
     "data": {
      "text/plain": [
       "45.0"
      ]
     },
     "execution_count": 28,
     "metadata": {},
     "output_type": "execute_result"
    }
   ],
   "source": [
    "P1.angle"
   ]
  },
  {
   "cell_type": "code",
   "execution_count": null,
   "metadata": {},
   "outputs": [],
   "source": []
  }
 ],
 "metadata": {
  "kernelspec": {
   "display_name": "Python 3",
   "language": "python",
   "name": "python3"
  },
  "language_info": {
   "codemirror_mode": {
    "name": "ipython",
    "version": 3
   },
   "file_extension": ".py",
   "mimetype": "text/x-python",
   "name": "python",
   "nbconvert_exporter": "python",
   "pygments_lexer": "ipython3",
   "version": "3.10.12"
  }
 },
 "nbformat": 4,
 "nbformat_minor": 2
}
