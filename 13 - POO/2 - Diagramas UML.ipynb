{
 "cells": [
  {
   "cell_type": "markdown",
   "metadata": {},
   "source": [
    "# Objetos y Clases\n",
    "Para comprender mejor la relacion de nuestros inventario de objetos que enlistamos previamente (Naranjas, Manzanas, Cajas y Canastas), asi como la relacion que tienen entre ellas, lo podemos describir a traves de un diagrama **UML**. Pero ¿que es un diagrama UML?\n",
    "\n",
    "Es un lenguaje gráfico para visualizar, especificar, construir y documentar un sistema. UML ofrece un estándar para describir un \"plano\" del sistema (modelo), incluyendo aspectos conceptuales tales como procesos, funciones del sistema, y aspectos concretos como expresiones de lenguajes de programación, esquemas de bases de datos y compuestos reciclados."
   ]
  },
  {
   "cell_type": "markdown",
   "metadata": {},
   "source": [
    "Veamos los objetos que describimos anteriormente y representemos en un diagrama UML la interaccion entre ellos:\n",
    "\n",
    "<img src=\"UML-1.png\">"
   ]
  },
  {
   "cell_type": "markdown",
   "metadata": {},
   "source": [
    "Este diagrama muestra, de alguna manera, la relacion entre las clases de objetos. La naranja esta asociada a la canasta y la manzana a un cajon\n",
    "\n",
    "Los diagramas UML son muy populares entre los administradores, su sintaxis es un tanto obvia y no necesitamos (la mayoria de las veces) un tutorial para entenderlos, debido a que son muy facil de hacer y su estructura los hace intuitivos. El nivel de detalle que plasmemos en el diagrama dependera de la situacion y el trabajo en el que sera plasmado."
   ]
  },
  {
   "cell_type": "markdown",
   "metadata": {},
   "source": [
    "## Especificando atributos y comportamientos\n",
    "\n",
    "#### Datos describiendo Objetos\n",
    "\n",
    "Los datos a los que nos referimos son los que representan las caracteristicas de un cierto objeto. Una clase puede definir un juego de caracteristicas especificas que comparten todos los objetos de su clase. Cada objeto en particular, debe tener diferentes valores para cada caracteristica. Por ejemplo: nuestras naranjas que describimos anteriormente tienen un peso diferente, eso es debido a que la Clase Naranjas tiene un atributo llamado peso. \n",
    "\n",
    "En terminos de POO: Todas las *instancias* de la clase naranjas poseen un atributo llamado peso, pero cada una de ellas tiene un valor diferente para ese peso.\n",
    "\n",
    "\n"
   ]
  },
  {
   "cell_type": "markdown",
   "metadata": {},
   "source": [
    "<img src=\"UML-2.png\">\n",
    "\n",
    "En nuestro inventario de frutas, el granjero quiere saber de que hortaliza viene la naranja, cuando fue recolectada y cuanto pesa. Posiblemente quiere saber en que canasta es guardada.\n",
    "Las manzanas pueden tener el atributo de Color, asi como los cajones donde se almacenan poseen diferentes tamaños. "
   ]
  },
  {
   "cell_type": "markdown",
   "metadata": {},
   "source": [
    "Veamos que dependiedo de que tan detallado querramos nuestro diagrama UML, podemos especificar cada atributo en nuestro diagrama. Los tipos de atributos van desde numeros enteros, flotantes, cadenas de caracteres, bytes, booleanos, graficas, listas, estructuras de datos y en ocaciones otras clases.\n",
    "\n",
    "<img src=\"UML-3.png\">"
   ]
  },
  {
   "cell_type": "markdown",
   "metadata": {},
   "source": [
    "### En esta etapa no es necesario entrar en tanto detalle sobre los tipos de datos que representa a los atributos, es suficiente con algunos nombres genericos"
   ]
  },
  {
   "cell_type": "markdown",
   "metadata": {},
   "source": []
  }
 ],
 "metadata": {
  "kernelspec": {
   "display_name": "Python 3.9.7 ('base')",
   "language": "python",
   "name": "python3"
  },
  "language_info": {
   "codemirror_mode": {
    "name": "ipython",
    "version": 3
   },
   "file_extension": ".py",
   "mimetype": "text/x-python",
   "name": "python",
   "nbconvert_exporter": "python",
   "pygments_lexer": "ipython3",
   "version": "3.9.7"
  },
  "orig_nbformat": 4,
  "vscode": {
   "interpreter": {
    "hash": "ad9e000ace8b4c39afbdcf83b61f0f239008d468236d6baabfb987e10afb94b8"
   }
  }
 },
 "nbformat": 4,
 "nbformat_minor": 2
}
