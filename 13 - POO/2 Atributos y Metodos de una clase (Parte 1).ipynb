{
 "cells": [
  {
   "cell_type": "markdown",
   "metadata": {},
   "source": [
    "# Creando una clase"
   ]
  },
  {
   "cell_type": "code",
   "execution_count": 2,
   "metadata": {},
   "outputs": [],
   "source": [
    "class ClaseUno:\n",
    "    pass"
   ]
  },
  {
   "cell_type": "markdown",
   "metadata": {},
   "source": [
    "Esta Clase esta vacia, no tiene nada en ella. Aun asi, podemos crear objetos."
   ]
  },
  {
   "cell_type": "code",
   "execution_count": 3,
   "metadata": {},
   "outputs": [],
   "source": [
    "a= ClaseUno()\n",
    "b= ClaseUno()"
   ]
  },
  {
   "cell_type": "code",
   "execution_count": 4,
   "metadata": {},
   "outputs": [
    {
     "name": "stdout",
     "output_type": "stream",
     "text": [
      "<__main__.ClaseUno object at 0x7f75926be940>\n",
      "<__main__.ClaseUno object at 0x7f75926be9d0>\n"
     ]
    }
   ],
   "source": [
    "print(a)\n",
    "print(b)"
   ]
  },
  {
   "cell_type": "markdown",
   "metadata": {},
   "source": [
    "# Agregar Atributos"
   ]
  },
  {
   "cell_type": "code",
   "execution_count": 5,
   "metadata": {},
   "outputs": [],
   "source": [
    "class coordenada():\n",
    "    pass"
   ]
  },
  {
   "cell_type": "code",
   "execution_count": 7,
   "metadata": {},
   "outputs": [],
   "source": [
    "p1=coordenada()\n",
    "p2=coordenada()"
   ]
  },
  {
   "cell_type": "markdown",
   "metadata": {},
   "source": [
    "Una vez hecho los objetos, podemos agregar atributos "
   ]
  },
  {
   "cell_type": "code",
   "execution_count": 21,
   "metadata": {},
   "outputs": [
    {
     "name": "stdout",
     "output_type": "stream",
     "text": [
      "las coordenadas son: 5, 4\n"
     ]
    }
   ],
   "source": [
    "p1.x=5\n",
    "p1.y=4\n",
    "\n",
    "print('las coordenadas son: %s, %s' %(p1.x, p1.y))"
   ]
  },
  {
   "cell_type": "markdown",
   "metadata": {},
   "source": [
    "El mismo Objeto **p1**  cuenta con dos atributos diferentes, uno llamado **x** y otro **y**"
   ]
  },
  {
   "cell_type": "code",
   "execution_count": 1,
   "metadata": {},
   "outputs": [],
   "source": [
    "class Auto:\n",
    "    pass"
   ]
  },
  {
   "cell_type": "code",
   "execution_count": 2,
   "metadata": {},
   "outputs": [],
   "source": [
    "consecionaria = Auto()"
   ]
  },
  {
   "cell_type": "code",
   "execution_count": 3,
   "metadata": {},
   "outputs": [],
   "source": [
    "consecionaria.color = \"Rojo\""
   ]
  },
  {
   "cell_type": "code",
   "execution_count": 4,
   "metadata": {},
   "outputs": [],
   "source": [
    "consecionaria.puertas = \"Muchas\""
   ]
  },
  {
   "cell_type": "code",
   "execution_count": 5,
   "metadata": {},
   "outputs": [
    {
     "name": "stdout",
     "output_type": "stream",
     "text": [
      "Mi auto es de color:  Rojo\n"
     ]
    }
   ],
   "source": [
    "print(\"Mi auto es de color: \", consecionaria.color)"
   ]
  },
  {
   "cell_type": "code",
   "execution_count": 6,
   "metadata": {},
   "outputs": [],
   "source": [
    "class Auto:\n",
    "    Rojo = False"
   ]
  },
  {
   "cell_type": "code",
   "execution_count": 7,
   "metadata": {},
   "outputs": [],
   "source": [
    "c = Auto()"
   ]
  },
  {
   "cell_type": "code",
   "execution_count": 8,
   "metadata": {},
   "outputs": [
    {
     "data": {
      "text/plain": [
       "False"
      ]
     },
     "execution_count": 8,
     "metadata": {},
     "output_type": "execute_result"
    }
   ],
   "source": [
    "c.Rojo"
   ]
  },
  {
   "cell_type": "code",
   "execution_count": 9,
   "metadata": {},
   "outputs": [],
   "source": [
    "c.Rojo = True"
   ]
  },
  {
   "cell_type": "code",
   "execution_count": 10,
   "metadata": {},
   "outputs": [
    {
     "name": "stdout",
     "output_type": "stream",
     "text": [
      "Se creo un Auto\n",
      "aun no esta coloreado\n",
      "auto coloreado rojo\n"
     ]
    }
   ],
   "source": [
    "class Auto:\n",
    "    Rojo = False\n",
    "    \n",
    "    def __init__(self):\n",
    "        print(\"Se creo un Auto\")\n",
    "        \n",
    "    def Fabricar(self):\n",
    "        self.Rojo = True\n",
    "    \n",
    "    def confirmar_fabricacion(self):\n",
    "        if (self.Rojo):\n",
    "            print(\"auto coloreado rojo\")\n",
    "        else:\n",
    "            print(\"aun no esta coloreado\")\n",
    "        \n",
    "a = Auto()\n",
    "a.confirmar_fabricacion()\n",
    "a.Fabricar()\n",
    "a.confirmar_fabricacion()"
   ]
  },
  {
   "cell_type": "code",
   "execution_count": null,
   "metadata": {},
   "outputs": [],
   "source": []
  },
  {
   "cell_type": "markdown",
   "metadata": {},
   "source": [
    "class Estudiantes:\n",
    "    pass\n",
    "\n",
    "Estudiantes = Estudiantes()\n",
    "\n",
    "type(Estudiantes)\n",
    "\n",
    "def Estudiante():\n",
    "    pass\n",
    "\n",
    "type(Estudiante)"
   ]
  }
 ],
 "metadata": {
  "kernelspec": {
   "display_name": "Python 3.9.7 ('base')",
   "language": "python",
   "name": "python3"
  },
  "language_info": {
   "codemirror_mode": {
    "name": "ipython",
    "version": 3
   },
   "file_extension": ".py",
   "mimetype": "text/x-python",
   "name": "python",
   "nbconvert_exporter": "python",
   "pygments_lexer": "ipython3",
   "version": "3.9.7"
  },
  "vscode": {
   "interpreter": {
    "hash": "ad9e000ace8b4c39afbdcf83b61f0f239008d468236d6baabfb987e10afb94b8"
   }
  }
 },
 "nbformat": 4,
 "nbformat_minor": 2
}
