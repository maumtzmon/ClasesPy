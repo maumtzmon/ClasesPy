{
 "cells": [
  {
   "cell_type": "markdown",
   "metadata": {},
   "source": [
    "# Programacion Orientada a Objetos\n",
    "\n",
    "Paradigma que nos permite pensar en resolver cosas de la vida real mientras son vistas desde el punto de vista  programacion. Es decir, nos permite plasmar cosas, situaciones u objetos cotidianos y resolverlos a traves de la programacion.\n",
    "\n",
    "Es importante saber que la POO esta compuesta por clases y objetos. Donde, un objeto es una coleccion de datos y sus comportamientos asociados. Entonces, cuando decimos que la programacion es orientada a objetos, se trata de modelar objetos, es decir, describir a traves de la programacion las caracteristicas y comportamiento de un objeto que estemos creando. Este paradigma es una de las muchas tecnicas usadas para modelar sistemas comblejos, describiendo una coleccion de objetos a traves de sus comportamoentos\n"
   ]
  },
  {
   "cell_type": "markdown",
   "metadata": {},
   "source": [
    "## El Analisis Orientado a Objetos (OOA):\n",
    "Esta dirigido a observar el problema, sistema o tarea e identificar los objetos y la interaccion entre ellos. La etapa de analisis se trata de todo lo que se necesita resolver.\n",
    "\n",
    "El resultado obtenido de este analisis es una lista de requerimientos. \n",
    "\n",
    "Por ejemplo: (*italica* representa acciones, **negrita** representa objetos)\n",
    "\n",
    "#### Los visitantes de una pagina web necesitan ser capaz de:\n",
    "1. *ver* la **filosofia de la empresa**.\n",
    "2. *aplicar*  a una **vacante**.\n",
    "3. *navegar, comparar y ordenar* **productos del catalogo**.\n",
    "\n",
    "\n"
   ]
  },
  {
   "cell_type": "markdown",
   "metadata": {},
   "source": [
    "## Diseño orientado a Objetos (DOO):\n",
    "\n",
    "Es el proceso de convertir tales requerimientos en una especificacion e implementarlas. El diseñador debe nombrar los objetos, definir sus comportamientos y de manera formal, especificar cuales objetos pueden activar comportamientos especificos sobre otros objetos. La etapa de diseo se trata de *como deben hacerse las cosas*\n",
    "\n",
    "El resultado de la etapa de diseño llevar a cabo la implementacion de todas las especificaciones. Es decir, crear clases e interfaces a partir de los requerimientos definidos en el analisis."
   ]
  },
  {
   "cell_type": "markdown",
   "metadata": {},
   "source": [
    "## Programacion orientada a Objetos (POO):\n",
    "Es el proceso de conversion de este diseño en un programa que hace o cumple con las especificaciones. Es la tarea que originalmente solicita el CEO, Director Ejecutivo en Jefe."
   ]
  },
  {
   "cell_type": "markdown",
   "metadata": {},
   "source": [
    "# Clases y Objetos\n",
    "Un **Objeto** es una coleccion de datos y comportamientos asociados. ¿Como pordemos diferenciar entre manzanas y naranjas si ambos son objetos?\n",
    "\n",
    "Imaginenen que la primera diferencia entre manzanas y naranjas es que las manzanas se guardan en cajas y las naranjas en canastas. Por lo tanto ahora tenemos **manzanas, naranjas, cajas y canastas**, es decir que tenemos cuatro tipos de objetos, a *estos tipos de objetos* los conocemos como **Clases** por lo tanto en terminos tecnicos tenemos cuatro Clases de objetos.\n",
    "\n",
    "## ¿Que diferencia hay entre una clase y un objeto?  \n",
    "\n",
    "Las Clases describen a los Objetos. Es decir **Las Clases son los planos o instrucciones para crear los objetos.**\n",
    "\n",
    "Ejemplo:\n",
    "\n",
    "Podemos tener 3 naranjas en la mesa frente a nosotros. Las 3 son objetos, cada naranja es un objeto distinto, pero, nuestra clase describe que las tres tienen atributos y comportamientos asociados similares, aunque de diferente valor. *las tres naranjas tienen peso, pero cada una pesa diferente a la otra; las tres contienen jugo, pero cada una tiene mas o menos jugo que la otra; las tres maduran, pero unas maduran mas rapido que otras*."
   ]
  }
 ],
 "metadata": {
  "kernelspec": {
   "display_name": "Python 3.9.7 ('base')",
   "language": "python",
   "name": "python3"
  },
  "language_info": {
   "codemirror_mode": {
    "name": "ipython",
    "version": 3
   },
   "file_extension": ".py",
   "mimetype": "text/x-python",
   "name": "python",
   "nbconvert_exporter": "python",
   "pygments_lexer": "ipython3",
   "version": "3.9.7"
  },
  "vscode": {
   "interpreter": {
    "hash": "ad9e000ace8b4c39afbdcf83b61f0f239008d468236d6baabfb987e10afb94b8"
   }
  }
 },
 "nbformat": 4,
 "nbformat_minor": 2
}
