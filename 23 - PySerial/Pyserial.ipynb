{
 "cells": [
  {
   "cell_type": "markdown",
   "metadata": {},
   "source": [
    "# PySerial "
   ]
  },
  {
   "cell_type": "markdown",
   "metadata": {},
   "source": [
    "#### Using Pyserial, we'll try to connect with a device by USB port. This port is a UART device that uses a RS232 protocol. \n",
    "\n",
    "#### To do this, we need to import the library serial, and we will use custom library for the Lakeshore model 335 device.  \n",
    "\n",
    "Please note this library uses a simple sintaxis to help sending the commands and get the configuration from a file. All the acquisition and setup of the device is by us.\n"
   ]
  },
  {
   "cell_type": "code",
   "execution_count": 2,
   "metadata": {},
   "outputs": [],
   "source": [
    "import serial as serial\n",
    "import read_write_file as model_335  #custom library"
   ]
  },
  {
   "cell_type": "markdown",
   "metadata": {},
   "source": [
    "The path of the library is important to get acces to the files and libraries, in this case we have all in the same path"
   ]
  },
  {
   "cell_type": "code",
   "execution_count": null,
   "metadata": {},
   "outputs": [],
   "source": [
    "ConfigDict_335=model_335.getDictFromConfigFile('ConfigFile_M335') #from model_335 library, get the basic configuration"
   ]
  },
  {
   "cell_type": "code",
   "execution_count": null,
   "metadata": {},
   "outputs": [],
   "source": [
    "ConfigDict_335"
   ]
  },
  {
   "cell_type": "markdown",
   "metadata": {},
   "source": [
    "#### Open the USB port to get access to Lakeshore device\n",
    "\n",
    "https://www.lakeshore.com/docs/default-source/product-downloads/335_manual038a7cfe0db7421f941ebb45db85741f.pdf?sfvrsn=e16b9529_1"
   ]
  },
  {
   "cell_type": "code",
   "execution_count": null,
   "metadata": {},
   "outputs": [],
   "source": [
    "port_335= serial.Serial(ConfigDict_335['Port'], ConfigDict_335['BaudRate'], serial.SEVENBITS,\\\n",
    "                    serial.PARITY_ODD, serial.STOPBITS_ONE, float(ConfigDict_335['TimeOut'])) # https://pyserial.readthedocs.io/en/latest/pyserial_api.html\n",
    "                                                                                              # Lakeshore User Manual, 6.3.2 Hardware"
   ]
  },
  {
   "cell_type": "code",
   "execution_count": null,
   "metadata": {},
   "outputs": [],
   "source": [
    "port_335.is_open"
   ]
  },
  {
   "cell_type": "markdown",
   "metadata": {},
   "source": [
    "#### Send commands and querys through the USB port"
   ]
  },
  {
   "cell_type": "code",
   "execution_count": null,
   "metadata": {},
   "outputs": [],
   "source": [
    "str2port='KRDG? '+'A'+'\\r\\n'      # 6.3.4 Communication, \n",
    "port_335.write(str2port.encode())\n",
    "datos=port_335.read(79)\n",
    "datos=datos.decode().strip('\\r\\n')"
   ]
  },
  {
   "cell_type": "code",
   "execution_count": null,
   "metadata": {},
   "outputs": [],
   "source": [
    "print(datos)"
   ]
  },
  {
   "cell_type": "markdown",
   "metadata": {},
   "source": [
    "We can reuse this piece of code and make a function"
   ]
  },
  {
   "cell_type": "code",
   "execution_count": null,
   "metadata": {},
   "outputs": [],
   "source": [
    "def getData(Ch,port):\n",
    "    str2port='KRDG? '+str(Ch)+'\\r\\n'\n",
    "    port.write(str2port.encode())\n",
    "    datos=port.read(79)\n",
    "    #print(datos )\n",
    "    datos=datos.decode().strip('\\r\\n')\n",
    "    return datos"
   ]
  },
  {
   "cell_type": "code",
   "execution_count": null,
   "metadata": {},
   "outputs": [],
   "source": [
    "getData(ConfigDict_335['Channel 1'],port_335)"
   ]
  },
  {
   "cell_type": "markdown",
   "metadata": {},
   "source": [
    "and make a library if the function is very useful"
   ]
  },
  {
   "cell_type": "code",
   "execution_count": null,
   "metadata": {},
   "outputs": [],
   "source": [
    "model_335.getData(ConfigDict_335['Channel 1'],port_335)"
   ]
  }
 ],
 "metadata": {
  "kernelspec": {
   "display_name": "Python 3",
   "language": "python",
   "name": "python3"
  },
  "language_info": {
   "codemirror_mode": {
    "name": "ipython",
    "version": 3
   },
   "file_extension": ".py",
   "mimetype": "text/x-python",
   "name": "python",
   "nbconvert_exporter": "python",
   "pygments_lexer": "ipython3",
   "version": "3.10.6 (main, Nov 14 2022, 16:10:14) [GCC 11.3.0]"
  },
  "orig_nbformat": 4,
  "vscode": {
   "interpreter": {
    "hash": "e7370f93d1d0cde622a1f8e1c04877d8463912d04d973331ad4851f04de6915a"
   }
  }
 },
 "nbformat": 4,
 "nbformat_minor": 2
}
