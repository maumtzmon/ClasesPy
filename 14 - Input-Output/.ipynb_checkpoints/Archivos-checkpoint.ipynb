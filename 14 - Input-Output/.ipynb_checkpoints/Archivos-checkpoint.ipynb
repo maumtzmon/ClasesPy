{
 "cells": [
  {
   "cell_type": "markdown",
   "metadata": {},
   "source": [
    "# Manipulación de archivos en Python"
   ]
  },
  {
   "cell_type": "markdown",
   "metadata": {},
   "source": [
    "En esta clase aprenderemos como crear archivos, abrirlos, leerlos, escribir en ellos, cerrarlos y obtener información sobre ellos.  "
   ]
  },
  {
   "cell_type": "markdown",
   "metadata": {},
   "source": [
    "Un ejemplo de la utilidad de estas herramientas es cuando se interactúa con un periférico, por ejemplo, un sensor de temperatura. \n",
    "El sensor está escribiendo podría estar escribiendo un histórico de temperaturas y nosotros queremos que en un momento dado, un programa en Python esté generando una gráfica con estos datos. \n",
    "\n",
    "En clases anteriores ya vimos como graficar, ahora bien, ¿cómo podríamos obtener esos datos y generar esa gráfica? \n"
   ]
  },
  {
   "cell_type": "markdown",
   "metadata": {},
   "source": [
    "_Todas las funciones que veremos hoy ya están integradas en Python, así que no habrá que importar nada por ahora._\n",
    "\n",
    "La primer función que veremos será la función ``open()``.  "
   ]
  },
  {
   "cell_type": "code",
   "execution_count": 2,
   "metadata": {},
   "outputs": [],
   "source": [
    "archivo = open('prueba.txt', 'r')"
   ]
  },
  {
   "cell_type": "markdown",
   "metadata": {},
   "source": [
    "``archivo`` es el nombre de nuestro archivo abierto, con este será con el que interactuemos. \n",
    "\n",
    "La función ``open`` necesita de dos variables, la primera (que en este caso es ``'prueba.txt'``) es la dirección y el nombre del archivo que queremos abrir, la segunda es el modo en el que queremos abrirlo.\n",
    "\n",
    "| Modos | Descripción                                                                          |\n",
    "|-------|--------------------------------------------------------------------------------------|\n",
    "| ``\"r\"``   | __Read__. Abre un archivo para leerlo, arroja un error si el archivo no existe.          |\n",
    "| ``\"a\"``   | __Append__. Abre un archivo para añadir líneas, crea el archivo si no existe.            |\n",
    "| ``\"w\"``   | __Write__. Abre un archivo para escribir. crea el archivo si no existe.                  |\n",
    "| ``\"x\"``   | __Create__. Crea el archivo, si ya existe marca error.                                   |\n",
    "| ``\"t\"``   | __Text__. Especifica que la clase de archivo que se abrirá es de texto.                  |\n",
    "| ``\"b\"``   | __Binary__. Especifica que la clase de archivo que se abrirá es binario (como imágenes). |"
   ]
  },
  {
   "cell_type": "markdown",
   "metadata": {},
   "source": [
    "Con el archivo en modo lectura, podemos leer las líneas que contiene con un ``for``"
   ]
  },
  {
   "cell_type": "code",
   "execution_count": 3,
   "metadata": {},
   "outputs": [
    {
     "name": "stdout",
     "output_type": "stream",
     "text": [
      "Hola, este es un archivo de texto. \n",
      "\n",
      "\n",
      "\n",
      "Ahora vendrÃ¡n numeros del 1 al 10.\n",
      "\n",
      "\n",
      "\n",
      "1\n",
      "\n",
      "2\n",
      "\n",
      "3\n",
      "\n",
      "4\n",
      "\n",
      "5\n",
      "\n",
      "6\n",
      "\n",
      "7\n",
      "\n",
      "8\n",
      "\n",
      "9\n",
      "\n",
      "10\n",
      "\n",
      "\n",
      "\n",
      "Fin del texto.\n"
     ]
    }
   ],
   "source": [
    "for linea in archivo:\n",
    "    print(linea)"
   ]
  },
  {
   "cell_type": "markdown",
   "metadata": {},
   "source": [
    "Ahora bien, para no dañar el archivo cuando lo terminemos de utilizar o para cambiar el modo hay que usar la función ``close()``."
   ]
  },
  {
   "cell_type": "code",
   "execution_count": 4,
   "metadata": {},
   "outputs": [],
   "source": [
    "archivo.close()"
   ]
  },
  {
   "cell_type": "markdown",
   "metadata": {},
   "source": [
    "Intentemos con los otros modos."
   ]
  },
  {
   "cell_type": "code",
   "execution_count": 9,
   "metadata": {},
   "outputs": [
    {
     "data": {
      "text/plain": [
       "43"
      ]
     },
     "execution_count": 9,
     "metadata": {},
     "output_type": "execute_result"
    }
   ],
   "source": [
    "archivo = open(\"prueba.txt\",\"w\")\n",
    "\n",
    "archivo.write('Este es una prueba con el modo de escribir.')"
   ]
  },
  {
   "cell_type": "markdown",
   "metadata": {},
   "source": [
    "El número que nos regresa es la cantindad de caracteres escritos. \n",
    "\n",
    "Ahora veamos cómo quedo el archivo después de usar ``write()``"
   ]
  },
  {
   "cell_type": "code",
   "execution_count": 6,
   "metadata": {},
   "outputs": [
    {
     "ename": "UnsupportedOperation",
     "evalue": "not readable",
     "output_type": "error",
     "traceback": [
      "\u001b[1;31m---------------------------------------------------------------------------\u001b[0m",
      "\u001b[1;31mUnsupportedOperation\u001b[0m                      Traceback (most recent call last)",
      "Input \u001b[1;32mIn [6]\u001b[0m, in \u001b[0;36m<cell line: 1>\u001b[1;34m()\u001b[0m\n\u001b[1;32m----> 1\u001b[0m \u001b[38;5;28;01mfor\u001b[39;00m linea \u001b[38;5;129;01min\u001b[39;00m archivo:\n\u001b[0;32m      2\u001b[0m     \u001b[38;5;28mprint\u001b[39m(linea)\n",
      "\u001b[1;31mUnsupportedOperation\u001b[0m: not readable"
     ]
    }
   ],
   "source": [
    "for linea in archivo:\n",
    "    print(linea)"
   ]
  },
  {
   "cell_type": "markdown",
   "metadata": {},
   "source": [
    "¿Por qué nos manda error?"
   ]
  },
  {
   "cell_type": "code",
   "execution_count": 11,
   "metadata": {},
   "outputs": [],
   "source": [
    "archivo = open(\"prueba.txt\", \"r\")"
   ]
  },
  {
   "cell_type": "code",
   "execution_count": 12,
   "metadata": {},
   "outputs": [
    {
     "name": "stdout",
     "output_type": "stream",
     "text": [
      "Este es una prueba con el modo de escribir.\n"
     ]
    }
   ],
   "source": [
    "for linea in archivo:\n",
    "    print(linea)"
   ]
  },
  {
   "cell_type": "markdown",
   "metadata": {},
   "source": [
    "Notemos cómo con esta función, nos quita toda la información que ya teníamos y reescribe sobre él.\n"
   ]
  }
 ],
 "metadata": {
  "kernelspec": {
   "display_name": "Python 3 (ipykernel)",
   "language": "python",
   "name": "python3"
  },
  "language_info": {
   "codemirror_mode": {
    "name": "ipython",
    "version": 3
   },
   "file_extension": ".py",
   "mimetype": "text/x-python",
   "name": "python",
   "nbconvert_exporter": "python",
   "pygments_lexer": "ipython3",
   "version": "3.9.2"
  },
  "vscode": {
   "interpreter": {
    "hash": "916dbcbb3f70747c44a77c7bcd40155683ae19c65e1c03b4aa3499c5328201f1"
   }
  }
 },
 "nbformat": 4,
 "nbformat_minor": 2
}
