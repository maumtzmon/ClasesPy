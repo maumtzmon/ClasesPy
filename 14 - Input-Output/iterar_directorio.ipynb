{
 "cells": [
  {
   "cell_type": "code",
   "execution_count": 2,
   "metadata": {},
   "outputs": [],
   "source": [
    "import os "
   ]
  },
  {
   "cell_type": "code",
   "execution_count": 31,
   "metadata": {},
   "outputs": [],
   "source": [
    "lista_de_archivos=os.listdir(path='/home/oem/datosFits/testMITLL/16FEB23/spurious')\n",
    "file_dict={}"
   ]
  },
  {
   "cell_type": "code",
   "execution_count": 32,
   "metadata": {},
   "outputs": [],
   "source": [
    "for archivo in lista_de_archivos:\n",
    "    file_dict.setdefault(archivo.split('_')[-1].split('.')[0],[archivo.split('_')[6].split('T')[-1]])\n"
   ]
  },
  {
   "cell_type": "code",
   "execution_count": 33,
   "metadata": {},
   "outputs": [
    {
     "data": {
      "text/plain": [
       "{'img136': ['160'],\n",
       " 'img147': ['150'],\n",
       " 'img161': ['140'],\n",
       " 'img99': ['170'],\n",
       " 'img143': ['150'],\n",
       " 'img165': ['140'],\n",
       " 'img126': ['160'],\n",
       " 'img128': ['160'],\n",
       " 'img113': ['170'],\n",
       " 'img134': ['160'],\n",
       " 'img97': ['170'],\n",
       " 'img141': ['150'],\n",
       " 'img175': ['140'],\n",
       " 'img151': ['150'],\n",
       " 'img109': ['170'],\n",
       " 'img115': ['170'],\n",
       " 'img153': ['150'],\n",
       " 'img107': ['170'],\n",
       " 'img124': ['160'],\n",
       " 'img155': ['150'],\n",
       " 'img120': ['160'],\n",
       " 'img177': ['140'],\n",
       " 'img139': ['150'],\n",
       " 'img132': ['160'],\n",
       " 'img118': ['160'],\n",
       " 'img103': ['170'],\n",
       " 'img179': ['140'],\n",
       " 'img173': ['140'],\n",
       " 'img111': ['170'],\n",
       " 'img157': ['150'],\n",
       " 'img167': ['140'],\n",
       " 'img163': ['140'],\n",
       " 'img101': ['170'],\n",
       " 'img130': ['160'],\n",
       " 'img149': ['150'],\n",
       " 'img122': ['160'],\n",
       " 'img105': ['170'],\n",
       " 'img171': ['140'],\n",
       " 'img169': ['140'],\n",
       " 'img145': ['150']}"
      ]
     },
     "execution_count": 33,
     "metadata": {},
     "output_type": "execute_result"
    }
   ],
   "source": [
    "file_dict"
   ]
  },
  {
   "cell_type": "code",
   "execution_count": 25,
   "metadata": {},
   "outputs": [
    {
     "data": {
      "text/plain": [
       "'150'"
      ]
     },
     "execution_count": 25,
     "metadata": {},
     "output_type": "execute_result"
    }
   ],
   "source": [
    "archivo.split('_')[6].split('T')[-1]"
   ]
  },
  {
   "cell_type": "code",
   "execution_count": null,
   "metadata": {},
   "outputs": [],
   "source": []
  }
 ],
 "metadata": {
  "kernelspec": {
   "display_name": "Python 3",
   "language": "python",
   "name": "python3"
  },
  "language_info": {
   "codemirror_mode": {
    "name": "ipython",
    "version": 3
   },
   "file_extension": ".py",
   "mimetype": "text/x-python",
   "name": "python",
   "nbconvert_exporter": "python",
   "pygments_lexer": "ipython3",
   "version": "3.10.6"
  },
  "orig_nbformat": 4,
  "vscode": {
   "interpreter": {
    "hash": "31f2aee4e71d21fbe5cf8b01ff0e069b9275f58929596ceb00d14d90e3e16cd6"
   }
  }
 },
 "nbformat": 4,
 "nbformat_minor": 2
}
