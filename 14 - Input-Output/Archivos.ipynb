{
 "cells": [
  {
   "cell_type": "markdown",
   "metadata": {},
   "source": [
    "# Manipulación de archivos en Python"
   ]
  },
  {
   "cell_type": "markdown",
   "metadata": {},
   "source": [
    "En esta clase aprenderemos como crear archivos, abrirlos, leerlos, escribir en ellos, cerrarlos y obtener información sobre ellos.  "
   ]
  },
  {
   "cell_type": "markdown",
   "metadata": {},
   "source": [
    "Un ejemplo de la utilidad de estas herramientas es cuando se interactúa con un periférico, por ejemplo, un sensor de temperatura. \n",
    "El sensor está escribiendo podría estar escribiendo un histórico de temperaturas y nosotros queremos que en un momento dado, un programa en Python esté generando una gráfica con estos datos. \n",
    "\n",
    "En clases anteriores ya vimos como graficar, ahora bien, ¿cómo podríamos obtener esos datos y generar esa gráfica? \n"
   ]
  },
  {
   "cell_type": "markdown",
   "metadata": {},
   "source": [
    "_Todas las funciones que veremos hoy ya están integradas en Python, así que no habrá que importar nada por ahora._\n",
    "\n",
    "La primer función que veremos será la función ``open()``.  "
   ]
  },
  {
   "cell_type": "code",
   "execution_count": 1,
   "metadata": {},
   "outputs": [],
   "source": [
    "archivo = open('Prueba1.txt', 'r')"
   ]
  },
  {
   "cell_type": "markdown",
   "metadata": {},
   "source": [
    "``archivo`` es el nombre de nuestro archivo abierto, con este será con el que interactuemos. \n",
    "\n",
    "La función ``open`` necesita de dos variables, la primera (que en este caso es ``'prueba.txt'``) es la dirección y el nombre del archivo que queremos abrir, la segunda es el modo en el que queremos abrirlo.\n",
    "\n",
    "| Modos | Descripción                                                                          |\n",
    "|-------|--------------------------------------------------------------------------------------|\n",
    "| ``\"r\"``   | __Read__. Abre un archivo para leerlo, arroja un error si el archivo no existe.          |\n",
    "| ``\"a\"``   | __Append__. Abre un archivo para añadir líneas, crea el archivo si no existe.            |\n",
    "| ``\"w\"``   | __Write__. Abre un archivo para escribir. crea el archivo si no existe.                  |\n",
    "| ``\"x\"``   | __Create__. Crea el archivo, si ya existe marca error.                                   |\n",
    "| ``\"t\"``   | __Text__. Especifica que la clase de archivo que se abrirá es de texto.                  |\n",
    "| ``\"b\"``   | __Binary__. Especifica que la clase de archivo que se abrirá es binario (como imágenes). |"
   ]
  },
  {
   "cell_type": "markdown",
   "metadata": {},
   "source": [
    "Con el archivo en modo lectura, podemos leer las líneas que contiene con un ``for``"
   ]
  },
  {
   "cell_type": "code",
   "execution_count": 2,
   "metadata": {},
   "outputs": [
    {
     "name": "stdout",
     "output_type": "stream",
     "text": [
      "#Hola, este es un archivo de texto.\n",
      "\n",
      "\n",
      "\n",
      "usuario: Stephan@ICN-UNAM, Mauricio@ICN-UNAM, Brenda@FNAL\n",
      "\n",
      "\n",
      "\n",
      "En seguida hay una lista de 5 numeros.\n",
      "\n",
      "\n",
      "\n",
      "12\n",
      "\n",
      "23\n",
      "\n",
      "14\n",
      "\n",
      "51\n",
      "\n",
      "99\n",
      "\n",
      "\n",
      "\n",
      "Fin del archivo.\n"
     ]
    }
   ],
   "source": [
    "for linea in archivo:\n",
    "    print(linea)"
   ]
  },
  {
   "cell_type": "markdown",
   "metadata": {},
   "source": [
    "Ahora bien, para no dañar el archivo cuando lo terminemos de utilizar o para cambiar el modo hay que usar la función ``close()``."
   ]
  },
  {
   "cell_type": "code",
   "execution_count": 3,
   "metadata": {},
   "outputs": [],
   "source": [
    "archivo.close()"
   ]
  },
  {
   "cell_type": "markdown",
   "metadata": {},
   "source": [
    "Intentemos con los otros modos."
   ]
  },
  {
   "cell_type": "code",
   "execution_count": 11,
   "metadata": {},
   "outputs": [],
   "source": [
    "archivo = open(\"prueba.txt\",\"r\")\n"
   ]
  },
  {
   "cell_type": "code",
   "execution_count": 8,
   "metadata": {},
   "outputs": [
    {
     "data": {
      "text/plain": [
       "22"
      ]
     },
     "execution_count": 8,
     "metadata": {},
     "output_type": "execute_result"
    }
   ],
   "source": [
    "\n",
    "archivo.write('Prueba 2, 12 Oct 2023.')"
   ]
  },
  {
   "cell_type": "code",
   "execution_count": 13,
   "metadata": {},
   "outputs": [],
   "source": [
    "archivo.close()"
   ]
  },
  {
   "cell_type": "markdown",
   "metadata": {},
   "source": [
    "El número que nos regresa es la cantindad de caracteres escritos. \n",
    "\n",
    "Ahora veamos cómo quedo el archivo después de usar ``write()``"
   ]
  },
  {
   "cell_type": "code",
   "execution_count": 14,
   "metadata": {},
   "outputs": [
    {
     "ename": "ValueError",
     "evalue": "I/O operation on closed file.",
     "output_type": "error",
     "traceback": [
      "\u001b[0;31m---------------------------------------------------------------------------\u001b[0m",
      "\u001b[0;31mValueError\u001b[0m                                Traceback (most recent call last)",
      "\u001b[1;32m/home/oem/Software/cursoInstrumentacion_2022/ClasesPy/14 - Input-Output/Archivos.ipynb Celda 16\u001b[0m line \u001b[0;36m1\n\u001b[0;32m----> <a href='vscode-notebook-cell:/home/oem/Software/cursoInstrumentacion_2022/ClasesPy/14%20-%20Input-Output/Archivos.ipynb#X16sZmlsZQ%3D%3D?line=0'>1</a>\u001b[0m \u001b[39mfor\u001b[39;00m linea \u001b[39min\u001b[39;00m archivo:\n\u001b[1;32m      <a href='vscode-notebook-cell:/home/oem/Software/cursoInstrumentacion_2022/ClasesPy/14%20-%20Input-Output/Archivos.ipynb#X16sZmlsZQ%3D%3D?line=1'>2</a>\u001b[0m     \u001b[39mprint\u001b[39m(linea)\n",
      "\u001b[0;31mValueError\u001b[0m: I/O operation on closed file."
     ]
    }
   ],
   "source": [
    "for linea in archivo:\n",
    "    print(linea)"
   ]
  },
  {
   "cell_type": "markdown",
   "metadata": {},
   "source": [
    "¿Por qué nos manda error?"
   ]
  },
  {
   "cell_type": "code",
   "execution_count": 15,
   "metadata": {},
   "outputs": [],
   "source": [
    "archivo = open(\"prueba.txt\", \"r\")"
   ]
  },
  {
   "cell_type": "code",
   "execution_count": 16,
   "metadata": {},
   "outputs": [
    {
     "name": "stdout",
     "output_type": "stream",
     "text": [
      "Prueba 2, 12 Oct 2023.\n"
     ]
    }
   ],
   "source": [
    "for linea in archivo:\n",
    "    print(linea)"
   ]
  },
  {
   "cell_type": "code",
   "execution_count": 17,
   "metadata": {},
   "outputs": [],
   "source": [
    "archivo.close()"
   ]
  },
  {
   "cell_type": "markdown",
   "metadata": {},
   "source": [
    "Notemos cómo con este modo, nos quita toda la información que ya teníamos y reescribe sobre él.\n",
    "Paa evitar esto es recomendable usar el modo append."
   ]
  },
  {
   "cell_type": "code",
   "execution_count": 18,
   "metadata": {},
   "outputs": [
    {
     "data": {
      "text/plain": [
       "32"
      ]
     },
     "execution_count": 18,
     "metadata": {},
     "output_type": "execute_result"
    }
   ],
   "source": [
    "archivo = open(\"prueba.txt\", \"a\")\n",
    "\n",
    "archivo.write(\"\\nNueva línea con el modo append.\")"
   ]
  },
  {
   "cell_type": "code",
   "execution_count": 19,
   "metadata": {},
   "outputs": [],
   "source": [
    "archivo.close()"
   ]
  },
  {
   "cell_type": "code",
   "execution_count": 20,
   "metadata": {},
   "outputs": [
    {
     "name": "stdout",
     "output_type": "stream",
     "text": [
      "Prueba 2, 12 Oct 2023.\n",
      "\n",
      "Nueva línea con el modo append.\n"
     ]
    }
   ],
   "source": [
    "archivo = open(\"prueba.txt\", \"r\")\n",
    "\n",
    "for linea in archivo:\n",
    "    print(linea)"
   ]
  },
  {
   "cell_type": "code",
   "execution_count": 21,
   "metadata": {},
   "outputs": [],
   "source": [
    "archivo.close()"
   ]
  },
  {
   "cell_type": "markdown",
   "metadata": {},
   "source": [
    "Otra función muy útil es ``writelines()``. Esta nos permite usar como entrada un arreglo de palabras. "
   ]
  },
  {
   "cell_type": "code",
   "execution_count": 22,
   "metadata": {},
   "outputs": [],
   "source": [
    "archivo = open(\"prueba.txt\", \"a\")\n",
    "\n",
    "arreglo_de_palabras = [\"\\nHola,\", \" Esto\", \" lo\", \" escribí\", \" con\", \" \\nwritelines\"] \n",
    "\n",
    "archivo.writelines(arreglo_de_palabras)\n",
    "\n",
    "archivo.close()\n"
   ]
  },
  {
   "cell_type": "code",
   "execution_count": 23,
   "metadata": {},
   "outputs": [
    {
     "name": "stdout",
     "output_type": "stream",
     "text": [
      "Prueba 2, 12 Oct 2023.\n",
      "\n",
      "Nueva línea con el modo append.\n",
      "\n",
      "Hola, Esto lo escribí con \n",
      "\n",
      "writelines\n"
     ]
    }
   ],
   "source": [
    "archivo = open(\"prueba.txt\", \"r\")\n",
    "\n",
    "for linea in archivo:\n",
    "    print(linea)"
   ]
  },
  {
   "cell_type": "code",
   "execution_count": 24,
   "metadata": {},
   "outputs": [],
   "source": [
    "archivo.close()"
   ]
  },
  {
   "cell_type": "code",
   "execution_count": 26,
   "metadata": {},
   "outputs": [
    {
     "name": "stdout",
     "output_type": "stream",
     "text": [
      "# Hola, este es un archivo de texto.\n",
      "\n",
      "\n",
      "\n",
      "usuario: Stephan@ICN-UNAM, Mauricio@ICN-UNAM, Brenda@FNAL\n",
      "\n",
      "\n",
      "\n",
      "# En seguida hay una lista de 5 numeros.\n",
      "\n",
      "\n",
      "\n",
      "12\n",
      "\n",
      "23\n",
      "\n",
      "14\n",
      "\n",
      "51\n",
      "\n",
      "99\n",
      "\n",
      "\n",
      "\n",
      "# Fin del archivo.\n"
     ]
    }
   ],
   "source": [
    "Prueba_1=open('Prueba1.txt', 'r')\n",
    "for linea in Prueba_1:\n",
    "    print(linea)\n",
    "Prueba_1.close()"
   ]
  },
  {
   "cell_type": "code",
   "execution_count": 85,
   "metadata": {},
   "outputs": [],
   "source": [
    "Prueba_1=open('Prueba1.txt', 'r')\n",
    "diccionario={}\n",
    "\n",
    "\n"
   ]
  },
  {
   "cell_type": "code",
   "execution_count": 86,
   "metadata": {},
   "outputs": [],
   "source": [
    "lista=[]"
   ]
  },
  {
   "cell_type": "code",
   "execution_count": 91,
   "metadata": {},
   "outputs": [],
   "source": [
    "linea=Prueba_1.readline()"
   ]
  },
  {
   "cell_type": "code",
   "execution_count": 92,
   "metadata": {},
   "outputs": [
    {
     "data": {
      "text/plain": [
       "'usuario: Stephan@ICN-UNAM, Mauricio@ICN-UNAM, Brenda@FNAL'"
      ]
     },
     "execution_count": 92,
     "metadata": {},
     "output_type": "execute_result"
    }
   ],
   "source": [
    "linea=linea.split('\\n')[0]\n",
    "linea"
   ]
  },
  {
   "cell_type": "code",
   "execution_count": 93,
   "metadata": {},
   "outputs": [],
   "source": [
    "diccionario[linea.split(':')[0]]=linea.split(':')[1].split(',')"
   ]
  },
  {
   "cell_type": "code",
   "execution_count": 94,
   "metadata": {},
   "outputs": [
    {
     "data": {
      "text/plain": [
       "{'usuario': [' Stephan@ICN-UNAM', ' Mauricio@ICN-UNAM', ' Brenda@FNAL']}"
      ]
     },
     "execution_count": 94,
     "metadata": {},
     "output_type": "execute_result"
    }
   ],
   "source": [
    "diccionario"
   ]
  },
  {
   "cell_type": "code",
   "execution_count": 95,
   "metadata": {},
   "outputs": [],
   "source": [
    "conjunto=set()\n",
    "\n",
    "for usuario in diccionario['usuario']:\n",
    "    conjunto.add(usuario.split('@')[1])\n",
    "\n",
    "diccionario['entidades']=conjunto"
   ]
  },
  {
   "cell_type": "code",
   "execution_count": 96,
   "metadata": {},
   "outputs": [
    {
     "data": {
      "text/plain": [
       "{'usuario': [' Stephan@ICN-UNAM', ' Mauricio@ICN-UNAM', ' Brenda@FNAL'],\n",
       " 'entidades': {'FNAL', 'ICN-UNAM'}}"
      ]
     },
     "execution_count": 96,
     "metadata": {},
     "output_type": "execute_result"
    }
   ],
   "source": [
    "diccionario"
   ]
  },
  {
   "cell_type": "code",
   "execution_count": 72,
   "metadata": {},
   "outputs": [],
   "source": [
    "entidades={'ICN-UNAM', 'FNAL'}"
   ]
  },
  {
   "cell_type": "code",
   "execution_count": 69,
   "metadata": {},
   "outputs": [
    {
     "data": {
      "text/plain": [
       "{'FNAL', 'ICN-UNAM'}"
      ]
     },
     "execution_count": 69,
     "metadata": {},
     "output_type": "execute_result"
    }
   ],
   "source": [
    "entidades"
   ]
  },
  {
   "cell_type": "code",
   "execution_count": null,
   "metadata": {},
   "outputs": [],
   "source": []
  }
 ],
 "metadata": {
  "kernelspec": {
   "display_name": "Python 3 (ipykernel)",
   "language": "python",
   "name": "python3"
  },
  "language_info": {
   "codemirror_mode": {
    "name": "ipython",
    "version": 3
   },
   "file_extension": ".py",
   "mimetype": "text/x-python",
   "name": "python",
   "nbconvert_exporter": "python",
   "pygments_lexer": "ipython3",
   "version": "3.10.12"
  },
  "vscode": {
   "interpreter": {
    "hash": "916dbcbb3f70747c44a77c7bcd40155683ae19c65e1c03b4aa3499c5328201f1"
   }
  }
 },
 "nbformat": 4,
 "nbformat_minor": 2
}
