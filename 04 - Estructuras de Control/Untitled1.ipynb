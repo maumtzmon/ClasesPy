{
 "cells": [
  {
   "cell_type": "code",
   "execution_count": 17,
   "id": "8294fc2e",
   "metadata": {},
   "outputs": [],
   "source": [
    "dict={'aluminio':{'secTrans':4,'diam':8,'desCond':25},'cobre':{'secTrans':8,'diam':10,'desCond':46}}"
   ]
  },
  {
   "cell_type": "code",
   "execution_count": 3,
   "id": "ef599c66",
   "metadata": {},
   "outputs": [],
   "source": [
    "def funcion_DMG(A=1,B=2):\n",
    "    DMG=A*B#do something\n",
    "    return DMG"
   ]
  },
  {
   "cell_type": "code",
   "execution_count": 4,
   "id": "baf24eba",
   "metadata": {},
   "outputs": [],
   "source": [
    "def funcion_RMG(C=1,D=2):\n",
    "    RMG=C*D#do something\n",
    "    return RMG"
   ]
  },
  {
   "cell_type": "code",
   "execution_count": 9,
   "id": "5fc3fd90",
   "metadata": {},
   "outputs": [
    {
     "data": {
      "text/plain": [
       "4"
      ]
     },
     "execution_count": 9,
     "metadata": {},
     "output_type": "execute_result"
    }
   ],
   "source": [
    "funcion_DMG(2,2)"
   ]
  },
  {
   "cell_type": "code",
   "execution_count": 10,
   "id": "b3957103",
   "metadata": {},
   "outputs": [
    {
     "data": {
      "text/plain": [
       "9"
      ]
     },
     "execution_count": 10,
     "metadata": {},
     "output_type": "execute_result"
    }
   ],
   "source": [
    "funcion_RMG(3,3)"
   ]
  },
  {
   "cell_type": "code",
   "execution_count": 7,
   "id": "22a284d3",
   "metadata": {},
   "outputs": [],
   "source": [
    "C=3.5/(funcion_DMG(2,2)*funcion_RMG(3,3))"
   ]
  },
  {
   "cell_type": "code",
   "execution_count": 13,
   "id": "84565859",
   "metadata": {},
   "outputs": [
    {
     "data": {
      "text/plain": [
       "0.8888888888888888"
      ]
     },
     "execution_count": 13,
     "metadata": {},
     "output_type": "execute_result"
    }
   ],
   "source": [
    "2*(4/9)\n"
   ]
  },
  {
   "cell_type": "code",
   "execution_count": 15,
   "id": "970184d9",
   "metadata": {},
   "outputs": [
    {
     "data": {
      "text/plain": [
       "0.8888888888888888"
      ]
     },
     "execution_count": 15,
     "metadata": {},
     "output_type": "execute_result"
    }
   ],
   "source": [
    "L"
   ]
  },
  {
   "cell_type": "code",
   "execution_count": 18,
   "id": "4d36485a",
   "metadata": {},
   "outputs": [
    {
     "data": {
      "text/plain": [
       "4"
      ]
     },
     "execution_count": 18,
     "metadata": {},
     "output_type": "execute_result"
    }
   ],
   "source": [
    "dict['aluminio']['secTrans']"
   ]
  },
  {
   "cell_type": "markdown",
   "id": "5916227a",
   "metadata": {},
   "source": [
    "funcion(secTransversal,diametro)=funcion(4,8)"
   ]
  },
  {
   "cell_type": "code",
   "execution_count": 22,
   "id": "6014a5b6",
   "metadata": {},
   "outputs": [],
   "source": [
    "DMG_AL=funcion_DMG(dict['aluminio']['secTrans'],dict['aluminio']['diam'])"
   ]
  },
  {
   "cell_type": "code",
   "execution_count": 21,
   "id": "2b484f3f",
   "metadata": {},
   "outputs": [],
   "source": [
    "RMG_AL=funcion_RMG(dict['aluminio']['desCond'],dict['aluminio']['secTrans'])"
   ]
  },
  {
   "cell_type": "code",
   "execution_count": 23,
   "id": "5f036b0e",
   "metadata": {},
   "outputs": [],
   "source": [
    "L=2*(DMG_AL/RMG_AL)"
   ]
  },
  {
   "cell_type": "code",
   "execution_count": 24,
   "id": "45fd998b",
   "metadata": {},
   "outputs": [
    {
     "data": {
      "text/plain": [
       "0.64"
      ]
     },
     "execution_count": 24,
     "metadata": {},
     "output_type": "execute_result"
    }
   ],
   "source": [
    "L"
   ]
  },
  {
   "cell_type": "code",
   "execution_count": null,
   "id": "aa28764d",
   "metadata": {},
   "outputs": [],
   "source": []
  }
 ],
 "metadata": {
  "kernelspec": {
   "display_name": "Python 3 (ipykernel)",
   "language": "python",
   "name": "python3"
  },
  "language_info": {
   "codemirror_mode": {
    "name": "ipython",
    "version": 3
   },
   "file_extension": ".py",
   "mimetype": "text/x-python",
   "name": "python",
   "nbconvert_exporter": "python",
   "pygments_lexer": "ipython3",
   "version": "3.9.7"
  }
 },
 "nbformat": 4,
 "nbformat_minor": 5
}
