{
 "cells": [
  {
   "cell_type": "code",
   "execution_count": 1,
   "metadata": {},
   "outputs": [
    {
     "name": "stdout",
     "output_type": "stream",
     "text": [
      "Estoy iterando, van =  1\n",
      "Estoy iterando, van =  2\n",
      "Estoy iterando, van =  3\n",
      "Estoy iterando, van =  4\n"
     ]
    }
   ],
   "source": [
    "iteracion = 0\n",
    "while iteracion <= 3:\n",
    "    iteracion += 1\n",
    "    print('Estoy iterando, van = ',iteracion)"
   ]
  },
  {
   "cell_type": "code",
   "execution_count": 3,
   "metadata": {},
   "outputs": [
    {
     "name": "stdout",
     "output_type": "stream",
     "text": [
      "Estoy iterando, van =  1\n",
      "Imprimo esto porque se termino y es el else\n"
     ]
    }
   ],
   "source": [
    "iteracion = 0\n",
    "while iteracion <= 0:\n",
    "    iteracion += 1\n",
    "    print('Estoy iterando, van = ',iteracion)\n",
    "else:\n",
    "    print('Imprimo esto porque se termino y es el else')"
   ]
  },
  {
   "cell_type": "code",
   "execution_count": 10,
   "metadata": {},
   "outputs": [
    {
     "name": "stdout",
     "output_type": "stream",
     "text": [
      "Estoy iterando, van =  2\n",
      "esto esta fuera del bloque 'WHILE'\n"
     ]
    }
   ],
   "source": [
    "iteracion = 1\n",
    "var=0\n",
    "while iteracion <= 5:\n",
    "    iteracion += 1\n",
    "    print('Estoy iterando, van = ',iteracion)\n",
    "    if var==0:\n",
    "        break\n",
    "else:\n",
    "    print('Imprimo esto porque se termino y es el else')\n",
    "\n",
    "print(\"esto esta fuera del bloque 'WHILE'\")"
   ]
  },
  {
   "cell_type": "code",
   "execution_count": 11,
   "metadata": {},
   "outputs": [
    {
     "name": "stdout",
     "output_type": "stream",
     "text": [
      "else del if dentro del while\n",
      "else del if dentro del while\n",
      "else del if dentro del while\n",
      "Estoy iterando, van =  4\n",
      "else del if dentro del while\n",
      "else del if dentro del while\n",
      "else del if dentro del while\n",
      "else del if dentro del while\n",
      "else del if dentro del while\n",
      "else del if dentro del while\n",
      "else del if dentro del while\n",
      "Imprimo esto porque se termino y es el else\n"
     ]
    }
   ],
   "source": [
    "iteracion = 0\n",
    "while iteracion <= 10:\n",
    "    iteracion += 1\n",
    "    if (iteracion == 4):\n",
    "        print('Estoy iterando, van = ',iteracion)\n",
    "    else:\n",
    "        print('else del if dentro del while')\n",
    "        \n",
    "else:\n",
    "    print('Imprimo esto porque se termino y es el else')"
   ]
  },
  {
   "cell_type": "code",
   "execution_count": null,
   "metadata": {},
   "outputs": [],
   "source": []
  }
 ],
 "metadata": {
  "kernelspec": {
   "display_name": "Python 3 (ipykernel)",
   "language": "python",
   "name": "python3"
  },
  "language_info": {
   "codemirror_mode": {
    "name": "ipython",
    "version": 3
   },
   "file_extension": ".py",
   "mimetype": "text/x-python",
   "name": "python",
   "nbconvert_exporter": "python",
   "pygments_lexer": "ipython3",
   "version": "3.9.7"
  }
 },
 "nbformat": 4,
 "nbformat_minor": 2
}
