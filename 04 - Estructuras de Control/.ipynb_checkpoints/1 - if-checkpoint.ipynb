{
 "cells": [
  {
   "cell_type": "markdown",
   "metadata": {},
   "source": [
    "# If\n",
    "\n",
    "En Python existen distintos controladores de flujos, el operador ``if`` es uno de ellos. \n",
    "\n",
    "¿Qué hace exactamente? \n",
    "Cuando se está ejecutando un código y llega a una línea que contiene un ``if`` el intérprete verá si la condición se cumple, en caso de hacerlo continúa con el código, si no salta ese enunciado y lee el siguiente. \n",
    "\n",
    "Dicho de otra manera **si la condición es cierta, entonces, esto**. _Si no, seguimos_\n",
    "\n",
    "Veamos algunos ejemplos."
   ]
  },
  {
   "cell_type": "code",
   "execution_count": 8,
   "metadata": {},
   "outputs": [
    {
     "name": "stdout",
     "output_type": "stream",
     "text": [
      "Imprimo esto porque la evaluacion fue verdadera\n"
     ]
    }
   ],
   "source": [
    "if True:\n",
    "    print('Imprimo esto porque la evaluacion fue verdadera')"
   ]
  },
  {
   "cell_type": "code",
   "execution_count": 2,
   "metadata": {},
   "outputs": [
    {
     "ename": "IndentationError",
     "evalue": "expected an indented block (<ipython-input-2-a4a92588f43d>, line 2)",
     "output_type": "error",
     "traceback": [
      "\u001b[1;36m  File \u001b[1;32m\"<ipython-input-2-a4a92588f43d>\"\u001b[1;36m, line \u001b[1;32m2\u001b[0m\n\u001b[1;33m    print('Imprimo esto porque la evaluacion fue verdadera')\u001b[0m\n\u001b[1;37m        ^\u001b[0m\n\u001b[1;31mIndentationError\u001b[0m\u001b[1;31m:\u001b[0m expected an indented block\n"
     ]
    }
   ],
   "source": [
    "if True:\n",
    "print('Imprimo esto porque la evaluacion fue verdadera')"
   ]
  },
  {
   "cell_type": "markdown",
   "metadata": {},
   "source": [
    "¿Por qué nos mando un error? \n",
    "\n",
    "Python es un lenguaje en el que importa la identación. Cada vez que entramos en una nueva secuencia de control habrá que identar."
   ]
  },
  {
   "cell_type": "code",
   "execution_count": 9,
   "metadata": {},
   "outputs": [],
   "source": [
    "if False:\n",
    "    print('Imprimo esto porque la evaluacion fue verdadera')"
   ]
  },
  {
   "cell_type": "markdown",
   "metadata": {},
   "source": [
    "Aquí no se imprime nada, porque la condición (lo que va después del ``if``) es falsa. "
   ]
  },
  {
   "cell_type": "code",
   "execution_count": 3,
   "metadata": {},
   "outputs": [
    {
     "name": "stdout",
     "output_type": "stream",
     "text": [
      "Alvaro Vale 67\n",
      "Alvaro Vale 10\n"
     ]
    }
   ],
   "source": [
    "Alvaro = 10\n",
    "if Alvaro == 10:\n",
    "    print('Alvaro Vale 67')\n",
    "if Alvaro == 10:\n",
    "    print('Alvaro Vale 10')"
   ]
  },
  {
   "cell_type": "markdown",
   "metadata": {},
   "source": [
    "Aquí hay un ``if`` aninado, si el primero se cumple, continuará con el código hasta llegar al siguiente y verificar la condición."
   ]
  },
  {
   "cell_type": "code",
   "execution_count": 4,
   "metadata": {},
   "outputs": [
    {
     "name": "stdout",
     "output_type": "stream",
     "text": [
      "Alvaro Vale 67\n",
      "Alvaro Vale 10\n"
     ]
    }
   ],
   "source": [
    "if Alvaro == 10:\n",
    "    print('Alvaro Vale 67')\n",
    "    if Alvaro == 10:\n",
    "        print('Alvaro Vale 10')"
   ]
  },
  {
   "cell_type": "code",
   "execution_count": 10,
   "metadata": {},
   "outputs": [],
   "source": [
    "if Alvaro == 11:\n",
    "    print('Alvaro Vale 67')\n",
    "    if Alvaro == 10:\n",
    "        print('Alvaro Vale 10')"
   ]
  },
  {
   "cell_type": "markdown",
   "metadata": {},
   "source": [
    "En la parte de la condición podemos poner un condicional ``and`` es decir, ambas condiciones deben satisfacerse para que el código entre a la identación del ``if``. "
   ]
  },
  {
   "cell_type": "code",
   "execution_count": 11,
   "metadata": {},
   "outputs": [],
   "source": [
    "if Alvaro == 11 and Alvaro == 10:\n",
    "    print ('entro')"
   ]
  },
  {
   "cell_type": "markdown",
   "metadata": {},
   "source": [
    "También podemos poner un condicional ``or`` es decir, con que una de las condiciones se sastisfaga el código entrerá a la identación del ``if``. "
   ]
  },
  {
   "cell_type": "code",
   "execution_count": 7,
   "metadata": {},
   "outputs": [
    {
     "name": "stdout",
     "output_type": "stream",
     "text": [
      "entro\n"
     ]
    }
   ],
   "source": [
    "if Alvaro == 11 or Alvaro == 10:\n",
    "    print ('entro')"
   ]
  }
 ],
 "metadata": {
  "kernelspec": {
   "display_name": "Python 3 (ipykernel)",
   "language": "python",
   "name": "python3"
  },
  "language_info": {
   "codemirror_mode": {
    "name": "ipython",
    "version": 3
   },
   "file_extension": ".py",
   "mimetype": "text/x-python",
   "name": "python",
   "nbconvert_exporter": "python",
   "pygments_lexer": "ipython3",
   "version": "3.9.2"
  }
 },
 "nbformat": 4,
 "nbformat_minor": 2
}
