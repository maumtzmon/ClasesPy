{
 "cells": [
  {
   "cell_type": "markdown",
   "id": "b5b98b55",
   "metadata": {},
   "source": [
    "Mientras \"iteracion <= 3\":\n",
    "    realiza este codigo"
   ]
  },
  {
   "cell_type": "code",
   "execution_count": 9,
   "id": "c2c0d317",
   "metadata": {},
   "outputs": [],
   "source": [
    "import time"
   ]
  },
  {
   "cell_type": "code",
   "execution_count": 25,
   "id": "8a9fe410",
   "metadata": {},
   "outputs": [],
   "source": [
    "iteracion = 0"
   ]
  },
  {
   "cell_type": "code",
   "execution_count": 26,
   "id": "0091487b",
   "metadata": {},
   "outputs": [
    {
     "ename": "SyntaxError",
     "evalue": "invalid syntax (2020909371.py, line 1)",
     "output_type": "error",
     "traceback": [
      "\u001b[0;36m  File \u001b[0;32m\"/tmp/ipykernel_5619/2020909371.py\"\u001b[0;36m, line \u001b[0;32m1\u001b[0m\n\u001b[0;31m    if while iteracion <= 3:   #while condicion:\u001b[0m\n\u001b[0m       ^\u001b[0m\n\u001b[0;31mSyntaxError\u001b[0m\u001b[0;31m:\u001b[0m invalid syntax\n"
     ]
    }
   ],
   "source": [
    "if while iteracion <= 3:   #while condicion:\n",
    "    print(\"dentro del ciclo, iteracion = \"+str(iteracion))#bloque de codigo a ejecutar\n",
    "    iteracion +=1\n",
    "\n",
    "print(\"fuera del while, valor de \"+str(iteracion))"
   ]
  },
  {
   "cell_type": "code",
   "execution_count": 12,
   "id": "4d220ec7",
   "metadata": {},
   "outputs": [],
   "source": []
  },
  {
   "cell_type": "markdown",
   "id": "bb5a25d9",
   "metadata": {},
   "source": [
    "Mientras \"semaforo este en rojo\":\n",
    "    \"espera\"\n",
    "entonces:\n",
    "    \"avanza\""
   ]
  },
  {
   "cell_type": "code",
   "execution_count": 13,
   "id": "4533f98d",
   "metadata": {},
   "outputs": [
    {
     "name": "stdout",
     "output_type": "stream",
     "text": [
      "dentro de else\n",
      "Avanzar\n",
      "fuera del while\n"
     ]
    }
   ],
   "source": [
    "while semaforo == 'rojo':\n",
    "    print(\"dentro del while\")\n",
    "    time.sleep(5)#codigo espera\n",
    "else:\n",
    "    print(\"dentro de else\")\n",
    "    print('Avanzar')#avanzar\n",
    "\n",
    "print('fuera del while')\n"
   ]
  },
  {
   "cell_type": "code",
   "execution_count": 1,
   "id": "ee94c33c",
   "metadata": {},
   "outputs": [],
   "source": [
    "import time\n",
    "semaforo= 'rojo'\n",
    "coche= True"
   ]
  },
  {
   "cell_type": "code",
   "execution_count": 2,
   "id": "3c28986c",
   "metadata": {},
   "outputs": [
    {
     "name": "stdout",
     "output_type": "stream",
     "text": [
      "dentro del while\n",
      "espera\n",
      "dentro del while\n",
      "avanza\n",
      "fuera del while\n"
     ]
    }
   ],
   "source": [
    "while semaforo == 'rojo':\n",
    "    print(\"dentro del while\")\n",
    "    time.sleep(5)#codigo espera\n",
    "    if coche == True:\n",
    "        print(\"espera\")#codigo de if\n",
    "        coche=False\n",
    "    elif coche == False:\n",
    "        print(\"avanza\")#codigo elif\n",
    "        break\n",
    "    else:\n",
    "        print(\"avanza\")#codigo\n",
    "else:\n",
    "    print(\"dentro de else\")\n",
    "    print('Avanzar')#avanzar\n",
    "\n",
    "print('fuera del while')"
   ]
  },
  {
   "cell_type": "code",
   "execution_count": 3,
   "id": "1c4f2ff5",
   "metadata": {},
   "outputs": [
    {
     "ename": "IndentationError",
     "evalue": "expected an indented block (1132387590.py, line 1)",
     "output_type": "error",
     "traceback": [
      "\u001b[0;36m  File \u001b[0;32m\"/tmp/ipykernel_7688/1132387590.py\"\u001b[0;36m, line \u001b[0;32m1\u001b[0m\n\u001b[0;31m    if condocion:\u001b[0m\n\u001b[0m                 ^\u001b[0m\n\u001b[0;31mIndentationError\u001b[0m\u001b[0;31m:\u001b[0m expected an indented block\n"
     ]
    }
   ],
   "source": []
  },
  {
   "cell_type": "code",
   "execution_count": null,
   "id": "19ea972e",
   "metadata": {},
   "outputs": [],
   "source": []
  }
 ],
 "metadata": {
  "kernelspec": {
   "display_name": "Python 3 (ipykernel)",
   "language": "python",
   "name": "python3"
  },
  "language_info": {
   "codemirror_mode": {
    "name": "ipython",
    "version": 3
   },
   "file_extension": ".py",
   "mimetype": "text/x-python",
   "name": "python",
   "nbconvert_exporter": "python",
   "pygments_lexer": "ipython3",
   "version": "3.9.7"
  }
 },
 "nbformat": 4,
 "nbformat_minor": 5
}
