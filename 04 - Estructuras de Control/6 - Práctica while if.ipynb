{
 "cells": [
  {
   "cell_type": "code",
   "execution_count": 5,
   "metadata": {},
   "outputs": [
    {
     "name": "stdout",
     "output_type": "stream",
     "text": [
      "Elige tu propio camino\n"
     ]
    },
    {
     "name": "stdin",
     "output_type": "stream",
     "text": [
      "Escribe empezar para iniciar el programa:  empezar\n"
     ]
    },
    {
     "name": "stdout",
     "output_type": "stream",
     "text": [
      " ¿Que camino quieres elegir?\n",
      "    escribe la opcion con numero\n",
      "    1 - Quiero que me saludes\n",
      "    2 - Deseo multiplicar ya que no se como hacerlo\n",
      "    3 - quiero salir de este programa, ya que aprendi a multiplicar con el curso de Alvaro \n"
     ]
    },
    {
     "name": "stdin",
     "output_type": "stream",
     "text": [
      " 3\n"
     ]
    },
    {
     "name": "stdout",
     "output_type": "stream",
     "text": [
      "bye\n"
     ]
    }
   ],
   "source": [
    "print('Elige tu propio camino')\n",
    "inicio = input(\"Escribe empezar para iniciar el programa: \")\n",
    "while (inicio == 'empezar'):\n",
    "    print(\"\"\" ¿Que camino quieres elegir?\n",
    "    escribe la opcion con numero\n",
    "    1 - Quiero que me saludes\n",
    "    2 - Deseo multiplicar ya que no se como hacerlo\n",
    "    3 - quiero salir de este programa\"\"\")\n",
    "    opcion = input()\n",
    "    if opcion == '1':\n",
    "        print(\"Hola\")\n",
    "    elif opcion == '2':\n",
    "        numero1 = float(input('introduce el valor a multiplicar primero: '))\n",
    "        numero2 = float(input('introduce el valor a multiplicar segundo: '))\n",
    "        print('El resultado es: ', numero1*numero2)\n",
    "    elif opcion == '3':\n",
    "        print('bye')\n",
    "        break\n",
    "    else:\n",
    "        print('No se que elegiste, tuviste que haber puesto algun numero de las opciones')\n",
    "        "
   ]
  },
  {
   "cell_type": "code",
   "execution_count": null,
   "metadata": {},
   "outputs": [],
   "source": []
  }
 ],
 "metadata": {
  "kernelspec": {
   "display_name": "Python 3 (ipykernel)",
   "language": "python",
   "name": "python3"
  },
  "language_info": {
   "codemirror_mode": {
    "name": "ipython",
    "version": 3
   },
   "file_extension": ".py",
   "mimetype": "text/x-python",
   "name": "python",
   "nbconvert_exporter": "python",
   "pygments_lexer": "ipython3",
   "version": "3.10.4"
  }
 },
 "nbformat": 4,
 "nbformat_minor": 4
}
