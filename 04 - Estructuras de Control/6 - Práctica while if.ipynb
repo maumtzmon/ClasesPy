{
 "cells": [
  {
   "cell_type": "markdown",
   "id": "5a538723",
   "metadata": {},
   "source": [
    "## Ejercicio usando operadores logicos, relacionales, while, if, input y diccionarios\n",
    "### Caja registradora\n",
    "1. Plantear el problema: \n",
    "2. uso de los recursos aprendidos (operadores logicos, relacionales, while, if, input y diccionarios)\n",
    "3. tienen 15min"
   ]
  },
  {
   "cell_type": "code",
   "execution_count": null,
   "id": "703e47a1",
   "metadata": {},
   "outputs": [],
   "source": [
    "sabritas={'doritos':10,'rufles':15}"
   ]
  },
  {
   "cell_type": "code",
   "execution_count": null,
   "id": "b22bf248",
   "metadata": {},
   "outputs": [],
   "source": [
    "tia_rosa={'doraditas':13}"
   ]
  },
  {
   "cell_type": "code",
   "execution_count": null,
   "id": "21d03256",
   "metadata": {},
   "outputs": [],
   "source": [
    "refrescos={'coca':20,'fanta':14}"
   ]
  },
  {
   "cell_type": "code",
   "execution_count": null,
   "id": "b0ac1571",
   "metadata": {},
   "outputs": [],
   "source": [
    "cuenta=0"
   ]
  },
  {
   "cell_type": "code",
   "execution_count": null,
   "id": "2e2dfc48",
   "metadata": {},
   "outputs": [
    {
     "name": "stdout",
     "output_type": "stream",
     "text": [
      "doritos\n",
      "rufles\n",
      "fanta\n",
      "\n",
      "ok\n",
      "tu cuenta es: $64\n"
     ]
    }
   ],
   "source": [
    "x= ' '\n",
    "while x!='':\n",
    "    x=input()\n",
    "    if x in sabritas:\n",
    "        cuenta=cuenta+sabritas[x]#algo\n",
    "    elif x in tia_rosa:\n",
    "        cuenta=cuenta+tia_rosa[x]#algo\n",
    "    elif x in refrescos:\n",
    "        cuenta=cuenta+refrescos[x]\n",
    "    elif x == '':\n",
    "        print('ok')\n",
    "    else:\n",
    "        print('no tenemos')\n",
    "\n",
    "print('tu cuenta es: $'+ str(cuenta))"
   ]
  },
  {
   "cell_type": "markdown",
   "metadata": {},
   "source": [
    "## Otro Ejemplo usando While"
   ]
  },
  {
   "cell_type": "code",
   "execution_count": null,
   "metadata": {},
   "outputs": [
    {
     "name": "stdout",
     "output_type": "stream",
     "text": [
      "Elige tu propio camino\n"
     ]
    },
    {
     "name": "stdout",
     "output_type": "stream",
     "text": [
      "Escribe empezar para iniciar el programa:  empezar\n"
     ]
    },
    {
     "name": "stdout",
     "output_type": "stream",
     "text": [
      " ¿Que camino quieres elegir?\n",
      "    escribe la opcion con numero\n",
      "    1 - Quiero que me saludes\n",
      "    2 - Deseo multiplicar ya que no se como hacerlo\n",
      "    3 - quiero salir de este programa, ya que aprendi a multiplicar con el curso de Alvaro \n"
     ]
    },
    {
     "name": "stdout",
     "output_type": "stream",
     "text": [
      " 3\n"
     ]
    },
    {
     "name": "stdout",
     "output_type": "stream",
     "text": [
      "bye\n"
     ]
    }
   ],
   "source": [
    "print('Elige tu propio camino')\n",
    "inicio = input(\"Escribe empezar para iniciar el programa: \")\n",
    "while (inicio == 'empezar'):\n",
    "    print(\"\"\" ¿Que camino quieres elegir?\n",
    "    escribe la opcion con numero\n",
    "    1 - Quiero que me saludes\n",
    "    2 - Deseo multiplicar ya que no se como hacerlo\n",
    "    3 - quiero salir de este programa\"\"\")\n",
    "    opcion = input()\n",
    "    if opcion == '1':\n",
    "        print(\"Hola\")\n",
    "    elif opcion == '2':\n",
    "        numero1 = float(input('introduce el valor a multiplicar primero: '))\n",
    "        numero2 = float(input('introduce el valor a multiplicar segundo: '))\n",
    "        print('El resultado es: ', numero1*numero2)\n",
    "    elif opcion == '3':\n",
    "        print('bye')\n",
    "        break\n",
    "    else:\n",
    "        print('No se que elegiste, tuviste que haber puesto algun numero de las opciones')\n",
    "        "
   ]
  },
  {
   "cell_type": "code",
   "execution_count": null,
   "metadata": {},
   "outputs": [],
   "source": []
  }
 ],
 "metadata": {
  "kernelspec": {
   "display_name": "Python 3.9.7 ('base')",
   "language": "python",
   "name": "python3"
  },
  "language_info": {
   "codemirror_mode": {
    "name": "ipython",
    "version": 3
   },
   "file_extension": ".py",
   "mimetype": "text/x-python",
   "name": "python",
   "nbconvert_exporter": "python",
   "pygments_lexer": "ipython3",
   "version": "3.9.7"
  },
  "vscode": {
   "interpreter": {
    "hash": "ad9e000ace8b4c39afbdcf83b61f0f239008d468236d6baabfb987e10afb94b8"
   }
  }
 },
 "nbformat": 4,
 "nbformat_minor": 4
}
