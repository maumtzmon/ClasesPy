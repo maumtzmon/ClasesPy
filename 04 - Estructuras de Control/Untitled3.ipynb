{
 "cells": [
  {
   "cell_type": "code",
   "execution_count": 1,
   "id": "4aef7dbb",
   "metadata": {},
   "outputs": [
    {
     "data": {
      "text/plain": [
       "False"
      ]
     },
     "execution_count": 1,
     "metadata": {},
     "output_type": "execute_result"
    }
   ],
   "source": [
    "A=5 #int\n",
    "B=5.000001 #float\n",
    "A==B #mayor\n"
   ]
  },
  {
   "cell_type": "code",
   "execution_count": 2,
   "id": "2d42655f",
   "metadata": {},
   "outputs": [
    {
     "data": {
      "text/plain": [
       "True"
      ]
     },
     "execution_count": 2,
     "metadata": {},
     "output_type": "execute_result"
    }
   ],
   "source": [
    "A<B"
   ]
  },
  {
   "cell_type": "code",
   "execution_count": 3,
   "id": "227d6829",
   "metadata": {},
   "outputs": [
    {
     "data": {
      "text/plain": [
       "False"
      ]
     },
     "execution_count": 3,
     "metadata": {},
     "output_type": "execute_result"
    }
   ],
   "source": [
    "A==B #igualdad"
   ]
  },
  {
   "cell_type": "code",
   "execution_count": 4,
   "id": "3fdce07d",
   "metadata": {},
   "outputs": [],
   "source": [
    "cadena = \"texto\""
   ]
  },
  {
   "cell_type": "code",
   "execution_count": 5,
   "id": "00178bd5",
   "metadata": {},
   "outputs": [
    {
     "data": {
      "text/plain": [
       "True"
      ]
     },
     "execution_count": 5,
     "metadata": {},
     "output_type": "execute_result"
    }
   ],
   "source": [
    "cadena == 'texto'"
   ]
  },
  {
   "cell_type": "code",
   "execution_count": 6,
   "id": "9ea76bbb",
   "metadata": {},
   "outputs": [],
   "source": [
    "C=(A==B)\n",
    "D=True"
   ]
  },
  {
   "cell_type": "code",
   "execution_count": 7,
   "id": "f5ea8768",
   "metadata": {},
   "outputs": [
    {
     "data": {
      "text/plain": [
       "True"
      ]
     },
     "execution_count": 7,
     "metadata": {},
     "output_type": "execute_result"
    }
   ],
   "source": [
    "C or D"
   ]
  },
  {
   "cell_type": "code",
   "execution_count": 8,
   "id": "793ee48c",
   "metadata": {},
   "outputs": [
    {
     "data": {
      "text/plain": [
       "False"
      ]
     },
     "execution_count": 8,
     "metadata": {},
     "output_type": "execute_result"
    }
   ],
   "source": [
    "C and D"
   ]
  },
  {
   "cell_type": "code",
   "execution_count": 9,
   "id": "ae60c0bd",
   "metadata": {},
   "outputs": [
    {
     "data": {
      "text/plain": [
       "True"
      ]
     },
     "execution_count": 9,
     "metadata": {},
     "output_type": "execute_result"
    }
   ],
   "source": [
    "not C"
   ]
  },
  {
   "cell_type": "code",
   "execution_count": 10,
   "id": "743a5093",
   "metadata": {},
   "outputs": [
    {
     "name": "stdout",
     "output_type": "stream",
     "text": [
      "vielve a intentar\n",
      "fuera del while\n"
     ]
    }
   ],
   "source": [
    "while not C:\n",
    "    print('vielve a intentar')\n",
    "    C=True\n",
    "\n",
    "print('fuera del while')\n",
    "    "
   ]
  },
  {
   "cell_type": "code",
   "execution_count": null,
   "id": "084bb04a",
   "metadata": {},
   "outputs": [],
   "source": []
  }
 ],
 "metadata": {
  "kernelspec": {
   "display_name": "Python 3 (ipykernel)",
   "language": "python",
   "name": "python3"
  },
  "language_info": {
   "codemirror_mode": {
    "name": "ipython",
    "version": 3
   },
   "file_extension": ".py",
   "mimetype": "text/x-python",
   "name": "python",
   "nbconvert_exporter": "python",
   "pygments_lexer": "ipython3",
   "version": "3.9.7"
  }
 },
 "nbformat": 4,
 "nbformat_minor": 5
}
