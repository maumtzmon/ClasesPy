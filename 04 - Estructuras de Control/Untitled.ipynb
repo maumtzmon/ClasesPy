{
 "cells": [
  {
   "cell_type": "code",
   "execution_count": 48,
   "id": "616451d1",
   "metadata": {},
   "outputs": [],
   "source": [
    "iteracion=0"
   ]
  },
  {
   "cell_type": "code",
   "execution_count": 50,
   "id": "474312d8",
   "metadata": {
    "scrolled": true
   },
   "outputs": [
    {
     "name": "stdout",
     "output_type": "stream",
     "text": [
      "dentro del while, para iteracion = 101\n",
      "algo salio  mal\n",
      "fuera del while\n"
     ]
    }
   ],
   "source": [
    "while True:   \n",
    "    print('dentro del while, para iteracion = '+str(iteracion))\n",
    "    iteracion += 1\n",
    "    if iteracion >100:\n",
    "        print('algo salio  mal')\n",
    "        if :\n",
    "        else:\n",
    "            break\n",
    "    else:\n",
    "else:\n",
    "\n",
    "print('fuera del while')\n",
    "    "
   ]
  },
  {
   "cell_type": "code",
   "execution_count": null,
   "id": "822d0209",
   "metadata": {},
   "outputs": [],
   "source": []
  },
  {
   "cell_type": "code",
   "execution_count": null,
   "id": "599983ae",
   "metadata": {},
   "outputs": [],
   "source": [
    "if condicion:\n",
    "    #algo\n",
    "else:\n",
    "    #otra cosa"
   ]
  },
  {
   "cell_type": "code",
   "execution_count": 24,
   "id": "4b53a54b",
   "metadata": {},
   "outputs": [],
   "source": [
    "condicion=0"
   ]
  },
  {
   "cell_type": "code",
   "execution_count": 25,
   "id": "b2ea15c6",
   "metadata": {},
   "outputs": [
    {
     "name": "stdout",
     "output_type": "stream",
     "text": [
      "condicion=0\n",
      "condicion=1\n",
      "condicion=2\n",
      "condicion=3\n",
      "condicion=4\n",
      "fuera del while\n"
     ]
    }
   ],
   "source": [
    "while condicion < 5:\n",
    "    print(\"condicion=\"+str(condicion))\n",
    "    condicion+=1\n",
    "    if condicion >= 5:\n",
    "        break\n",
    "else:\n",
    "    print('no iniciaste condicion='+str(condicion))\n",
    "print('fuera del while')"
   ]
  },
  {
   "cell_type": "code",
   "execution_count": 42,
   "id": "671386af",
   "metadata": {},
   "outputs": [],
   "source": [
    "lista=[0,1,2,3,4,5]"
   ]
  },
  {
   "cell_type": "code",
   "execution_count": 44,
   "id": "4a1820f6",
   "metadata": {},
   "outputs": [
    {
     "name": "stdout",
     "output_type": "stream",
     "text": [
      "haciendo algo con los elementos de la lista\n",
      "5\n",
      "haciendo algo con los elementos de la lista\n",
      "4\n",
      "haciendo algo con los elementos de la lista\n",
      "3\n",
      "haciendo algo con los elementos de la lista\n",
      "2\n",
      "haciendo algo con los elementos de la lista\n",
      "1\n",
      "haciendo algo con los elementos de la lista\n",
      "0\n"
     ]
    }
   ],
   "source": [
    "while len(lista)>0:\n",
    "    print('haciendo algo con los elementos de la lista')\n",
    "    print(str(lista.pop()))"
   ]
  },
  {
   "cell_type": "code",
   "execution_count": 43,
   "id": "5af5726a",
   "metadata": {},
   "outputs": [
    {
     "data": {
      "text/plain": [
       "6"
      ]
     },
     "execution_count": 43,
     "metadata": {},
     "output_type": "execute_result"
    }
   ],
   "source": [
    "len(lista)\n"
   ]
  },
  {
   "cell_type": "code",
   "execution_count": null,
   "id": "cbf2ba5f",
   "metadata": {},
   "outputs": [],
   "source": []
  }
 ],
 "metadata": {
  "kernelspec": {
   "display_name": "Python 3 (ipykernel)",
   "language": "python",
   "name": "python3"
  },
  "language_info": {
   "codemirror_mode": {
    "name": "ipython",
    "version": 3
   },
   "file_extension": ".py",
   "mimetype": "text/x-python",
   "name": "python",
   "nbconvert_exporter": "python",
   "pygments_lexer": "ipython3",
   "version": "3.9.7"
  }
 },
 "nbformat": 4,
 "nbformat_minor": 5
}
