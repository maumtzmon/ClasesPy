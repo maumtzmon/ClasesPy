{
 "cells": [
  {
   "cell_type": "code",
   "execution_count": 1,
   "id": "96859577",
   "metadata": {},
   "outputs": [
    {
     "name": "stdout",
     "output_type": "stream",
     "text": [
      "dentro del while\n",
      "5\n",
      "dentro del while\n",
      "6\n",
      "dentro del while\n",
      "7\n",
      "dentro del while\n",
      "8\n",
      "dentro del while\n",
      "9\n",
      "fuera\n"
     ]
    }
   ],
   "source": [
    "lista=[5,6,7,8,9]\n",
    "indice=0\n",
    "while indice<len(lista): #mientras indice sea menor al tamaño de la variable \"lista\"\n",
    "    print(\"dentro del while\")\n",
    "    print(str(lista[indice]))\n",
    "    indice+=1\n",
    "print(\"fuera\")"
   ]
  },
  {
   "cell_type": "code",
   "execution_count": 2,
   "id": "64ae737d",
   "metadata": {},
   "outputs": [
    {
     "name": "stdout",
     "output_type": "stream",
     "text": [
      "dentro del for\n",
      "a\n",
      "dentro del for\n",
      "b\n",
      "dentro del for\n",
      "c\n",
      "fuera del for\n"
     ]
    }
   ],
   "source": [
    "lista=[\"a\",\"b\",\"c\"]\n",
    "for elemento in lista: #para cada \"elemento\" en la variable \"lista\":\n",
    "    print('dentro del for')#realiza estas operaciones\n",
    "    print(elemento)\n",
    "print('fuera del for')#fuera del for"
   ]
  },
  {
   "cell_type": "code",
   "execution_count": 3,
   "id": "02319b23",
   "metadata": {},
   "outputs": [],
   "source": [
    "matriz=[0, 2, 3],[1, 4, 5],[2, 6,7]"
   ]
  },
  {
   "cell_type": "code",
   "execution_count": 4,
   "id": "2a3928d7",
   "metadata": {},
   "outputs": [
    {
     "data": {
      "text/plain": [
       "([0, 2, 3], [1, 4, 5], [2, 6, 7])"
      ]
     },
     "execution_count": 4,
     "metadata": {},
     "output_type": "execute_result"
    }
   ],
   "source": [
    "matriz\n"
   ]
  },
  {
   "cell_type": "code",
   "execution_count": 5,
   "id": "3e1a68cd",
   "metadata": {},
   "outputs": [
    {
     "data": {
      "text/plain": [
       "7"
      ]
     },
     "execution_count": 5,
     "metadata": {},
     "output_type": "execute_result"
    }
   ],
   "source": [
    "matriz[2][2]"
   ]
  },
  {
   "cell_type": "code",
   "execution_count": 6,
   "id": "42121d71",
   "metadata": {},
   "outputs": [
    {
     "name": "stdout",
     "output_type": "stream",
     "text": [
      "[0, 2, 3]\n",
      "0\n",
      "2\n",
      "3\n",
      "[1, 4, 5]\n",
      "1\n",
      "4\n",
      "5\n",
      "[2, 6, 7]\n",
      "2\n",
      "6\n",
      "7\n"
     ]
    }
   ],
   "source": [
    "for renglon in matriz:\n",
    "    print(renglon)\n",
    "    for columna in renglon:\n",
    "        print(columna)"
   ]
  },
  {
   "cell_type": "code",
   "execution_count": 7,
   "id": "1fbc3694",
   "metadata": {},
   "outputs": [],
   "source": [
    "diccionario={'papas':{'doritos':15,'chips verdes':18,'rancheritos':13},'refrescos':{'pepsi':15, 'coca':16},'galletas':{'oreo':12,'emperador':13}}\n"
   ]
  },
  {
   "cell_type": "code",
   "execution_count": 8,
   "id": "58d6dcce",
   "metadata": {},
   "outputs": [
    {
     "data": {
      "text/plain": [
       "{'papas': {'doritos': 15, 'chips verdes': 18, 'rancheritos': 13},\n",
       " 'refrescos': {'pepsi': 15, 'coca': 16},\n",
       " 'galletas': {'oreo': 12, 'emperador': 13}}"
      ]
     },
     "execution_count": 8,
     "metadata": {},
     "output_type": "execute_result"
    }
   ],
   "source": [
    "diccionario"
   ]
  },
  {
   "cell_type": "code",
   "execution_count": 9,
   "id": "47f5e5ed",
   "metadata": {},
   "outputs": [
    {
     "name": "stdout",
     "output_type": "stream",
     "text": [
      "item:papas\n",
      "item:refrescos\n",
      "item:galletas\n"
     ]
    }
   ],
   "source": [
    "for clave in diccionario:\n",
    "    print('item:'+clave)"
   ]
  },
  {
   "cell_type": "code",
   "execution_count": 10,
   "id": "06a6ef1f",
   "metadata": {},
   "outputs": [
    {
     "name": "stdout",
     "output_type": "stream",
     "text": [
      "item:papas\n",
      "\ttipo:doritos $15\n",
      "\ttipo:chips verdes $18\n",
      "\ttipo:rancheritos $13\n",
      "item:refrescos\n",
      "\ttipo:pepsi $15\n",
      "\ttipo:coca $16\n",
      "item:galletas\n",
      "\ttipo:oreo $12\n",
      "\ttipo:emperador $13\n"
     ]
    }
   ],
   "source": [
    "for clave in diccionario:#diccionario[clave]\n",
    "    print('item:'+clave)\n",
    "    for clave2 in diccionario[clave]: #diccionario[clave][clave2]\n",
    "        print(\"\\ttipo:\"+clave2+\" $\"+str(diccionario[clave][clave2]))"
   ]
  },
  {
   "cell_type": "code",
   "execution_count": 11,
   "id": "1ac5d69a",
   "metadata": {},
   "outputs": [
    {
     "data": {
      "text/plain": [
       "15"
      ]
     },
     "execution_count": 11,
     "metadata": {},
     "output_type": "execute_result"
    }
   ],
   "source": [
    "diccionario['papas'][\"doritos\"]"
   ]
  },
  {
   "cell_type": "code",
   "execution_count": 12,
   "id": "ee91e26d",
   "metadata": {},
   "outputs": [
    {
     "name": "stdout",
     "output_type": "stream",
     "text": [
      "ingresa el item:\n",
      "papas\n"
     ]
    }
   ],
   "source": [
    "item=input(\"ingresa el item:\\n\")"
   ]
  },
  {
   "cell_type": "code",
   "execution_count": 13,
   "id": "aeab7603",
   "metadata": {},
   "outputs": [
    {
     "data": {
      "text/plain": [
       "'papas'"
      ]
     },
     "execution_count": 13,
     "metadata": {},
     "output_type": "execute_result"
    }
   ],
   "source": [
    "item"
   ]
  },
  {
   "cell_type": "code",
   "execution_count": 21,
   "id": "4d5ec639",
   "metadata": {},
   "outputs": [
    {
     "name": "stdout",
     "output_type": "stream",
     "text": [
      "Bienvenido a la tiendita\n",
      "\n",
      "ingresa el item:\n",
      "galletas\n",
      "ingresa el tipo:\n",
      "oreo\n",
      "ingresa cuantos oreo son:3\n"
     ]
    }
   ],
   "source": [
    "print('Bienvenido a la tiendita\\n')\n",
    "item=input('ingresa el item:\\n')\n",
    "tipo=input('ingresa el tipo:\\n')\n",
    "cantidad=input('ingresa cuantos '+tipo+' son:')"
   ]
  },
  {
   "cell_type": "code",
   "execution_count": 29,
   "id": "bc423fa3",
   "metadata": {},
   "outputs": [
    {
     "name": "stdout",
     "output_type": "stream",
     "text": [
      "de las papas son:0\n",
      "de los refrescos:0\n",
      "de las galletas:36\n"
     ]
    }
   ],
   "source": [
    "cuenta_papas=0\n",
    "cuenta_galletas=0\n",
    "cuenta_refrescos=0\n",
    "if tipo in diccionario['papas']:#papaS\n",
    "    cuenta_papas+=int(cantidad)*diccionario[item][tipo]\n",
    "        \n",
    "elif tipo in diccionario['refrescos']:#refrescos\n",
    "    cuenta_refrescos+=int(cantidad)*diccionario['refrescos'][tipo]\n",
    "\n",
    "elif tipo in diccionario['galletas']:#galletas\n",
    "    cuenta_galletas+=int(cantidad)*diccionario['galletas'][tipo]\n",
    "\n",
    "else:#mensaje de error\n",
    "    print(\"no tenemos\")\n",
    "    \n",
    "print('de las papas son:'+str(cuenta_papas))\n",
    "print('de los refrescos:'+str(cuenta_refrescos))\n",
    "print('de las galletas:'+str(cuenta_galletas))\n"
   ]
  },
  {
   "cell_type": "code",
   "execution_count": 27,
   "id": "fec43f6c",
   "metadata": {},
   "outputs": [
    {
     "data": {
      "text/plain": [
       "0"
      ]
     },
     "execution_count": 27,
     "metadata": {},
     "output_type": "execute_result"
    }
   ],
   "source": [
    "cuenta_papas"
   ]
  },
  {
   "cell_type": "code",
   "execution_count": 24,
   "id": "281324de",
   "metadata": {},
   "outputs": [
    {
     "data": {
      "text/plain": [
       "'oreo'"
      ]
     },
     "execution_count": 24,
     "metadata": {},
     "output_type": "execute_result"
    }
   ],
   "source": [
    "tipo"
   ]
  },
  {
   "cell_type": "code",
   "execution_count": 25,
   "id": "12af91b6",
   "metadata": {},
   "outputs": [
    {
     "data": {
      "text/plain": [
       "{'papas': {'doritos': 15, 'chips verdes': 18, 'rancheritos': 13},\n",
       " 'refrescos': {'pepsi': 15, 'coca': 16},\n",
       " 'galletas': {'oreo': 12, 'emperador': 13}}"
      ]
     },
     "execution_count": 25,
     "metadata": {},
     "output_type": "execute_result"
    }
   ],
   "source": [
    "diccionario"
   ]
  },
  {
   "cell_type": "code",
   "execution_count": null,
   "id": "be21326e",
   "metadata": {},
   "outputs": [],
   "source": []
  }
 ],
 "metadata": {
  "kernelspec": {
   "display_name": "Python 3 (ipykernel)",
   "language": "python",
   "name": "python3"
  },
  "language_info": {
   "codemirror_mode": {
    "name": "ipython",
    "version": 3
   },
   "file_extension": ".py",
   "mimetype": "text/x-python",
   "name": "python",
   "nbconvert_exporter": "python",
   "pygments_lexer": "ipython3",
   "version": "3.9.7"
  }
 },
 "nbformat": 4,
 "nbformat_minor": 5
}
