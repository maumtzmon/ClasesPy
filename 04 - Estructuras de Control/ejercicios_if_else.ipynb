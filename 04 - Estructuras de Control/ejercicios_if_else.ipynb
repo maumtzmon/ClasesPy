{
 "cells": [
  {
   "cell_type": "code",
   "execution_count": 1,
   "id": "5cfd68e2",
   "metadata": {},
   "outputs": [
    {
     "name": "stdout",
     "output_type": "stream",
     "text": [
      "la condicion es valida\n"
     ]
    }
   ],
   "source": [
    "if True:\n",
    "    print(\"la condicion es valida\")"
   ]
  },
  {
   "cell_type": "code",
   "execution_count": 4,
   "id": "34eb1517",
   "metadata": {},
   "outputs": [
    {
     "name": "stdout",
     "output_type": "stream",
     "text": [
      "linea dentro del If\n",
      "linea que tambien esta dentro del If\n",
      "linea fuera del if\n"
     ]
    }
   ],
   "source": [
    "if True:\n",
    "    print(\"linea dentro del If\")\n",
    "    print(\"linea que tambien esta dentro del If\")\n",
    "print(\"linea fuera del if\")"
   ]
  },
  {
   "cell_type": "code",
   "execution_count": 13,
   "id": "2e631674",
   "metadata": {},
   "outputs": [
    {
     "name": "stdout",
     "output_type": "stream",
     "text": [
      "linea dentro del If\n",
      "linea que tambien esta dentro del If\n",
      "linea fuera del if\n"
     ]
    }
   ],
   "source": [
    "if False:\n",
    "    print(\"\")\n",
    "print(\"linea dentro del If\") \n",
    "print(\"linea que tambien esta dentro del If\")\n",
    "print(\"linea fuera del if\")\n"
   ]
  },
  {
   "cell_type": "code",
   "execution_count": 15,
   "id": "82d140ec",
   "metadata": {},
   "outputs": [],
   "source": [
    "x=[1,2,3,4,5,6,7,8,9]\n",
    "y=4"
   ]
  },
  {
   "cell_type": "code",
   "execution_count": 24,
   "id": "66599d36",
   "metadata": {},
   "outputs": [
    {
     "name": "stdout",
     "output_type": "stream",
     "text": [
      "y no es mayor que str(x[3])\n"
     ]
    }
   ],
   "source": [
    "if y>x[3]: #esta condicion se cumple\n",
    "    print(\"y es mayor que \"+ str(x[3])) #ejecuta este codigo\n",
    "else:\n",
    "    print(\"y no es mayor que \"+\"str(x[3])\")#entonces, ejecuta este codigo"
   ]
  },
  {
   "cell_type": "code",
   "execution_count": 25,
   "id": "315b8011",
   "metadata": {},
   "outputs": [
    {
     "name": "stdout",
     "output_type": "stream",
     "text": [
      "y es igual que 4\n"
     ]
    }
   ],
   "source": [
    "if y>x[3]: #esta condicion se cumple\n",
    "    print(\"y es mayor que \"+ str(x[3])) #Si, ejecuta este codigo\n",
    "elif y==x[3]: #No, entonces Si se cumple esta otra\n",
    "    print(\"y es igual que \"+str(x[3])) #ejecuta este codigo\n",
    "elif y==x[3]:\n",
    "    print(\"esta es una condicion repetida\")\n",
    "else: #No, no se cumplio ninguna condicion \n",
    "    print(\"y menor que \"+\"str(x[3])\")#entonces, ejecuta este codigo"
   ]
  },
  {
   "cell_type": "code",
   "execution_count": 91,
   "id": "8ef0622e",
   "metadata": {},
   "outputs": [],
   "source": [
    "x=[1,2,3,4,5,6,7,8,9]\n",
    "y=2"
   ]
  },
  {
   "cell_type": "code",
   "execution_count": 68,
   "id": "8c434ab6",
   "metadata": {},
   "outputs": [
    {
     "name": "stdout",
     "output_type": "stream",
     "text": [
      "si esta en la lista\n",
      "y es mayor que x[4]=5\n",
      "es non\n",
      "fuera del IF. El modulo de y/2=1\n"
     ]
    }
   ],
   "source": [
    "#si y esta en la lista\n",
    "#si y es numero par\n",
    "#si y es mayor que x[4]\n",
    "#print(\"es el numero de la suerte\")\n",
    "if y in x:\n",
    "    print(\"si esta en la lista\")\n",
    "    if y>x[4]:\n",
    "        print(\"y es mayor que \"+\"x[4]=\"+str(x[4]))\n",
    "        z=y%2\n",
    "        if z== 0:\n",
    "            print(\"y es par\")\n",
    "        elif z>=0:\n",
    "            print(\"es non\")\n",
    "        else:\n",
    "            print(\"pero no es par\")\n",
    "    else:\n",
    "        print(\"pero no es mayor que x[4]\")\n",
    "else:\n",
    "    print(\"no esta en la lista\")\n",
    "    \n",
    "print(\"fuera del IF. El modulo de y/2=\"+str(z))"
   ]
  },
  {
   "cell_type": "code",
   "execution_count": 69,
   "id": "9b710a46",
   "metadata": {},
   "outputs": [],
   "source": [
    "x= True\n",
    "y= False\n",
    "z= True\n"
   ]
  },
  {
   "cell_type": "code",
   "execution_count": 70,
   "id": "2ad989e1",
   "metadata": {},
   "outputs": [],
   "source": [
    "A=y and z"
   ]
  },
  {
   "cell_type": "code",
   "execution_count": 71,
   "id": "1b2610c2",
   "metadata": {},
   "outputs": [
    {
     "data": {
      "text/plain": [
       "False"
      ]
     },
     "execution_count": 71,
     "metadata": {},
     "output_type": "execute_result"
    }
   ],
   "source": [
    "A"
   ]
  },
  {
   "cell_type": "code",
   "execution_count": 72,
   "id": "14c81365",
   "metadata": {},
   "outputs": [
    {
     "name": "stdout",
     "output_type": "stream",
     "text": [
      "True\n"
     ]
    }
   ],
   "source": [
    "if x:\n",
    "    if z:\n",
    "        print(\"True\")\n",
    "    "
   ]
  },
  {
   "cell_type": "code",
   "execution_count": 73,
   "id": "06dd22b3",
   "metadata": {},
   "outputs": [],
   "source": [
    "if x and y:\n",
    "    print(\"true\")"
   ]
  },
  {
   "cell_type": "code",
   "execution_count": 93,
   "id": "4aae633b",
   "metadata": {},
   "outputs": [],
   "source": [
    "x=[1,2,3,4,5,6,7,8,9]\n",
    "y=2"
   ]
  },
  {
   "cell_type": "code",
   "execution_count": 94,
   "id": "ac49c4e1",
   "metadata": {},
   "outputs": [],
   "source": [
    "#si y esta en la lista\n",
    "#si y es numero par\n",
    "#si y es mayor que x[4]\n",
    "#print(\"es el numero de la suerte\")\n"
   ]
  },
  {
   "cell_type": "code",
   "execution_count": 97,
   "id": "85fbd539",
   "metadata": {},
   "outputs": [
    {
     "name": "stdout",
     "output_type": "stream",
     "text": [
      "false\n"
     ]
    }
   ],
   "source": [
    "if ((y in x) and (y>x[4])) and (y%2 == 0):#\"Y\" esta en x[] and \"Y\" mayor que x[4] and \"Y\" es par = True. Si no, False\n",
    "    print(\"true\")\n",
    "else:\n",
    "    print(\"false\")"
   ]
  },
  {
   "cell_type": "code",
   "execution_count": 98,
   "id": "44dd5dd0",
   "metadata": {},
   "outputs": [
    {
     "data": {
      "text/plain": [
       "2"
      ]
     },
     "execution_count": 98,
     "metadata": {},
     "output_type": "execute_result"
    }
   ],
   "source": [
    "y"
   ]
  },
  {
   "cell_type": "code",
   "execution_count": null,
   "id": "070c69e9",
   "metadata": {},
   "outputs": [],
   "source": []
  }
 ],
 "metadata": {
  "kernelspec": {
   "display_name": "Python 3 (ipykernel)",
   "language": "python",
   "name": "python3"
  },
  "language_info": {
   "codemirror_mode": {
    "name": "ipython",
    "version": 3
   },
   "file_extension": ".py",
   "mimetype": "text/x-python",
   "name": "python",
   "nbconvert_exporter": "python",
   "pygments_lexer": "ipython3",
   "version": "3.9.7"
  }
 },
 "nbformat": 4,
 "nbformat_minor": 5
}
