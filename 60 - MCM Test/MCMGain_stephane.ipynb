{
 "cells": [
  {
   "cell_type": "code",
   "execution_count": null,
   "metadata": {},
   "outputs": [],
   "source": [
    "from funcionGain import * #se importa la fucnion MCMgain() la cual convierte el MCM.fz a MCM con 16 canales, grafica el hitogrsma de cada canal, ajusta la gauseana y calcula la ganacia para cada canal\n",
    "                        #GEnera las imagenes y las guarda en la misma carpeta de donde estan los archivos .fz"
   ]
  },
  {
   "cell_type": "code",
   "execution_count": null,
   "metadata": {},
   "outputs": [],
   "source": [
    "import os\n",
    "listName=[] #Se hace una lista con los nombres de los archivos .fz \n",
    " \n",
    "directory = '/Users/steph/Desktop/ServicioSocial/Software/connie/barrido_mcm'\n",
    "for filename in os.listdir(directory):\n",
    "    f = os.path.join(directory, filename)\n",
    "    if os.path.isfile(f) and filename.endswith('.fz'):\n",
    "        listName.append(f)\n",
    "        print(f)"
   ]
  },
  {
   "cell_type": "code",
   "execution_count": null,
   "metadata": {},
   "outputs": [],
   "source": [
    "endNameList=[]                 #Se hace una lista de el numero con que terminan los nombres de los arvhivos y se ordenanen orden ascendente  \n",
    "for name in listName:\n",
    "    endname=name.split(\"_\")[-1]\n",
    "    endNameList.append(endname)\n",
    "OrdenEndListName=sorted(endNameList)\n",
    "print(OrdenEndListName)"
   ]
  },
  {
   "cell_type": "code",
   "execution_count": null,
   "metadata": {},
   "outputs": [],
   "source": [
    "ordenListName=[]                #Con ayuda de endNameList hacemos una lista con los nombres ordenados por el numero de nsamps\n",
    "for end in OrdenEndListName:\n",
    "    for name in listName:      \n",
    "        if name.endswith(end):\n",
    "            ordenListName.append(name)\n",
    "print(ordenListName)"
   ]
  },
  {
   "cell_type": "code",
   "execution_count": null,
   "metadata": {},
   "outputs": [],
   "source": [
    "gainList=[]                    #aplica la funcion MCMGain() para cada archivo en la lista ordenada y genera una lista\n",
    "for name in ordenListName:\n",
    "    gain=MCMGain(name)        #Hay que revisar valores optimos de P0=()para el ajuste de la doble gauseana y el rango de graficion para el histograma \n",
    "    gainList.append(gain)    #lista que tiene se ve como [[ganancia de 16 canales con nsamp1],[ganancia de 16 canales con un mismo nsamp2],..[nsmp n]]"
   ]
  },
  {
   "cell_type": "code",
   "execution_count": null,
   "metadata": {},
   "outputs": [],
   "source": [
    "nccds=16     #Se genera lista con las ganancias de cada canal con todos los nsamps\n",
    "nnsamp=16          # es decir gainForNsamp=[[Ganancia canal 1 con nsamp1,2,3,4,...n ],[Ganancia canal 2 con nsamp1,2,3,4,...n],..,[Ganancia canal 16 con nsamp1,2,3,4,...n]]\n",
    "gainForNsapm=[]\n",
    "chipList=[]\n",
    "for i in range(nccds):\n",
    "    chipList=[]\n",
    "    for j in range(nnsamp):\n",
    "        gainChip=gainList[j][i]\n",
    "        chipList.append(gainChip)\n",
    "    gainForNsapm.append(chipList)\n",
    "gainForNsapm"
   ]
  },
  {
   "cell_type": "code",
   "execution_count": null,
   "metadata": {},
   "outputs": [],
   "source": [
    "chipList=[1,10,20,40,60,80,100,200,300,400,500,600,700,800,1000,1400] #lista con los valores de nsamps\n",
    "#gainList[nsamp]\n",
    "#for nsamp in gainList:\n",
    "for i in range(nnsamp):                                  #Grafica las ganancias de cada canal contra los nsamps              \n",
    "    plt.plot(chipList,gainForNsapm[i],label=\"ohdu\"+str(i+1))\n",
    "    plt.legend()"
   ]
  }
 ],
 "metadata": {
  "language_info": {
   "name": "python"
  },
  "orig_nbformat": 4
 },
 "nbformat": 4,
 "nbformat_minor": 2
}
