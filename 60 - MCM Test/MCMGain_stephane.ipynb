{
 "cells": [
  {
   "cell_type": "code",
   "execution_count": 7,
   "metadata": {},
   "outputs": [],
   "source": [
    "from funcionGain_stephane import * #se importa la fucnion MCMgain() la cual convierte el MCM.fz a MCM con 16 canales, grafica el hitogrsma de cada canal, ajusta la gauseana y calcula la ganacia para cada canal\n",
    "                        #GEnera las imagenes y las guarda en la misma carpeta de donde estan los archivos .fz"
   ]
  },
  {
   "cell_type": "code",
   "execution_count": 8,
   "metadata": {},
   "outputs": [
    {
     "name": "stdout",
     "output_type": "stream",
     "text": [
      "/home/oem/Software/cursoInstrumentacion_2022/ClasesPy/60 - MCM Test/mcm029_test__ANSAMP400_afterClear_35.fz\n"
     ]
    }
   ],
   "source": [
    "import os\n",
    "listName=[] #Se hace una lista con los nombres de los archivos .fz \n",
    " \n",
    "directory = '/home/oem/Software/cursoInstrumentacion_2022/ClasesPy/60 - MCM Test'\n",
    "for filename in os.listdir(directory):\n",
    "    f = os.path.join(directory, filename)\n",
    "    if os.path.isfile(f) and filename.endswith('.fz'):\n",
    "        listName.append(f)\n",
    "        print(f)"
   ]
  },
  {
   "cell_type": "code",
   "execution_count": 9,
   "metadata": {},
   "outputs": [
    {
     "name": "stdout",
     "output_type": "stream",
     "text": [
      "['35.fz']\n"
     ]
    }
   ],
   "source": [
    "endNameList=[]                 #Se hace una lista de el numero con que terminan los nombres de los arvhivos y se ordenanen orden ascendente  \n",
    "for name in listName:\n",
    "    endname=name.split(\"_\")[-1]\n",
    "    endNameList.append(endname)\n",
    "OrdenEndListName=sorted(endNameList)\n",
    "print(OrdenEndListName)"
   ]
  },
  {
   "cell_type": "code",
   "execution_count": 10,
   "metadata": {},
   "outputs": [
    {
     "name": "stdout",
     "output_type": "stream",
     "text": [
      "['/home/oem/Software/cursoInstrumentacion_2022/ClasesPy/60 - MCM Test/mcm029_test__ANSAMP400_afterClear_35.fz']\n"
     ]
    }
   ],
   "source": [
    "ordenListName=[]                #Con ayuda de endNameList hacemos una lista con los nombres ordenados por el numero de nsamps\n",
    "for end in OrdenEndListName:\n",
    "    for name in listName:      \n",
    "        if name.endswith(end):\n",
    "            ordenListName.append(name)\n",
    "print(ordenListName)"
   ]
  },
  {
   "cell_type": "code",
   "execution_count": 17,
   "metadata": {},
   "outputs": [
    {
     "name": "stdout",
     "output_type": "stream",
     "text": [
      "Filename: /home/oem/Software/cursoInstrumentacion_2022/ClasesPy/60 - MCM Test/mcm029_test__ANSAMP400_afterClear_35.fz\n",
      "No.    Name      Ver    Type      Cards   Dimensions   Format\n",
      "  0  PRIMARY       1 PrimaryHDU       6   ()      \n",
      "  1  COMPRESSED_IMAGE    1 CompImageHDU    165   (19200, 150)   int32   \n",
      "  2  COMPRESSED_IMAGE    1 CompImageHDU    164   (19200, 150)   int32   \n",
      "  3  COMPRESSED_IMAGE    1 CompImageHDU    164   (19200, 150)   int32   \n",
      "  4  COMPRESSED_IMAGE    1 CompImageHDU    164   (19200, 150)   int32   \n",
      "400 1200\n",
      "Error - gain fit failed/home/oem/Software/cursoInstrumentacion_2022/ClasesPy/60 - MCM Test/mcm029_test__ANSAMP400_afterClear_35MCM1_Demuxed_\n",
      "1\n"
     ]
    }
   ],
   "source": [
    "gainList=[]                    #aplica la funcion MCMGain() para cada archivo en la lista ordenada y genera una lista\n",
    "for name in ordenListName:\n",
    "    gain=MCMGain(name)        #Hay que revisar valores optimos de P0=()para el ajuste de la doble gauseana y el rango de graficion para el histograma \n",
    "    gainList.append(gain)    #lista que tiene se ve como [[ganancia de 16 canales con nsamp1],[ganancia de 16 canales con un mismo nsamp2],..[nsmp n]]\n",
    "print(len(gainList))"
   ]
  },
  {
   "cell_type": "code",
   "execution_count": 14,
   "metadata": {},
   "outputs": [
    {
     "ename": "IndexError",
     "evalue": "list index out of range",
     "output_type": "error",
     "traceback": [
      "\u001b[0;31m---------------------------------------------------------------------------\u001b[0m",
      "\u001b[0;31mIndexError\u001b[0m                                Traceback (most recent call last)",
      "Cell \u001b[0;32mIn [14], line 8\u001b[0m\n\u001b[1;32m      5\u001b[0m \u001b[38;5;28;01mfor\u001b[39;00m i \u001b[38;5;129;01min\u001b[39;00m \u001b[38;5;28mrange\u001b[39m(nccds):\n\u001b[1;32m      6\u001b[0m     \u001b[38;5;66;03m# chipList=[]\u001b[39;00m\n\u001b[1;32m      7\u001b[0m     \u001b[38;5;28;01mfor\u001b[39;00m j \u001b[38;5;129;01min\u001b[39;00m \u001b[38;5;28mrange\u001b[39m(nnsamp):\n\u001b[0;32m----> 8\u001b[0m         gainChip\u001b[38;5;241m=\u001b[39m\u001b[43mgainList\u001b[49m\u001b[43m[\u001b[49m\u001b[43mi\u001b[49m\u001b[43m]\u001b[49m[j]\n\u001b[1;32m      9\u001b[0m         chipList\u001b[38;5;241m.\u001b[39mappend(gainChip)\n\u001b[1;32m     10\u001b[0m     gainForNsapm\u001b[38;5;241m.\u001b[39mappend(chipList)\n",
      "\u001b[0;31mIndexError\u001b[0m: list index out of range"
     ]
    }
   ],
   "source": [
    "nccds=16     #Se genera lista con las ganancias de cada canal con todos los nsamps\n",
    "nnsamp=16          # es decir gainForNsamp=[[Ganancia canal 1 con nsamp1,2,3,4,...n ],[Ganancia canal 2 con nsamp1,2,3,4,...n],..,[Ganancia canal 16 con nsamp1,2,3,4,...n]]\n",
    "gainForNsapm=[]\n",
    "chipList=[]\n",
    "for i in range(nccds):\n",
    "    # chipList=[]\n",
    "    for j in range(nnsamp):\n",
    "        gainChip=gainList[i][j]\n",
    "        chipList.append(gainChip)\n",
    "    gainForNsapm.append(chipList)\n",
    "gainForNsapm"
   ]
  },
  {
   "cell_type": "code",
   "execution_count": null,
   "metadata": {},
   "outputs": [],
   "source": [
    "chipList=[1,10,20,40,60,80,100,200,300,400,500,600,700,800,1000,1400] #lista con los valores de nsamps\n",
    "#gainList[nsamp]\n",
    "#for nsamp in gainList:\n",
    "for i in range(nnsamp):                                  #Grafica las ganancias de cada canal contra los nsamps              \n",
    "    plt.plot(chipList,gainForNsapm[i],label=\"ohdu\"+str(i+1))\n",
    "    plt.legend()"
   ]
  }
 ],
 "metadata": {
  "kernelspec": {
   "display_name": "Python 3",
   "language": "python",
   "name": "python3"
  },
  "language_info": {
   "codemirror_mode": {
    "name": "ipython",
    "version": 3
   },
   "file_extension": ".py",
   "mimetype": "text/x-python",
   "name": "python",
   "nbconvert_exporter": "python",
   "pygments_lexer": "ipython3",
   "version": "3.10.12"
  },
  "orig_nbformat": 4
 },
 "nbformat": 4,
 "nbformat_minor": 2
}
