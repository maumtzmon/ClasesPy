{
 "cells": [
  {
   "cell_type": "markdown",
   "metadata": {},
   "source": [
    "# Using Functions in Python"
   ]
  },
  {
   "cell_type": "markdown",
   "metadata": {},
   "source": [
    "*... The first reason that we think that Python is excellent is that it is easy to learn. If a\n",
    "language can’t help you become productive pretty quickly, the lure of that language is\n",
    "severely diminished. Why would you want to spend weeks or months studying a language before you are able to write a program that does something useful? ...*\n",
    "\n",
    " <div style=\"text-align: right\"> Python for Unix and Linux System Administration </div>"
   ]
  },
  {
   "cell_type": "markdown",
   "metadata": {},
   "source": [
    "#### You can run any shell command in Python just as it would be run with Bash. Given this bit of information, you can now create a Python version of ls. Just open up your favorite text editor in another terminal tab or window and place this in a file named pyls.py, and make it executable by using chmod +x pyls.py.\n",
    "\n",
    "#### Let’s take a look at how this works in Python doing shell commands"
   ]
  },
  {
   "cell_type": "code",
   "execution_count": null,
   "metadata": {},
   "outputs": [],
   "source": [
    "#!/usr/bin/env python\n",
    "#Python wrapper for the ls command\n",
    "import subprocess\n",
    "subprocess.call([\"ls\",\"-l\"])"
   ]
  },
  {
   "cell_type": "markdown",
   "metadata": {},
   "source": [
    "What if we want to do something in case you have an issue"
   ]
  },
  {
   "cell_type": "code",
   "execution_count": 68,
   "metadata": {},
   "outputs": [
    {
     "name": "stdout",
     "output_type": "stream",
     "text": [
      "first try\n",
      "First try failed\n",
      "/home/mauricio/Software/ClasesPy\n"
     ]
    }
   ],
   "source": [
    "try:\n",
    "    print(\"first try\")\n",
    "    subprocess.call(\"cd\")#,shell=True)\n",
    "    subprocess.call(\"cd /home/mauricio/Software; pwd\", shell=True) #wrong sintax \n",
    "except:\n",
    "    print(\"First try failed\")\n",
    "    subprocess.call(\"cd\",shell=True)\n",
    "    subprocess.call(\"cd /home/mauricio/Software/ClasesPy;pwd\",shell=True)\n",
    "\n",
    "\n"
   ]
  },
  {
   "cell_type": "markdown",
   "metadata": {},
   "source": [
    "#### Often, the point of writing a reusable module is so that you can take some of the code and use it over and over again in a new script. So practice that by writing another script that uses one of the functions."
   ]
  },
  {
   "cell_type": "code",
   "execution_count": null,
   "metadata": {},
   "outputs": [],
   "source": [
    "def tmp_space():\n",
    "    tmp_usage = \"du\"\n",
    "    tmp_arg = \"-h\"\n",
    "    path = \"/tmp\"\n",
    "    print(\"Space used in /tmp directory\")\n",
    "    subprocess.call([tmp_usage, tmp_arg, path])"
   ]
  },
  {
   "cell_type": "code",
   "execution_count": null,
   "metadata": {},
   "outputs": [],
   "source": [
    "tmp_space()"
   ]
  },
  {
   "cell_type": "markdown",
   "metadata": {},
   "source": [
    "#### In this section, we learned the power of code reuse and how simple it really is. In a nutshell, you put a function or two in a file and then, if you also want it to run as script, place that special if__name__ == \"__main__\": syntax. Later you can either import those functions into IPython or simply reuse them in another script. "
   ]
  },
  {
   "cell_type": "code",
   "execution_count": null,
   "metadata": {},
   "outputs": [],
   "source": [
    "def tmp_space():\n",
    "    tmp_usage = \"du\"\n",
    "    tmp_arg = \"-h\"\n",
    "    path = \"/tmp\"\n",
    "    print(\"Space used in /tmp directory\")\n",
    "    subprocess.call([tmp_usage, tmp_arg, path],shell=True)\n",
    "    \n",
    "def main():\n",
    "    tmp_space()"
   ]
  },
  {
   "cell_type": "code",
   "execution_count": null,
   "metadata": {},
   "outputs": [],
   "source": [
    "if __name__ == \"__main__\":\n",
    "    main()"
   ]
  },
  {
   "cell_type": "markdown",
   "metadata": {},
   "source": [
    "#### using Line Magic Function in ipython"
   ]
  },
  {
   "cell_type": "code",
   "execution_count": 71,
   "metadata": {},
   "outputs": [
    {
     "data": {
      "text/plain": [
       "'/home/mauricio/Software/ClasesPy'"
      ]
     },
     "execution_count": 71,
     "metadata": {},
     "output_type": "execute_result"
    }
   ],
   "source": [
    "%pwd"
   ]
  },
  {
   "cell_type": "code",
   "execution_count": 72,
   "metadata": {},
   "outputs": [
    {
     "name": "stdout",
     "output_type": "stream",
     "text": [
      "\u001b[0m\u001b[34;42m'03 - Primeros Pasos'\u001b[0m/\n",
      "\u001b[34;42m'04 - Estructuras de Control'\u001b[0m/\n",
      "\u001b[34;42m'05 - Operadores relacionales, lógicos y asignación. Expresiones Anidadas'\u001b[0m/\n",
      "\u001b[34;42m'06 - Funciones'\u001b[0m/\n",
      "\u001b[34;42m'07 - Errores y Excepciones'\u001b[0m/\n",
      "\u001b[34;42m'08 - POO'\u001b[0m/\n",
      "\u001b[34;42m'09 - matplotlib'\u001b[0m/\n",
      "\u001b[01;34m'20 - Subprocess'\u001b[0m/\n",
      " \u001b[34;42minfo\u001b[0m/\n",
      " \u001b[01;32mpandas_excel.ipynb\u001b[0m*\n",
      " \u001b[01;32mpandas_Index.ipynb\u001b[0m*\n",
      " \u001b[01;34mpruebas\u001b[0m/\n",
      " \u001b[34;42mRecursos_PythonCientifico\u001b[0m/\n"
     ]
    }
   ],
   "source": [
    "%ls"
   ]
  },
  {
   "cell_type": "markdown",
   "metadata": {},
   "source": [
    "#### Using OS funtion"
   ]
  },
  {
   "cell_type": "code",
   "execution_count": 73,
   "metadata": {},
   "outputs": [],
   "source": [
    "import os"
   ]
  },
  {
   "cell_type": "markdown",
   "metadata": {},
   "source": []
  },
  {
   "cell_type": "code",
   "execution_count": 74,
   "metadata": {},
   "outputs": [
    {
     "name": "stdout",
     "output_type": "stream",
     "text": [
      "03 - Primeros Pasos\n",
      "04 - Estructuras de Control\n",
      "05 - Operadores relacionales, lógicos y asignación. Expresiones Anidadas\n",
      "06 - Funciones\n",
      "07 - Errores y Excepciones\n",
      "08 - POO\n",
      "09 - matplotlib\n",
      "20 - Subprocess\n",
      "info\n",
      "pandas_excel.ipynb\n",
      "pandas_Index.ipynb\n",
      "pruebas\n",
      "Recursos_PythonCientifico\n"
     ]
    },
    {
     "data": {
      "text/plain": [
       "0"
      ]
     },
     "execution_count": 74,
     "metadata": {},
     "output_type": "execute_result"
    }
   ],
   "source": [
    "os.system('ls')"
   ]
  },
  {
   "cell_type": "markdown",
   "metadata": {},
   "source": [
    "#### CD"
   ]
  },
  {
   "cell_type": "code",
   "execution_count": 83,
   "metadata": {},
   "outputs": [
    {
     "data": {
      "text/plain": [
       "'/home/mauricio/Software/ClasesPy'"
      ]
     },
     "execution_count": 83,
     "metadata": {},
     "output_type": "execute_result"
    }
   ],
   "source": [
    "os.getcwd()"
   ]
  },
  {
   "cell_type": "code",
   "execution_count": 84,
   "metadata": {},
   "outputs": [
    {
     "data": {
      "text/plain": [
       "'/home'"
      ]
     },
     "execution_count": 84,
     "metadata": {},
     "output_type": "execute_result"
    }
   ],
   "source": [
    "os.chdir('/home')\n",
    "os.getcwd()"
   ]
  },
  {
   "cell_type": "code",
   "execution_count": null,
   "metadata": {},
   "outputs": [],
   "source": []
  },
  {
   "cell_type": "code",
   "execution_count": null,
   "metadata": {},
   "outputs": [],
   "source": []
  }
 ],
 "metadata": {
  "interpreter": {
   "hash": "916dbcbb3f70747c44a77c7bcd40155683ae19c65e1c03b4aa3499c5328201f1"
  },
  "kernelspec": {
   "display_name": "Python 3.10.4 64-bit",
   "language": "python",
   "name": "python3"
  },
  "language_info": {
   "codemirror_mode": {
    "name": "ipython",
    "version": 3
   },
   "file_extension": ".py",
   "mimetype": "text/x-python",
   "name": "python",
   "nbconvert_exporter": "python",
   "pygments_lexer": "ipython3",
   "version": "3.10.4"
  },
  "orig_nbformat": 4
 },
 "nbformat": 4,
 "nbformat_minor": 2
}
