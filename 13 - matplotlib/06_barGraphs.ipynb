{
 "cells": [
  {
   "cell_type": "markdown",
   "metadata": {},
   "source": [
    "# Voltage Levels"
   ]
  },
  {
   "cell_type": "code",
   "execution_count": 26,
   "metadata": {},
   "outputs": [],
   "source": [
    "import matplotlib.pyplot as plt"
   ]
  },
  {
   "cell_type": "code",
   "execution_count": 46,
   "metadata": {},
   "outputs": [
    {
     "name": "stdout",
     "output_type": "stream",
     "text": [
      "{'v': [5.0, -2.5], 't': [4.5, -3.0], 'h': [4.0, -3.5], 's': [3.5, -10.0], 'o': [-2.5, -8.0], 'r': [7.0, -4.0], 'd': [-1.0, -10.0]}\n"
     ]
    }
   ],
   "source": [
    "voltageDict={}\n",
    "with open('/home/mauricio/Software/LTA_tools/voltageFiles/voltage_skp_lta_v2_microchip.sh', 'r') as VoltageFile:\n",
    "    varlist=[]\n",
    "    for line in VoltageFile:\n",
    "        #print(line, end='\\r')\n",
    "        if '='in line:\n",
    "            varlist.append(float(line.split('=')[1]))\n",
    "        if len(varlist)==2:\n",
    "            voltageDict[line.split('=')[0][0]]=varlist\n",
    "            varlist=[]\n",
    "            \n",
    "\n",
    "print(str(voltageDict))\n"
   ]
  },
  {
   "cell_type": "code",
   "execution_count": 52,
   "metadata": {},
   "outputs": [
    {
     "data": {
      "image/png": "[encoded data removed]",
      "text/plain": [
       "<Figure size 432x288 with 1 Axes>"
      ]
     },
     "metadata": {
      "needs_background": "light"
     },
     "output_type": "display_data"
    }
   ],
   "source": [
    "fig, ax = plt.subplots()\n",
    "for key in voltageDict:\n",
    "    if key.startswith('h') or key.startswith('s') or key.startswith('o') or key.startswith('d') or key.startswith('r'):\n",
    "        ax.bar(key,voltageDict[key][1], color='k')\n",
    "        ax.bar(key,voltageDict[key][0],color='forestgreen')\n",
    "        "
   ]
  },
  {
   "cell_type": "code",
   "execution_count": 24,
   "metadata": {},
   "outputs": [
    {
     "data": {
      "text/plain": [
       "{'vh': 5.0,\n",
       " 'vl': -2.5,\n",
       " 'th': 4.5,\n",
       " 'tl': -3.0,\n",
       " 'hh': 4.0,\n",
       " 'hl': -3.5,\n",
       " 'sh': 3.5,\n",
       " 'sl': -10.0,\n",
       " 'oh': -2.5,\n",
       " 'ol': -8.0,\n",
       " 'rh': 7.0,\n",
       " 'rl': -4.0,\n",
       " 'dh': -1.0,\n",
       " 'dl': -10.0}"
      ]
     },
     "execution_count": 24,
     "metadata": {},
     "output_type": "execute_result"
    }
   ],
   "source": [
    "voltageDict"
   ]
  }
 ],
 "metadata": {
  "kernelspec": {
   "display_name": "Python 3 (ipykernel)",
   "language": "python",
   "name": "python3"
  },
  "language_info": {
   "codemirror_mode": {
    "name": "ipython",
    "version": 3
   },
   "file_extension": ".py",
   "mimetype": "text/x-python",
   "name": "python",
   "nbconvert_exporter": "python",
   "pygments_lexer": "ipython3",
   "version": "3.10.4"
  }
 },
 "nbformat": 4,
 "nbformat_minor": 4
}
