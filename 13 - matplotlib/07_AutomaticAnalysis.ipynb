{
 "cells": [
  {
   "cell_type": "code",
   "execution_count": 2,
   "id": "0daa7d40",
   "metadata": {},
   "outputs": [],
   "source": [
    "#LTA Autoatic Analysis"
   ]
  },
  {
   "cell_type": "code",
   "execution_count": 3,
   "id": "3ff0a529",
   "metadata": {},
   "outputs": [],
   "source": [
    "import sys\n",
    "# insert at 1, 0 is the script path (or '' in REPL)\n",
    "sys.path.insert(1, '/home/oem/Software/LTA_Automatic_Read')\n",
    "\n",
    "from fits import histogram\n"
   ]
  },
  {
   "cell_type": "code",
   "execution_count": 4,
   "id": "715cc023",
   "metadata": {},
   "outputs": [],
   "source": [
    "#object with X, Y, File, and options"
   ]
  },
  {
   "cell_type": "code",
   "execution_count": 5,
   "id": "981f188f",
   "metadata": {},
   "outputs": [],
   "source": [
    "class argv:\n",
    "    def __init__(self,histogram='',x=[100, 200, 300, 400], y=[100, 200, 300, 400],baseline=False, charge=None, dCurrent=None, eventDet=None, ext=None, pdf=True,):\n",
    "        self.histogram = file\n",
    "        self.x = x\n",
    "        self.y = y\n",
    "        self.baseline = baseline\n",
    "        self.ext=ext\n",
    "        self.pdf = pdf"
   ]
  },
  {
   "cell_type": "markdown",
   "id": "781f7136",
   "metadata": {},
   "source": [
    "### Archivo Fits"
   ]
  },
  {
   "cell_type": "code",
   "execution_count": 6,
   "id": "e3063249",
   "metadata": {},
   "outputs": [],
   "source": [
    "#Path de la imagen a analizar\n",
    "file=\"/home/oem/Software/LTA_Automatic_Read/image/image_lta_1.fits\""
   ]
  },
  {
   "cell_type": "markdown",
   "id": "4ddb6edc",
   "metadata": {},
   "source": [
    "### Regiones X y Y\n",
    "#### regiones: X = [xaa1, xaa2, xos1, xos2];  Y = [yaa1, yaa2, yos1, yos2]\n",
    "AA    (xaa1, yaa1, xaa2, yaa2)  \n",
    "OS_Y  (xaa1, yos1, xaa2, yos2)  \n",
    "OS_X  (xos1, yaa1, xos2, yaa2)  \n",
    "OS_OS (xos1, yos1, xos2, yos2)  \n",
    "\n"
   ]
  },
  {
   "cell_type": "code",
   "execution_count": 7,
   "id": "8ccd750c",
   "metadata": {},
   "outputs": [],
   "source": [
    "x=[100, 200, 300, 400]\n",
    "y=[100, 200, 300, 400]"
   ]
  },
  {
   "cell_type": "markdown",
   "id": "7403fd7e",
   "metadata": {},
   "source": [
    "### Extensiones que se desean analizar"
   ]
  },
  {
   "cell_type": "code",
   "execution_count": 8,
   "id": "ced8a61e",
   "metadata": {},
   "outputs": [],
   "source": [
    "#Que extensiones deseas ver. e.g. [0,1,2,3] para ver las 4 extensiones, [1,3] para ver la extension 2 y 4\n",
    "ext=[0]"
   ]
  },
  {
   "cell_type": "code",
   "execution_count": 9,
   "id": "a615dd40",
   "metadata": {},
   "outputs": [
    {
     "data": {
      "image/png": "[encoded data removed]",
      "text/plain": [
       "<Figure size 684x612 with 4 Axes>"
      ]
     },
     "metadata": {
      "needs_background": "light"
     },
     "output_type": "display_data"
    },
    {
     "data": {
      "text/plain": [
       "0"
      ]
     },
     "execution_count": 9,
     "metadata": {},
     "output_type": "execute_result"
    }
   ],
   "source": [
    "argObj=argv(file, [100, 200, 300, 400], [100, 200, 300, 400], False, None, None, None, ext, False)\n",
    "histogram(argObj)"
   ]
  },
  {
   "cell_type": "code",
   "execution_count": null,
   "id": "4bd427e3",
   "metadata": {},
   "outputs": [],
   "source": []
  },
  {
   "cell_type": "code",
   "execution_count": null,
   "id": "8e1811ba",
   "metadata": {},
   "outputs": [],
   "source": []
  },
  {
   "cell_type": "code",
   "execution_count": null,
   "id": "fd584658",
   "metadata": {},
   "outputs": [],
   "source": []
  },
  {
   "cell_type": "code",
   "execution_count": null,
   "id": "d3c17401",
   "metadata": {},
   "outputs": [],
   "source": []
  }
 ],
 "metadata": {
  "kernelspec": {
   "display_name": "Python 3 (ipykernel)",
   "language": "python",
   "name": "python3"
  },
  "language_info": {
   "codemirror_mode": {
    "name": "ipython",
    "version": 3
   },
   "file_extension": ".py",
   "mimetype": "text/x-python",
   "name": "python",
   "nbconvert_exporter": "python",
   "pygments_lexer": "ipython3",
   "version": "3.9.7"
  }
 },
 "nbformat": 4,
 "nbformat_minor": 5
}
