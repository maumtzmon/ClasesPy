{
 "cells": [
  {
   "cell_type": "markdown",
   "metadata": {},
   "source": [
    "### Using Functions in python"
   ]
  },
  {
   "cell_type": "markdown",
   "metadata": {},
   "source": [
    "Lets see two examples, "
   ]
  },
  {
   "cell_type": "code",
   "execution_count": null,
   "metadata": {},
   "outputs": [],
   "source": [
    "def print_many():\n",
    "    print(\"hello\")\n",
    "    print(\"Hola\")\n",
    "    print(\"Ciao\")\n",
    "    print(\"Óla\")\n",
    "\n",
    "def addition():\n",
    "    sum = 1+1\n",
    "    print(\"1 +1 = %s\" % sum)\n",
    "\n",
    "def main():\n",
    "    print_many()\n",
    "    addition()\n",
    "\n",
    "main()"
   ]
  },
  {
   "cell_type": "markdown",
   "metadata": {},
   "source": [
    "The problem is that main function is coming back to bite us. On one hand we want to be able to run our script on the command line\n",
    "to get the output, but on the other hand when we import it we don’t want all of the output all at once."
   ]
  },
  {
   "cell_type": "markdown",
   "metadata": {},
   "source": [
    "Fortunately, the need to use a module as both a script that gets\n",
    "executed from the command line and as a reusable module is very common in Python.\n",
    "The solution is to change the way the main method gets called by replacing the last part\n",
    "of the script, we can see it in the defFun.py example file:"
   ]
  },
  {
   "cell_type": "markdown",
   "metadata": {},
   "source": [
    "we can import the functions, and run until we invoke the piece of code that we need"
   ]
  },
  {
   "cell_type": "code",
   "execution_count": 1,
   "metadata": {},
   "outputs": [],
   "source": [
    "import defFun #is not nescesary to put the extention .py \n",
    "              #is NECESARY TO BE in the same Directory"
   ]
  },
  {
   "cell_type": "code",
   "execution_count": 3,
   "metadata": {},
   "outputs": [
    {
     "name": "stdout",
     "output_type": "stream",
     "text": [
      "hello\n",
      "Hola\n",
      "Ciao\n",
      "Óla\n",
      "1 +1 = 2\n",
      "Space used in /tmp directory\n",
      "total 56\n",
      "drwxrwxrwx 2 root root 4096 ene 31 09:44 anydesk\n",
      "-rw------- 1 oem  oem     0 ene 31 09:44 gdm3-config-err-k3J1jG\n",
      "drwx------ 2 oem  oem  4096 ene 31 10:09 pyright-5282-zcGK5zxYcO4v\n",
      "drwxrwxr-x 3 oem  oem  4096 ene 31 09:50 python-languageserver-cancellation\n",
      "drwx------ 5 root root 4096 ene 31 09:44 snap-private-tmp\n",
      "drwx------ 3 root root 4096 ene 31 09:43 systemd-private-50a6d747f220465d84583b3337510ca3-colord.service-pOjzX5\n",
      "drwx------ 3 root root 4096 ene 31 09:44 systemd-private-50a6d747f220465d84583b3337510ca3-fwupd.service-BAT5KH\n",
      "drwx------ 3 root root 4096 ene 31 09:43 systemd-private-50a6d747f220465d84583b3337510ca3-ModemManager.service-J0rHgJ\n",
      "drwx------ 3 root root 4096 ene 31 09:43 systemd-private-50a6d747f220465d84583b3337510ca3-power-profiles-daemon.service-kjhomq\n",
      "drwx------ 3 root root 4096 ene 31 09:43 systemd-private-50a6d747f220465d84583b3337510ca3-switcheroo-control.service-nipXYC\n",
      "drwx------ 3 root root 4096 ene 31 09:43 systemd-private-50a6d747f220465d84583b3337510ca3-systemd-logind.service-Xbe8aA\n",
      "drwx------ 3 root root 4096 ene 31 09:43 systemd-private-50a6d747f220465d84583b3337510ca3-systemd-oomd.service-V1ncxV\n",
      "drwx------ 3 root root 4096 ene 31 09:43 systemd-private-50a6d747f220465d84583b3337510ca3-systemd-resolved.service-quK5qT\n",
      "drwx------ 3 root root 4096 ene 31 09:43 systemd-private-50a6d747f220465d84583b3337510ca3-systemd-timesyncd.service-m9mrSj\n",
      "drwx------ 3 root root 4096 ene 31 09:44 systemd-private-50a6d747f220465d84583b3337510ca3-upower.service-jbzauq\n"
     ]
    }
   ],
   "source": [
    "defFun.main()"
   ]
  },
  {
   "cell_type": "code",
   "execution_count": 2,
   "metadata": {},
   "outputs": [
    {
     "name": "stdout",
     "output_type": "stream",
     "text": [
      "hello\n",
      "Hola\n",
      "Ciao\n",
      "Óla\n"
     ]
    }
   ],
   "source": [
    "defFun.print_many()"
   ]
  },
  {
   "cell_type": "code",
   "execution_count": null,
   "metadata": {},
   "outputs": [],
   "source": [
    "defFun.main()\n"
   ]
  },
  {
   "cell_type": "code",
   "execution_count": 4,
   "metadata": {},
   "outputs": [
    {
     "name": "stdout",
     "output_type": "stream",
     "text": [
      "Space used in /tmp directory\n",
      "total 56\n",
      "drwxrwxrwx 2 root root 4096 ene 31 09:44 anydesk\n",
      "-rw------- 1 oem  oem     0 ene 31 09:44 gdm3-config-err-k3J1jG\n",
      "drwx------ 2 oem  oem  4096 ene 31 10:09 pyright-5282-zcGK5zxYcO4v\n",
      "drwxrwxr-x 3 oem  oem  4096 ene 31 09:50 python-languageserver-cancellation\n",
      "drwx------ 5 root root 4096 ene 31 09:44 snap-private-tmp\n",
      "drwx------ 3 root root 4096 ene 31 09:43 systemd-private-50a6d747f220465d84583b3337510ca3-colord.service-pOjzX5\n",
      "drwx------ 3 root root 4096 ene 31 09:44 systemd-private-50a6d747f220465d84583b3337510ca3-fwupd.service-BAT5KH\n",
      "drwx------ 3 root root 4096 ene 31 09:43 systemd-private-50a6d747f220465d84583b3337510ca3-ModemManager.service-J0rHgJ\n",
      "drwx------ 3 root root 4096 ene 31 09:43 systemd-private-50a6d747f220465d84583b3337510ca3-power-profiles-daemon.service-kjhomq\n",
      "drwx------ 3 root root 4096 ene 31 09:43 systemd-private-50a6d747f220465d84583b3337510ca3-switcheroo-control.service-nipXYC\n",
      "drwx------ 3 root root 4096 ene 31 09:43 systemd-private-50a6d747f220465d84583b3337510ca3-systemd-logind.service-Xbe8aA\n",
      "drwx------ 3 root root 4096 ene 31 09:43 systemd-private-50a6d747f220465d84583b3337510ca3-systemd-oomd.service-V1ncxV\n",
      "drwx------ 3 root root 4096 ene 31 09:43 systemd-private-50a6d747f220465d84583b3337510ca3-systemd-resolved.service-quK5qT\n",
      "drwx------ 3 root root 4096 ene 31 09:43 systemd-private-50a6d747f220465d84583b3337510ca3-systemd-timesyncd.service-m9mrSj\n",
      "drwx------ 3 root root 4096 ene 31 09:44 systemd-private-50a6d747f220465d84583b3337510ca3-upower.service-jbzauq\n"
     ]
    }
   ],
   "source": [
    "defFun.tmp_space() #use system functions in our functions"
   ]
  },
  {
   "cell_type": "markdown",
   "metadata": {},
   "source": [
    "every function in defFun file/library can be called by defFun.The_Function() but, when we import the file it will be excecuted all."
   ]
  },
  {
   "cell_type": "markdown",
   "metadata": {},
   "source": [
    "#### Lets do our own functions"
   ]
  },
  {
   "cell_type": "markdown",
   "metadata": {},
   "source": [
    "To avoid to run all the code and just run the code that we need, as we can see in defFun.py, we can define a main() function and type the statment at the end of the code:"
   ]
  },
  {
   "cell_type": "code",
   "execution_count": null,
   "metadata": {},
   "outputs": [],
   "source": [
    "if __name__ == \"__main__\":\n",
    "    main()"
   ]
  },
  {
   "cell_type": "markdown",
   "metadata": {},
   "source": [
    "With this, the code could run as a program if we run $python defFun.py or we can invoke the functions defined in there of it and use only when we call them\n"
   ]
  },
  {
   "cell_type": "markdown",
   "metadata": {},
   "source": []
  }
 ],
 "metadata": {
  "kernelspec": {
   "display_name": "Python 3.10.4 64-bit",
   "language": "python",
   "name": "python3"
  },
  "language_info": {
   "codemirror_mode": {
    "name": "ipython",
    "version": 3
   },
   "file_extension": ".py",
   "mimetype": "text/x-python",
   "name": "python",
   "nbconvert_exporter": "python",
   "pygments_lexer": "ipython3",
   "version": "3.10.12"
  },
  "orig_nbformat": 4,
  "vscode": {
   "interpreter": {
    "hash": "916dbcbb3f70747c44a77c7bcd40155683ae19c65e1c03b4aa3499c5328201f1"
   }
  }
 },
 "nbformat": 4,
 "nbformat_minor": 2
}
